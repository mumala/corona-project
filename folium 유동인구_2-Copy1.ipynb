{
 "cells": [
  {
   "cell_type": "code",
   "execution_count": 185,
   "metadata": {
    "ExecuteTime": {
     "end_time": "2020-07-28T05:08:26.663859Z",
     "start_time": "2020-07-28T05:08:26.656858Z"
    }
   },
   "outputs": [],
   "source": [
    "import numpy as np\n",
    "import pandas as pd\n",
    "import matplotlib.pyplot as plt\n",
    "import folium\n",
    "import ipywidgets as widgets\n",
    "from IPython.display import display\n",
    "from IPython.display import clear_output\n",
    "from sklearn.preprocessing import scale\n",
    "import urllib, json"
   ]
  },
  {
   "cell_type": "markdown",
   "metadata": {},
   "source": [
    "# 행정동 데이터 전처리"
   ]
  },
  {
   "cell_type": "code",
   "execution_count": 186,
   "metadata": {
    "ExecuteTime": {
     "end_time": "2020-07-28T05:08:48.690118Z",
     "start_time": "2020-07-28T05:08:27.429902Z"
    }
   },
   "outputs": [
    {
     "data": {
      "text/plain": [
       "(47546443, 6)"
      ]
     },
     "execution_count": 186,
     "metadata": {},
     "output_type": "execute_result"
    }
   ],
   "source": [
    "# 유동인구 데이터 불러오기\n",
    "\n",
    "f = pd.read_csv(\"fpopl.csv\")\n",
    "df = pd.DataFrame(f)\n",
    "df.shape"
   ]
  },
  {
   "cell_type": "code",
   "execution_count": 187,
   "metadata": {
    "ExecuteTime": {
     "end_time": "2020-07-28T05:08:48.761122Z",
     "start_time": "2020-07-28T05:08:48.742121Z"
    }
   },
   "outputs": [
    {
     "data": {
      "text/plain": [
       "(3493, 4)"
      ]
     },
     "execution_count": 187,
     "metadata": {},
     "output_type": "execute_result"
    }
   ],
   "source": [
    "# 행정동 데이터 불러오기\n",
    "\n",
    "f2 = pd.read_csv(\"adstrd_master.csv\")\n",
    "df2 = pd.DataFrame(f2)\n",
    "\n",
    "df2.shape"
   ]
  },
  {
   "cell_type": "code",
   "execution_count": 188,
   "metadata": {
    "ExecuteTime": {
     "end_time": "2020-07-28T05:09:01.769866Z",
     "start_time": "2020-07-28T05:08:48.807125Z"
    }
   },
   "outputs": [
    {
     "data": {
      "text/html": [
       "<div>\n",
       "<style scoped>\n",
       "    .dataframe tbody tr th:only-of-type {\n",
       "        vertical-align: middle;\n",
       "    }\n",
       "\n",
       "    .dataframe tbody tr th {\n",
       "        vertical-align: top;\n",
       "    }\n",
       "\n",
       "    .dataframe thead th {\n",
       "        text-align: right;\n",
       "    }\n",
       "</style>\n",
       "<table border=\"1\" class=\"dataframe\">\n",
       "  <thead>\n",
       "    <tr style=\"text-align: right;\">\n",
       "      <th></th>\n",
       "      <th>base_ymd</th>\n",
       "      <th>tmzon_se_code</th>\n",
       "      <th>sexdstn_se_code</th>\n",
       "      <th>agrde_se_code</th>\n",
       "      <th>adstrd_code</th>\n",
       "      <th>popltn_cascnt</th>\n",
       "      <th>adstrd_nm</th>\n",
       "      <th>brtc_nm</th>\n",
       "      <th>signgu_nm</th>\n",
       "    </tr>\n",
       "  </thead>\n",
       "  <tbody>\n",
       "    <tr>\n",
       "      <th>0</th>\n",
       "      <td>20200101</td>\n",
       "      <td>0</td>\n",
       "      <td>M</td>\n",
       "      <td>age_00</td>\n",
       "      <td>11650560</td>\n",
       "      <td>15</td>\n",
       "      <td>반포1동</td>\n",
       "      <td>서울특별시</td>\n",
       "      <td>서초구</td>\n",
       "    </tr>\n",
       "    <tr>\n",
       "      <th>1</th>\n",
       "      <td>20200101</td>\n",
       "      <td>0</td>\n",
       "      <td>M</td>\n",
       "      <td>age_00</td>\n",
       "      <td>11590620</td>\n",
       "      <td>6</td>\n",
       "      <td>사당1동</td>\n",
       "      <td>서울특별시</td>\n",
       "      <td>동작구</td>\n",
       "    </tr>\n",
       "    <tr>\n",
       "      <th>2</th>\n",
       "      <td>20200101</td>\n",
       "      <td>0</td>\n",
       "      <td>M</td>\n",
       "      <td>age_00</td>\n",
       "      <td>11560710</td>\n",
       "      <td>4</td>\n",
       "      <td>대림2동</td>\n",
       "      <td>서울특별시</td>\n",
       "      <td>영등포구</td>\n",
       "    </tr>\n",
       "    <tr>\n",
       "      <th>3</th>\n",
       "      <td>20200101</td>\n",
       "      <td>0</td>\n",
       "      <td>M</td>\n",
       "      <td>age_00</td>\n",
       "      <td>11470680</td>\n",
       "      <td>12</td>\n",
       "      <td>신정7동</td>\n",
       "      <td>서울특별시</td>\n",
       "      <td>양천구</td>\n",
       "    </tr>\n",
       "    <tr>\n",
       "      <th>4</th>\n",
       "      <td>20200101</td>\n",
       "      <td>0</td>\n",
       "      <td>M</td>\n",
       "      <td>age_00</td>\n",
       "      <td>11350665</td>\n",
       "      <td>6</td>\n",
       "      <td>상계3.4동</td>\n",
       "      <td>서울특별시</td>\n",
       "      <td>노원구</td>\n",
       "    </tr>\n",
       "  </tbody>\n",
       "</table>\n",
       "</div>"
      ],
      "text/plain": [
       "   base_ymd  tmzon_se_code sexdstn_se_code agrde_se_code  adstrd_code  \\\n",
       "0  20200101              0               M        age_00     11650560   \n",
       "1  20200101              0               M        age_00     11590620   \n",
       "2  20200101              0               M        age_00     11560710   \n",
       "3  20200101              0               M        age_00     11470680   \n",
       "4  20200101              0               M        age_00     11350665   \n",
       "\n",
       "   popltn_cascnt adstrd_nm brtc_nm signgu_nm  \n",
       "0             15      반포1동   서울특별시       서초구  \n",
       "1              6      사당1동   서울특별시       동작구  \n",
       "2              4      대림2동   서울특별시      영등포구  \n",
       "3             12      신정7동   서울특별시       양천구  \n",
       "4              6    상계3.4동   서울특별시       노원구  "
      ]
     },
     "execution_count": 188,
     "metadata": {},
     "output_type": "execute_result"
    }
   ],
   "source": [
    "# df와 df2 합치기 (유동인구['adstrd_code'] = 행정동['adstrd_code'])\n",
    "#                          * adstrd_code = 행정동코드\n",
    "# 유동인구 데이터와 행정동 이름 합침\n",
    "# SQL의 LEFT JOIN\n",
    "\n",
    "move_people = pd.merge(df,df2,on=\"adstrd_code\",how=\"left\")\n",
    "move_people.head()"
   ]
  },
  {
   "cell_type": "code",
   "execution_count": 189,
   "metadata": {
    "ExecuteTime": {
     "end_time": "2020-07-28T05:09:02.192891Z",
     "start_time": "2020-07-28T05:09:01.823870Z"
    }
   },
   "outputs": [],
   "source": [
    "del move_people['brtc_nm']\n",
    "\n",
    "# brtc_nm은 시도 명이다.\n",
    "# 현 DATASET은 서울시 내 행정구역 데이터이기 때문에, brtc_nm 칼럼 삭제"
   ]
  },
  {
   "cell_type": "code",
   "execution_count": 190,
   "metadata": {
    "ExecuteTime": {
     "end_time": "2020-07-28T05:09:58.540114Z",
     "start_time": "2020-07-28T05:09:02.231893Z"
    }
   },
   "outputs": [
    {
     "data": {
      "text/html": [
       "<div>\n",
       "<style scoped>\n",
       "    .dataframe tbody tr th:only-of-type {\n",
       "        vertical-align: middle;\n",
       "    }\n",
       "\n",
       "    .dataframe tbody tr th {\n",
       "        vertical-align: top;\n",
       "    }\n",
       "\n",
       "    .dataframe thead th {\n",
       "        text-align: right;\n",
       "    }\n",
       "</style>\n",
       "<table border=\"1\" class=\"dataframe\">\n",
       "  <thead>\n",
       "    <tr style=\"text-align: right;\">\n",
       "      <th></th>\n",
       "      <th>년월일</th>\n",
       "      <th>행정구</th>\n",
       "      <th>유동인구</th>\n",
       "    </tr>\n",
       "  </thead>\n",
       "  <tbody>\n",
       "    <tr>\n",
       "      <th>0</th>\n",
       "      <td>20200101</td>\n",
       "      <td>강남구</td>\n",
       "      <td>3028808</td>\n",
       "    </tr>\n",
       "    <tr>\n",
       "      <th>1</th>\n",
       "      <td>20200101</td>\n",
       "      <td>강동구</td>\n",
       "      <td>2094980</td>\n",
       "    </tr>\n",
       "    <tr>\n",
       "      <th>2</th>\n",
       "      <td>20200101</td>\n",
       "      <td>강북구</td>\n",
       "      <td>945218</td>\n",
       "    </tr>\n",
       "    <tr>\n",
       "      <th>3</th>\n",
       "      <td>20200101</td>\n",
       "      <td>강서구</td>\n",
       "      <td>2191177</td>\n",
       "    </tr>\n",
       "    <tr>\n",
       "      <th>4</th>\n",
       "      <td>20200101</td>\n",
       "      <td>관악구</td>\n",
       "      <td>1694584</td>\n",
       "    </tr>\n",
       "    <tr>\n",
       "      <th>...</th>\n",
       "      <td>...</td>\n",
       "      <td>...</td>\n",
       "      <td>...</td>\n",
       "    </tr>\n",
       "    <tr>\n",
       "      <th>4195</th>\n",
       "      <td>20200616</td>\n",
       "      <td>용산구</td>\n",
       "      <td>2363994</td>\n",
       "    </tr>\n",
       "    <tr>\n",
       "      <th>4196</th>\n",
       "      <td>20200616</td>\n",
       "      <td>은평구</td>\n",
       "      <td>1610731</td>\n",
       "    </tr>\n",
       "    <tr>\n",
       "      <th>4197</th>\n",
       "      <td>20200616</td>\n",
       "      <td>종로구</td>\n",
       "      <td>1992243</td>\n",
       "    </tr>\n",
       "    <tr>\n",
       "      <th>4198</th>\n",
       "      <td>20200616</td>\n",
       "      <td>중구</td>\n",
       "      <td>2253617</td>\n",
       "    </tr>\n",
       "    <tr>\n",
       "      <th>4199</th>\n",
       "      <td>20200616</td>\n",
       "      <td>중랑구</td>\n",
       "      <td>1651099</td>\n",
       "    </tr>\n",
       "  </tbody>\n",
       "</table>\n",
       "<p>4200 rows × 3 columns</p>\n",
       "</div>"
      ],
      "text/plain": [
       "           년월일  행정구     유동인구\n",
       "0     20200101  강남구  3028808\n",
       "1     20200101  강동구  2094980\n",
       "2     20200101  강북구   945218\n",
       "3     20200101  강서구  2191177\n",
       "4     20200101  관악구  1694584\n",
       "...        ...  ...      ...\n",
       "4195  20200616  용산구  2363994\n",
       "4196  20200616  은평구  1610731\n",
       "4197  20200616  종로구  1992243\n",
       "4198  20200616   중구  2253617\n",
       "4199  20200616  중랑구  1651099\n",
       "\n",
       "[4200 rows x 3 columns]"
      ]
     },
     "execution_count": 190,
     "metadata": {},
     "output_type": "execute_result"
    }
   ],
   "source": [
    "move_people = move_people.rename({'base_ymd':'년월일','tmzon_se_code':'시간대','sexdstn_se_code':'성별','agrde_se_code':'나이대','adstrd_code':'행정동코드','popltn_cascnt':'유동인구','adstrd_nm':'행정동','signgu_nm':'행정구'}, axis ='columns')\n",
    "\n",
    "grouped = move_people.groupby(by = ['년월일','행정구']).sum()['유동인구'].reset_index()\n",
    "\n",
    "grouped"
   ]
  },
  {
   "cell_type": "code",
   "execution_count": 191,
   "metadata": {
    "ExecuteTime": {
     "end_time": "2020-07-28T05:09:58.627119Z",
     "start_time": "2020-07-28T05:09:58.598117Z"
    }
   },
   "outputs": [
    {
     "data": {
      "text/html": [
       "<div>\n",
       "<style scoped>\n",
       "    .dataframe tbody tr th:only-of-type {\n",
       "        vertical-align: middle;\n",
       "    }\n",
       "\n",
       "    .dataframe tbody tr th {\n",
       "        vertical-align: top;\n",
       "    }\n",
       "\n",
       "    .dataframe thead th {\n",
       "        text-align: right;\n",
       "    }\n",
       "</style>\n",
       "<table border=\"1\" class=\"dataframe\">\n",
       "  <thead>\n",
       "    <tr style=\"text-align: right;\">\n",
       "      <th></th>\n",
       "      <th>년월일</th>\n",
       "      <th>행정구</th>\n",
       "      <th>유동인구</th>\n",
       "      <th>주차</th>\n",
       "    </tr>\n",
       "  </thead>\n",
       "  <tbody>\n",
       "    <tr>\n",
       "      <th>0</th>\n",
       "      <td>20200101</td>\n",
       "      <td>강남구</td>\n",
       "      <td>3028808</td>\n",
       "      <td>1</td>\n",
       "    </tr>\n",
       "    <tr>\n",
       "      <th>1</th>\n",
       "      <td>20200101</td>\n",
       "      <td>강동구</td>\n",
       "      <td>2094980</td>\n",
       "      <td>1</td>\n",
       "    </tr>\n",
       "    <tr>\n",
       "      <th>2</th>\n",
       "      <td>20200101</td>\n",
       "      <td>강북구</td>\n",
       "      <td>945218</td>\n",
       "      <td>1</td>\n",
       "    </tr>\n",
       "    <tr>\n",
       "      <th>3</th>\n",
       "      <td>20200101</td>\n",
       "      <td>강서구</td>\n",
       "      <td>2191177</td>\n",
       "      <td>1</td>\n",
       "    </tr>\n",
       "    <tr>\n",
       "      <th>4</th>\n",
       "      <td>20200101</td>\n",
       "      <td>관악구</td>\n",
       "      <td>1694584</td>\n",
       "      <td>1</td>\n",
       "    </tr>\n",
       "    <tr>\n",
       "      <th>...</th>\n",
       "      <td>...</td>\n",
       "      <td>...</td>\n",
       "      <td>...</td>\n",
       "      <td>...</td>\n",
       "    </tr>\n",
       "    <tr>\n",
       "      <th>4195</th>\n",
       "      <td>20200616</td>\n",
       "      <td>용산구</td>\n",
       "      <td>2363994</td>\n",
       "      <td>25</td>\n",
       "    </tr>\n",
       "    <tr>\n",
       "      <th>4196</th>\n",
       "      <td>20200616</td>\n",
       "      <td>은평구</td>\n",
       "      <td>1610731</td>\n",
       "      <td>25</td>\n",
       "    </tr>\n",
       "    <tr>\n",
       "      <th>4197</th>\n",
       "      <td>20200616</td>\n",
       "      <td>종로구</td>\n",
       "      <td>1992243</td>\n",
       "      <td>25</td>\n",
       "    </tr>\n",
       "    <tr>\n",
       "      <th>4198</th>\n",
       "      <td>20200616</td>\n",
       "      <td>중구</td>\n",
       "      <td>2253617</td>\n",
       "      <td>25</td>\n",
       "    </tr>\n",
       "    <tr>\n",
       "      <th>4199</th>\n",
       "      <td>20200616</td>\n",
       "      <td>중랑구</td>\n",
       "      <td>1651099</td>\n",
       "      <td>25</td>\n",
       "    </tr>\n",
       "  </tbody>\n",
       "</table>\n",
       "<p>4200 rows × 4 columns</p>\n",
       "</div>"
      ],
      "text/plain": [
       "           년월일  행정구     유동인구  주차\n",
       "0     20200101  강남구  3028808   1\n",
       "1     20200101  강동구  2094980   1\n",
       "2     20200101  강북구   945218   1\n",
       "3     20200101  강서구  2191177   1\n",
       "4     20200101  관악구  1694584   1\n",
       "...        ...  ...      ...  ..\n",
       "4195  20200616  용산구  2363994  25\n",
       "4196  20200616  은평구  1610731  25\n",
       "4197  20200616  종로구  1992243  25\n",
       "4198  20200616   중구  2253617  25\n",
       "4199  20200616  중랑구  1651099  25\n",
       "\n",
       "[4200 rows x 4 columns]"
      ]
     },
     "execution_count": 191,
     "metadata": {},
     "output_type": "execute_result"
    }
   ],
   "source": [
    "grouped['주차'] = grouped['년월일']%20200000\n",
    "grouped\n",
    "\n",
    "grouped['월'] = round(grouped['주차']/100)\n",
    "grouped['일'] = grouped['주차']%100 + 30* (grouped['월']-1) +2\n",
    "\n",
    "grouped['주차'] = round(grouped['일']/7+1)\n",
    "del grouped['월']\n",
    "\n",
    "grouped = grouped.astype({'주차': 'int'})\n",
    "del grouped['일']\n",
    "grouped"
   ]
  },
  {
   "cell_type": "code",
   "execution_count": 198,
   "metadata": {
    "ExecuteTime": {
     "end_time": "2020-07-28T06:04:43.654011Z",
     "start_time": "2020-07-28T06:04:43.625010Z"
    }
   },
   "outputs": [
    {
     "data": {
      "text/html": [
       "<div>\n",
       "<style scoped>\n",
       "    .dataframe tbody tr th:only-of-type {\n",
       "        vertical-align: middle;\n",
       "    }\n",
       "\n",
       "    .dataframe tbody tr th {\n",
       "        vertical-align: top;\n",
       "    }\n",
       "\n",
       "    .dataframe thead th {\n",
       "        text-align: right;\n",
       "    }\n",
       "</style>\n",
       "<table border=\"1\" class=\"dataframe\">\n",
       "  <thead>\n",
       "    <tr style=\"text-align: right;\">\n",
       "      <th></th>\n",
       "      <th>년월일</th>\n",
       "      <th>행정구</th>\n",
       "      <th>유동인구</th>\n",
       "      <th>주차</th>\n",
       "      <th>유동인구_표준화</th>\n",
       "      <th>유동인구_평균대비_증감률</th>\n",
       "      <th>유동인구_코로나전평균</th>\n",
       "    </tr>\n",
       "  </thead>\n",
       "  <tbody>\n",
       "    <tr>\n",
       "      <th>0</th>\n",
       "      <td>20200101</td>\n",
       "      <td>강남구</td>\n",
       "      <td>3028808</td>\n",
       "      <td>1</td>\n",
       "      <td>1.035484</td>\n",
       "      <td>43.302717</td>\n",
       "      <td>1132153.0</td>\n",
       "    </tr>\n",
       "    <tr>\n",
       "      <th>1</th>\n",
       "      <td>20200101</td>\n",
       "      <td>강동구</td>\n",
       "      <td>2094980</td>\n",
       "      <td>1</td>\n",
       "      <td>-0.021036</td>\n",
       "      <td>-0.879710</td>\n",
       "      <td>198325.0</td>\n",
       "    </tr>\n",
       "    <tr>\n",
       "      <th>2</th>\n",
       "      <td>20200101</td>\n",
       "      <td>강북구</td>\n",
       "      <td>945218</td>\n",
       "      <td>1</td>\n",
       "      <td>-1.321861</td>\n",
       "      <td>-55.278675</td>\n",
       "      <td>-951437.0</td>\n",
       "    </tr>\n",
       "    <tr>\n",
       "      <th>3</th>\n",
       "      <td>20200101</td>\n",
       "      <td>강서구</td>\n",
       "      <td>2191177</td>\n",
       "      <td>1</td>\n",
       "      <td>0.087800</td>\n",
       "      <td>3.671682</td>\n",
       "      <td>294522.0</td>\n",
       "    </tr>\n",
       "    <tr>\n",
       "      <th>4</th>\n",
       "      <td>20200101</td>\n",
       "      <td>관악구</td>\n",
       "      <td>1694584</td>\n",
       "      <td>1</td>\n",
       "      <td>-0.474039</td>\n",
       "      <td>-19.823742</td>\n",
       "      <td>-202071.0</td>\n",
       "    </tr>\n",
       "    <tr>\n",
       "      <th>...</th>\n",
       "      <td>...</td>\n",
       "      <td>...</td>\n",
       "      <td>...</td>\n",
       "      <td>...</td>\n",
       "      <td>...</td>\n",
       "      <td>...</td>\n",
       "      <td>...</td>\n",
       "    </tr>\n",
       "    <tr>\n",
       "      <th>4195</th>\n",
       "      <td>20200616</td>\n",
       "      <td>용산구</td>\n",
       "      <td>2363994</td>\n",
       "      <td>25</td>\n",
       "      <td>0.283322</td>\n",
       "      <td>11.848214</td>\n",
       "      <td>467339.0</td>\n",
       "    </tr>\n",
       "    <tr>\n",
       "      <th>4196</th>\n",
       "      <td>20200616</td>\n",
       "      <td>은평구</td>\n",
       "      <td>1610731</td>\n",
       "      <td>25</td>\n",
       "      <td>-0.568909</td>\n",
       "      <td>-23.791099</td>\n",
       "      <td>-285924.0</td>\n",
       "    </tr>\n",
       "    <tr>\n",
       "      <th>4197</th>\n",
       "      <td>20200616</td>\n",
       "      <td>종로구</td>\n",
       "      <td>1992243</td>\n",
       "      <td>25</td>\n",
       "      <td>-0.137271</td>\n",
       "      <td>-5.740530</td>\n",
       "      <td>95588.0</td>\n",
       "    </tr>\n",
       "    <tr>\n",
       "      <th>4198</th>\n",
       "      <td>20200616</td>\n",
       "      <td>중구</td>\n",
       "      <td>2253617</td>\n",
       "      <td>25</td>\n",
       "      <td>0.158443</td>\n",
       "      <td>6.625920</td>\n",
       "      <td>356962.0</td>\n",
       "    </tr>\n",
       "    <tr>\n",
       "      <th>4199</th>\n",
       "      <td>20200616</td>\n",
       "      <td>중랑구</td>\n",
       "      <td>1651099</td>\n",
       "      <td>25</td>\n",
       "      <td>-0.523237</td>\n",
       "      <td>-21.881158</td>\n",
       "      <td>-245556.0</td>\n",
       "    </tr>\n",
       "  </tbody>\n",
       "</table>\n",
       "<p>4200 rows × 7 columns</p>\n",
       "</div>"
      ],
      "text/plain": [
       "           년월일  행정구     유동인구  주차  유동인구_표준화  유동인구_평균대비_증감률  유동인구_코로나전평균\n",
       "0     20200101  강남구  3028808   1  1.035484      43.302717    1132153.0\n",
       "1     20200101  강동구  2094980   1 -0.021036      -0.879710     198325.0\n",
       "2     20200101  강북구   945218   1 -1.321861     -55.278675    -951437.0\n",
       "3     20200101  강서구  2191177   1  0.087800       3.671682     294522.0\n",
       "4     20200101  관악구  1694584   1 -0.474039     -19.823742    -202071.0\n",
       "...        ...  ...      ...  ..       ...            ...          ...\n",
       "4195  20200616  용산구  2363994  25  0.283322      11.848214     467339.0\n",
       "4196  20200616  은평구  1610731  25 -0.568909     -23.791099    -285924.0\n",
       "4197  20200616  종로구  1992243  25 -0.137271      -5.740530      95588.0\n",
       "4198  20200616   중구  2253617  25  0.158443       6.625920     356962.0\n",
       "4199  20200616  중랑구  1651099  25 -0.523237     -21.881158    -245556.0\n",
       "\n",
       "[4200 rows x 7 columns]"
      ]
     },
     "execution_count": 198,
     "metadata": {},
     "output_type": "execute_result"
    }
   ],
   "source": [
    "grouped['유동인구_표준화'] = scale(grouped['유동인구'])\n",
    "\n",
    "grouped_avg = grouped.mean()\n",
    "grouped['유동인구_평균대비_증감률'] = (grouped['유동인구']-grouped_avg[1])/grouped_avg[1]*100\n",
    "grouped['유동인구_코로나전평균'] = round(grouped['유동인구']-grouped.iloc[0:35]['유동인구'].mean())\n",
    "grouped"
   ]
  },
  {
   "cell_type": "markdown",
   "metadata": {},
   "source": [
    "# 지도 그리기"
   ]
  },
  {
   "cell_type": "markdown",
   "metadata": {},
   "source": [
    "## 서울 자치구 경계 json파일 다운로드"
   ]
  },
  {
   "cell_type": "code",
   "execution_count": 210,
   "metadata": {
    "ExecuteTime": {
     "end_time": "2020-07-28T11:27:41.743557Z",
     "start_time": "2020-07-28T11:27:40.326476Z"
    }
   },
   "outputs": [],
   "source": [
    "url = 'https://raw.github.com/PinkWink/DataScience/master/data/02.%20skorea_municipalities_geo_simple.json'\n",
    "with urllib.request.urlopen(url) as fp:\n",
    "  json_seoul = json.loads(fp.read())"
   ]
  },
  {
   "cell_type": "code",
   "execution_count": 211,
   "metadata": {
    "ExecuteTime": {
     "end_time": "2020-07-28T11:27:41.821562Z",
     "start_time": "2020-07-28T11:27:41.818561Z"
    }
   },
   "outputs": [],
   "source": [
    "#for idx, seoul_dict in enumerate(json_seoul['features']):\n",
    "#  gu_name = seoul_dict['id']\n",
    "#  value = temp.loc[temp.행정구==gu_name, '유동인구'].iloc[0]\n",
    "#  txt = f'{gu_name}<br>{value}'\n",
    "#  json_seoul['features'][idx]['properties']['tooltip1'] = txt"
   ]
  },
  {
   "cell_type": "code",
   "execution_count": 212,
   "metadata": {
    "ExecuteTime": {
     "end_time": "2020-07-28T11:27:41.862564Z",
     "start_time": "2020-07-28T11:27:41.859564Z"
    }
   },
   "outputs": [],
   "source": [
    "#m = folium.Map(location=[37.55, 127], zoom_start=11, tiles='Stamen Terrain')\n"
   ]
  },
  {
   "cell_type": "code",
   "execution_count": 213,
   "metadata": {
    "ExecuteTime": {
     "end_time": "2020-07-28T11:27:41.956569Z",
     "start_time": "2020-07-28T11:27:41.899566Z"
    },
    "scrolled": true
   },
   "outputs": [
    {
     "data": {
      "application/vnd.jupyter.widget-view+json": {
       "model_id": "6c5e2d0956d347149b820f5498baa300",
       "version_major": 2,
       "version_minor": 0
      },
      "text/plain": [
       "Button(description='다음 주 보기', style=ButtonStyle())"
      ]
     },
     "metadata": {},
     "output_type": "display_data"
    },
    {
     "data": {
      "application/vnd.jupyter.widget-view+json": {
       "model_id": "a5a5b1afc9c745258185d91dfc54d4d3",
       "version_major": 2,
       "version_minor": 0
      },
      "text/plain": [
       "Button(description='이전 주 보기', style=ButtonStyle())"
      ]
     },
     "metadata": {},
     "output_type": "display_data"
    },
    {
     "data": {
      "text/html": [
       "<div style=\"width:100%;\"><div style=\"position:relative;width:100%;height:0;padding-bottom:60%;\"><span style=\"color:#565656\">Make this Notebook Trusted to load map: File -> Trust Notebook</span><iframe src=\"about:blank\" style=\"position:absolute;width:100%;height:100%;left:0;top:0;border:none !important;\" data-html=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 onload=\"this.contentDocument.open();this.contentDocument.write(atob(this.getAttribute('data-html')));this.contentDocument.close();\" allowfullscreen webkitallowfullscreen mozallowfullscreen></iframe></div></div>"
      ],
      "text/plain": [
       "<folium.folium.Map at 0x1bf87c08>"
      ]
     },
     "metadata": {},
     "output_type": "display_data"
    }
   ],
   "source": [
    "def print_map(args):\n",
    "#    print(args)\n",
    "\n",
    "    clear_output(wait = True)\n",
    "    display(button1)\n",
    "    display(button2)\n",
    "    m = folium.Map(location=[37.55, 127], zoom_start=11, tiles='Stamen Terrain')\n",
    "    \n",
    "    temp = grouped[grouped.주차==args]\n",
    "    for idx, seoul_dict in enumerate(json_seoul['features']):\n",
    "        gu_name = seoul_dict['id']\n",
    "        value = temp.loc[temp.행정구==gu_name, '유동인구_코로나전평균'].iloc[0]\n",
    "        corr = False;\n",
    "        txt = f'{gu_name}<br>{value:.2f}'\n",
    "        json_seoul['features'][idx]['properties']['tooltip1'] = txt\n",
    "        \n",
    "    choropleth = folium.Choropleth(\n",
    "        geo_data=json_seoul, \n",
    "        data=temp,\n",
    "        columns=['행정구','유동인구_코로나전평균'],\n",
    "        fill_color = 'PuBuGn',\n",
    "        key_on = 'feature.id',\n",
    "        fill_opacity=0.9,\n",
    "        line_opacity=1,\n",
    "        legend_name='Foot Traffic'\n",
    "    ).add_to(m)\n",
    "\n",
    "    choropleth.geojson.add_child( folium.features.GeoJsonTooltip(['tooltip1'], labels=False))\n",
    "\n",
    "    folium.LayerControl().add_to(m)\n",
    "\n",
    "    title_html = '<h3 align=\"center\" style=\"font-size:20px\"><b>Foot Traffic in Seoul on '+str(args)+' week</b></h3>'\n",
    "    m.get_root().html.add_child(folium.Element(title_html))\n",
    "\n",
    "    display(m)\n",
    "    \n",
    "date = 1\n",
    "\n",
    "button1 = widgets.Button(description='다음 주 보기')\n",
    "button2 = widgets.Button(description='이전 주 보기')\n",
    "def clicked_next(arg):\n",
    "    global date\n",
    "    if date <25:\n",
    "        date = date + 1\n",
    "        print_map(date)\n",
    "\n",
    "\n",
    "def clicked_prev(arg):\n",
    "    global date\n",
    "    if date > 1: \n",
    "        date = date - 1\n",
    "        print_map(date)\n",
    "    \n",
    "\n",
    "button1.on_click(clicked_next)\n",
    "button2.on_click(clicked_prev)\n",
    "display(button2)\n",
    "display(button1)\n",
    "print_map(date)"
   ]
  },
  {
   "cell_type": "code",
   "execution_count": null,
   "metadata": {},
   "outputs": [],
   "source": []
  },
  {
   "cell_type": "code",
   "execution_count": null,
   "metadata": {},
   "outputs": [],
   "source": []
  }
 ],
 "metadata": {
  "kernelspec": {
   "display_name": "Python 3",
   "language": "python",
   "name": "python3"
  },
  "language_info": {
   "codemirror_mode": {
    "name": "ipython",
    "version": 3
   },
   "file_extension": ".py",
   "mimetype": "text/x-python",
   "name": "python",
   "nbconvert_exporter": "python",
   "pygments_lexer": "ipython3",
   "version": "3.7.7"
  },
  "toc": {
   "base_numbering": 1,
   "nav_menu": {},
   "number_sections": true,
   "sideBar": true,
   "skip_h1_title": false,
   "title_cell": "Table of Contents",
   "title_sidebar": "Contents",
   "toc_cell": false,
   "toc_position": {
    "height": "calc(100% - 180px)",
    "left": "10px",
    "top": "150px",
    "width": "384px"
   },
   "toc_section_display": true,
   "toc_window_display": false
  },
  "varInspector": {
   "cols": {
    "lenName": 16,
    "lenType": 16,
    "lenVar": 40
   },
   "kernels_config": {
    "python": {
     "delete_cmd_postfix": "",
     "delete_cmd_prefix": "del ",
     "library": "var_list.py",
     "varRefreshCmd": "print(var_dic_list())"
    },
    "r": {
     "delete_cmd_postfix": ") ",
     "delete_cmd_prefix": "rm(",
     "library": "var_list.r",
     "varRefreshCmd": "cat(var_dic_list()) "
    }
   },
   "types_to_exclude": [
    "module",
    "function",
    "builtin_function_or_method",
    "instance",
    "_Feature"
   ],
   "window_display": false
  }
 },
 "nbformat": 4,
 "nbformat_minor": 4
}
