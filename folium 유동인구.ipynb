{
 "cells": [
  {
   "cell_type": "code",
   "execution_count": 60,
   "metadata": {
    "ExecuteTime": {
     "end_time": "2020-07-27T12:32:40.008368Z",
     "start_time": "2020-07-27T12:32:39.997368Z"
    }
   },
   "outputs": [],
   "source": [
    "import numpy as np\n",
    "import pandas as pd\n",
    "import matplotlib.pyplot as plt\n",
    "import folium\n",
    "import urllib, json"
   ]
  },
  {
   "cell_type": "markdown",
   "metadata": {},
   "source": [
    "# 행정동 데이터 전처리"
   ]
  },
  {
   "cell_type": "code",
   "execution_count": 61,
   "metadata": {
    "ExecuteTime": {
     "end_time": "2020-07-27T12:33:04.283757Z",
     "start_time": "2020-07-27T12:32:40.583401Z"
    }
   },
   "outputs": [
    {
     "data": {
      "text/plain": [
       "(47546443, 6)"
      ]
     },
     "execution_count": 61,
     "metadata": {},
     "output_type": "execute_result"
    }
   ],
   "source": [
    "# 유동인구 데이터 불러오기\n",
    "\n",
    "f = pd.read_csv(\"fpopl.csv\")\n",
    "df = pd.DataFrame(f)\n",
    "df.shape"
   ]
  },
  {
   "cell_type": "code",
   "execution_count": 62,
   "metadata": {
    "ExecuteTime": {
     "end_time": "2020-07-27T12:33:04.360761Z",
     "start_time": "2020-07-27T12:33:04.332760Z"
    }
   },
   "outputs": [
    {
     "data": {
      "text/plain": [
       "(3493, 4)"
      ]
     },
     "execution_count": 62,
     "metadata": {},
     "output_type": "execute_result"
    }
   ],
   "source": [
    "# 행정동 데이터 불러오기\n",
    "\n",
    "f2 = pd.read_csv(\"adstrd_master.csv\")\n",
    "df2 = pd.DataFrame(f2)\n",
    "\n",
    "df2.shape"
   ]
  },
  {
   "cell_type": "code",
   "execution_count": 63,
   "metadata": {
    "ExecuteTime": {
     "end_time": "2020-07-27T12:33:17.917537Z",
     "start_time": "2020-07-27T12:33:04.406764Z"
    }
   },
   "outputs": [
    {
     "data": {
      "text/html": [
       "<div>\n",
       "<style scoped>\n",
       "    .dataframe tbody tr th:only-of-type {\n",
       "        vertical-align: middle;\n",
       "    }\n",
       "\n",
       "    .dataframe tbody tr th {\n",
       "        vertical-align: top;\n",
       "    }\n",
       "\n",
       "    .dataframe thead th {\n",
       "        text-align: right;\n",
       "    }\n",
       "</style>\n",
       "<table border=\"1\" class=\"dataframe\">\n",
       "  <thead>\n",
       "    <tr style=\"text-align: right;\">\n",
       "      <th></th>\n",
       "      <th>base_ymd</th>\n",
       "      <th>tmzon_se_code</th>\n",
       "      <th>sexdstn_se_code</th>\n",
       "      <th>agrde_se_code</th>\n",
       "      <th>adstrd_code</th>\n",
       "      <th>popltn_cascnt</th>\n",
       "      <th>adstrd_nm</th>\n",
       "      <th>brtc_nm</th>\n",
       "      <th>signgu_nm</th>\n",
       "    </tr>\n",
       "  </thead>\n",
       "  <tbody>\n",
       "    <tr>\n",
       "      <th>0</th>\n",
       "      <td>20200101</td>\n",
       "      <td>0</td>\n",
       "      <td>M</td>\n",
       "      <td>age_00</td>\n",
       "      <td>11650560</td>\n",
       "      <td>15</td>\n",
       "      <td>반포1동</td>\n",
       "      <td>서울특별시</td>\n",
       "      <td>서초구</td>\n",
       "    </tr>\n",
       "    <tr>\n",
       "      <th>1</th>\n",
       "      <td>20200101</td>\n",
       "      <td>0</td>\n",
       "      <td>M</td>\n",
       "      <td>age_00</td>\n",
       "      <td>11590620</td>\n",
       "      <td>6</td>\n",
       "      <td>사당1동</td>\n",
       "      <td>서울특별시</td>\n",
       "      <td>동작구</td>\n",
       "    </tr>\n",
       "    <tr>\n",
       "      <th>2</th>\n",
       "      <td>20200101</td>\n",
       "      <td>0</td>\n",
       "      <td>M</td>\n",
       "      <td>age_00</td>\n",
       "      <td>11560710</td>\n",
       "      <td>4</td>\n",
       "      <td>대림2동</td>\n",
       "      <td>서울특별시</td>\n",
       "      <td>영등포구</td>\n",
       "    </tr>\n",
       "    <tr>\n",
       "      <th>3</th>\n",
       "      <td>20200101</td>\n",
       "      <td>0</td>\n",
       "      <td>M</td>\n",
       "      <td>age_00</td>\n",
       "      <td>11470680</td>\n",
       "      <td>12</td>\n",
       "      <td>신정7동</td>\n",
       "      <td>서울특별시</td>\n",
       "      <td>양천구</td>\n",
       "    </tr>\n",
       "    <tr>\n",
       "      <th>4</th>\n",
       "      <td>20200101</td>\n",
       "      <td>0</td>\n",
       "      <td>M</td>\n",
       "      <td>age_00</td>\n",
       "      <td>11350665</td>\n",
       "      <td>6</td>\n",
       "      <td>상계3.4동</td>\n",
       "      <td>서울특별시</td>\n",
       "      <td>노원구</td>\n",
       "    </tr>\n",
       "  </tbody>\n",
       "</table>\n",
       "</div>"
      ],
      "text/plain": [
       "   base_ymd  tmzon_se_code sexdstn_se_code agrde_se_code  adstrd_code  \\\n",
       "0  20200101              0               M        age_00     11650560   \n",
       "1  20200101              0               M        age_00     11590620   \n",
       "2  20200101              0               M        age_00     11560710   \n",
       "3  20200101              0               M        age_00     11470680   \n",
       "4  20200101              0               M        age_00     11350665   \n",
       "\n",
       "   popltn_cascnt adstrd_nm brtc_nm signgu_nm  \n",
       "0             15      반포1동   서울특별시       서초구  \n",
       "1              6      사당1동   서울특별시       동작구  \n",
       "2              4      대림2동   서울특별시      영등포구  \n",
       "3             12      신정7동   서울특별시       양천구  \n",
       "4              6    상계3.4동   서울특별시       노원구  "
      ]
     },
     "execution_count": 63,
     "metadata": {},
     "output_type": "execute_result"
    }
   ],
   "source": [
    "# df와 df2 합치기 (유동인구['adstrd_code'] = 행정동['adstrd_code'])\n",
    "#                          * adstrd_code = 행정동코드\n",
    "# 유동인구 데이터와 행정동 이름 합침\n",
    "# SQL의 LEFT JOIN\n",
    "\n",
    "move_people = pd.merge(df,df2,on=\"adstrd_code\",how=\"left\")\n",
    "move_people.head()"
   ]
  },
  {
   "cell_type": "code",
   "execution_count": 64,
   "metadata": {
    "ExecuteTime": {
     "end_time": "2020-07-27T12:33:18.280557Z",
     "start_time": "2020-07-27T12:33:17.956539Z"
    }
   },
   "outputs": [],
   "source": [
    "del move_people['brtc_nm']\n",
    "\n",
    "# brtc_nm은 시도 명이다.\n",
    "# 현 DATASET은 서울시 내 행정구역 데이터이기 때문에, brtc_nm 칼럼 삭제"
   ]
  },
  {
   "cell_type": "code",
   "execution_count": 65,
   "metadata": {
    "ExecuteTime": {
     "end_time": "2020-07-27T12:34:28.514575Z",
     "start_time": "2020-07-27T12:33:18.334560Z"
    }
   },
   "outputs": [
    {
     "data": {
      "text/html": [
       "<div>\n",
       "<style scoped>\n",
       "    .dataframe tbody tr th:only-of-type {\n",
       "        vertical-align: middle;\n",
       "    }\n",
       "\n",
       "    .dataframe tbody tr th {\n",
       "        vertical-align: top;\n",
       "    }\n",
       "\n",
       "    .dataframe thead th {\n",
       "        text-align: right;\n",
       "    }\n",
       "</style>\n",
       "<table border=\"1\" class=\"dataframe\">\n",
       "  <thead>\n",
       "    <tr style=\"text-align: right;\">\n",
       "      <th></th>\n",
       "      <th>년월일</th>\n",
       "      <th>행정구</th>\n",
       "      <th>유동인구</th>\n",
       "    </tr>\n",
       "  </thead>\n",
       "  <tbody>\n",
       "    <tr>\n",
       "      <th>0</th>\n",
       "      <td>20200101</td>\n",
       "      <td>강남구</td>\n",
       "      <td>3028808</td>\n",
       "    </tr>\n",
       "    <tr>\n",
       "      <th>1</th>\n",
       "      <td>20200101</td>\n",
       "      <td>강동구</td>\n",
       "      <td>2094980</td>\n",
       "    </tr>\n",
       "    <tr>\n",
       "      <th>2</th>\n",
       "      <td>20200101</td>\n",
       "      <td>강북구</td>\n",
       "      <td>945218</td>\n",
       "    </tr>\n",
       "    <tr>\n",
       "      <th>3</th>\n",
       "      <td>20200101</td>\n",
       "      <td>강서구</td>\n",
       "      <td>2191177</td>\n",
       "    </tr>\n",
       "    <tr>\n",
       "      <th>4</th>\n",
       "      <td>20200101</td>\n",
       "      <td>관악구</td>\n",
       "      <td>1694584</td>\n",
       "    </tr>\n",
       "    <tr>\n",
       "      <th>...</th>\n",
       "      <td>...</td>\n",
       "      <td>...</td>\n",
       "      <td>...</td>\n",
       "    </tr>\n",
       "    <tr>\n",
       "      <th>4195</th>\n",
       "      <td>20200616</td>\n",
       "      <td>용산구</td>\n",
       "      <td>2363994</td>\n",
       "    </tr>\n",
       "    <tr>\n",
       "      <th>4196</th>\n",
       "      <td>20200616</td>\n",
       "      <td>은평구</td>\n",
       "      <td>1610731</td>\n",
       "    </tr>\n",
       "    <tr>\n",
       "      <th>4197</th>\n",
       "      <td>20200616</td>\n",
       "      <td>종로구</td>\n",
       "      <td>1992243</td>\n",
       "    </tr>\n",
       "    <tr>\n",
       "      <th>4198</th>\n",
       "      <td>20200616</td>\n",
       "      <td>중구</td>\n",
       "      <td>2253617</td>\n",
       "    </tr>\n",
       "    <tr>\n",
       "      <th>4199</th>\n",
       "      <td>20200616</td>\n",
       "      <td>중랑구</td>\n",
       "      <td>1651099</td>\n",
       "    </tr>\n",
       "  </tbody>\n",
       "</table>\n",
       "<p>4200 rows × 3 columns</p>\n",
       "</div>"
      ],
      "text/plain": [
       "           년월일  행정구     유동인구\n",
       "0     20200101  강남구  3028808\n",
       "1     20200101  강동구  2094980\n",
       "2     20200101  강북구   945218\n",
       "3     20200101  강서구  2191177\n",
       "4     20200101  관악구  1694584\n",
       "...        ...  ...      ...\n",
       "4195  20200616  용산구  2363994\n",
       "4196  20200616  은평구  1610731\n",
       "4197  20200616  종로구  1992243\n",
       "4198  20200616   중구  2253617\n",
       "4199  20200616  중랑구  1651099\n",
       "\n",
       "[4200 rows x 3 columns]"
      ]
     },
     "execution_count": 65,
     "metadata": {},
     "output_type": "execute_result"
    }
   ],
   "source": [
    "move_people = move_people.rename({'base_ymd':'년월일','tmzon_se_code':'시간대','sexdstn_se_code':'성별','agrde_se_code':'나이대','adstrd_code':'행정동코드','popltn_cascnt':'유동인구','adstrd_nm':'행정동','signgu_nm':'행정구'}, axis ='columns')\n",
    "\n",
    "grouped = move_people.groupby(by = ['년월일','행정구']).sum()['유동인구'].reset_index()\n",
    "\n",
    "grouped"
   ]
  },
  {
   "cell_type": "code",
   "execution_count": 66,
   "metadata": {
    "ExecuteTime": {
     "end_time": "2020-07-27T12:34:28.597579Z",
     "start_time": "2020-07-27T12:34:28.585579Z"
    }
   },
   "outputs": [],
   "source": [
    "temp = grouped[grouped.년월일==20200408]\n"
   ]
  },
  {
   "cell_type": "markdown",
   "metadata": {},
   "source": [
    "# 지도 그리기"
   ]
  },
  {
   "cell_type": "markdown",
   "metadata": {},
   "source": [
    "## 서울 자치구 경계 json파일 다운로드"
   ]
  },
  {
   "cell_type": "code",
   "execution_count": 67,
   "metadata": {
    "ExecuteTime": {
     "end_time": "2020-07-27T12:34:33.785876Z",
     "start_time": "2020-07-27T12:34:32.580807Z"
    }
   },
   "outputs": [],
   "source": [
    "url = 'https://raw.github.com/PinkWink/DataScience/master/data/02.%20skorea_municipalities_geo_simple.json'\n",
    "with urllib.request.urlopen(url) as fp:\n",
    "  json_seoul = json.loads(fp.read())\n"
   ]
  },
  {
   "cell_type": "code",
   "execution_count": 68,
   "metadata": {
    "ExecuteTime": {
     "end_time": "2020-07-27T12:34:33.874881Z",
     "start_time": "2020-07-27T12:34:33.857880Z"
    }
   },
   "outputs": [],
   "source": [
    "for idx, seoul_dict in enumerate(json_seoul['features']):\n",
    "  gu_name = seoul_dict['id']\n",
    "  value = temp.loc[temp.행정구==gu_name, '유동인구'].iloc[0]\n",
    "  txt = f'{gu_name}<br>{value}'\n",
    "  json_seoul['features'][idx]['properties']['tooltip1'] = txt"
   ]
  },
  {
   "cell_type": "code",
   "execution_count": 69,
   "metadata": {
    "ExecuteTime": {
     "end_time": "2020-07-27T12:34:34.557920Z",
     "start_time": "2020-07-27T12:34:34.484916Z"
    }
   },
   "outputs": [],
   "source": [
    "m = folium.Map(location=[37.55, 127], zoom_start=11, tiles='Stamen Terrain')\n"
   ]
  },
  {
   "cell_type": "code",
   "execution_count": 70,
   "metadata": {
    "ExecuteTime": {
     "end_time": "2020-07-27T12:34:35.163955Z",
     "start_time": "2020-07-27T12:34:35.078950Z"
    }
   },
   "outputs": [
    {
     "data": {
      "text/html": [
       "<div style=\"width:100%;\"><div style=\"position:relative;width:100%;height:0;padding-bottom:60%;\"><span style=\"color:#565656\">Make this Notebook Trusted to load map: File -> Trust Notebook</span><iframe src=\"about:blank\" style=\"position:absolute;width:100%;height:100%;left:0;top:0;border:none !important;\" data-html=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 onload=\"this.contentDocument.open();this.contentDocument.write(atob(this.getAttribute('data-html')));this.contentDocument.close();\" allowfullscreen webkitallowfullscreen mozallowfullscreen></iframe></div></div>"
      ],
      "text/plain": [
       "<folium.folium.Map at 0x1b7f8cc8>"
      ]
     },
     "execution_count": 70,
     "metadata": {},
     "output_type": "execute_result"
    }
   ],
   "source": [
    "choropleth = folium.Choropleth(\n",
    "    geo_data=json_seoul, \n",
    "    data=temp,\n",
    "    columns=['행정구', '유동인구'],\n",
    "    fill_color = 'OrRd',\n",
    "    key_on = 'feature.id',\n",
    "    fill_opacity=0.9,\n",
    "    line_opacity=1,\n",
    "    legend_name='Foot Traffic'\n",
    ").add_to(m)\n",
    "\n",
    "choropleth.geojson.add_child( folium.features.GeoJsonTooltip(['tooltip1'], labels=False))\n",
    "\n",
    "title_html = '<h3 align=\"center\" style=\"font-size:20px\"><b>Foot Traffic in Seoul</b></h3>'\n",
    "m.get_root().html.add_child(folium.Element(title_html))\n",
    "\n",
    "\n",
    "folium.LayerControl().add_to(m)\n",
    "\n",
    "m"
   ]
  },
  {
   "cell_type": "code",
   "execution_count": 71,
   "metadata": {
    "ExecuteTime": {
     "end_time": "2020-07-27T12:34:43.462429Z",
     "start_time": "2020-07-27T12:34:43.222416Z"
    }
   },
   "outputs": [
    {
     "ename": "ModuleNotFoundError",
     "evalue": "No module named 'geopandas'",
     "output_type": "error",
     "traceback": [
      "\u001b[1;31m---------------------------------------------------------------------------\u001b[0m",
      "\u001b[1;31mModuleNotFoundError\u001b[0m                       Traceback (most recent call last)",
      "\u001b[1;32m<ipython-input-71-37bb12ac7902>\u001b[0m in \u001b[0;36m<module>\u001b[1;34m\u001b[0m\n\u001b[1;32m----> 1\u001b[1;33m \u001b[1;32mimport\u001b[0m \u001b[0mgeopandas\u001b[0m \u001b[1;32mas\u001b[0m \u001b[0mgpd\u001b[0m\u001b[1;33m\u001b[0m\u001b[1;33m\u001b[0m\u001b[0m\n\u001b[0m\u001b[0;32m      2\u001b[0m \u001b[1;33m\u001b[0m\u001b[0m\n\u001b[0;32m      3\u001b[0m \u001b[0mdf\u001b[0m \u001b[1;33m=\u001b[0m \u001b[0mgpd\u001b[0m\u001b[1;33m.\u001b[0m\u001b[0mread_file\u001b[0m\u001b[1;33m(\u001b[0m\u001b[1;34m'HangJeongDong_ver20200401'\u001b[0m\u001b[1;33m)\u001b[0m\u001b[1;33m\u001b[0m\u001b[1;33m\u001b[0m\u001b[0m\n",
      "\u001b[1;31mModuleNotFoundError\u001b[0m: No module named 'geopandas'"
     ]
    }
   ],
   "source": [
    "import geopandas as gpd\n",
    "\n",
    "df = gpd.read_file('HangJeongDong_ver20200401')"
   ]
  },
  {
   "cell_type": "code",
   "execution_count": 72,
   "metadata": {
    "ExecuteTime": {
     "end_time": "2020-07-27T12:34:47.053635Z",
     "start_time": "2020-07-27T12:34:43.962458Z"
    }
   },
   "outputs": [
    {
     "name": "stdout",
     "output_type": "stream",
     "text": [
      "Collecting geopandas"
     ]
    },
    {
     "name": "stderr",
     "output_type": "stream",
     "text": [
      "    ERROR: Command errored out with exit status 1:\n",
      "     command: 'C:\\ProgramData\\Anaconda3\\python.exe' -c 'import sys, setuptools, tokenize; sys.argv[0] = '\"'\"'C:\\\\Users\\\\COM\\\\AppData\\\\Local\\\\Temp\\\\pip-install-lg01bt6v\\\\fiona\\\\setup.py'\"'\"'; __file__='\"'\"'C:\\\\Users\\\\COM\\\\AppData\\\\Local\\\\Temp\\\\pip-install-lg01bt6v\\\\fiona\\\\setup.py'\"'\"';f=getattr(tokenize, '\"'\"'open'\"'\"', open)(__file__);code=f.read().replace('\"'\"'\\r\\n'\"'\"', '\"'\"'\\n'\"'\"');f.close();exec(compile(code, __file__, '\"'\"'exec'\"'\"'))' egg_info --egg-base 'C:\\Users\\COM\\AppData\\Local\\Temp\\pip-pip-egg-info-_w2zuz00'\n",
      "         cwd: C:\\Users\\COM\\AppData\\Local\\Temp\\pip-install-lg01bt6v\\fiona\\\n",
      "    Complete output (1 lines):\n",
      "    A GDAL API version must be specified. Provide a path to gdal-config using a GDAL_CONFIG environment variable or use a GDAL_VERSION environment variable.\n",
      "    ----------------------------------------\n",
      "ERROR: Command errored out with exit status 1: python setup.py egg_info Check the logs for full command output.\n"
     ]
    },
    {
     "name": "stdout",
     "output_type": "stream",
     "text": [
      "\n",
      "  Using cached geopandas-0.8.1-py2.py3-none-any.whl (962 kB)\n",
      "Collecting fiona\n",
      "  Using cached Fiona-1.8.13.post1.tar.gz (1.2 MB)\n"
     ]
    }
   ],
   "source": [
    "!pip install geopandas"
   ]
  },
  {
   "cell_type": "code",
   "execution_count": null,
   "metadata": {},
   "outputs": [],
   "source": []
  }
 ],
 "metadata": {
  "kernelspec": {
   "display_name": "Python 3",
   "language": "python",
   "name": "python3"
  },
  "language_info": {
   "codemirror_mode": {
    "name": "ipython",
    "version": 3
   },
   "file_extension": ".py",
   "mimetype": "text/x-python",
   "name": "python",
   "nbconvert_exporter": "python",
   "pygments_lexer": "ipython3",
   "version": "3.7.7"
  },
  "toc": {
   "base_numbering": 1,
   "nav_menu": {},
   "number_sections": true,
   "sideBar": true,
   "skip_h1_title": false,
   "title_cell": "Table of Contents",
   "title_sidebar": "Contents",
   "toc_cell": false,
   "toc_position": {
    "height": "calc(100% - 180px)",
    "left": "10px",
    "top": "150px",
    "width": "384px"
   },
   "toc_section_display": true,
   "toc_window_display": true
  },
  "varInspector": {
   "cols": {
    "lenName": 16,
    "lenType": 16,
    "lenVar": 40
   },
   "kernels_config": {
    "python": {
     "delete_cmd_postfix": "",
     "delete_cmd_prefix": "del ",
     "library": "var_list.py",
     "varRefreshCmd": "print(var_dic_list())"
    },
    "r": {
     "delete_cmd_postfix": ") ",
     "delete_cmd_prefix": "rm(",
     "library": "var_list.r",
     "varRefreshCmd": "cat(var_dic_list()) "
    }
   },
   "types_to_exclude": [
    "module",
    "function",
    "builtin_function_or_method",
    "instance",
    "_Feature"
   ],
   "window_display": false
  }
 },
 "nbformat": 4,
 "nbformat_minor": 4
}
