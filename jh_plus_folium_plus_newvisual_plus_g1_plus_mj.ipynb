{
 "cells": [
  {
   "cell_type": "markdown",
   "metadata": {},
   "source": [
    "# 데이터 분석에 앞서, 팀 소개와 인사말"
   ]
  },
  {
   "cell_type": "code",
   "execution_count": 105,
   "metadata": {
    "ExecuteTime": {
     "end_time": "2020-07-30T17:29:23.902767Z",
     "start_time": "2020-07-30T17:29:23.899775Z"
    }
   },
   "outputs": [],
   "source": [
    "from IPython.display import Image"
   ]
  },
  {
   "cell_type": "code",
   "execution_count": null,
   "metadata": {},
   "outputs": [],
   "source": [
    "Image(\"PPT_IMG/00.표지_1.jpg\")"
   ]
  },
  {
   "cell_type": "markdown",
   "metadata": {
    "ExecuteTime": {
     "end_time": "2020-07-30T17:30:09.691971Z",
     "start_time": "2020-07-30T17:30:09.688955Z"
    }
   },
   "source": [
    "#### 안녕하세요, 저희는 빅데이터를 분석하고자하는 열정으로 모인 5명의 학생, 끝판왕입니다.\n",
    "#### 빅데이터를 위해 노력중인 모든 분들의 편에서 함께 노력하는 끝판왕 팀이 되겠습니다."
   ]
  },
  {
   "cell_type": "markdown",
   "metadata": {
    "ExecuteTime": {
     "end_time": "2020-07-30T17:30:40.187392Z",
     "start_time": "2020-07-30T17:30:40.183403Z"
    }
   },
   "source": [
    "# Ⅰ 연구 개요"
   ]
  },
  {
   "cell_type": "markdown",
   "metadata": {},
   "source": [
    "## 연구의 배경 및 필요성"
   ]
  },
  {
   "cell_type": "code",
   "execution_count": null,
   "metadata": {},
   "outputs": [],
   "source": [
    "Image(\"PPT_IMG/04.배경및필요성_2.jpg\")"
   ]
  },
  {
   "cell_type": "markdown",
   "metadata": {},
   "source": [
    "- COVID-19(코로나바이러스 감염증-19, 이후 '코로나'로 통일)는 2019년 12월 중국을 시작으로 전세계로 퍼지며, 현재까지 크게 사회 및 경제적 변화, 생활 패턴의 변화 등을 비롯하여 실생활에 밀접한 영향을 주고있습니다.\n",
    "- 코로나의 비말을 매개로 한 강력한 전파력은 사회적 거리두기를 필두로 사회 전반에 '언택트(비대면) 신드롬'을 불러일으키며 다양한 산업 분야의 판도를 좌지우지 하고 있습니다.\n",
    "- 이에 따라 지속적으로 화두가 되고 있는 다양한 정부의 예방 정책들이 등장하였고, 코로나에 대응하기 위한 약 6개월의 시간과 데이터들이 축적되어 왔습니다.\n",
    "- '포스트 코로나', 즉 코로나의 유행을 겪은 지금 이 시점에서  \n",
    "`1) 코로나의 영향에 대한 다양한 분야의 데이터를 탐색하여 객관적인` **코로나의 영향력을 분석**하고,  \n",
    "2) 현재까지 지속되고 있는 `다양한 대응책에 대한` **중간 검토를 통해 향후 더 나은 방향성 제시에 지표**`가 되고자 합니다."
   ]
  },
  {
   "cell_type": "code",
   "execution_count": null,
   "metadata": {},
   "outputs": [],
   "source": [
    "Image(\"PPT_IMG/03.배경및필요성.jpg\")"
   ]
  },
  {
   "cell_type": "markdown",
   "metadata": {},
   "source": [
    "## ○ 주제 \n",
    "    ▶ 포스트 코로나 시대 유망 품목 및 산업 발굴\n",
    "    ▶ 코로나로 인한 국민의 생활/소비의 변화 파악    "
   ]
  },
  {
   "cell_type": "markdown",
   "metadata": {},
   "source": [
    "## ○ 가치\n",
    "    ▶ 빅데이터의 가치를 활용하여 코로나가 미치는 영향을 보다 객관적이고 포괄적으로 이해\n",
    "    ▶ 데이터 분석을 통해 발굴한 인사이트의 활용"
   ]
  },
  {
   "cell_type": "markdown",
   "metadata": {},
   "source": [
    "## 연구개요\n",
    "    ▶ 활용 데이터 \n",
    "        : 유동인구(fpopl.csv), 행정동(adstrd_master.csv), 코로나 확진자,날짜 별 지역별 확진자 수(timeprovince.csv), \n",
    "       카드사용 발생건수 및 매출(card.csv) 데이터\n",
    "    ▶ 데이터 분석 기간\n",
    "        : 유동인구, 코로나 확진자 - 20.01.01(수) ~ 20.6.16(화)"
   ]
  },
  {
   "cell_type": "markdown",
   "metadata": {},
   "source": [
    "# Ⅱ 연구 수행"
   ]
  },
  {
   "cell_type": "code",
   "execution_count": 129,
   "metadata": {
    "ExecuteTime": {
     "end_time": "2020-07-30T18:00:24.808414Z",
     "start_time": "2020-07-30T18:00:24.800408Z"
    }
   },
   "outputs": [
    {
     "data": {
      "text/html": [
       "        <script type=\"text/javascript\">\n",
       "        window.PlotlyConfig = {MathJaxConfig: 'local'};\n",
       "        if (window.MathJax) {MathJax.Hub.Config({SVG: {font: \"STIX-Web\"}});}\n",
       "        if (typeof require !== 'undefined') {\n",
       "        require.undef(\"plotly\");\n",
       "        requirejs.config({\n",
       "            paths: {\n",
       "                'plotly': ['https://cdn.plot.ly/plotly-latest.min']\n",
       "            }\n",
       "        });\n",
       "        require(['plotly'], function(Plotly) {\n",
       "            window._Plotly = Plotly;\n",
       "        });\n",
       "        }\n",
       "        </script>\n",
       "        "
      ]
     },
     "metadata": {},
     "output_type": "display_data"
    }
   ],
   "source": [
    "import numpy as np\n",
    "import pandas as pd\n",
    "import matplotlib.pyplot as plt\n",
    "%matplotlib inline\n",
    "import seaborn as sns\n",
    "import chart_studio.plotly as py\n",
    "import cufflinks as cf\n",
    "cf.go_offline(connected=True)\n",
    "import plotly.express as px\n",
    "from plotly import graph_objects as go\n",
    "import folium\n",
    "import ipywidgets as widgets\n",
    "from IPython.display import display\n",
    "from IPython.display import clear_output\n",
    "from sklearn.preprocessing import scale\n",
    "import urllib, json\n",
    "from datetime import datetime\n",
    "from sklearn.preprocessing import scale\n",
    "import math\n",
    "plt.rcParams['font.family'] = 'Malgun Gothic' ## 그래프에서 한글보이도록 폰트설정"
   ]
  },
  {
   "cell_type": "markdown",
   "metadata": {},
   "source": [
    "### 데이터 불러오기"
   ]
  },
  {
   "cell_type": "code",
   "execution_count": 88,
   "metadata": {
    "ExecuteTime": {
     "end_time": "2020-07-30T17:14:54.314766Z",
     "start_time": "2020-07-30T17:14:34.424963Z"
    }
   },
   "outputs": [],
   "source": [
    "# 유동인구 데이터 불러오기\n",
    "\n",
    "f = pd.read_csv(\"C:/GitHub/corona-project/KT_data_20200717/fpopl.csv\")\n",
    "df = pd.DataFrame(f)\n",
    "\n",
    "# 행정동 데이터 불러오기\n",
    "\n",
    "f2 = pd.read_csv(\"C:/GitHub/corona-project/KT_data_20200717/adstrd_master.csv\")\n",
    "df2 = pd.DataFrame(f2)\n",
    "\n",
    "#코로나 데이터 불러오기\n",
    "grouped1 = pd.read_csv('C:/GitHub/corona-project/KT_data_20200717/COVID_19/TimeProvince.csv')\n",
    "grouped1 = grouped1[grouped1.province=='서울']\n",
    "\n",
    "#카드 데이터 불러오기\n",
    "card_raw = pd.read_csv(\"C:/GitHub/corona-project/KT_data_20200717/card_20200717.csv\", encoding='utf-8')\n"
   ]
  },
  {
   "cell_type": "code",
   "execution_count": 4,
   "metadata": {
    "ExecuteTime": {
     "end_time": "2020-07-30T16:06:54.640253Z",
     "start_time": "2020-07-30T16:06:54.635269Z"
    }
   },
   "outputs": [
    {
     "data": {
      "text/plain": [
       "((47546443, 6), (3493, 4), (3713952, 7))"
      ]
     },
     "execution_count": 4,
     "metadata": {},
     "output_type": "execute_result"
    }
   ],
   "source": [
    "card = card_raw.copy()\n",
    "df.shape, df2.shape, card.shape"
   ]
  },
  {
   "cell_type": "markdown",
   "metadata": {},
   "source": [
    "### 데이터 전처리"
   ]
  },
  {
   "cell_type": "markdown",
   "metadata": {
    "ExecuteTime": {
     "end_time": "2020-07-30T17:11:48.920239Z",
     "start_time": "2020-07-30T17:11:48.917276Z"
    }
   },
   "source": [
    "#### 코로나 데이터 전처리"
   ]
  },
  {
   "cell_type": "code",
   "execution_count": 89,
   "metadata": {
    "ExecuteTime": {
     "end_time": "2020-07-30T17:14:57.815429Z",
     "start_time": "2020-07-30T17:14:57.802440Z"
    }
   },
   "outputs": [
    {
     "data": {
      "text/html": [
       "<div>\n",
       "<style scoped>\n",
       "    .dataframe tbody tr th:only-of-type {\n",
       "        vertical-align: middle;\n",
       "    }\n",
       "\n",
       "    .dataframe tbody tr th {\n",
       "        vertical-align: top;\n",
       "    }\n",
       "\n",
       "    .dataframe thead th {\n",
       "        text-align: right;\n",
       "    }\n",
       "</style>\n",
       "<table border=\"1\" class=\"dataframe\">\n",
       "  <thead>\n",
       "    <tr style=\"text-align: right;\">\n",
       "      <th></th>\n",
       "      <th>date</th>\n",
       "      <th>time</th>\n",
       "      <th>province</th>\n",
       "      <th>확진자수</th>\n",
       "      <th>released</th>\n",
       "      <th>deceased</th>\n",
       "    </tr>\n",
       "  </thead>\n",
       "  <tbody>\n",
       "    <tr>\n",
       "      <th>0</th>\n",
       "      <td>2020-01-20</td>\n",
       "      <td>16</td>\n",
       "      <td>서울</td>\n",
       "      <td>0</td>\n",
       "      <td>0</td>\n",
       "      <td>0</td>\n",
       "    </tr>\n",
       "    <tr>\n",
       "      <th>17</th>\n",
       "      <td>2020-01-21</td>\n",
       "      <td>16</td>\n",
       "      <td>서울</td>\n",
       "      <td>0</td>\n",
       "      <td>0</td>\n",
       "      <td>0</td>\n",
       "    </tr>\n",
       "    <tr>\n",
       "      <th>34</th>\n",
       "      <td>2020-01-22</td>\n",
       "      <td>16</td>\n",
       "      <td>서울</td>\n",
       "      <td>0</td>\n",
       "      <td>0</td>\n",
       "      <td>0</td>\n",
       "    </tr>\n",
       "    <tr>\n",
       "      <th>51</th>\n",
       "      <td>2020-01-23</td>\n",
       "      <td>16</td>\n",
       "      <td>서울</td>\n",
       "      <td>0</td>\n",
       "      <td>0</td>\n",
       "      <td>0</td>\n",
       "    </tr>\n",
       "    <tr>\n",
       "      <th>68</th>\n",
       "      <td>2020-01-24</td>\n",
       "      <td>16</td>\n",
       "      <td>서울</td>\n",
       "      <td>0</td>\n",
       "      <td>0</td>\n",
       "      <td>0</td>\n",
       "    </tr>\n",
       "    <tr>\n",
       "      <th>...</th>\n",
       "      <td>...</td>\n",
       "      <td>...</td>\n",
       "      <td>...</td>\n",
       "      <td>...</td>\n",
       "      <td>...</td>\n",
       "      <td>...</td>\n",
       "    </tr>\n",
       "    <tr>\n",
       "      <th>2686</th>\n",
       "      <td>2020-06-26</td>\n",
       "      <td>0</td>\n",
       "      <td>서울</td>\n",
       "      <td>1267</td>\n",
       "      <td>843</td>\n",
       "      <td>7</td>\n",
       "    </tr>\n",
       "    <tr>\n",
       "      <th>2703</th>\n",
       "      <td>2020-06-27</td>\n",
       "      <td>0</td>\n",
       "      <td>서울</td>\n",
       "      <td>1284</td>\n",
       "      <td>911</td>\n",
       "      <td>7</td>\n",
       "    </tr>\n",
       "    <tr>\n",
       "      <th>2720</th>\n",
       "      <td>2020-06-28</td>\n",
       "      <td>0</td>\n",
       "      <td>서울</td>\n",
       "      <td>1298</td>\n",
       "      <td>923</td>\n",
       "      <td>7</td>\n",
       "    </tr>\n",
       "    <tr>\n",
       "      <th>2737</th>\n",
       "      <td>2020-06-29</td>\n",
       "      <td>0</td>\n",
       "      <td>서울</td>\n",
       "      <td>1305</td>\n",
       "      <td>942</td>\n",
       "      <td>7</td>\n",
       "    </tr>\n",
       "    <tr>\n",
       "      <th>2754</th>\n",
       "      <td>2020-06-30</td>\n",
       "      <td>0</td>\n",
       "      <td>서울</td>\n",
       "      <td>1312</td>\n",
       "      <td>985</td>\n",
       "      <td>7</td>\n",
       "    </tr>\n",
       "  </tbody>\n",
       "</table>\n",
       "<p>163 rows × 6 columns</p>\n",
       "</div>"
      ],
      "text/plain": [
       "            date  time province  확진자수  released  deceased\n",
       "0     2020-01-20    16       서울     0         0         0\n",
       "17    2020-01-21    16       서울     0         0         0\n",
       "34    2020-01-22    16       서울     0         0         0\n",
       "51    2020-01-23    16       서울     0         0         0\n",
       "68    2020-01-24    16       서울     0         0         0\n",
       "...          ...   ...      ...   ...       ...       ...\n",
       "2686  2020-06-26     0       서울  1267       843         7\n",
       "2703  2020-06-27     0       서울  1284       911         7\n",
       "2720  2020-06-28     0       서울  1298       923         7\n",
       "2737  2020-06-29     0       서울  1305       942         7\n",
       "2754  2020-06-30     0       서울  1312       985         7\n",
       "\n",
       "[163 rows x 6 columns]"
      ]
     },
     "execution_count": 89,
     "metadata": {},
     "output_type": "execute_result"
    }
   ],
   "source": [
    "grouped1 = grouped1.rename({'confirmed':'확진자수','week':'주차'}, axis ='columns')\n",
    "grouped1"
   ]
  },
  {
   "cell_type": "code",
   "execution_count": 90,
   "metadata": {
    "ExecuteTime": {
     "end_time": "2020-07-30T17:15:46.121221Z",
     "start_time": "2020-07-30T17:15:46.106289Z"
    }
   },
   "outputs": [
    {
     "data": {
      "text/html": [
       "<div>\n",
       "<style scoped>\n",
       "    .dataframe tbody tr th:only-of-type {\n",
       "        vertical-align: middle;\n",
       "    }\n",
       "\n",
       "    .dataframe tbody tr th {\n",
       "        vertical-align: top;\n",
       "    }\n",
       "\n",
       "    .dataframe thead th {\n",
       "        text-align: right;\n",
       "    }\n",
       "</style>\n",
       "<table border=\"1\" class=\"dataframe\">\n",
       "  <thead>\n",
       "    <tr style=\"text-align: right;\">\n",
       "      <th></th>\n",
       "      <th>date</th>\n",
       "      <th>time</th>\n",
       "      <th>province</th>\n",
       "      <th>확진자수</th>\n",
       "      <th>released</th>\n",
       "      <th>deceased</th>\n",
       "      <th>일일확진자</th>\n",
       "    </tr>\n",
       "  </thead>\n",
       "  <tbody>\n",
       "    <tr>\n",
       "      <th>0</th>\n",
       "      <td>2020-01-20</td>\n",
       "      <td>16</td>\n",
       "      <td>서울</td>\n",
       "      <td>0</td>\n",
       "      <td>0</td>\n",
       "      <td>0</td>\n",
       "      <td>0</td>\n",
       "    </tr>\n",
       "    <tr>\n",
       "      <th>17</th>\n",
       "      <td>2020-01-21</td>\n",
       "      <td>16</td>\n",
       "      <td>서울</td>\n",
       "      <td>0</td>\n",
       "      <td>0</td>\n",
       "      <td>0</td>\n",
       "      <td>0</td>\n",
       "    </tr>\n",
       "    <tr>\n",
       "      <th>34</th>\n",
       "      <td>2020-01-22</td>\n",
       "      <td>16</td>\n",
       "      <td>서울</td>\n",
       "      <td>0</td>\n",
       "      <td>0</td>\n",
       "      <td>0</td>\n",
       "      <td>0</td>\n",
       "    </tr>\n",
       "    <tr>\n",
       "      <th>51</th>\n",
       "      <td>2020-01-23</td>\n",
       "      <td>16</td>\n",
       "      <td>서울</td>\n",
       "      <td>0</td>\n",
       "      <td>0</td>\n",
       "      <td>0</td>\n",
       "      <td>0</td>\n",
       "    </tr>\n",
       "    <tr>\n",
       "      <th>68</th>\n",
       "      <td>2020-01-24</td>\n",
       "      <td>16</td>\n",
       "      <td>서울</td>\n",
       "      <td>0</td>\n",
       "      <td>0</td>\n",
       "      <td>0</td>\n",
       "      <td>0</td>\n",
       "    </tr>\n",
       "    <tr>\n",
       "      <th>...</th>\n",
       "      <td>...</td>\n",
       "      <td>...</td>\n",
       "      <td>...</td>\n",
       "      <td>...</td>\n",
       "      <td>...</td>\n",
       "      <td>...</td>\n",
       "      <td>...</td>\n",
       "    </tr>\n",
       "    <tr>\n",
       "      <th>2686</th>\n",
       "      <td>2020-06-26</td>\n",
       "      <td>0</td>\n",
       "      <td>서울</td>\n",
       "      <td>1267</td>\n",
       "      <td>843</td>\n",
       "      <td>7</td>\n",
       "      <td>17</td>\n",
       "    </tr>\n",
       "    <tr>\n",
       "      <th>2703</th>\n",
       "      <td>2020-06-27</td>\n",
       "      <td>0</td>\n",
       "      <td>서울</td>\n",
       "      <td>1284</td>\n",
       "      <td>911</td>\n",
       "      <td>7</td>\n",
       "      <td>17</td>\n",
       "    </tr>\n",
       "    <tr>\n",
       "      <th>2720</th>\n",
       "      <td>2020-06-28</td>\n",
       "      <td>0</td>\n",
       "      <td>서울</td>\n",
       "      <td>1298</td>\n",
       "      <td>923</td>\n",
       "      <td>7</td>\n",
       "      <td>14</td>\n",
       "    </tr>\n",
       "    <tr>\n",
       "      <th>2737</th>\n",
       "      <td>2020-06-29</td>\n",
       "      <td>0</td>\n",
       "      <td>서울</td>\n",
       "      <td>1305</td>\n",
       "      <td>942</td>\n",
       "      <td>7</td>\n",
       "      <td>7</td>\n",
       "    </tr>\n",
       "    <tr>\n",
       "      <th>2754</th>\n",
       "      <td>2020-06-30</td>\n",
       "      <td>0</td>\n",
       "      <td>서울</td>\n",
       "      <td>1312</td>\n",
       "      <td>985</td>\n",
       "      <td>7</td>\n",
       "      <td>7</td>\n",
       "    </tr>\n",
       "  </tbody>\n",
       "</table>\n",
       "<p>163 rows × 7 columns</p>\n",
       "</div>"
      ],
      "text/plain": [
       "            date  time province  확진자수  released  deceased  일일확진자\n",
       "0     2020-01-20    16       서울     0         0         0      0\n",
       "17    2020-01-21    16       서울     0         0         0      0\n",
       "34    2020-01-22    16       서울     0         0         0      0\n",
       "51    2020-01-23    16       서울     0         0         0      0\n",
       "68    2020-01-24    16       서울     0         0         0      0\n",
       "...          ...   ...      ...   ...       ...       ...    ...\n",
       "2686  2020-06-26     0       서울  1267       843         7     17\n",
       "2703  2020-06-27     0       서울  1284       911         7     17\n",
       "2720  2020-06-28     0       서울  1298       923         7     14\n",
       "2737  2020-06-29     0       서울  1305       942         7      7\n",
       "2754  2020-06-30     0       서울  1312       985         7      7\n",
       "\n",
       "[163 rows x 7 columns]"
      ]
     },
     "execution_count": 90,
     "metadata": {},
     "output_type": "execute_result"
    }
   ],
   "source": [
    "my_list = np.array(grouped1['확진자수'])\n",
    "\n",
    "new_list = np.ones((len(my_list)),dtype = np.int64)\n",
    "\n",
    "for i in range(len(my_list)):\n",
    "    if i == 0:\n",
    "        new_list[i]=my_list[i]\n",
    "    else:\n",
    "        new_list[i] = my_list[i]-my_list[i-1]\n",
    "new_list\n",
    "\n",
    "grouped1['일일확진자'] = new_list\n",
    "grouped1"
   ]
  },
  {
   "cell_type": "code",
   "execution_count": 91,
   "metadata": {
    "ExecuteTime": {
     "end_time": "2020-07-30T17:15:53.125040Z",
     "start_time": "2020-07-30T17:15:53.121074Z"
    }
   },
   "outputs": [],
   "source": [
    "grouped1 =grouped1.reset_index()"
   ]
  },
  {
   "cell_type": "code",
   "execution_count": 92,
   "metadata": {
    "ExecuteTime": {
     "end_time": "2020-07-30T17:15:53.805220Z",
     "start_time": "2020-07-30T17:15:53.793253Z"
    }
   },
   "outputs": [
    {
     "data": {
      "text/html": [
       "<div>\n",
       "<style scoped>\n",
       "    .dataframe tbody tr th:only-of-type {\n",
       "        vertical-align: middle;\n",
       "    }\n",
       "\n",
       "    .dataframe tbody tr th {\n",
       "        vertical-align: top;\n",
       "    }\n",
       "\n",
       "    .dataframe thead th {\n",
       "        text-align: right;\n",
       "    }\n",
       "</style>\n",
       "<table border=\"1\" class=\"dataframe\">\n",
       "  <thead>\n",
       "    <tr style=\"text-align: right;\">\n",
       "      <th></th>\n",
       "      <th>index</th>\n",
       "      <th>date</th>\n",
       "      <th>확진자수</th>\n",
       "      <th>일일확진자</th>\n",
       "    </tr>\n",
       "  </thead>\n",
       "  <tbody>\n",
       "    <tr>\n",
       "      <th>0</th>\n",
       "      <td>0</td>\n",
       "      <td>2020-01-20</td>\n",
       "      <td>0</td>\n",
       "      <td>0</td>\n",
       "    </tr>\n",
       "    <tr>\n",
       "      <th>1</th>\n",
       "      <td>17</td>\n",
       "      <td>2020-01-21</td>\n",
       "      <td>0</td>\n",
       "      <td>0</td>\n",
       "    </tr>\n",
       "    <tr>\n",
       "      <th>2</th>\n",
       "      <td>34</td>\n",
       "      <td>2020-01-22</td>\n",
       "      <td>0</td>\n",
       "      <td>0</td>\n",
       "    </tr>\n",
       "    <tr>\n",
       "      <th>3</th>\n",
       "      <td>51</td>\n",
       "      <td>2020-01-23</td>\n",
       "      <td>0</td>\n",
       "      <td>0</td>\n",
       "    </tr>\n",
       "    <tr>\n",
       "      <th>4</th>\n",
       "      <td>68</td>\n",
       "      <td>2020-01-24</td>\n",
       "      <td>0</td>\n",
       "      <td>0</td>\n",
       "    </tr>\n",
       "    <tr>\n",
       "      <th>...</th>\n",
       "      <td>...</td>\n",
       "      <td>...</td>\n",
       "      <td>...</td>\n",
       "      <td>...</td>\n",
       "    </tr>\n",
       "    <tr>\n",
       "      <th>158</th>\n",
       "      <td>2686</td>\n",
       "      <td>2020-06-26</td>\n",
       "      <td>1267</td>\n",
       "      <td>17</td>\n",
       "    </tr>\n",
       "    <tr>\n",
       "      <th>159</th>\n",
       "      <td>2703</td>\n",
       "      <td>2020-06-27</td>\n",
       "      <td>1284</td>\n",
       "      <td>17</td>\n",
       "    </tr>\n",
       "    <tr>\n",
       "      <th>160</th>\n",
       "      <td>2720</td>\n",
       "      <td>2020-06-28</td>\n",
       "      <td>1298</td>\n",
       "      <td>14</td>\n",
       "    </tr>\n",
       "    <tr>\n",
       "      <th>161</th>\n",
       "      <td>2737</td>\n",
       "      <td>2020-06-29</td>\n",
       "      <td>1305</td>\n",
       "      <td>7</td>\n",
       "    </tr>\n",
       "    <tr>\n",
       "      <th>162</th>\n",
       "      <td>2754</td>\n",
       "      <td>2020-06-30</td>\n",
       "      <td>1312</td>\n",
       "      <td>7</td>\n",
       "    </tr>\n",
       "  </tbody>\n",
       "</table>\n",
       "<p>163 rows × 4 columns</p>\n",
       "</div>"
      ],
      "text/plain": [
       "     index        date  확진자수  일일확진자\n",
       "0        0  2020-01-20     0      0\n",
       "1       17  2020-01-21     0      0\n",
       "2       34  2020-01-22     0      0\n",
       "3       51  2020-01-23     0      0\n",
       "4       68  2020-01-24     0      0\n",
       "..     ...         ...   ...    ...\n",
       "158   2686  2020-06-26  1267     17\n",
       "159   2703  2020-06-27  1284     17\n",
       "160   2720  2020-06-28  1298     14\n",
       "161   2737  2020-06-29  1305      7\n",
       "162   2754  2020-06-30  1312      7\n",
       "\n",
       "[163 rows x 4 columns]"
      ]
     },
     "execution_count": 92,
     "metadata": {},
     "output_type": "execute_result"
    }
   ],
   "source": [
    "del grouped1['time']\n",
    "del grouped1['province']\n",
    "del grouped1['released']\n",
    "del grouped1['deceased']\n",
    "\n",
    "grouped1"
   ]
  },
  {
   "cell_type": "code",
   "execution_count": 93,
   "metadata": {
    "ExecuteTime": {
     "end_time": "2020-07-30T17:15:57.631018Z",
     "start_time": "2020-07-30T17:15:57.617027Z"
    }
   },
   "outputs": [
    {
     "data": {
      "text/html": [
       "<div>\n",
       "<style scoped>\n",
       "    .dataframe tbody tr th:only-of-type {\n",
       "        vertical-align: middle;\n",
       "    }\n",
       "\n",
       "    .dataframe tbody tr th {\n",
       "        vertical-align: top;\n",
       "    }\n",
       "\n",
       "    .dataframe thead th {\n",
       "        text-align: right;\n",
       "    }\n",
       "</style>\n",
       "<table border=\"1\" class=\"dataframe\">\n",
       "  <thead>\n",
       "    <tr style=\"text-align: right;\">\n",
       "      <th></th>\n",
       "      <th>index</th>\n",
       "      <th>date</th>\n",
       "      <th>확진자수</th>\n",
       "      <th>일일확진자</th>\n",
       "      <th>주차</th>\n",
       "    </tr>\n",
       "  </thead>\n",
       "  <tbody>\n",
       "    <tr>\n",
       "      <th>0</th>\n",
       "      <td>0</td>\n",
       "      <td>2020-01-20</td>\n",
       "      <td>0</td>\n",
       "      <td>0</td>\n",
       "      <td>3</td>\n",
       "    </tr>\n",
       "    <tr>\n",
       "      <th>1</th>\n",
       "      <td>17</td>\n",
       "      <td>2020-01-21</td>\n",
       "      <td>0</td>\n",
       "      <td>0</td>\n",
       "      <td>4</td>\n",
       "    </tr>\n",
       "    <tr>\n",
       "      <th>2</th>\n",
       "      <td>34</td>\n",
       "      <td>2020-01-22</td>\n",
       "      <td>0</td>\n",
       "      <td>0</td>\n",
       "      <td>4</td>\n",
       "    </tr>\n",
       "    <tr>\n",
       "      <th>3</th>\n",
       "      <td>51</td>\n",
       "      <td>2020-01-23</td>\n",
       "      <td>0</td>\n",
       "      <td>0</td>\n",
       "      <td>4</td>\n",
       "    </tr>\n",
       "    <tr>\n",
       "      <th>4</th>\n",
       "      <td>68</td>\n",
       "      <td>2020-01-24</td>\n",
       "      <td>0</td>\n",
       "      <td>0</td>\n",
       "      <td>4</td>\n",
       "    </tr>\n",
       "    <tr>\n",
       "      <th>...</th>\n",
       "      <td>...</td>\n",
       "      <td>...</td>\n",
       "      <td>...</td>\n",
       "      <td>...</td>\n",
       "      <td>...</td>\n",
       "    </tr>\n",
       "    <tr>\n",
       "      <th>158</th>\n",
       "      <td>2686</td>\n",
       "      <td>2020-06-26</td>\n",
       "      <td>1267</td>\n",
       "      <td>17</td>\n",
       "      <td>26</td>\n",
       "    </tr>\n",
       "    <tr>\n",
       "      <th>159</th>\n",
       "      <td>2703</td>\n",
       "      <td>2020-06-27</td>\n",
       "      <td>1284</td>\n",
       "      <td>17</td>\n",
       "      <td>26</td>\n",
       "    </tr>\n",
       "    <tr>\n",
       "      <th>160</th>\n",
       "      <td>2720</td>\n",
       "      <td>2020-06-28</td>\n",
       "      <td>1298</td>\n",
       "      <td>14</td>\n",
       "      <td>26</td>\n",
       "    </tr>\n",
       "    <tr>\n",
       "      <th>161</th>\n",
       "      <td>2737</td>\n",
       "      <td>2020-06-29</td>\n",
       "      <td>1305</td>\n",
       "      <td>7</td>\n",
       "      <td>26</td>\n",
       "    </tr>\n",
       "    <tr>\n",
       "      <th>162</th>\n",
       "      <td>2754</td>\n",
       "      <td>2020-06-30</td>\n",
       "      <td>1312</td>\n",
       "      <td>7</td>\n",
       "      <td>27</td>\n",
       "    </tr>\n",
       "  </tbody>\n",
       "</table>\n",
       "<p>163 rows × 5 columns</p>\n",
       "</div>"
      ],
      "text/plain": [
       "     index        date  확진자수  일일확진자  주차\n",
       "0        0  2020-01-20     0      0   3\n",
       "1       17  2020-01-21     0      0   4\n",
       "2       34  2020-01-22     0      0   4\n",
       "3       51  2020-01-23     0      0   4\n",
       "4       68  2020-01-24     0      0   4\n",
       "..     ...         ...   ...    ...  ..\n",
       "158   2686  2020-06-26  1267     17  26\n",
       "159   2703  2020-06-27  1284     17  26\n",
       "160   2720  2020-06-28  1298     14  26\n",
       "161   2737  2020-06-29  1305      7  26\n",
       "162   2754  2020-06-30  1312      7  27\n",
       "\n",
       "[163 rows x 5 columns]"
      ]
     },
     "execution_count": 93,
     "metadata": {},
     "output_type": "execute_result"
    }
   ],
   "source": [
    "grouped1['주차'] = grouped1.index +20\n",
    "grouped1['주차'] = grouped1['주차']/7+1\n",
    "grouped1 = grouped1.astype({'주차': 'int'})\n",
    "grouped1"
   ]
  },
  {
   "cell_type": "markdown",
   "metadata": {},
   "source": [
    "#### 유동인구 전처리"
   ]
  },
  {
   "cell_type": "code",
   "execution_count": 66,
   "metadata": {
    "ExecuteTime": {
     "end_time": "2020-07-30T16:42:11.254380Z",
     "start_time": "2020-07-30T16:41:58.697960Z"
    },
    "scrolled": true
   },
   "outputs": [
    {
     "data": {
      "text/html": [
       "<div>\n",
       "<style scoped>\n",
       "    .dataframe tbody tr th:only-of-type {\n",
       "        vertical-align: middle;\n",
       "    }\n",
       "\n",
       "    .dataframe tbody tr th {\n",
       "        vertical-align: top;\n",
       "    }\n",
       "\n",
       "    .dataframe thead th {\n",
       "        text-align: right;\n",
       "    }\n",
       "</style>\n",
       "<table border=\"1\" class=\"dataframe\">\n",
       "  <thead>\n",
       "    <tr style=\"text-align: right;\">\n",
       "      <th></th>\n",
       "      <th>base_ymd</th>\n",
       "      <th>tmzon_se_code</th>\n",
       "      <th>sexdstn_se_code</th>\n",
       "      <th>agrde_se_code</th>\n",
       "      <th>adstrd_code</th>\n",
       "      <th>popltn_cascnt</th>\n",
       "      <th>adstrd_nm</th>\n",
       "      <th>brtc_nm</th>\n",
       "      <th>signgu_nm</th>\n",
       "    </tr>\n",
       "  </thead>\n",
       "  <tbody>\n",
       "    <tr>\n",
       "      <th>0</th>\n",
       "      <td>20200101</td>\n",
       "      <td>0</td>\n",
       "      <td>M</td>\n",
       "      <td>age_00</td>\n",
       "      <td>11650560</td>\n",
       "      <td>15</td>\n",
       "      <td>반포1동</td>\n",
       "      <td>서울특별시</td>\n",
       "      <td>서초구</td>\n",
       "    </tr>\n",
       "    <tr>\n",
       "      <th>1</th>\n",
       "      <td>20200101</td>\n",
       "      <td>0</td>\n",
       "      <td>M</td>\n",
       "      <td>age_00</td>\n",
       "      <td>11590620</td>\n",
       "      <td>6</td>\n",
       "      <td>사당1동</td>\n",
       "      <td>서울특별시</td>\n",
       "      <td>동작구</td>\n",
       "    </tr>\n",
       "    <tr>\n",
       "      <th>2</th>\n",
       "      <td>20200101</td>\n",
       "      <td>0</td>\n",
       "      <td>M</td>\n",
       "      <td>age_00</td>\n",
       "      <td>11560710</td>\n",
       "      <td>4</td>\n",
       "      <td>대림2동</td>\n",
       "      <td>서울특별시</td>\n",
       "      <td>영등포구</td>\n",
       "    </tr>\n",
       "    <tr>\n",
       "      <th>3</th>\n",
       "      <td>20200101</td>\n",
       "      <td>0</td>\n",
       "      <td>M</td>\n",
       "      <td>age_00</td>\n",
       "      <td>11470680</td>\n",
       "      <td>12</td>\n",
       "      <td>신정7동</td>\n",
       "      <td>서울특별시</td>\n",
       "      <td>양천구</td>\n",
       "    </tr>\n",
       "    <tr>\n",
       "      <th>4</th>\n",
       "      <td>20200101</td>\n",
       "      <td>0</td>\n",
       "      <td>M</td>\n",
       "      <td>age_00</td>\n",
       "      <td>11350665</td>\n",
       "      <td>6</td>\n",
       "      <td>상계3.4동</td>\n",
       "      <td>서울특별시</td>\n",
       "      <td>노원구</td>\n",
       "    </tr>\n",
       "  </tbody>\n",
       "</table>\n",
       "</div>"
      ],
      "text/plain": [
       "   base_ymd  tmzon_se_code sexdstn_se_code agrde_se_code  adstrd_code  \\\n",
       "0  20200101              0               M        age_00     11650560   \n",
       "1  20200101              0               M        age_00     11590620   \n",
       "2  20200101              0               M        age_00     11560710   \n",
       "3  20200101              0               M        age_00     11470680   \n",
       "4  20200101              0               M        age_00     11350665   \n",
       "\n",
       "   popltn_cascnt adstrd_nm brtc_nm signgu_nm  \n",
       "0             15      반포1동   서울특별시       서초구  \n",
       "1              6      사당1동   서울특별시       동작구  \n",
       "2              4      대림2동   서울특별시      영등포구  \n",
       "3             12      신정7동   서울특별시       양천구  \n",
       "4              6    상계3.4동   서울특별시       노원구  "
      ]
     },
     "execution_count": 66,
     "metadata": {},
     "output_type": "execute_result"
    }
   ],
   "source": [
    "# df와 df2 합치기 (유동인구['adstrd_code'] = 행정동['adstrd_code'])\n",
    "#                          * adstrd_code = 행정동코드\n",
    "# 유동인구 데이터와 행정동 이름 합침\n",
    "# SQL의 LEFT JOIN\n",
    "\n",
    "move_people = pd.merge(df,df2,on=\"adstrd_code\",how=\"left\")\n",
    "move_people.head()"
   ]
  },
  {
   "cell_type": "code",
   "execution_count": 67,
   "metadata": {
    "ExecuteTime": {
     "end_time": "2020-07-30T16:42:12.433226Z",
     "start_time": "2020-07-30T16:42:12.082166Z"
    }
   },
   "outputs": [],
   "source": [
    "del move_people['brtc_nm']\n",
    "\n",
    "# brtc_nm은 시도 명이다.\n",
    "# 현 DATASET은 서울시 내 행정구역 데이터이기 때문에, brtc_nm 칼럼 삭제"
   ]
  },
  {
   "cell_type": "code",
   "execution_count": 68,
   "metadata": {
    "ExecuteTime": {
     "end_time": "2020-07-30T16:42:30.153837Z",
     "start_time": "2020-07-30T16:42:13.026640Z"
    },
    "scrolled": true
   },
   "outputs": [
    {
     "data": {
      "text/html": [
       "<div>\n",
       "<style scoped>\n",
       "    .dataframe tbody tr th:only-of-type {\n",
       "        vertical-align: middle;\n",
       "    }\n",
       "\n",
       "    .dataframe tbody tr th {\n",
       "        vertical-align: top;\n",
       "    }\n",
       "\n",
       "    .dataframe thead th {\n",
       "        text-align: right;\n",
       "    }\n",
       "</style>\n",
       "<table border=\"1\" class=\"dataframe\">\n",
       "  <thead>\n",
       "    <tr style=\"text-align: right;\">\n",
       "      <th></th>\n",
       "      <th>년월일</th>\n",
       "      <th>행정구</th>\n",
       "      <th>유동인구</th>\n",
       "    </tr>\n",
       "  </thead>\n",
       "  <tbody>\n",
       "    <tr>\n",
       "      <th>0</th>\n",
       "      <td>20200101</td>\n",
       "      <td>강남구</td>\n",
       "      <td>3028808</td>\n",
       "    </tr>\n",
       "    <tr>\n",
       "      <th>1</th>\n",
       "      <td>20200101</td>\n",
       "      <td>강동구</td>\n",
       "      <td>2094980</td>\n",
       "    </tr>\n",
       "    <tr>\n",
       "      <th>2</th>\n",
       "      <td>20200101</td>\n",
       "      <td>강북구</td>\n",
       "      <td>945218</td>\n",
       "    </tr>\n",
       "    <tr>\n",
       "      <th>3</th>\n",
       "      <td>20200101</td>\n",
       "      <td>강서구</td>\n",
       "      <td>2191177</td>\n",
       "    </tr>\n",
       "    <tr>\n",
       "      <th>4</th>\n",
       "      <td>20200101</td>\n",
       "      <td>관악구</td>\n",
       "      <td>1694584</td>\n",
       "    </tr>\n",
       "    <tr>\n",
       "      <th>...</th>\n",
       "      <td>...</td>\n",
       "      <td>...</td>\n",
       "      <td>...</td>\n",
       "    </tr>\n",
       "    <tr>\n",
       "      <th>4195</th>\n",
       "      <td>20200616</td>\n",
       "      <td>용산구</td>\n",
       "      <td>2363994</td>\n",
       "    </tr>\n",
       "    <tr>\n",
       "      <th>4196</th>\n",
       "      <td>20200616</td>\n",
       "      <td>은평구</td>\n",
       "      <td>1610731</td>\n",
       "    </tr>\n",
       "    <tr>\n",
       "      <th>4197</th>\n",
       "      <td>20200616</td>\n",
       "      <td>종로구</td>\n",
       "      <td>1992243</td>\n",
       "    </tr>\n",
       "    <tr>\n",
       "      <th>4198</th>\n",
       "      <td>20200616</td>\n",
       "      <td>중구</td>\n",
       "      <td>2253617</td>\n",
       "    </tr>\n",
       "    <tr>\n",
       "      <th>4199</th>\n",
       "      <td>20200616</td>\n",
       "      <td>중랑구</td>\n",
       "      <td>1651099</td>\n",
       "    </tr>\n",
       "  </tbody>\n",
       "</table>\n",
       "<p>4200 rows × 3 columns</p>\n",
       "</div>"
      ],
      "text/plain": [
       "           년월일  행정구     유동인구\n",
       "0     20200101  강남구  3028808\n",
       "1     20200101  강동구  2094980\n",
       "2     20200101  강북구   945218\n",
       "3     20200101  강서구  2191177\n",
       "4     20200101  관악구  1694584\n",
       "...        ...  ...      ...\n",
       "4195  20200616  용산구  2363994\n",
       "4196  20200616  은평구  1610731\n",
       "4197  20200616  종로구  1992243\n",
       "4198  20200616   중구  2253617\n",
       "4199  20200616  중랑구  1651099\n",
       "\n",
       "[4200 rows x 3 columns]"
      ]
     },
     "execution_count": 68,
     "metadata": {},
     "output_type": "execute_result"
    }
   ],
   "source": [
    "move_people = move_people.rename({'base_ymd':'년월일','tmzon_se_code':'시간대','sexdstn_se_code':'성별','agrde_se_code':'나이대','adstrd_code':'행정동코드','popltn_cascnt':'유동인구','adstrd_nm':'행정동','signgu_nm':'행정구'}, axis ='columns')\n",
    "\n",
    "grouped = move_people.groupby(by = ['년월일','행정구']).sum()['유동인구'].reset_index()\n",
    "\n",
    "grouped4merge = grouped\n",
    "\n",
    "grouped"
   ]
  },
  {
   "cell_type": "code",
   "execution_count": 69,
   "metadata": {
    "ExecuteTime": {
     "end_time": "2020-07-30T16:42:30.243621Z",
     "start_time": "2020-07-30T16:42:30.222653Z"
    },
    "scrolled": true
   },
   "outputs": [
    {
     "data": {
      "text/html": [
       "<div>\n",
       "<style scoped>\n",
       "    .dataframe tbody tr th:only-of-type {\n",
       "        vertical-align: middle;\n",
       "    }\n",
       "\n",
       "    .dataframe tbody tr th {\n",
       "        vertical-align: top;\n",
       "    }\n",
       "\n",
       "    .dataframe thead th {\n",
       "        text-align: right;\n",
       "    }\n",
       "</style>\n",
       "<table border=\"1\" class=\"dataframe\">\n",
       "  <thead>\n",
       "    <tr style=\"text-align: right;\">\n",
       "      <th></th>\n",
       "      <th>년월일</th>\n",
       "      <th>행정구</th>\n",
       "      <th>유동인구</th>\n",
       "      <th>주차</th>\n",
       "    </tr>\n",
       "  </thead>\n",
       "  <tbody>\n",
       "    <tr>\n",
       "      <th>0</th>\n",
       "      <td>20200101</td>\n",
       "      <td>강남구</td>\n",
       "      <td>3028808</td>\n",
       "      <td>1</td>\n",
       "    </tr>\n",
       "    <tr>\n",
       "      <th>1</th>\n",
       "      <td>20200101</td>\n",
       "      <td>강동구</td>\n",
       "      <td>2094980</td>\n",
       "      <td>1</td>\n",
       "    </tr>\n",
       "    <tr>\n",
       "      <th>2</th>\n",
       "      <td>20200101</td>\n",
       "      <td>강북구</td>\n",
       "      <td>945218</td>\n",
       "      <td>1</td>\n",
       "    </tr>\n",
       "    <tr>\n",
       "      <th>3</th>\n",
       "      <td>20200101</td>\n",
       "      <td>강서구</td>\n",
       "      <td>2191177</td>\n",
       "      <td>1</td>\n",
       "    </tr>\n",
       "    <tr>\n",
       "      <th>4</th>\n",
       "      <td>20200101</td>\n",
       "      <td>관악구</td>\n",
       "      <td>1694584</td>\n",
       "      <td>1</td>\n",
       "    </tr>\n",
       "    <tr>\n",
       "      <th>...</th>\n",
       "      <td>...</td>\n",
       "      <td>...</td>\n",
       "      <td>...</td>\n",
       "      <td>...</td>\n",
       "    </tr>\n",
       "    <tr>\n",
       "      <th>4195</th>\n",
       "      <td>20200616</td>\n",
       "      <td>용산구</td>\n",
       "      <td>2363994</td>\n",
       "      <td>25</td>\n",
       "    </tr>\n",
       "    <tr>\n",
       "      <th>4196</th>\n",
       "      <td>20200616</td>\n",
       "      <td>은평구</td>\n",
       "      <td>1610731</td>\n",
       "      <td>25</td>\n",
       "    </tr>\n",
       "    <tr>\n",
       "      <th>4197</th>\n",
       "      <td>20200616</td>\n",
       "      <td>종로구</td>\n",
       "      <td>1992243</td>\n",
       "      <td>25</td>\n",
       "    </tr>\n",
       "    <tr>\n",
       "      <th>4198</th>\n",
       "      <td>20200616</td>\n",
       "      <td>중구</td>\n",
       "      <td>2253617</td>\n",
       "      <td>25</td>\n",
       "    </tr>\n",
       "    <tr>\n",
       "      <th>4199</th>\n",
       "      <td>20200616</td>\n",
       "      <td>중랑구</td>\n",
       "      <td>1651099</td>\n",
       "      <td>25</td>\n",
       "    </tr>\n",
       "  </tbody>\n",
       "</table>\n",
       "<p>4200 rows × 4 columns</p>\n",
       "</div>"
      ],
      "text/plain": [
       "           년월일  행정구     유동인구  주차\n",
       "0     20200101  강남구  3028808   1\n",
       "1     20200101  강동구  2094980   1\n",
       "2     20200101  강북구   945218   1\n",
       "3     20200101  강서구  2191177   1\n",
       "4     20200101  관악구  1694584   1\n",
       "...        ...  ...      ...  ..\n",
       "4195  20200616  용산구  2363994  25\n",
       "4196  20200616  은평구  1610731  25\n",
       "4197  20200616  종로구  1992243  25\n",
       "4198  20200616   중구  2253617  25\n",
       "4199  20200616  중랑구  1651099  25\n",
       "\n",
       "[4200 rows x 4 columns]"
      ]
     },
     "execution_count": 69,
     "metadata": {},
     "output_type": "execute_result"
    }
   ],
   "source": [
    "grouped['주차'] = grouped['년월일']%20200000\n",
    "grouped\n",
    "\n",
    "grouped['월'] = round(grouped['주차']/100)\n",
    "grouped['일'] = grouped['주차']%100 + 30* (grouped['월']-1) +2\n",
    "\n",
    "grouped['주차'] = round(grouped['일']/7+1)\n",
    "del grouped['월']\n",
    "\n",
    "grouped = grouped.astype({'주차': 'int'})\n",
    "del grouped['일']\n",
    "grouped"
   ]
  },
  {
   "cell_type": "code",
   "execution_count": 70,
   "metadata": {
    "ExecuteTime": {
     "end_time": "2020-07-30T16:42:32.826717Z",
     "start_time": "2020-07-30T16:42:32.794774Z"
    },
    "scrolled": true
   },
   "outputs": [
    {
     "data": {
      "text/html": [
       "<div>\n",
       "<style scoped>\n",
       "    .dataframe tbody tr th:only-of-type {\n",
       "        vertical-align: middle;\n",
       "    }\n",
       "\n",
       "    .dataframe tbody tr th {\n",
       "        vertical-align: top;\n",
       "    }\n",
       "\n",
       "    .dataframe thead th {\n",
       "        text-align: right;\n",
       "    }\n",
       "</style>\n",
       "<table border=\"1\" class=\"dataframe\">\n",
       "  <thead>\n",
       "    <tr style=\"text-align: right;\">\n",
       "      <th></th>\n",
       "      <th>년월일</th>\n",
       "      <th>행정구</th>\n",
       "      <th>유동인구</th>\n",
       "      <th>주차</th>\n",
       "      <th>유동인구_표준화</th>\n",
       "      <th>유동인구_평균대비_증감률</th>\n",
       "      <th>유동인구_코로나전평균</th>\n",
       "    </tr>\n",
       "  </thead>\n",
       "  <tbody>\n",
       "    <tr>\n",
       "      <th>0</th>\n",
       "      <td>20200101</td>\n",
       "      <td>강남구</td>\n",
       "      <td>3028808</td>\n",
       "      <td>1</td>\n",
       "      <td>1.035484</td>\n",
       "      <td>43.302717</td>\n",
       "      <td>1132153.0</td>\n",
       "    </tr>\n",
       "    <tr>\n",
       "      <th>1</th>\n",
       "      <td>20200101</td>\n",
       "      <td>강동구</td>\n",
       "      <td>2094980</td>\n",
       "      <td>1</td>\n",
       "      <td>-0.021036</td>\n",
       "      <td>-0.879710</td>\n",
       "      <td>198325.0</td>\n",
       "    </tr>\n",
       "    <tr>\n",
       "      <th>2</th>\n",
       "      <td>20200101</td>\n",
       "      <td>강북구</td>\n",
       "      <td>945218</td>\n",
       "      <td>1</td>\n",
       "      <td>-1.321861</td>\n",
       "      <td>-55.278675</td>\n",
       "      <td>-951437.0</td>\n",
       "    </tr>\n",
       "    <tr>\n",
       "      <th>3</th>\n",
       "      <td>20200101</td>\n",
       "      <td>강서구</td>\n",
       "      <td>2191177</td>\n",
       "      <td>1</td>\n",
       "      <td>0.087800</td>\n",
       "      <td>3.671682</td>\n",
       "      <td>294522.0</td>\n",
       "    </tr>\n",
       "    <tr>\n",
       "      <th>4</th>\n",
       "      <td>20200101</td>\n",
       "      <td>관악구</td>\n",
       "      <td>1694584</td>\n",
       "      <td>1</td>\n",
       "      <td>-0.474039</td>\n",
       "      <td>-19.823742</td>\n",
       "      <td>-202071.0</td>\n",
       "    </tr>\n",
       "    <tr>\n",
       "      <th>...</th>\n",
       "      <td>...</td>\n",
       "      <td>...</td>\n",
       "      <td>...</td>\n",
       "      <td>...</td>\n",
       "      <td>...</td>\n",
       "      <td>...</td>\n",
       "      <td>...</td>\n",
       "    </tr>\n",
       "    <tr>\n",
       "      <th>4195</th>\n",
       "      <td>20200616</td>\n",
       "      <td>용산구</td>\n",
       "      <td>2363994</td>\n",
       "      <td>25</td>\n",
       "      <td>0.283322</td>\n",
       "      <td>11.848214</td>\n",
       "      <td>467339.0</td>\n",
       "    </tr>\n",
       "    <tr>\n",
       "      <th>4196</th>\n",
       "      <td>20200616</td>\n",
       "      <td>은평구</td>\n",
       "      <td>1610731</td>\n",
       "      <td>25</td>\n",
       "      <td>-0.568909</td>\n",
       "      <td>-23.791099</td>\n",
       "      <td>-285924.0</td>\n",
       "    </tr>\n",
       "    <tr>\n",
       "      <th>4197</th>\n",
       "      <td>20200616</td>\n",
       "      <td>종로구</td>\n",
       "      <td>1992243</td>\n",
       "      <td>25</td>\n",
       "      <td>-0.137271</td>\n",
       "      <td>-5.740530</td>\n",
       "      <td>95588.0</td>\n",
       "    </tr>\n",
       "    <tr>\n",
       "      <th>4198</th>\n",
       "      <td>20200616</td>\n",
       "      <td>중구</td>\n",
       "      <td>2253617</td>\n",
       "      <td>25</td>\n",
       "      <td>0.158443</td>\n",
       "      <td>6.625920</td>\n",
       "      <td>356962.0</td>\n",
       "    </tr>\n",
       "    <tr>\n",
       "      <th>4199</th>\n",
       "      <td>20200616</td>\n",
       "      <td>중랑구</td>\n",
       "      <td>1651099</td>\n",
       "      <td>25</td>\n",
       "      <td>-0.523237</td>\n",
       "      <td>-21.881158</td>\n",
       "      <td>-245556.0</td>\n",
       "    </tr>\n",
       "  </tbody>\n",
       "</table>\n",
       "<p>4200 rows × 7 columns</p>\n",
       "</div>"
      ],
      "text/plain": [
       "           년월일  행정구     유동인구  주차  유동인구_표준화  유동인구_평균대비_증감률  유동인구_코로나전평균\n",
       "0     20200101  강남구  3028808   1  1.035484      43.302717    1132153.0\n",
       "1     20200101  강동구  2094980   1 -0.021036      -0.879710     198325.0\n",
       "2     20200101  강북구   945218   1 -1.321861     -55.278675    -951437.0\n",
       "3     20200101  강서구  2191177   1  0.087800       3.671682     294522.0\n",
       "4     20200101  관악구  1694584   1 -0.474039     -19.823742    -202071.0\n",
       "...        ...  ...      ...  ..       ...            ...          ...\n",
       "4195  20200616  용산구  2363994  25  0.283322      11.848214     467339.0\n",
       "4196  20200616  은평구  1610731  25 -0.568909     -23.791099    -285924.0\n",
       "4197  20200616  종로구  1992243  25 -0.137271      -5.740530      95588.0\n",
       "4198  20200616   중구  2253617  25  0.158443       6.625920     356962.0\n",
       "4199  20200616  중랑구  1651099  25 -0.523237     -21.881158    -245556.0\n",
       "\n",
       "[4200 rows x 7 columns]"
      ]
     },
     "execution_count": 70,
     "metadata": {},
     "output_type": "execute_result"
    }
   ],
   "source": [
    "grouped['유동인구_표준화'] = scale(grouped['유동인구'])\n",
    "\n",
    "grouped_avg = grouped.mean()\n",
    "grouped['유동인구_평균대비_증감률'] = (grouped['유동인구']-grouped_avg[1])/grouped_avg[1]*100\n",
    "grouped['유동인구_코로나전평균'] = round(grouped['유동인구']-grouped.iloc[0:35]['유동인구'].mean())\n",
    "\n",
    "grouped_folium = grouped\n",
    "grouped\n"
   ]
  },
  {
   "cell_type": "code",
   "execution_count": 71,
   "metadata": {
    "ExecuteTime": {
     "end_time": "2020-07-30T16:43:14.090507Z",
     "start_time": "2020-07-30T16:43:14.073550Z"
    },
    "scrolled": true
   },
   "outputs": [
    {
     "data": {
      "text/html": [
       "<div>\n",
       "<style scoped>\n",
       "    .dataframe tbody tr th:only-of-type {\n",
       "        vertical-align: middle;\n",
       "    }\n",
       "\n",
       "    .dataframe tbody tr th {\n",
       "        vertical-align: top;\n",
       "    }\n",
       "\n",
       "    .dataframe thead th {\n",
       "        text-align: right;\n",
       "    }\n",
       "</style>\n",
       "<table border=\"1\" class=\"dataframe\">\n",
       "  <thead>\n",
       "    <tr style=\"text-align: right;\">\n",
       "      <th></th>\n",
       "      <th>년월일</th>\n",
       "      <th>유동인구</th>\n",
       "      <th>일자</th>\n",
       "      <th>주차</th>\n",
       "    </tr>\n",
       "  </thead>\n",
       "  <tbody>\n",
       "    <tr>\n",
       "      <th>0</th>\n",
       "      <td>20200101</td>\n",
       "      <td>45208028</td>\n",
       "      <td>1</td>\n",
       "      <td>1</td>\n",
       "    </tr>\n",
       "    <tr>\n",
       "      <th>1</th>\n",
       "      <td>20200102</td>\n",
       "      <td>55749874</td>\n",
       "      <td>2</td>\n",
       "      <td>1</td>\n",
       "    </tr>\n",
       "    <tr>\n",
       "      <th>2</th>\n",
       "      <td>20200103</td>\n",
       "      <td>59151121</td>\n",
       "      <td>3</td>\n",
       "      <td>1</td>\n",
       "    </tr>\n",
       "    <tr>\n",
       "      <th>3</th>\n",
       "      <td>20200104</td>\n",
       "      <td>54474173</td>\n",
       "      <td>4</td>\n",
       "      <td>1</td>\n",
       "    </tr>\n",
       "    <tr>\n",
       "      <th>4</th>\n",
       "      <td>20200105</td>\n",
       "      <td>46903976</td>\n",
       "      <td>5</td>\n",
       "      <td>1</td>\n",
       "    </tr>\n",
       "    <tr>\n",
       "      <th>...</th>\n",
       "      <td>...</td>\n",
       "      <td>...</td>\n",
       "      <td>...</td>\n",
       "      <td>...</td>\n",
       "    </tr>\n",
       "    <tr>\n",
       "      <th>163</th>\n",
       "      <td>20200612</td>\n",
       "      <td>60942009</td>\n",
       "      <td>164</td>\n",
       "      <td>24</td>\n",
       "    </tr>\n",
       "    <tr>\n",
       "      <th>164</th>\n",
       "      <td>20200613</td>\n",
       "      <td>54872785</td>\n",
       "      <td>165</td>\n",
       "      <td>24</td>\n",
       "    </tr>\n",
       "    <tr>\n",
       "      <th>165</th>\n",
       "      <td>20200614</td>\n",
       "      <td>46161661</td>\n",
       "      <td>166</td>\n",
       "      <td>24</td>\n",
       "    </tr>\n",
       "    <tr>\n",
       "      <th>166</th>\n",
       "      <td>20200615</td>\n",
       "      <td>58717583</td>\n",
       "      <td>167</td>\n",
       "      <td>24</td>\n",
       "    </tr>\n",
       "    <tr>\n",
       "      <th>167</th>\n",
       "      <td>20200616</td>\n",
       "      <td>58826353</td>\n",
       "      <td>168</td>\n",
       "      <td>25</td>\n",
       "    </tr>\n",
       "  </tbody>\n",
       "</table>\n",
       "<p>168 rows × 4 columns</p>\n",
       "</div>"
      ],
      "text/plain": [
       "          년월일      유동인구   일자  주차\n",
       "0    20200101  45208028    1   1\n",
       "1    20200102  55749874    2   1\n",
       "2    20200103  59151121    3   1\n",
       "3    20200104  54474173    4   1\n",
       "4    20200105  46903976    5   1\n",
       "..        ...       ...  ...  ..\n",
       "163  20200612  60942009  164  24\n",
       "164  20200613  54872785  165  24\n",
       "165  20200614  46161661  166  24\n",
       "166  20200615  58717583  167  24\n",
       "167  20200616  58826353  168  25\n",
       "\n",
       "[168 rows x 4 columns]"
      ]
     },
     "execution_count": 71,
     "metadata": {},
     "output_type": "execute_result"
    }
   ],
   "source": [
    "temp1 = grouped.copy()\n",
    "del temp1['행정구']\n",
    "temp1 = temp1.groupby(by = ['년월일']).sum()['유동인구'].reset_index()\n",
    "temp1['일자'] = temp1.index+1\n",
    "temp1['주차'] = temp1['일자']/7+1\n",
    "temp1 = temp1.astype({'주차': 'int'})\n",
    "temp1"
   ]
  },
  {
   "cell_type": "markdown",
   "metadata": {},
   "source": [
    "#### 2개의 데이터프레임 합치기"
   ]
  },
  {
   "cell_type": "code",
   "execution_count": 57,
   "metadata": {
    "ExecuteTime": {
     "end_time": "2020-07-30T16:38:41.799367Z",
     "start_time": "2020-07-30T16:38:41.777401Z"
    },
    "hide_input": false,
    "scrolled": true
   },
   "outputs": [
    {
     "data": {
      "text/html": [
       "<div>\n",
       "<style scoped>\n",
       "    .dataframe tbody tr th:only-of-type {\n",
       "        vertical-align: middle;\n",
       "    }\n",
       "\n",
       "    .dataframe tbody tr th {\n",
       "        vertical-align: top;\n",
       "    }\n",
       "\n",
       "    .dataframe thead th {\n",
       "        text-align: right;\n",
       "    }\n",
       "</style>\n",
       "<table border=\"1\" class=\"dataframe\">\n",
       "  <thead>\n",
       "    <tr style=\"text-align: right;\">\n",
       "      <th></th>\n",
       "      <th>년월일_x</th>\n",
       "      <th>유동인구_x</th>\n",
       "      <th>주차</th>\n",
       "      <th>유동인구_표준화</th>\n",
       "      <th>유동인구_평균대비_증감률</th>\n",
       "      <th>유동인구_코로나전평균</th>\n",
       "      <th>년월일_y</th>\n",
       "      <th>유동인구_y</th>\n",
       "      <th>일자</th>\n",
       "    </tr>\n",
       "  </thead>\n",
       "  <tbody>\n",
       "    <tr>\n",
       "      <th>0</th>\n",
       "      <td>20200101</td>\n",
       "      <td>3028808</td>\n",
       "      <td>1</td>\n",
       "      <td>1.035484</td>\n",
       "      <td>43.302717</td>\n",
       "      <td>1132153.0</td>\n",
       "      <td>20200101</td>\n",
       "      <td>45208028</td>\n",
       "      <td>1</td>\n",
       "    </tr>\n",
       "    <tr>\n",
       "      <th>1</th>\n",
       "      <td>20200101</td>\n",
       "      <td>3028808</td>\n",
       "      <td>1</td>\n",
       "      <td>1.035484</td>\n",
       "      <td>43.302717</td>\n",
       "      <td>1132153.0</td>\n",
       "      <td>20200102</td>\n",
       "      <td>55749874</td>\n",
       "      <td>2</td>\n",
       "    </tr>\n",
       "    <tr>\n",
       "      <th>2</th>\n",
       "      <td>20200101</td>\n",
       "      <td>3028808</td>\n",
       "      <td>1</td>\n",
       "      <td>1.035484</td>\n",
       "      <td>43.302717</td>\n",
       "      <td>1132153.0</td>\n",
       "      <td>20200103</td>\n",
       "      <td>59151121</td>\n",
       "      <td>3</td>\n",
       "    </tr>\n",
       "    <tr>\n",
       "      <th>3</th>\n",
       "      <td>20200101</td>\n",
       "      <td>3028808</td>\n",
       "      <td>1</td>\n",
       "      <td>1.035484</td>\n",
       "      <td>43.302717</td>\n",
       "      <td>1132153.0</td>\n",
       "      <td>20200104</td>\n",
       "      <td>54474173</td>\n",
       "      <td>4</td>\n",
       "    </tr>\n",
       "    <tr>\n",
       "      <th>4</th>\n",
       "      <td>20200101</td>\n",
       "      <td>3028808</td>\n",
       "      <td>1</td>\n",
       "      <td>1.035484</td>\n",
       "      <td>43.302717</td>\n",
       "      <td>1132153.0</td>\n",
       "      <td>20200105</td>\n",
       "      <td>46903976</td>\n",
       "      <td>5</td>\n",
       "    </tr>\n",
       "    <tr>\n",
       "      <th>...</th>\n",
       "      <td>...</td>\n",
       "      <td>...</td>\n",
       "      <td>...</td>\n",
       "      <td>...</td>\n",
       "      <td>...</td>\n",
       "      <td>...</td>\n",
       "      <td>...</td>\n",
       "      <td>...</td>\n",
       "      <td>...</td>\n",
       "    </tr>\n",
       "    <tr>\n",
       "      <th>28770</th>\n",
       "      <td>20200616</td>\n",
       "      <td>2363994</td>\n",
       "      <td>25</td>\n",
       "      <td>0.283322</td>\n",
       "      <td>11.848214</td>\n",
       "      <td>467339.0</td>\n",
       "      <td>20200616</td>\n",
       "      <td>58826353</td>\n",
       "      <td>168</td>\n",
       "    </tr>\n",
       "    <tr>\n",
       "      <th>28771</th>\n",
       "      <td>20200616</td>\n",
       "      <td>1610731</td>\n",
       "      <td>25</td>\n",
       "      <td>-0.568909</td>\n",
       "      <td>-23.791099</td>\n",
       "      <td>-285924.0</td>\n",
       "      <td>20200616</td>\n",
       "      <td>58826353</td>\n",
       "      <td>168</td>\n",
       "    </tr>\n",
       "    <tr>\n",
       "      <th>28772</th>\n",
       "      <td>20200616</td>\n",
       "      <td>1992243</td>\n",
       "      <td>25</td>\n",
       "      <td>-0.137271</td>\n",
       "      <td>-5.740530</td>\n",
       "      <td>95588.0</td>\n",
       "      <td>20200616</td>\n",
       "      <td>58826353</td>\n",
       "      <td>168</td>\n",
       "    </tr>\n",
       "    <tr>\n",
       "      <th>28773</th>\n",
       "      <td>20200616</td>\n",
       "      <td>2253617</td>\n",
       "      <td>25</td>\n",
       "      <td>0.158443</td>\n",
       "      <td>6.625920</td>\n",
       "      <td>356962.0</td>\n",
       "      <td>20200616</td>\n",
       "      <td>58826353</td>\n",
       "      <td>168</td>\n",
       "    </tr>\n",
       "    <tr>\n",
       "      <th>28774</th>\n",
       "      <td>20200616</td>\n",
       "      <td>1651099</td>\n",
       "      <td>25</td>\n",
       "      <td>-0.523237</td>\n",
       "      <td>-21.881158</td>\n",
       "      <td>-245556.0</td>\n",
       "      <td>20200616</td>\n",
       "      <td>58826353</td>\n",
       "      <td>168</td>\n",
       "    </tr>\n",
       "  </tbody>\n",
       "</table>\n",
       "<p>28775 rows × 9 columns</p>\n",
       "</div>"
      ],
      "text/plain": [
       "          년월일_x   유동인구_x  주차  유동인구_표준화  유동인구_평균대비_증감률  유동인구_코로나전평균     년월일_y  \\\n",
       "0      20200101  3028808   1  1.035484      43.302717    1132153.0  20200101   \n",
       "1      20200101  3028808   1  1.035484      43.302717    1132153.0  20200102   \n",
       "2      20200101  3028808   1  1.035484      43.302717    1132153.0  20200103   \n",
       "3      20200101  3028808   1  1.035484      43.302717    1132153.0  20200104   \n",
       "4      20200101  3028808   1  1.035484      43.302717    1132153.0  20200105   \n",
       "...         ...      ...  ..       ...            ...          ...       ...   \n",
       "28770  20200616  2363994  25  0.283322      11.848214     467339.0  20200616   \n",
       "28771  20200616  1610731  25 -0.568909     -23.791099    -285924.0  20200616   \n",
       "28772  20200616  1992243  25 -0.137271      -5.740530      95588.0  20200616   \n",
       "28773  20200616  2253617  25  0.158443       6.625920     356962.0  20200616   \n",
       "28774  20200616  1651099  25 -0.523237     -21.881158    -245556.0  20200616   \n",
       "\n",
       "         유동인구_y   일자  \n",
       "0      45208028    1  \n",
       "1      55749874    2  \n",
       "2      59151121    3  \n",
       "3      54474173    4  \n",
       "4      46903976    5  \n",
       "...         ...  ...  \n",
       "28770  58826353  168  \n",
       "28771  58826353  168  \n",
       "28772  58826353  168  \n",
       "28773  58826353  168  \n",
       "28774  58826353  168  \n",
       "\n",
       "[28775 rows x 9 columns]"
      ]
     },
     "execution_count": 57,
     "metadata": {},
     "output_type": "execute_result"
    }
   ],
   "source": [
    "final_df = pd.merge(grouped,temp1,on=\"주차\",how=\"left\")\n",
    "final_df"
   ]
  },
  {
   "cell_type": "code",
   "execution_count": 96,
   "metadata": {
    "ExecuteTime": {
     "end_time": "2020-07-30T17:16:30.810296Z",
     "start_time": "2020-07-30T17:16:30.794321Z"
    },
    "scrolled": true
   },
   "outputs": [
    {
     "data": {
      "text/html": [
       "<div>\n",
       "<style scoped>\n",
       "    .dataframe tbody tr th:only-of-type {\n",
       "        vertical-align: middle;\n",
       "    }\n",
       "\n",
       "    .dataframe tbody tr th {\n",
       "        vertical-align: top;\n",
       "    }\n",
       "\n",
       "    .dataframe thead th {\n",
       "        text-align: right;\n",
       "    }\n",
       "</style>\n",
       "<table border=\"1\" class=\"dataframe\">\n",
       "  <thead>\n",
       "    <tr style=\"text-align: right;\">\n",
       "      <th></th>\n",
       "      <th>index</th>\n",
       "      <th>date</th>\n",
       "      <th>확진자수</th>\n",
       "      <th>일일확진자</th>\n",
       "      <th>주차</th>\n",
       "      <th>년월일</th>\n",
       "      <th>유동인구</th>\n",
       "      <th>일자</th>\n",
       "    </tr>\n",
       "  </thead>\n",
       "  <tbody>\n",
       "    <tr>\n",
       "      <th>0</th>\n",
       "      <td>0</td>\n",
       "      <td>2020-01-20</td>\n",
       "      <td>0</td>\n",
       "      <td>0</td>\n",
       "      <td>3</td>\n",
       "      <td>20200114.0</td>\n",
       "      <td>58687051.0</td>\n",
       "      <td>14.0</td>\n",
       "    </tr>\n",
       "    <tr>\n",
       "      <th>1</th>\n",
       "      <td>0</td>\n",
       "      <td>2020-01-20</td>\n",
       "      <td>0</td>\n",
       "      <td>0</td>\n",
       "      <td>3</td>\n",
       "      <td>20200115.0</td>\n",
       "      <td>59028326.0</td>\n",
       "      <td>15.0</td>\n",
       "    </tr>\n",
       "    <tr>\n",
       "      <th>2</th>\n",
       "      <td>0</td>\n",
       "      <td>2020-01-20</td>\n",
       "      <td>0</td>\n",
       "      <td>0</td>\n",
       "      <td>3</td>\n",
       "      <td>20200116.0</td>\n",
       "      <td>59301598.0</td>\n",
       "      <td>16.0</td>\n",
       "    </tr>\n",
       "    <tr>\n",
       "      <th>3</th>\n",
       "      <td>0</td>\n",
       "      <td>2020-01-20</td>\n",
       "      <td>0</td>\n",
       "      <td>0</td>\n",
       "      <td>3</td>\n",
       "      <td>20200117.0</td>\n",
       "      <td>61384697.0</td>\n",
       "      <td>17.0</td>\n",
       "    </tr>\n",
       "    <tr>\n",
       "      <th>4</th>\n",
       "      <td>0</td>\n",
       "      <td>2020-01-20</td>\n",
       "      <td>0</td>\n",
       "      <td>0</td>\n",
       "      <td>3</td>\n",
       "      <td>20200118.0</td>\n",
       "      <td>57223784.0</td>\n",
       "      <td>18.0</td>\n",
       "    </tr>\n",
       "    <tr>\n",
       "      <th>...</th>\n",
       "      <td>...</td>\n",
       "      <td>...</td>\n",
       "      <td>...</td>\n",
       "      <td>...</td>\n",
       "      <td>...</td>\n",
       "      <td>...</td>\n",
       "      <td>...</td>\n",
       "      <td>...</td>\n",
       "    </tr>\n",
       "    <tr>\n",
       "      <th>1046</th>\n",
       "      <td>2686</td>\n",
       "      <td>2020-06-26</td>\n",
       "      <td>1267</td>\n",
       "      <td>17</td>\n",
       "      <td>26</td>\n",
       "      <td>NaN</td>\n",
       "      <td>NaN</td>\n",
       "      <td>NaN</td>\n",
       "    </tr>\n",
       "    <tr>\n",
       "      <th>1047</th>\n",
       "      <td>2703</td>\n",
       "      <td>2020-06-27</td>\n",
       "      <td>1284</td>\n",
       "      <td>17</td>\n",
       "      <td>26</td>\n",
       "      <td>NaN</td>\n",
       "      <td>NaN</td>\n",
       "      <td>NaN</td>\n",
       "    </tr>\n",
       "    <tr>\n",
       "      <th>1048</th>\n",
       "      <td>2720</td>\n",
       "      <td>2020-06-28</td>\n",
       "      <td>1298</td>\n",
       "      <td>14</td>\n",
       "      <td>26</td>\n",
       "      <td>NaN</td>\n",
       "      <td>NaN</td>\n",
       "      <td>NaN</td>\n",
       "    </tr>\n",
       "    <tr>\n",
       "      <th>1049</th>\n",
       "      <td>2737</td>\n",
       "      <td>2020-06-29</td>\n",
       "      <td>1305</td>\n",
       "      <td>7</td>\n",
       "      <td>26</td>\n",
       "      <td>NaN</td>\n",
       "      <td>NaN</td>\n",
       "      <td>NaN</td>\n",
       "    </tr>\n",
       "    <tr>\n",
       "      <th>1050</th>\n",
       "      <td>2754</td>\n",
       "      <td>2020-06-30</td>\n",
       "      <td>1312</td>\n",
       "      <td>7</td>\n",
       "      <td>27</td>\n",
       "      <td>NaN</td>\n",
       "      <td>NaN</td>\n",
       "      <td>NaN</td>\n",
       "    </tr>\n",
       "  </tbody>\n",
       "</table>\n",
       "<p>1051 rows × 8 columns</p>\n",
       "</div>"
      ],
      "text/plain": [
       "      index        date  확진자수  일일확진자  주차         년월일        유동인구    일자\n",
       "0         0  2020-01-20     0      0   3  20200114.0  58687051.0  14.0\n",
       "1         0  2020-01-20     0      0   3  20200115.0  59028326.0  15.0\n",
       "2         0  2020-01-20     0      0   3  20200116.0  59301598.0  16.0\n",
       "3         0  2020-01-20     0      0   3  20200117.0  61384697.0  17.0\n",
       "4         0  2020-01-20     0      0   3  20200118.0  57223784.0  18.0\n",
       "...     ...         ...   ...    ...  ..         ...         ...   ...\n",
       "1046   2686  2020-06-26  1267     17  26         NaN         NaN   NaN\n",
       "1047   2703  2020-06-27  1284     17  26         NaN         NaN   NaN\n",
       "1048   2720  2020-06-28  1298     14  26         NaN         NaN   NaN\n",
       "1049   2737  2020-06-29  1305      7  26         NaN         NaN   NaN\n",
       "1050   2754  2020-06-30  1312      7  27         NaN         NaN   NaN\n",
       "\n",
       "[1051 rows x 8 columns]"
      ]
     },
     "execution_count": 96,
     "metadata": {},
     "output_type": "execute_result"
    }
   ],
   "source": [
    "covidfpopl_df=pd.merge(grouped1, temp, on =\"주차\", how=\"left\")\n",
    "covidfpopl_df"
   ]
  },
  {
   "cell_type": "markdown",
   "metadata": {},
   "source": [
    "#### 카드데이터 전처리"
   ]
  },
  {
   "cell_type": "code",
   "execution_count": 108,
   "metadata": {
    "ExecuteTime": {
     "end_time": "2020-07-30T17:48:03.622667Z",
     "start_time": "2020-07-30T17:47:56.604464Z"
    },
    "code_folding": []
   },
   "outputs": [],
   "source": [
    "# 칼럼명 변경\n",
    "card.columns=['카드사용접수일', '행정동코드', '가맹점행정동명', '가맹점업종코드', '가맹점업종명',\n",
    "              '매출발생건수', '매출발생금액']\n",
    "\n",
    "# 숫자 데이터를 string type에서 int64로 변경\n",
    "card.매출발생건수=card.매출발생건수.astype('int64')\n",
    "card.매출발생금액=card.매출발생금액.astype('int64')\n",
    "\n",
    "# 날짜 데이터를 string type에서 date type으로 변경\n",
    "card.카드사용접수일 = pd.to_datetime(card.카드사용접수일, format=\"%Y%m%d\")\n",
    "\n",
    "# BC카드 업종 코드 분류에 따른 대분류를 위해 업종코드를 앞에 한자리만 추출\n",
    "# slicing을 위해 string type으로 변경\n",
    "card.가맹점업종코드=card.가맹점업종코드.astype(str)\n",
    "card['가맹점업종코드앞자리']=card.가맹점업종코드.str.slice(start=0,stop=1)\n",
    "\n",
    "# 행정동코드를 다른 데이터와 같게 자릿수를 맞춰줌\n",
    "card.행정동코드=card.행정동코드.astype(str)\n",
    "card.행정동코드=card.행정동코드.str.slice(start=0,stop=8)\n",
    "card.행정동코드=card.행정동코드.astype('int64')\n",
    "\n",
    "# 가맹점 업종 코드를 앞에 2자리만 남기게 slicing\n",
    "card['가맹점업종코드두자리']=card.가맹점업종코드.str.slice(start=0, stop=2)"
   ]
  },
  {
   "cell_type": "code",
   "execution_count": 110,
   "metadata": {
    "ExecuteTime": {
     "end_time": "2020-07-30T17:48:19.562684Z",
     "start_time": "2020-07-30T17:48:19.559691Z"
    }
   },
   "outputs": [],
   "source": [
    "# 가맹점 업종 대분류\n",
    "# 가맹점 업종 코드 앞자리에 따라 분류\n",
    "# card_s={1:'관광',2:'취미',3:'생활',4:'쇼핑',5:'교육',6:'차량',7:'의료',8:'음식',9:'기타'}"
   ]
  },
  {
   "cell_type": "code",
   "execution_count": 111,
   "metadata": {
    "ExecuteTime": {
     "end_time": "2020-07-30T17:48:59.663441Z",
     "start_time": "2020-07-30T17:48:37.159648Z"
    }
   },
   "outputs": [],
   "source": [
    "# 카드 사용 접수일을 월만 남기도록 slicing\n",
    "card.카드사용접수일=card.카드사용접수일.astype(str)\n",
    "card.카드사용접수일=card.카드사용접수일.str.slice(start=5,stop=7)"
   ]
  },
  {
   "cell_type": "code",
   "execution_count": 109,
   "metadata": {
    "ExecuteTime": {
     "end_time": "2020-07-30T17:48:06.345031Z",
     "start_time": "2020-07-30T17:48:06.334061Z"
    },
    "scrolled": false
   },
   "outputs": [
    {
     "data": {
      "text/html": [
       "<div>\n",
       "<style scoped>\n",
       "    .dataframe tbody tr th:only-of-type {\n",
       "        vertical-align: middle;\n",
       "    }\n",
       "\n",
       "    .dataframe tbody tr th {\n",
       "        vertical-align: top;\n",
       "    }\n",
       "\n",
       "    .dataframe thead th {\n",
       "        text-align: right;\n",
       "    }\n",
       "</style>\n",
       "<table border=\"1\" class=\"dataframe\">\n",
       "  <thead>\n",
       "    <tr style=\"text-align: right;\">\n",
       "      <th></th>\n",
       "      <th>카드사용접수일</th>\n",
       "      <th>행정동코드</th>\n",
       "      <th>가맹점행정동명</th>\n",
       "      <th>가맹점업종코드</th>\n",
       "      <th>가맹점업종명</th>\n",
       "      <th>매출발생건수</th>\n",
       "      <th>매출발생금액</th>\n",
       "      <th>가맹점업종코드앞자리</th>\n",
       "      <th>가맹점업종코드두자리</th>\n",
       "    </tr>\n",
       "  </thead>\n",
       "  <tbody>\n",
       "    <tr>\n",
       "      <th>0</th>\n",
       "      <td>2020-01-04</td>\n",
       "      <td>11740660</td>\n",
       "      <td>성내3동</td>\n",
       "      <td>7041</td>\n",
       "      <td>약국</td>\n",
       "      <td>463</td>\n",
       "      <td>5843230</td>\n",
       "      <td>7</td>\n",
       "      <td>70</td>\n",
       "    </tr>\n",
       "    <tr>\n",
       "      <th>1</th>\n",
       "      <td>2020-01-04</td>\n",
       "      <td>11740660</td>\n",
       "      <td>성내3동</td>\n",
       "      <td>7022</td>\n",
       "      <td>치과의원</td>\n",
       "      <td>33</td>\n",
       "      <td>7835550</td>\n",
       "      <td>7</td>\n",
       "      <td>70</td>\n",
       "    </tr>\n",
       "    <tr>\n",
       "      <th>2</th>\n",
       "      <td>2020-01-04</td>\n",
       "      <td>11740660</td>\n",
       "      <td>성내3동</td>\n",
       "      <td>7021</td>\n",
       "      <td>한의원</td>\n",
       "      <td>53</td>\n",
       "      <td>4589800</td>\n",
       "      <td>7</td>\n",
       "      <td>70</td>\n",
       "    </tr>\n",
       "    <tr>\n",
       "      <th>3</th>\n",
       "      <td>2020-01-04</td>\n",
       "      <td>11740660</td>\n",
       "      <td>성내3동</td>\n",
       "      <td>7020</td>\n",
       "      <td>의원</td>\n",
       "      <td>339</td>\n",
       "      <td>9267240</td>\n",
       "      <td>7</td>\n",
       "      <td>70</td>\n",
       "    </tr>\n",
       "    <tr>\n",
       "      <th>4</th>\n",
       "      <td>2020-01-04</td>\n",
       "      <td>11740660</td>\n",
       "      <td>성내3동</td>\n",
       "      <td>6110</td>\n",
       "      <td>자동차정비</td>\n",
       "      <td>19</td>\n",
       "      <td>4441000</td>\n",
       "      <td>6</td>\n",
       "      <td>61</td>\n",
       "    </tr>\n",
       "  </tbody>\n",
       "</table>\n",
       "</div>"
      ],
      "text/plain": [
       "     카드사용접수일     행정동코드 가맹점행정동명 가맹점업종코드 가맹점업종명  매출발생건수   매출발생금액 가맹점업종코드앞자리  \\\n",
       "0 2020-01-04  11740660    성내3동    7041     약국     463  5843230          7   \n",
       "1 2020-01-04  11740660    성내3동    7022   치과의원      33  7835550          7   \n",
       "2 2020-01-04  11740660    성내3동    7021    한의원      53  4589800          7   \n",
       "3 2020-01-04  11740660    성내3동    7020     의원     339  9267240          7   \n",
       "4 2020-01-04  11740660    성내3동    6110  자동차정비      19  4441000          6   \n",
       "\n",
       "  가맹점업종코드두자리  \n",
       "0         70  \n",
       "1         70  \n",
       "2         70  \n",
       "3         70  \n",
       "4         61  "
      ]
     },
     "execution_count": 109,
     "metadata": {},
     "output_type": "execute_result"
    }
   ],
   "source": [
    "card.head()"
   ]
  },
  {
   "cell_type": "markdown",
   "metadata": {
    "ExecuteTime": {
     "end_time": "2020-07-30T17:50:33.515480Z",
     "start_time": "2020-07-30T17:50:33.512461Z"
    }
   },
   "source": [
    "#### 행정동 데이터와 카드 데이터 병합"
   ]
  },
  {
   "cell_type": "code",
   "execution_count": 114,
   "metadata": {
    "ExecuteTime": {
     "end_time": "2020-07-30T17:52:32.080875Z",
     "start_time": "2020-07-30T17:52:32.076858Z"
    }
   },
   "outputs": [],
   "source": [
    "adstrd = df2.copy()"
   ]
  },
  {
   "cell_type": "code",
   "execution_count": 115,
   "metadata": {
    "ExecuteTime": {
     "end_time": "2020-07-30T17:52:33.178939Z",
     "start_time": "2020-07-30T17:52:33.175949Z"
    }
   },
   "outputs": [],
   "source": [
    "adstrd.columns=['행정동코드','동','시','구']"
   ]
  },
  {
   "cell_type": "code",
   "execution_count": 116,
   "metadata": {
    "ExecuteTime": {
     "end_time": "2020-07-30T17:52:38.065842Z",
     "start_time": "2020-07-30T17:52:38.059858Z"
    }
   },
   "outputs": [],
   "source": [
    "# float 타입인 행정동코드를 int타입으로 변경\n",
    "adstrd.행정동코드=adstrd.행정동코드.astype('int64')\n",
    "\n",
    "# 서울시 데이터만 뽑아서 데이터 프레임으로 생성\n",
    "adstrd_seoul=adstrd.loc[adstrd.시==\"서울특별시\"]\n",
    "adstrd_seoul.columns=['행정동코드','행정동명','시','구']"
   ]
  },
  {
   "cell_type": "code",
   "execution_count": 117,
   "metadata": {
    "ExecuteTime": {
     "end_time": "2020-07-30T17:52:44.705087Z",
     "start_time": "2020-07-30T17:52:44.695113Z"
    }
   },
   "outputs": [
    {
     "data": {
      "text/html": [
       "<div>\n",
       "<style scoped>\n",
       "    .dataframe tbody tr th:only-of-type {\n",
       "        vertical-align: middle;\n",
       "    }\n",
       "\n",
       "    .dataframe tbody tr th {\n",
       "        vertical-align: top;\n",
       "    }\n",
       "\n",
       "    .dataframe thead th {\n",
       "        text-align: right;\n",
       "    }\n",
       "</style>\n",
       "<table border=\"1\" class=\"dataframe\">\n",
       "  <thead>\n",
       "    <tr style=\"text-align: right;\">\n",
       "      <th></th>\n",
       "      <th>행정동코드</th>\n",
       "      <th>행정동명</th>\n",
       "      <th>시</th>\n",
       "      <th>구</th>\n",
       "    </tr>\n",
       "  </thead>\n",
       "  <tbody>\n",
       "    <tr>\n",
       "      <th>0</th>\n",
       "      <td>11110515</td>\n",
       "      <td>청운효자동</td>\n",
       "      <td>서울특별시</td>\n",
       "      <td>종로구</td>\n",
       "    </tr>\n",
       "    <tr>\n",
       "      <th>1</th>\n",
       "      <td>11110530</td>\n",
       "      <td>사직동</td>\n",
       "      <td>서울특별시</td>\n",
       "      <td>종로구</td>\n",
       "    </tr>\n",
       "    <tr>\n",
       "      <th>2</th>\n",
       "      <td>11110540</td>\n",
       "      <td>삼청동</td>\n",
       "      <td>서울특별시</td>\n",
       "      <td>종로구</td>\n",
       "    </tr>\n",
       "    <tr>\n",
       "      <th>3</th>\n",
       "      <td>11110550</td>\n",
       "      <td>부암동</td>\n",
       "      <td>서울특별시</td>\n",
       "      <td>종로구</td>\n",
       "    </tr>\n",
       "    <tr>\n",
       "      <th>4</th>\n",
       "      <td>11110560</td>\n",
       "      <td>평창동</td>\n",
       "      <td>서울특별시</td>\n",
       "      <td>종로구</td>\n",
       "    </tr>\n",
       "    <tr>\n",
       "      <th>...</th>\n",
       "      <td>...</td>\n",
       "      <td>...</td>\n",
       "      <td>...</td>\n",
       "      <td>...</td>\n",
       "    </tr>\n",
       "    <tr>\n",
       "      <th>420</th>\n",
       "      <td>11740650</td>\n",
       "      <td>성내2동</td>\n",
       "      <td>서울특별시</td>\n",
       "      <td>강동구</td>\n",
       "    </tr>\n",
       "    <tr>\n",
       "      <th>421</th>\n",
       "      <td>11740660</td>\n",
       "      <td>성내3동</td>\n",
       "      <td>서울특별시</td>\n",
       "      <td>강동구</td>\n",
       "    </tr>\n",
       "    <tr>\n",
       "      <th>422</th>\n",
       "      <td>11740685</td>\n",
       "      <td>길동</td>\n",
       "      <td>서울특별시</td>\n",
       "      <td>강동구</td>\n",
       "    </tr>\n",
       "    <tr>\n",
       "      <th>423</th>\n",
       "      <td>11740690</td>\n",
       "      <td>둔촌1동</td>\n",
       "      <td>서울특별시</td>\n",
       "      <td>강동구</td>\n",
       "    </tr>\n",
       "    <tr>\n",
       "      <th>424</th>\n",
       "      <td>11740700</td>\n",
       "      <td>둔촌2동</td>\n",
       "      <td>서울특별시</td>\n",
       "      <td>강동구</td>\n",
       "    </tr>\n",
       "  </tbody>\n",
       "</table>\n",
       "<p>425 rows × 4 columns</p>\n",
       "</div>"
      ],
      "text/plain": [
       "        행정동코드   행정동명      시    구\n",
       "0    11110515  청운효자동  서울특별시  종로구\n",
       "1    11110530    사직동  서울특별시  종로구\n",
       "2    11110540    삼청동  서울특별시  종로구\n",
       "3    11110550    부암동  서울특별시  종로구\n",
       "4    11110560    평창동  서울특별시  종로구\n",
       "..        ...    ...    ...  ...\n",
       "420  11740650   성내2동  서울특별시  강동구\n",
       "421  11740660   성내3동  서울특별시  강동구\n",
       "422  11740685     길동  서울특별시  강동구\n",
       "423  11740690   둔촌1동  서울특별시  강동구\n",
       "424  11740700   둔촌2동  서울특별시  강동구\n",
       "\n",
       "[425 rows x 4 columns]"
      ]
     },
     "execution_count": 117,
     "metadata": {},
     "output_type": "execute_result"
    }
   ],
   "source": [
    "adstrd_seoul"
   ]
  },
  {
   "cell_type": "code",
   "execution_count": 118,
   "metadata": {
    "ExecuteTime": {
     "end_time": "2020-07-30T17:52:58.311699Z",
     "start_time": "2020-07-30T17:52:50.904508Z"
    }
   },
   "outputs": [],
   "source": [
    "# 카드 데이터와 행정동 데이터를 행정동코드 기준으로 병합\n",
    "\n",
    "card_gu=pd.merge(adstrd_seoul, card, on='행정동코드', how='outer')"
   ]
  },
  {
   "cell_type": "code",
   "execution_count": 119,
   "metadata": {
    "ExecuteTime": {
     "end_time": "2020-07-30T17:52:58.415444Z",
     "start_time": "2020-07-30T17:52:58.395479Z"
    }
   },
   "outputs": [
    {
     "data": {
      "text/html": [
       "<div>\n",
       "<style scoped>\n",
       "    .dataframe tbody tr th:only-of-type {\n",
       "        vertical-align: middle;\n",
       "    }\n",
       "\n",
       "    .dataframe tbody tr th {\n",
       "        vertical-align: top;\n",
       "    }\n",
       "\n",
       "    .dataframe thead th {\n",
       "        text-align: right;\n",
       "    }\n",
       "</style>\n",
       "<table border=\"1\" class=\"dataframe\">\n",
       "  <thead>\n",
       "    <tr style=\"text-align: right;\">\n",
       "      <th></th>\n",
       "      <th>행정동코드</th>\n",
       "      <th>행정동명</th>\n",
       "      <th>시</th>\n",
       "      <th>구</th>\n",
       "      <th>카드사용접수일</th>\n",
       "      <th>가맹점행정동명</th>\n",
       "      <th>가맹점업종코드</th>\n",
       "      <th>가맹점업종명</th>\n",
       "      <th>매출발생건수</th>\n",
       "      <th>매출발생금액</th>\n",
       "      <th>가맹점업종코드앞자리</th>\n",
       "      <th>가맹점업종코드두자리</th>\n",
       "    </tr>\n",
       "  </thead>\n",
       "  <tbody>\n",
       "    <tr>\n",
       "      <th>0</th>\n",
       "      <td>11110515</td>\n",
       "      <td>청운효자동</td>\n",
       "      <td>서울특별시</td>\n",
       "      <td>종로구</td>\n",
       "      <td>01</td>\n",
       "      <td>청운효자동</td>\n",
       "      <td>9210</td>\n",
       "      <td>세탁소</td>\n",
       "      <td>10</td>\n",
       "      <td>107370</td>\n",
       "      <td>9</td>\n",
       "      <td>92</td>\n",
       "    </tr>\n",
       "    <tr>\n",
       "      <th>1</th>\n",
       "      <td>11110515</td>\n",
       "      <td>청운효자동</td>\n",
       "      <td>서울특별시</td>\n",
       "      <td>종로구</td>\n",
       "      <td>01</td>\n",
       "      <td>청운효자동</td>\n",
       "      <td>8399</td>\n",
       "      <td>기타음료식품</td>\n",
       "      <td>55</td>\n",
       "      <td>903270</td>\n",
       "      <td>8</td>\n",
       "      <td>83</td>\n",
       "    </tr>\n",
       "    <tr>\n",
       "      <th>2</th>\n",
       "      <td>11110515</td>\n",
       "      <td>청운효자동</td>\n",
       "      <td>서울특별시</td>\n",
       "      <td>종로구</td>\n",
       "      <td>01</td>\n",
       "      <td>청운효자동</td>\n",
       "      <td>8301</td>\n",
       "      <td>제과점</td>\n",
       "      <td>104</td>\n",
       "      <td>1352260</td>\n",
       "      <td>8</td>\n",
       "      <td>83</td>\n",
       "    </tr>\n",
       "    <tr>\n",
       "      <th>3</th>\n",
       "      <td>11110515</td>\n",
       "      <td>청운효자동</td>\n",
       "      <td>서울특별시</td>\n",
       "      <td>종로구</td>\n",
       "      <td>01</td>\n",
       "      <td>청운효자동</td>\n",
       "      <td>8021</td>\n",
       "      <td>스넥</td>\n",
       "      <td>109</td>\n",
       "      <td>2320200</td>\n",
       "      <td>8</td>\n",
       "      <td>80</td>\n",
       "    </tr>\n",
       "    <tr>\n",
       "      <th>4</th>\n",
       "      <td>11110515</td>\n",
       "      <td>청운효자동</td>\n",
       "      <td>서울특별시</td>\n",
       "      <td>종로구</td>\n",
       "      <td>01</td>\n",
       "      <td>청운효자동</td>\n",
       "      <td>8013</td>\n",
       "      <td>주점</td>\n",
       "      <td>16</td>\n",
       "      <td>911300</td>\n",
       "      <td>8</td>\n",
       "      <td>80</td>\n",
       "    </tr>\n",
       "    <tr>\n",
       "      <th>...</th>\n",
       "      <td>...</td>\n",
       "      <td>...</td>\n",
       "      <td>...</td>\n",
       "      <td>...</td>\n",
       "      <td>...</td>\n",
       "      <td>...</td>\n",
       "      <td>...</td>\n",
       "      <td>...</td>\n",
       "      <td>...</td>\n",
       "      <td>...</td>\n",
       "      <td>...</td>\n",
       "      <td>...</td>\n",
       "    </tr>\n",
       "    <tr>\n",
       "      <th>3713947</th>\n",
       "      <td>11740700</td>\n",
       "      <td>둔촌2동</td>\n",
       "      <td>서울특별시</td>\n",
       "      <td>강동구</td>\n",
       "      <td>06</td>\n",
       "      <td>둔촌2동</td>\n",
       "      <td>7101</td>\n",
       "      <td>이 용 원</td>\n",
       "      <td>1</td>\n",
       "      <td>25000</td>\n",
       "      <td>7</td>\n",
       "      <td>71</td>\n",
       "    </tr>\n",
       "    <tr>\n",
       "      <th>3713948</th>\n",
       "      <td>11740700</td>\n",
       "      <td>둔촌2동</td>\n",
       "      <td>서울특별시</td>\n",
       "      <td>강동구</td>\n",
       "      <td>06</td>\n",
       "      <td>둔촌2동</td>\n",
       "      <td>2199</td>\n",
       "      <td>기타레져업</td>\n",
       "      <td>161</td>\n",
       "      <td>765700</td>\n",
       "      <td>2</td>\n",
       "      <td>21</td>\n",
       "    </tr>\n",
       "    <tr>\n",
       "      <th>3713949</th>\n",
       "      <td>11740700</td>\n",
       "      <td>둔촌2동</td>\n",
       "      <td>서울특별시</td>\n",
       "      <td>강동구</td>\n",
       "      <td>06</td>\n",
       "      <td>둔촌2동</td>\n",
       "      <td>7111</td>\n",
       "      <td>미용 재료</td>\n",
       "      <td>2</td>\n",
       "      <td>50000</td>\n",
       "      <td>7</td>\n",
       "      <td>71</td>\n",
       "    </tr>\n",
       "    <tr>\n",
       "      <th>3713950</th>\n",
       "      <td>11740700</td>\n",
       "      <td>둔촌2동</td>\n",
       "      <td>서울특별시</td>\n",
       "      <td>강동구</td>\n",
       "      <td>06</td>\n",
       "      <td>둔촌2동</td>\n",
       "      <td>7001</td>\n",
       "      <td>종합병원</td>\n",
       "      <td>20</td>\n",
       "      <td>5335390</td>\n",
       "      <td>7</td>\n",
       "      <td>70</td>\n",
       "    </tr>\n",
       "    <tr>\n",
       "      <th>3713951</th>\n",
       "      <td>11740700</td>\n",
       "      <td>둔촌2동</td>\n",
       "      <td>서울특별시</td>\n",
       "      <td>강동구</td>\n",
       "      <td>06</td>\n",
       "      <td>둔촌2동</td>\n",
       "      <td>4205</td>\n",
       "      <td>내의판매점</td>\n",
       "      <td>1</td>\n",
       "      <td>17000</td>\n",
       "      <td>4</td>\n",
       "      <td>42</td>\n",
       "    </tr>\n",
       "  </tbody>\n",
       "</table>\n",
       "<p>3713952 rows × 12 columns</p>\n",
       "</div>"
      ],
      "text/plain": [
       "            행정동코드   행정동명      시    구 카드사용접수일 가맹점행정동명 가맹점업종코드  가맹점업종명  매출발생건수  \\\n",
       "0        11110515  청운효자동  서울특별시  종로구      01   청운효자동    9210     세탁소      10   \n",
       "1        11110515  청운효자동  서울특별시  종로구      01   청운효자동    8399  기타음료식품      55   \n",
       "2        11110515  청운효자동  서울특별시  종로구      01   청운효자동    8301     제과점     104   \n",
       "3        11110515  청운효자동  서울특별시  종로구      01   청운효자동    8021      스넥     109   \n",
       "4        11110515  청운효자동  서울특별시  종로구      01   청운효자동    8013      주점      16   \n",
       "...           ...    ...    ...  ...     ...     ...     ...     ...     ...   \n",
       "3713947  11740700   둔촌2동  서울특별시  강동구      06    둔촌2동    7101   이 용 원       1   \n",
       "3713948  11740700   둔촌2동  서울특별시  강동구      06    둔촌2동    2199   기타레져업     161   \n",
       "3713949  11740700   둔촌2동  서울특별시  강동구      06    둔촌2동    7111   미용 재료       2   \n",
       "3713950  11740700   둔촌2동  서울특별시  강동구      06    둔촌2동    7001    종합병원      20   \n",
       "3713951  11740700   둔촌2동  서울특별시  강동구      06    둔촌2동    4205   내의판매점       1   \n",
       "\n",
       "          매출발생금액 가맹점업종코드앞자리 가맹점업종코드두자리  \n",
       "0         107370          9         92  \n",
       "1         903270          8         83  \n",
       "2        1352260          8         83  \n",
       "3        2320200          8         80  \n",
       "4         911300          8         80  \n",
       "...          ...        ...        ...  \n",
       "3713947    25000          7         71  \n",
       "3713948   765700          2         21  \n",
       "3713949    50000          7         71  \n",
       "3713950  5335390          7         70  \n",
       "3713951    17000          4         42  \n",
       "\n",
       "[3713952 rows x 12 columns]"
      ]
     },
     "execution_count": 119,
     "metadata": {},
     "output_type": "execute_result"
    }
   ],
   "source": [
    "card_gu"
   ]
  },
  {
   "cell_type": "markdown",
   "metadata": {},
   "source": [
    "## 탐색적 데이터 분석 및 시각화"
   ]
  },
  {
   "cell_type": "markdown",
   "metadata": {},
   "source": [
    "### 유동 인구 지도 주차별 시각화"
   ]
  },
  {
   "cell_type": "markdown",
   "metadata": {},
   "source": [
    "#### 서울 자치구 경계 json파일 다운로드"
   ]
  },
  {
   "cell_type": "code",
   "execution_count": 63,
   "metadata": {
    "ExecuteTime": {
     "end_time": "2020-07-30T16:39:43.712802Z",
     "start_time": "2020-07-30T16:39:42.234720Z"
    }
   },
   "outputs": [],
   "source": [
    "url = 'https://raw.github.com/PinkWink/DataScience/master/data/02.%20skorea_municipalities_geo_simple.json'\n",
    "with urllib.request.urlopen(url) as fp:\n",
    "  json_seoul = json.loads(fp.read())"
   ]
  },
  {
   "cell_type": "code",
   "execution_count": 16,
   "metadata": {
    "ExecuteTime": {
     "end_time": "2020-07-30T16:13:54.108779Z",
     "start_time": "2020-07-30T16:13:54.105772Z"
    }
   },
   "outputs": [],
   "source": [
    "#for idx, seoul_dict in enumerate(json_seoul['features']):\n",
    "#  gu_name = seoul_dict['id']\n",
    "#  value = temp.loc[temp.행정구==gu_name, '유동인구'].iloc[0]\n",
    "#  txt = f'{gu_name}<br>{value}'\n",
    "#  json_seoul['features'][idx]['properties']['tooltip1'] = txt"
   ]
  },
  {
   "cell_type": "code",
   "execution_count": 17,
   "metadata": {
    "ExecuteTime": {
     "end_time": "2020-07-30T16:13:54.525620Z",
     "start_time": "2020-07-30T16:13:54.522628Z"
    }
   },
   "outputs": [],
   "source": [
    "#m = folium.Map(location=[37.55, 127], zoom_start=11, tiles='Stamen Terrain')"
   ]
  },
  {
   "cell_type": "code",
   "execution_count": 74,
   "metadata": {
    "ExecuteTime": {
     "end_time": "2020-07-30T16:43:44.457293Z",
     "start_time": "2020-07-30T16:43:44.391441Z"
    },
    "scrolled": false
   },
   "outputs": [
    {
     "data": {
      "application/vnd.jupyter.widget-view+json": {
       "model_id": "5427bee7909d4ca9a52f4a0907c39f52",
       "version_major": 2,
       "version_minor": 0
      },
      "text/plain": [
       "Button(description='다음 주 보기', style=ButtonStyle())"
      ]
     },
     "metadata": {},
     "output_type": "display_data"
    },
    {
     "data": {
      "application/vnd.jupyter.widget-view+json": {
       "model_id": "4abf7f07f2c44e94a83998ec4e8ab8d1",
       "version_major": 2,
       "version_minor": 0
      },
      "text/plain": [
       "Button(description='이전 주 보기', style=ButtonStyle())"
      ]
     },
     "metadata": {},
     "output_type": "display_data"
    },
    {
     "data": {
      "text/html": [
       "<div style=\"width:100%;\"><div style=\"position:relative;width:100%;height:0;padding-bottom:60%;\"><span style=\"color:#565656\">Make this Notebook Trusted to load map: File -> Trust Notebook</span><iframe src=\"about:blank\" style=\"position:absolute;width:100%;height:100%;left:0;top:0;border:none !important;\" data-html=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 onload=\"this.contentDocument.open();this.contentDocument.write(atob(this.getAttribute('data-html')));this.contentDocument.close();\" allowfullscreen webkitallowfullscreen mozallowfullscreen></iframe></div></div>"
      ],
      "text/plain": [
       "<folium.folium.Map at 0x19285ffcd88>"
      ]
     },
     "metadata": {},
     "output_type": "display_data"
    }
   ],
   "source": [
    "def print_map(args):\n",
    "#    print(args)\n",
    "\n",
    "    clear_output(wait = True)\n",
    "    display(button1)\n",
    "    display(button2)\n",
    "    m = folium.Map(location=[37.55, 127], zoom_start=11, tiles='Stamen Terrain')\n",
    "    \n",
    "    temp = grouped_folium[grouped_folium.주차==args]\n",
    "    for idx, seoul_dict in enumerate(json_seoul['features']):\n",
    "        gu_name = seoul_dict['id']\n",
    "        value = temp.loc[temp.행정구==gu_name, '유동인구_코로나전평균'].iloc[0]\n",
    "        corr = False;\n",
    "        txt = f'{gu_name}<br>{value:.2f}'\n",
    "        json_seoul['features'][idx]['properties']['tooltip1'] = txt\n",
    "        \n",
    "    choropleth = folium.Choropleth(\n",
    "        geo_data=json_seoul, \n",
    "        data=temp,\n",
    "        columns=['행정구','유동인구_코로나전평균'],\n",
    "        fill_color = 'PuBuGn',\n",
    "        key_on = 'feature.id',\n",
    "        fill_opacity=0.9,\n",
    "        line_opacity=1,\n",
    "        legend_name='Foot Traffic'\n",
    "    ).add_to(m)\n",
    "\n",
    "    choropleth.geojson.add_child( folium.features.GeoJsonTooltip(['tooltip1'], labels=False))\n",
    "\n",
    "    folium.LayerControl().add_to(m)\n",
    "\n",
    "    title_html = '<h3 align=\"center\" style=\"font-size:20px\"><b>Foot Traffic in Seoul on '+str(args)+' week</b></h3>'\n",
    "    m.get_root().html.add_child(folium.Element(title_html))\n",
    "\n",
    "    display(m)\n",
    "    \n",
    "date = 1\n",
    "\n",
    "button1 = widgets.Button(description='다음 주 보기')\n",
    "button2 = widgets.Button(description='이전 주 보기')\n",
    "def clicked_next(arg):\n",
    "    global date\n",
    "    if date <25:\n",
    "        date = date + 1\n",
    "        print_map(date)\n",
    "\n",
    "\n",
    "def clicked_prev(arg):\n",
    "    global date\n",
    "    if date > 1: \n",
    "        date = date - 1\n",
    "        print_map(date)\n",
    "    \n",
    "\n",
    "button1.on_click(clicked_next)\n",
    "button2.on_click(clicked_prev)\n",
    "display(button2)\n",
    "display(button1)\n",
    "print_map(date)"
   ]
  },
  {
   "cell_type": "code",
   "execution_count": null,
   "metadata": {},
   "outputs": [],
   "source": []
  },
  {
   "cell_type": "markdown",
   "metadata": {},
   "source": [
    "###  감염자 누적 및 지역별 유동인구 변화"
   ]
  },
  {
   "cell_type": "code",
   "execution_count": 77,
   "metadata": {
    "ExecuteTime": {
     "end_time": "2020-07-30T16:46:05.402937Z",
     "start_time": "2020-07-30T16:46:03.977749Z"
    },
    "scrolled": true
   },
   "outputs": [
    {
     "data": {
      "image/png": "[encoded data removed]",
      "text/plain": [
       "<Figure size 432x288 with 1 Axes>"
      ]
     },
     "metadata": {
      "needs_background": "light"
     },
     "output_type": "display_data"
    }
   ],
   "source": [
    "l1 = sns.barplot(x=\"주차\", y=\"확진자수\",data=grouped1)\n",
    "# plt.title(\"서울시 주차별 코로나 확진자 변화\")"
   ]
  },
  {
   "cell_type": "code",
   "execution_count": 78,
   "metadata": {
    "ExecuteTime": {
     "end_time": "2020-07-30T16:46:24.033115Z",
     "start_time": "2020-07-30T16:46:23.303067Z"
    }
   },
   "outputs": [
    {
     "data": {
      "image/png": "[encoded data removed]",
      "text/plain": [
       "<Figure size 432x288 with 1 Axes>"
      ]
     },
     "metadata": {
      "needs_background": "light"
     },
     "output_type": "display_data"
    }
   ],
   "source": [
    "l2 = sns.barplot(x=\"주차\", y=\"일일확진자\",data=grouped1)"
   ]
  },
  {
   "cell_type": "code",
   "execution_count": 79,
   "metadata": {
    "ExecuteTime": {
     "end_time": "2020-07-30T16:47:20.123112Z",
     "start_time": "2020-07-30T16:47:19.465898Z"
    },
    "scrolled": true
   },
   "outputs": [
    {
     "data": {
      "text/plain": [
       "[(0, 27)]"
      ]
     },
     "execution_count": 79,
     "metadata": {},
     "output_type": "execute_result"
    },
    {
     "data": {
      "image/png": "[encoded data removed]",
      "text/plain": [
       "<Figure size 432x288 with 1 Axes>"
      ]
     },
     "metadata": {
      "needs_background": "light"
     },
     "output_type": "display_data"
    }
   ],
   "source": [
    "l3 = sns.lineplot(x=\"주차\", y=\"유동인구\",data=temp)\n",
    "l3.set(xlim=(0, 27))"
   ]
  },
  {
   "cell_type": "code",
   "execution_count": 97,
   "metadata": {
    "ExecuteTime": {
     "end_time": "2020-07-30T17:17:19.094132Z",
     "start_time": "2020-07-30T17:17:19.081201Z"
    }
   },
   "outputs": [
    {
     "data": {
      "text/html": [
       "<div>\n",
       "<style scoped>\n",
       "    .dataframe tbody tr th:only-of-type {\n",
       "        vertical-align: middle;\n",
       "    }\n",
       "\n",
       "    .dataframe tbody tr th {\n",
       "        vertical-align: top;\n",
       "    }\n",
       "\n",
       "    .dataframe thead th {\n",
       "        text-align: right;\n",
       "    }\n",
       "</style>\n",
       "<table border=\"1\" class=\"dataframe\">\n",
       "  <thead>\n",
       "    <tr style=\"text-align: right;\">\n",
       "      <th></th>\n",
       "      <th>index</th>\n",
       "      <th>date</th>\n",
       "      <th>확진자수</th>\n",
       "      <th>일일확진자</th>\n",
       "      <th>주차</th>\n",
       "      <th>년월일</th>\n",
       "      <th>유동인구</th>\n",
       "      <th>일자</th>\n",
       "    </tr>\n",
       "  </thead>\n",
       "  <tbody>\n",
       "    <tr>\n",
       "      <th>0</th>\n",
       "      <td>0</td>\n",
       "      <td>2020-01-20</td>\n",
       "      <td>0</td>\n",
       "      <td>0</td>\n",
       "      <td>3</td>\n",
       "      <td>20200114.0</td>\n",
       "      <td>58687051.0</td>\n",
       "      <td>14.0</td>\n",
       "    </tr>\n",
       "    <tr>\n",
       "      <th>1</th>\n",
       "      <td>0</td>\n",
       "      <td>2020-01-20</td>\n",
       "      <td>0</td>\n",
       "      <td>0</td>\n",
       "      <td>3</td>\n",
       "      <td>20200115.0</td>\n",
       "      <td>59028326.0</td>\n",
       "      <td>15.0</td>\n",
       "    </tr>\n",
       "    <tr>\n",
       "      <th>2</th>\n",
       "      <td>0</td>\n",
       "      <td>2020-01-20</td>\n",
       "      <td>0</td>\n",
       "      <td>0</td>\n",
       "      <td>3</td>\n",
       "      <td>20200116.0</td>\n",
       "      <td>59301598.0</td>\n",
       "      <td>16.0</td>\n",
       "    </tr>\n",
       "    <tr>\n",
       "      <th>3</th>\n",
       "      <td>0</td>\n",
       "      <td>2020-01-20</td>\n",
       "      <td>0</td>\n",
       "      <td>0</td>\n",
       "      <td>3</td>\n",
       "      <td>20200117.0</td>\n",
       "      <td>61384697.0</td>\n",
       "      <td>17.0</td>\n",
       "    </tr>\n",
       "    <tr>\n",
       "      <th>4</th>\n",
       "      <td>0</td>\n",
       "      <td>2020-01-20</td>\n",
       "      <td>0</td>\n",
       "      <td>0</td>\n",
       "      <td>3</td>\n",
       "      <td>20200118.0</td>\n",
       "      <td>57223784.0</td>\n",
       "      <td>18.0</td>\n",
       "    </tr>\n",
       "    <tr>\n",
       "      <th>...</th>\n",
       "      <td>...</td>\n",
       "      <td>...</td>\n",
       "      <td>...</td>\n",
       "      <td>...</td>\n",
       "      <td>...</td>\n",
       "      <td>...</td>\n",
       "      <td>...</td>\n",
       "      <td>...</td>\n",
       "    </tr>\n",
       "    <tr>\n",
       "      <th>1046</th>\n",
       "      <td>2686</td>\n",
       "      <td>2020-06-26</td>\n",
       "      <td>1267</td>\n",
       "      <td>17</td>\n",
       "      <td>26</td>\n",
       "      <td>NaN</td>\n",
       "      <td>NaN</td>\n",
       "      <td>NaN</td>\n",
       "    </tr>\n",
       "    <tr>\n",
       "      <th>1047</th>\n",
       "      <td>2703</td>\n",
       "      <td>2020-06-27</td>\n",
       "      <td>1284</td>\n",
       "      <td>17</td>\n",
       "      <td>26</td>\n",
       "      <td>NaN</td>\n",
       "      <td>NaN</td>\n",
       "      <td>NaN</td>\n",
       "    </tr>\n",
       "    <tr>\n",
       "      <th>1048</th>\n",
       "      <td>2720</td>\n",
       "      <td>2020-06-28</td>\n",
       "      <td>1298</td>\n",
       "      <td>14</td>\n",
       "      <td>26</td>\n",
       "      <td>NaN</td>\n",
       "      <td>NaN</td>\n",
       "      <td>NaN</td>\n",
       "    </tr>\n",
       "    <tr>\n",
       "      <th>1049</th>\n",
       "      <td>2737</td>\n",
       "      <td>2020-06-29</td>\n",
       "      <td>1305</td>\n",
       "      <td>7</td>\n",
       "      <td>26</td>\n",
       "      <td>NaN</td>\n",
       "      <td>NaN</td>\n",
       "      <td>NaN</td>\n",
       "    </tr>\n",
       "    <tr>\n",
       "      <th>1050</th>\n",
       "      <td>2754</td>\n",
       "      <td>2020-06-30</td>\n",
       "      <td>1312</td>\n",
       "      <td>7</td>\n",
       "      <td>27</td>\n",
       "      <td>NaN</td>\n",
       "      <td>NaN</td>\n",
       "      <td>NaN</td>\n",
       "    </tr>\n",
       "  </tbody>\n",
       "</table>\n",
       "<p>1051 rows × 8 columns</p>\n",
       "</div>"
      ],
      "text/plain": [
       "      index        date  확진자수  일일확진자  주차         년월일        유동인구    일자\n",
       "0         0  2020-01-20     0      0   3  20200114.0  58687051.0  14.0\n",
       "1         0  2020-01-20     0      0   3  20200115.0  59028326.0  15.0\n",
       "2         0  2020-01-20     0      0   3  20200116.0  59301598.0  16.0\n",
       "3         0  2020-01-20     0      0   3  20200117.0  61384697.0  17.0\n",
       "4         0  2020-01-20     0      0   3  20200118.0  57223784.0  18.0\n",
       "...     ...         ...   ...    ...  ..         ...         ...   ...\n",
       "1046   2686  2020-06-26  1267     17  26         NaN         NaN   NaN\n",
       "1047   2703  2020-06-27  1284     17  26         NaN         NaN   NaN\n",
       "1048   2720  2020-06-28  1298     14  26         NaN         NaN   NaN\n",
       "1049   2737  2020-06-29  1305      7  26         NaN         NaN   NaN\n",
       "1050   2754  2020-06-30  1312      7  27         NaN         NaN   NaN\n",
       "\n",
       "[1051 rows x 8 columns]"
      ]
     },
     "execution_count": 97,
     "metadata": {},
     "output_type": "execute_result"
    }
   ],
   "source": [
    "covidfpopl_df"
   ]
  },
  {
   "cell_type": "code",
   "execution_count": 100,
   "metadata": {
    "ExecuteTime": {
     "end_time": "2020-07-30T17:18:22.199396Z",
     "start_time": "2020-07-30T17:18:22.038853Z"
    }
   },
   "outputs": [
    {
     "data": {
      "image/png": "[encoded data removed]",
      "text/plain": [
       "<Figure size 432x288 with 2 Axes>"
      ]
     },
     "metadata": {
      "needs_background": "light"
     },
     "output_type": "display_data"
    }
   ],
   "source": [
    "ax = covidfpopl_df.plot(x=\"주차\", y=\"유동인구\", legend=False)\n",
    "ax2 = ax.twinx()\n",
    "covidfpopl_df.plot(x=\"주차\", y=\"일일확진자\", ax=ax2, legend=False, color=\"r\")\n",
    "ax.figure.legend()\n",
    "plt.show()"
   ]
  },
  {
   "cell_type": "code",
   "execution_count": 104,
   "metadata": {
    "ExecuteTime": {
     "end_time": "2020-07-30T17:22:17.543851Z",
     "start_time": "2020-07-30T17:22:16.194487Z"
    },
    "scrolled": true
   },
   "outputs": [
    {
     "data": {
      "image/png": "[encoded data removed]",
      "text/plain": [
       "<Figure size 432x288 with 2 Axes>"
      ]
     },
     "metadata": {
      "needs_background": "light"
     },
     "output_type": "display_data"
    }
   ],
   "source": [
    "import matplotlib.pyplot as plt\n",
    "\n",
    "fig, ax1 = plt.subplots()\n",
    "\n",
    "ax2 = ax1.twinx()\n",
    "ax1.bar(covidfpopl_df['주차'], covidfpopl_df['유동인구'])\n",
    "ax2.plot(covidfpopl_df['주차'], covidfpopl_df['일일확진자'], 'o-', color=\"red\" )\n",
    "\n",
    "ax1.set_xlabel('X data')\n",
    "ax1.set_ylabel('Counts', color='g')\n",
    "ax2.set_ylabel('Detection Rates', color='b')\n",
    "\n",
    "plt.show()"
   ]
  },
  {
   "cell_type": "code",
   "execution_count": 103,
   "metadata": {
    "ExecuteTime": {
     "end_time": "2020-07-30T17:19:37.819166Z",
     "start_time": "2020-07-30T17:19:36.640319Z"
    },
    "scrolled": true
   },
   "outputs": [
    {
     "data": {
      "image/png": "[encoded data removed]",
      "text/plain": [
       "<Figure size 432x288 with 1 Axes>"
      ]
     },
     "metadata": {
      "needs_background": "light"
     },
     "output_type": "display_data"
    }
   ],
   "source": [
    "l1 = sns.lineplot(x=\"주차\", y=\"일일확진자\",data=grouped1)\n",
    "l2 = sns.lineplot(x=\"주차\", y=\"유동인구\",data=temp)\n",
    "plt.show()"
   ]
  },
  {
   "cell_type": "markdown",
   "metadata": {},
   "source": [
    "### 가맹점 업종 코드, 구 별 매출 발생 건수를 그래프로 시각화"
   ]
  },
  {
   "cell_type": "code",
   "execution_count": 123,
   "metadata": {
    "ExecuteTime": {
     "end_time": "2020-07-30T17:57:15.546313Z",
     "start_time": "2020-07-30T17:57:13.962579Z"
    }
   },
   "outputs": [],
   "source": [
    "# 가맹점 업종 코드 별 각 구의 매출 발생 건수 합계\n",
    "\n",
    "card_gu_pivot1=pd.pivot_table(card_gu, index='가맹점업종코드앞자리', columns='구', values='매출발생건수', aggfunc='sum')"
   ]
  },
  {
   "cell_type": "code",
   "execution_count": 124,
   "metadata": {
    "ExecuteTime": {
     "end_time": "2020-07-30T17:57:21.764708Z",
     "start_time": "2020-07-30T17:57:21.751746Z"
    }
   },
   "outputs": [
    {
     "data": {
      "text/html": [
       "<div>\n",
       "<style scoped>\n",
       "    .dataframe tbody tr th:only-of-type {\n",
       "        vertical-align: middle;\n",
       "    }\n",
       "\n",
       "    .dataframe tbody tr th {\n",
       "        vertical-align: top;\n",
       "    }\n",
       "\n",
       "    .dataframe thead th {\n",
       "        text-align: right;\n",
       "    }\n",
       "</style>\n",
       "<table border=\"1\" class=\"dataframe\">\n",
       "  <thead>\n",
       "    <tr style=\"text-align: right;\">\n",
       "      <th>구</th>\n",
       "      <th>강남구</th>\n",
       "      <th>강동구</th>\n",
       "      <th>강북구</th>\n",
       "      <th>강서구</th>\n",
       "      <th>관악구</th>\n",
       "      <th>광진구</th>\n",
       "      <th>구로구</th>\n",
       "      <th>금천구</th>\n",
       "      <th>노원구</th>\n",
       "      <th>도봉구</th>\n",
       "      <th>...</th>\n",
       "      <th>성동구</th>\n",
       "      <th>성북구</th>\n",
       "      <th>송파구</th>\n",
       "      <th>양천구</th>\n",
       "      <th>영등포구</th>\n",
       "      <th>용산구</th>\n",
       "      <th>은평구</th>\n",
       "      <th>종로구</th>\n",
       "      <th>중구</th>\n",
       "      <th>중랑구</th>\n",
       "    </tr>\n",
       "    <tr>\n",
       "      <th>가맹점업종코드앞자리</th>\n",
       "      <th></th>\n",
       "      <th></th>\n",
       "      <th></th>\n",
       "      <th></th>\n",
       "      <th></th>\n",
       "      <th></th>\n",
       "      <th></th>\n",
       "      <th></th>\n",
       "      <th></th>\n",
       "      <th></th>\n",
       "      <th></th>\n",
       "      <th></th>\n",
       "      <th></th>\n",
       "      <th></th>\n",
       "      <th></th>\n",
       "      <th></th>\n",
       "      <th></th>\n",
       "      <th></th>\n",
       "      <th></th>\n",
       "      <th></th>\n",
       "      <th></th>\n",
       "    </tr>\n",
       "  </thead>\n",
       "  <tbody>\n",
       "    <tr>\n",
       "      <th>1</th>\n",
       "      <td>1464470</td>\n",
       "      <td>31693</td>\n",
       "      <td>14242</td>\n",
       "      <td>758711</td>\n",
       "      <td>39022</td>\n",
       "      <td>195771</td>\n",
       "      <td>52528</td>\n",
       "      <td>25991</td>\n",
       "      <td>16947</td>\n",
       "      <td>6998</td>\n",
       "      <td>...</td>\n",
       "      <td>15915</td>\n",
       "      <td>15007</td>\n",
       "      <td>315206</td>\n",
       "      <td>452073</td>\n",
       "      <td>92953</td>\n",
       "      <td>43429</td>\n",
       "      <td>24640</td>\n",
       "      <td>79718</td>\n",
       "      <td>41345994</td>\n",
       "      <td>23164</td>\n",
       "    </tr>\n",
       "    <tr>\n",
       "      <th>2</th>\n",
       "      <td>1457961</td>\n",
       "      <td>582724</td>\n",
       "      <td>208367</td>\n",
       "      <td>640083</td>\n",
       "      <td>806491</td>\n",
       "      <td>585194</td>\n",
       "      <td>440882</td>\n",
       "      <td>282048</td>\n",
       "      <td>613687</td>\n",
       "      <td>268117</td>\n",
       "      <td>...</td>\n",
       "      <td>306915</td>\n",
       "      <td>412620</td>\n",
       "      <td>931103</td>\n",
       "      <td>449532</td>\n",
       "      <td>475430</td>\n",
       "      <td>530929</td>\n",
       "      <td>409894</td>\n",
       "      <td>404846</td>\n",
       "      <td>612916</td>\n",
       "      <td>400150</td>\n",
       "    </tr>\n",
       "    <tr>\n",
       "      <th>3</th>\n",
       "      <td>532682</td>\n",
       "      <td>185876</td>\n",
       "      <td>42653</td>\n",
       "      <td>449746</td>\n",
       "      <td>208474</td>\n",
       "      <td>336041</td>\n",
       "      <td>426418</td>\n",
       "      <td>334972</td>\n",
       "      <td>207664</td>\n",
       "      <td>209620</td>\n",
       "      <td>...</td>\n",
       "      <td>280674</td>\n",
       "      <td>446672</td>\n",
       "      <td>520674</td>\n",
       "      <td>337248</td>\n",
       "      <td>1270496</td>\n",
       "      <td>175485</td>\n",
       "      <td>256011</td>\n",
       "      <td>88627</td>\n",
       "      <td>312069</td>\n",
       "      <td>258355</td>\n",
       "    </tr>\n",
       "    <tr>\n",
       "      <th>4</th>\n",
       "      <td>37547905</td>\n",
       "      <td>6208346</td>\n",
       "      <td>2027223</td>\n",
       "      <td>12245286</td>\n",
       "      <td>8090786</td>\n",
       "      <td>5134596</td>\n",
       "      <td>38498146</td>\n",
       "      <td>5284084</td>\n",
       "      <td>5768857</td>\n",
       "      <td>3057588</td>\n",
       "      <td>...</td>\n",
       "      <td>4319787</td>\n",
       "      <td>4648477</td>\n",
       "      <td>10471387</td>\n",
       "      <td>11831269</td>\n",
       "      <td>10038008</td>\n",
       "      <td>52703563</td>\n",
       "      <td>5222978</td>\n",
       "      <td>3874081</td>\n",
       "      <td>31453594</td>\n",
       "      <td>4354291</td>\n",
       "    </tr>\n",
       "    <tr>\n",
       "      <th>5</th>\n",
       "      <td>935201</td>\n",
       "      <td>162045</td>\n",
       "      <td>32362</td>\n",
       "      <td>181529</td>\n",
       "      <td>372653</td>\n",
       "      <td>132603</td>\n",
       "      <td>243341</td>\n",
       "      <td>115976</td>\n",
       "      <td>218454</td>\n",
       "      <td>77068</td>\n",
       "      <td>...</td>\n",
       "      <td>152855</td>\n",
       "      <td>216798</td>\n",
       "      <td>298116</td>\n",
       "      <td>199316</td>\n",
       "      <td>218431</td>\n",
       "      <td>167034</td>\n",
       "      <td>140102</td>\n",
       "      <td>1192677</td>\n",
       "      <td>434807</td>\n",
       "      <td>90530</td>\n",
       "    </tr>\n",
       "    <tr>\n",
       "      <th>6</th>\n",
       "      <td>3769920</td>\n",
       "      <td>125322</td>\n",
       "      <td>25817</td>\n",
       "      <td>273440</td>\n",
       "      <td>39675</td>\n",
       "      <td>80447</td>\n",
       "      <td>941573</td>\n",
       "      <td>147640</td>\n",
       "      <td>54096</td>\n",
       "      <td>46585</td>\n",
       "      <td>...</td>\n",
       "      <td>375945</td>\n",
       "      <td>48607</td>\n",
       "      <td>361358</td>\n",
       "      <td>75947</td>\n",
       "      <td>1078345</td>\n",
       "      <td>408167</td>\n",
       "      <td>45555</td>\n",
       "      <td>5571594</td>\n",
       "      <td>1757403</td>\n",
       "      <td>44547</td>\n",
       "    </tr>\n",
       "    <tr>\n",
       "      <th>7</th>\n",
       "      <td>4521334</td>\n",
       "      <td>1684308</td>\n",
       "      <td>529838</td>\n",
       "      <td>1820369</td>\n",
       "      <td>1525855</td>\n",
       "      <td>1306960</td>\n",
       "      <td>1588344</td>\n",
       "      <td>824059</td>\n",
       "      <td>1569239</td>\n",
       "      <td>732179</td>\n",
       "      <td>...</td>\n",
       "      <td>926079</td>\n",
       "      <td>1154995</td>\n",
       "      <td>2816508</td>\n",
       "      <td>1340486</td>\n",
       "      <td>1842155</td>\n",
       "      <td>773614</td>\n",
       "      <td>1341004</td>\n",
       "      <td>1627348</td>\n",
       "      <td>1260992</td>\n",
       "      <td>1089355</td>\n",
       "    </tr>\n",
       "    <tr>\n",
       "      <th>8</th>\n",
       "      <td>18473343</td>\n",
       "      <td>5203573</td>\n",
       "      <td>1807479</td>\n",
       "      <td>6976096</td>\n",
       "      <td>6291168</td>\n",
       "      <td>5211558</td>\n",
       "      <td>5410284</td>\n",
       "      <td>3985826</td>\n",
       "      <td>4748921</td>\n",
       "      <td>2259867</td>\n",
       "      <td>...</td>\n",
       "      <td>4664436</td>\n",
       "      <td>4088921</td>\n",
       "      <td>9477096</td>\n",
       "      <td>4190947</td>\n",
       "      <td>8517904</td>\n",
       "      <td>5870548</td>\n",
       "      <td>4017636</td>\n",
       "      <td>7848965</td>\n",
       "      <td>15437742</td>\n",
       "      <td>3129882</td>\n",
       "    </tr>\n",
       "    <tr>\n",
       "      <th>9</th>\n",
       "      <td>5800001</td>\n",
       "      <td>406762</td>\n",
       "      <td>232737</td>\n",
       "      <td>593793</td>\n",
       "      <td>244148</td>\n",
       "      <td>326114</td>\n",
       "      <td>1065236</td>\n",
       "      <td>186875</td>\n",
       "      <td>330396</td>\n",
       "      <td>145035</td>\n",
       "      <td>...</td>\n",
       "      <td>345636</td>\n",
       "      <td>182163</td>\n",
       "      <td>631635</td>\n",
       "      <td>283882</td>\n",
       "      <td>629740</td>\n",
       "      <td>5333267</td>\n",
       "      <td>203184</td>\n",
       "      <td>654306</td>\n",
       "      <td>7320421</td>\n",
       "      <td>136268</td>\n",
       "    </tr>\n",
       "  </tbody>\n",
       "</table>\n",
       "<p>9 rows × 25 columns</p>\n",
       "</div>"
      ],
      "text/plain": [
       "구                강남구      강동구      강북구       강서구      관악구      광진구       구로구  \\\n",
       "가맹점업종코드앞자리                                                                     \n",
       "1            1464470    31693    14242    758711    39022   195771     52528   \n",
       "2            1457961   582724   208367    640083   806491   585194    440882   \n",
       "3             532682   185876    42653    449746   208474   336041    426418   \n",
       "4           37547905  6208346  2027223  12245286  8090786  5134596  38498146   \n",
       "5             935201   162045    32362    181529   372653   132603    243341   \n",
       "6            3769920   125322    25817    273440    39675    80447    941573   \n",
       "7            4521334  1684308   529838   1820369  1525855  1306960   1588344   \n",
       "8           18473343  5203573  1807479   6976096  6291168  5211558   5410284   \n",
       "9            5800001   406762   232737    593793   244148   326114   1065236   \n",
       "\n",
       "구               금천구      노원구      도봉구  ...      성동구      성북구       송파구  \\\n",
       "가맹점업종코드앞자리                             ...                               \n",
       "1             25991    16947     6998  ...    15915    15007    315206   \n",
       "2            282048   613687   268117  ...   306915   412620    931103   \n",
       "3            334972   207664   209620  ...   280674   446672    520674   \n",
       "4           5284084  5768857  3057588  ...  4319787  4648477  10471387   \n",
       "5            115976   218454    77068  ...   152855   216798    298116   \n",
       "6            147640    54096    46585  ...   375945    48607    361358   \n",
       "7            824059  1569239   732179  ...   926079  1154995   2816508   \n",
       "8           3985826  4748921  2259867  ...  4664436  4088921   9477096   \n",
       "9            186875   330396   145035  ...   345636   182163    631635   \n",
       "\n",
       "구                양천구      영등포구       용산구      은평구      종로구        중구      중랑구  \n",
       "가맹점업종코드앞자리                                                                     \n",
       "1             452073     92953     43429    24640    79718  41345994    23164  \n",
       "2             449532    475430    530929   409894   404846    612916   400150  \n",
       "3             337248   1270496    175485   256011    88627    312069   258355  \n",
       "4           11831269  10038008  52703563  5222978  3874081  31453594  4354291  \n",
       "5             199316    218431    167034   140102  1192677    434807    90530  \n",
       "6              75947   1078345    408167    45555  5571594   1757403    44547  \n",
       "7            1340486   1842155    773614  1341004  1627348   1260992  1089355  \n",
       "8            4190947   8517904   5870548  4017636  7848965  15437742  3129882  \n",
       "9             283882    629740   5333267   203184   654306   7320421   136268  \n",
       "\n",
       "[9 rows x 25 columns]"
      ]
     },
     "execution_count": 124,
     "metadata": {},
     "output_type": "execute_result"
    }
   ],
   "source": [
    "card_gu_pivot1"
   ]
  },
  {
   "cell_type": "code",
   "execution_count": 125,
   "metadata": {
    "ExecuteTime": {
     "end_time": "2020-07-30T17:57:27.349776Z",
     "start_time": "2020-07-30T17:57:26.863049Z"
    }
   },
   "outputs": [
    {
     "data": {
      "application/vnd.plotly.v1+json": {
       "config": {
        "linkText": "Export to plot.ly",
        "plotlyServerURL": "https://plot.ly",
        "showLink": true
       },
       "data": [
        {
         "line": {
          "color": "rgba(255, 153, 51, 1.0)",
          "dash": "solid",
          "shape": "linear",
          "width": 1.3
         },
         "mode": "lines",
         "name": "강남구",
         "text": "",
         "type": "scatter",
         "x": [
          "1",
          "2",
          "3",
          "4",
          "5",
          "6",
          "7",
          "8",
          "9"
         ],
         "y": [
          1464470,
          1457961,
          532682,
          37547905,
          935201,
          3769920,
          4521334,
          18473343,
          5800001
         ]
        },
        {
         "line": {
          "color": "rgba(55, 128, 191, 1.0)",
          "dash": "solid",
          "shape": "linear",
          "width": 1.3
         },
         "mode": "lines",
         "name": "강동구",
         "text": "",
         "type": "scatter",
         "x": [
          "1",
          "2",
          "3",
          "4",
          "5",
          "6",
          "7",
          "8",
          "9"
         ],
         "y": [
          31693,
          582724,
          185876,
          6208346,
          162045,
          125322,
          1684308,
          5203573,
          406762
         ]
        },
        {
         "line": {
          "color": "rgba(50, 171, 96, 1.0)",
          "dash": "solid",
          "shape": "linear",
          "width": 1.3
         },
         "mode": "lines",
         "name": "강북구",
         "text": "",
         "type": "scatter",
         "x": [
          "1",
          "2",
          "3",
          "4",
          "5",
          "6",
          "7",
          "8",
          "9"
         ],
         "y": [
          14242,
          208367,
          42653,
          2027223,
          32362,
          25817,
          529838,
          1807479,
          232737
         ]
        },
        {
         "line": {
          "color": "rgba(128, 0, 128, 1.0)",
          "dash": "solid",
          "shape": "linear",
          "width": 1.3
         },
         "mode": "lines",
         "name": "강서구",
         "text": "",
         "type": "scatter",
         "x": [
          "1",
          "2",
          "3",
          "4",
          "5",
          "6",
          "7",
          "8",
          "9"
         ],
         "y": [
          758711,
          640083,
          449746,
          12245286,
          181529,
          273440,
          1820369,
          6976096,
          593793
         ]
        },
        {
         "line": {
          "color": "rgba(219, 64, 82, 1.0)",
          "dash": "solid",
          "shape": "linear",
          "width": 1.3
         },
         "mode": "lines",
         "name": "관악구",
         "text": "",
         "type": "scatter",
         "x": [
          "1",
          "2",
          "3",
          "4",
          "5",
          "6",
          "7",
          "8",
          "9"
         ],
         "y": [
          39022,
          806491,
          208474,
          8090786,
          372653,
          39675,
          1525855,
          6291168,
          244148
         ]
        },
        {
         "line": {
          "color": "rgba(0, 128, 128, 1.0)",
          "dash": "solid",
          "shape": "linear",
          "width": 1.3
         },
         "mode": "lines",
         "name": "광진구",
         "text": "",
         "type": "scatter",
         "x": [
          "1",
          "2",
          "3",
          "4",
          "5",
          "6",
          "7",
          "8",
          "9"
         ],
         "y": [
          195771,
          585194,
          336041,
          5134596,
          132603,
          80447,
          1306960,
          5211558,
          326114
         ]
        },
        {
         "line": {
          "color": "rgba(255, 255, 51, 1.0)",
          "dash": "solid",
          "shape": "linear",
          "width": 1.3
         },
         "mode": "lines",
         "name": "구로구",
         "text": "",
         "type": "scatter",
         "x": [
          "1",
          "2",
          "3",
          "4",
          "5",
          "6",
          "7",
          "8",
          "9"
         ],
         "y": [
          52528,
          440882,
          426418,
          38498146,
          243341,
          941573,
          1588344,
          5410284,
          1065236
         ]
        },
        {
         "line": {
          "color": "rgba(128, 128, 0, 1.0)",
          "dash": "solid",
          "shape": "linear",
          "width": 1.3
         },
         "mode": "lines",
         "name": "금천구",
         "text": "",
         "type": "scatter",
         "x": [
          "1",
          "2",
          "3",
          "4",
          "5",
          "6",
          "7",
          "8",
          "9"
         ],
         "y": [
          25991,
          282048,
          334972,
          5284084,
          115976,
          147640,
          824059,
          3985826,
          186875
         ]
        },
        {
         "line": {
          "color": "rgba(251, 128, 114, 1.0)",
          "dash": "solid",
          "shape": "linear",
          "width": 1.3
         },
         "mode": "lines",
         "name": "노원구",
         "text": "",
         "type": "scatter",
         "x": [
          "1",
          "2",
          "3",
          "4",
          "5",
          "6",
          "7",
          "8",
          "9"
         ],
         "y": [
          16947,
          613687,
          207664,
          5768857,
          218454,
          54096,
          1569239,
          4748921,
          330396
         ]
        },
        {
         "line": {
          "color": "rgba(128, 177, 211, 1.0)",
          "dash": "solid",
          "shape": "linear",
          "width": 1.3
         },
         "mode": "lines",
         "name": "도봉구",
         "text": "",
         "type": "scatter",
         "x": [
          "1",
          "2",
          "3",
          "4",
          "5",
          "6",
          "7",
          "8",
          "9"
         ],
         "y": [
          6998,
          268117,
          209620,
          3057588,
          77068,
          46585,
          732179,
          2259867,
          145035
         ]
        },
        {
         "line": {
          "color": "rgba(128, 177, 211, 0.8999999999999999)",
          "dash": "solid",
          "shape": "linear",
          "width": 1.3
         },
         "mode": "lines",
         "name": "동대문구",
         "text": "",
         "type": "scatter",
         "x": [
          "1",
          "2",
          "3",
          "4",
          "5",
          "6",
          "7",
          "8",
          "9"
         ],
         "y": [
          24088,
          464924,
          236899,
          4851054,
          166824,
          84570,
          1322194,
          4714848,
          721858
         ]
        },
        {
         "line": {
          "color": "rgba(255, 153, 51, 0.8999999999999999)",
          "dash": "solid",
          "shape": "linear",
          "width": 1.3
         },
         "mode": "lines",
         "name": "동작구",
         "text": "",
         "type": "scatter",
         "x": [
          "1",
          "2",
          "3",
          "4",
          "5",
          "6",
          "7",
          "8",
          "9"
         ],
         "y": [
          21795889,
          516855,
          173078,
          7088511,
          154727,
          102436,
          1340610,
          7448339,
          217245
         ]
        },
        {
         "line": {
          "color": "rgba(55, 128, 191, 0.8999999999999999)",
          "dash": "solid",
          "shape": "linear",
          "width": 1.3
         },
         "mode": "lines",
         "name": "마포구",
         "text": "",
         "type": "scatter",
         "x": [
          "1",
          "2",
          "3",
          "4",
          "5",
          "6",
          "7",
          "8",
          "9"
         ],
         "y": [
          37094,
          678119,
          153499,
          57626517,
          323986,
          632548,
          1586739,
          9981676,
          640977
         ]
        },
        {
         "line": {
          "color": "rgba(50, 171, 96, 0.8999999999999999)",
          "dash": "solid",
          "shape": "linear",
          "width": 1.3
         },
         "mode": "lines",
         "name": "서대문구",
         "text": "",
         "type": "scatter",
         "x": [
          "1",
          "2",
          "3",
          "4",
          "5",
          "6",
          "7",
          "8",
          "9"
         ],
         "y": [
          27093,
          470540,
          217278,
          4606227,
          215497,
          167997,
          1520576,
          4971158,
          502531
         ]
        },
        {
         "line": {
          "color": "rgba(128, 0, 128, 0.8999999999999999)",
          "dash": "solid",
          "shape": "linear",
          "width": 1.3
         },
         "mode": "lines",
         "name": "서초구",
         "text": "",
         "type": "scatter",
         "x": [
          "1",
          "2",
          "3",
          "4",
          "5",
          "6",
          "7",
          "8",
          "9"
         ],
         "y": [
          1804893,
          543807,
          608341,
          14066706,
          385831,
          1305018,
          2169884,
          10706479,
          94613544
         ]
        },
        {
         "line": {
          "color": "rgba(219, 64, 82, 0.8999999999999999)",
          "dash": "solid",
          "shape": "linear",
          "width": 1.3
         },
         "mode": "lines",
         "name": "성동구",
         "text": "",
         "type": "scatter",
         "x": [
          "1",
          "2",
          "3",
          "4",
          "5",
          "6",
          "7",
          "8",
          "9"
         ],
         "y": [
          15915,
          306915,
          280674,
          4319787,
          152855,
          375945,
          926079,
          4664436,
          345636
         ]
        },
        {
         "line": {
          "color": "rgba(0, 128, 128, 0.8999999999999999)",
          "dash": "solid",
          "shape": "linear",
          "width": 1.3
         },
         "mode": "lines",
         "name": "성북구",
         "text": "",
         "type": "scatter",
         "x": [
          "1",
          "2",
          "3",
          "4",
          "5",
          "6",
          "7",
          "8",
          "9"
         ],
         "y": [
          15007,
          412620,
          446672,
          4648477,
          216798,
          48607,
          1154995,
          4088921,
          182163
         ]
        },
        {
         "line": {
          "color": "rgba(255, 255, 51, 0.8999999999999999)",
          "dash": "solid",
          "shape": "linear",
          "width": 1.3
         },
         "mode": "lines",
         "name": "송파구",
         "text": "",
         "type": "scatter",
         "x": [
          "1",
          "2",
          "3",
          "4",
          "5",
          "6",
          "7",
          "8",
          "9"
         ],
         "y": [
          315206,
          931103,
          520674,
          10471387,
          298116,
          361358,
          2816508,
          9477096,
          631635
         ]
        },
        {
         "line": {
          "color": "rgba(128, 128, 0, 0.8999999999999999)",
          "dash": "solid",
          "shape": "linear",
          "width": 1.3
         },
         "mode": "lines",
         "name": "양천구",
         "text": "",
         "type": "scatter",
         "x": [
          "1",
          "2",
          "3",
          "4",
          "5",
          "6",
          "7",
          "8",
          "9"
         ],
         "y": [
          452073,
          449532,
          337248,
          11831269,
          199316,
          75947,
          1340486,
          4190947,
          283882
         ]
        },
        {
         "line": {
          "color": "rgba(251, 128, 114, 0.8999999999999999)",
          "dash": "solid",
          "shape": "linear",
          "width": 1.3
         },
         "mode": "lines",
         "name": "영등포구",
         "text": "",
         "type": "scatter",
         "x": [
          "1",
          "2",
          "3",
          "4",
          "5",
          "6",
          "7",
          "8",
          "9"
         ],
         "y": [
          92953,
          475430,
          1270496,
          10038008,
          218431,
          1078345,
          1842155,
          8517904,
          629740
         ]
        },
        {
         "line": {
          "color": "rgba(251, 128, 114, 0.7999999999999998)",
          "dash": "solid",
          "shape": "linear",
          "width": 1.3
         },
         "mode": "lines",
         "name": "용산구",
         "text": "",
         "type": "scatter",
         "x": [
          "1",
          "2",
          "3",
          "4",
          "5",
          "6",
          "7",
          "8",
          "9"
         ],
         "y": [
          43429,
          530929,
          175485,
          52703563,
          167034,
          408167,
          773614,
          5870548,
          5333267
         ]
        },
        {
         "line": {
          "color": "rgba(128, 177, 211, 0.7999999999999998)",
          "dash": "solid",
          "shape": "linear",
          "width": 1.3
         },
         "mode": "lines",
         "name": "은평구",
         "text": "",
         "type": "scatter",
         "x": [
          "1",
          "2",
          "3",
          "4",
          "5",
          "6",
          "7",
          "8",
          "9"
         ],
         "y": [
          24640,
          409894,
          256011,
          5222978,
          140102,
          45555,
          1341004,
          4017636,
          203184
         ]
        },
        {
         "line": {
          "color": "rgba(255, 153, 51, 0.7999999999999998)",
          "dash": "solid",
          "shape": "linear",
          "width": 1.3
         },
         "mode": "lines",
         "name": "종로구",
         "text": "",
         "type": "scatter",
         "x": [
          "1",
          "2",
          "3",
          "4",
          "5",
          "6",
          "7",
          "8",
          "9"
         ],
         "y": [
          79718,
          404846,
          88627,
          3874081,
          1192677,
          5571594,
          1627348,
          7848965,
          654306
         ]
        },
        {
         "line": {
          "color": "rgba(55, 128, 191, 0.7999999999999998)",
          "dash": "solid",
          "shape": "linear",
          "width": 1.3
         },
         "mode": "lines",
         "name": "중구",
         "text": "",
         "type": "scatter",
         "x": [
          "1",
          "2",
          "3",
          "4",
          "5",
          "6",
          "7",
          "8",
          "9"
         ],
         "y": [
          41345994,
          612916,
          312069,
          31453594,
          434807,
          1757403,
          1260992,
          15437742,
          7320421
         ]
        },
        {
         "line": {
          "color": "rgba(50, 171, 96, 0.7999999999999998)",
          "dash": "solid",
          "shape": "linear",
          "width": 1.3
         },
         "mode": "lines",
         "name": "중랑구",
         "text": "",
         "type": "scatter",
         "x": [
          "1",
          "2",
          "3",
          "4",
          "5",
          "6",
          "7",
          "8",
          "9"
         ],
         "y": [
          23164,
          400150,
          258355,
          4354291,
          90530,
          44547,
          1089355,
          3129882,
          136268
         ]
        }
       ],
       "layout": {
        "legend": {
         "bgcolor": "#F5F6F9",
         "font": {
          "color": "#4D5663"
         }
        },
        "paper_bgcolor": "#F5F6F9",
        "plot_bgcolor": "#F5F6F9",
        "template": {
         "data": {
          "bar": [
           {
            "error_x": {
             "color": "#2a3f5f"
            },
            "error_y": {
             "color": "#2a3f5f"
            },
            "marker": {
             "line": {
              "color": "#E5ECF6",
              "width": 0.5
             }
            },
            "type": "bar"
           }
          ],
          "barpolar": [
           {
            "marker": {
             "line": {
              "color": "#E5ECF6",
              "width": 0.5
             }
            },
            "type": "barpolar"
           }
          ],
          "carpet": [
           {
            "aaxis": {
             "endlinecolor": "#2a3f5f",
             "gridcolor": "white",
             "linecolor": "white",
             "minorgridcolor": "white",
             "startlinecolor": "#2a3f5f"
            },
            "baxis": {
             "endlinecolor": "#2a3f5f",
             "gridcolor": "white",
             "linecolor": "white",
             "minorgridcolor": "white",
             "startlinecolor": "#2a3f5f"
            },
            "type": "carpet"
           }
          ],
          "choropleth": [
           {
            "colorbar": {
             "outlinewidth": 0,
             "ticks": ""
            },
            "type": "choropleth"
           }
          ],
          "contour": [
           {
            "colorbar": {
             "outlinewidth": 0,
             "ticks": ""
            },
            "colorscale": [
             [
              0,
              "#0d0887"
             ],
             [
              0.1111111111111111,
              "#46039f"
             ],
             [
              0.2222222222222222,
              "#7201a8"
             ],
             [
              0.3333333333333333,
              "#9c179e"
             ],
             [
              0.4444444444444444,
              "#bd3786"
             ],
             [
              0.5555555555555556,
              "#d8576b"
             ],
             [
              0.6666666666666666,
              "#ed7953"
             ],
             [
              0.7777777777777778,
              "#fb9f3a"
             ],
             [
              0.8888888888888888,
              "#fdca26"
             ],
             [
              1,
              "#f0f921"
             ]
            ],
            "type": "contour"
           }
          ],
          "contourcarpet": [
           {
            "colorbar": {
             "outlinewidth": 0,
             "ticks": ""
            },
            "type": "contourcarpet"
           }
          ],
          "heatmap": [
           {
            "colorbar": {
             "outlinewidth": 0,
             "ticks": ""
            },
            "colorscale": [
             [
              0,
              "#0d0887"
             ],
             [
              0.1111111111111111,
              "#46039f"
             ],
             [
              0.2222222222222222,
              "#7201a8"
             ],
             [
              0.3333333333333333,
              "#9c179e"
             ],
             [
              0.4444444444444444,
              "#bd3786"
             ],
             [
              0.5555555555555556,
              "#d8576b"
             ],
             [
              0.6666666666666666,
              "#ed7953"
             ],
             [
              0.7777777777777778,
              "#fb9f3a"
             ],
             [
              0.8888888888888888,
              "#fdca26"
             ],
             [
              1,
              "#f0f921"
             ]
            ],
            "type": "heatmap"
           }
          ],
          "heatmapgl": [
           {
            "colorbar": {
             "outlinewidth": 0,
             "ticks": ""
            },
            "colorscale": [
             [
              0,
              "#0d0887"
             ],
             [
              0.1111111111111111,
              "#46039f"
             ],
             [
              0.2222222222222222,
              "#7201a8"
             ],
             [
              0.3333333333333333,
              "#9c179e"
             ],
             [
              0.4444444444444444,
              "#bd3786"
             ],
             [
              0.5555555555555556,
              "#d8576b"
             ],
             [
              0.6666666666666666,
              "#ed7953"
             ],
             [
              0.7777777777777778,
              "#fb9f3a"
             ],
             [
              0.8888888888888888,
              "#fdca26"
             ],
             [
              1,
              "#f0f921"
             ]
            ],
            "type": "heatmapgl"
           }
          ],
          "histogram": [
           {
            "marker": {
             "colorbar": {
              "outlinewidth": 0,
              "ticks": ""
             }
            },
            "type": "histogram"
           }
          ],
          "histogram2d": [
           {
            "colorbar": {
             "outlinewidth": 0,
             "ticks": ""
            },
            "colorscale": [
             [
              0,
              "#0d0887"
             ],
             [
              0.1111111111111111,
              "#46039f"
             ],
             [
              0.2222222222222222,
              "#7201a8"
             ],
             [
              0.3333333333333333,
              "#9c179e"
             ],
             [
              0.4444444444444444,
              "#bd3786"
             ],
             [
              0.5555555555555556,
              "#d8576b"
             ],
             [
              0.6666666666666666,
              "#ed7953"
             ],
             [
              0.7777777777777778,
              "#fb9f3a"
             ],
             [
              0.8888888888888888,
              "#fdca26"
             ],
             [
              1,
              "#f0f921"
             ]
            ],
            "type": "histogram2d"
           }
          ],
          "histogram2dcontour": [
           {
            "colorbar": {
             "outlinewidth": 0,
             "ticks": ""
            },
            "colorscale": [
             [
              0,
              "#0d0887"
             ],
             [
              0.1111111111111111,
              "#46039f"
             ],
             [
              0.2222222222222222,
              "#7201a8"
             ],
             [
              0.3333333333333333,
              "#9c179e"
             ],
             [
              0.4444444444444444,
              "#bd3786"
             ],
             [
              0.5555555555555556,
              "#d8576b"
             ],
             [
              0.6666666666666666,
              "#ed7953"
             ],
             [
              0.7777777777777778,
              "#fb9f3a"
             ],
             [
              0.8888888888888888,
              "#fdca26"
             ],
             [
              1,
              "#f0f921"
             ]
            ],
            "type": "histogram2dcontour"
           }
          ],
          "mesh3d": [
           {
            "colorbar": {
             "outlinewidth": 0,
             "ticks": ""
            },
            "type": "mesh3d"
           }
          ],
          "parcoords": [
           {
            "line": {
             "colorbar": {
              "outlinewidth": 0,
              "ticks": ""
             }
            },
            "type": "parcoords"
           }
          ],
          "pie": [
           {
            "automargin": true,
            "type": "pie"
           }
          ],
          "scatter": [
           {
            "marker": {
             "colorbar": {
              "outlinewidth": 0,
              "ticks": ""
             }
            },
            "type": "scatter"
           }
          ],
          "scatter3d": [
           {
            "line": {
             "colorbar": {
              "outlinewidth": 0,
              "ticks": ""
             }
            },
            "marker": {
             "colorbar": {
              "outlinewidth": 0,
              "ticks": ""
             }
            },
            "type": "scatter3d"
           }
          ],
          "scattercarpet": [
           {
            "marker": {
             "colorbar": {
              "outlinewidth": 0,
              "ticks": ""
             }
            },
            "type": "scattercarpet"
           }
          ],
          "scattergeo": [
           {
            "marker": {
             "colorbar": {
              "outlinewidth": 0,
              "ticks": ""
             }
            },
            "type": "scattergeo"
           }
          ],
          "scattergl": [
           {
            "marker": {
             "colorbar": {
              "outlinewidth": 0,
              "ticks": ""
             }
            },
            "type": "scattergl"
           }
          ],
          "scattermapbox": [
           {
            "marker": {
             "colorbar": {
              "outlinewidth": 0,
              "ticks": ""
             }
            },
            "type": "scattermapbox"
           }
          ],
          "scatterpolar": [
           {
            "marker": {
             "colorbar": {
              "outlinewidth": 0,
              "ticks": ""
             }
            },
            "type": "scatterpolar"
           }
          ],
          "scatterpolargl": [
           {
            "marker": {
             "colorbar": {
              "outlinewidth": 0,
              "ticks": ""
             }
            },
            "type": "scatterpolargl"
           }
          ],
          "scatterternary": [
           {
            "marker": {
             "colorbar": {
              "outlinewidth": 0,
              "ticks": ""
             }
            },
            "type": "scatterternary"
           }
          ],
          "surface": [
           {
            "colorbar": {
             "outlinewidth": 0,
             "ticks": ""
            },
            "colorscale": [
             [
              0,
              "#0d0887"
             ],
             [
              0.1111111111111111,
              "#46039f"
             ],
             [
              0.2222222222222222,
              "#7201a8"
             ],
             [
              0.3333333333333333,
              "#9c179e"
             ],
             [
              0.4444444444444444,
              "#bd3786"
             ],
             [
              0.5555555555555556,
              "#d8576b"
             ],
             [
              0.6666666666666666,
              "#ed7953"
             ],
             [
              0.7777777777777778,
              "#fb9f3a"
             ],
             [
              0.8888888888888888,
              "#fdca26"
             ],
             [
              1,
              "#f0f921"
             ]
            ],
            "type": "surface"
           }
          ],
          "table": [
           {
            "cells": {
             "fill": {
              "color": "#EBF0F8"
             },
             "line": {
              "color": "white"
             }
            },
            "header": {
             "fill": {
              "color": "#C8D4E3"
             },
             "line": {
              "color": "white"
             }
            },
            "type": "table"
           }
          ]
         },
         "layout": {
          "annotationdefaults": {
           "arrowcolor": "#2a3f5f",
           "arrowhead": 0,
           "arrowwidth": 1
          },
          "coloraxis": {
           "colorbar": {
            "outlinewidth": 0,
            "ticks": ""
           }
          },
          "colorscale": {
           "diverging": [
            [
             0,
             "#8e0152"
            ],
            [
             0.1,
             "#c51b7d"
            ],
            [
             0.2,
             "#de77ae"
            ],
            [
             0.3,
             "#f1b6da"
            ],
            [
             0.4,
             "#fde0ef"
            ],
            [
             0.5,
             "#f7f7f7"
            ],
            [
             0.6,
             "#e6f5d0"
            ],
            [
             0.7,
             "#b8e186"
            ],
            [
             0.8,
             "#7fbc41"
            ],
            [
             0.9,
             "#4d9221"
            ],
            [
             1,
             "#276419"
            ]
           ],
           "sequential": [
            [
             0,
             "#0d0887"
            ],
            [
             0.1111111111111111,
             "#46039f"
            ],
            [
             0.2222222222222222,
             "#7201a8"
            ],
            [
             0.3333333333333333,
             "#9c179e"
            ],
            [
             0.4444444444444444,
             "#bd3786"
            ],
            [
             0.5555555555555556,
             "#d8576b"
            ],
            [
             0.6666666666666666,
             "#ed7953"
            ],
            [
             0.7777777777777778,
             "#fb9f3a"
            ],
            [
             0.8888888888888888,
             "#fdca26"
            ],
            [
             1,
             "#f0f921"
            ]
           ],
           "sequentialminus": [
            [
             0,
             "#0d0887"
            ],
            [
             0.1111111111111111,
             "#46039f"
            ],
            [
             0.2222222222222222,
             "#7201a8"
            ],
            [
             0.3333333333333333,
             "#9c179e"
            ],
            [
             0.4444444444444444,
             "#bd3786"
            ],
            [
             0.5555555555555556,
             "#d8576b"
            ],
            [
             0.6666666666666666,
             "#ed7953"
            ],
            [
             0.7777777777777778,
             "#fb9f3a"
            ],
            [
             0.8888888888888888,
             "#fdca26"
            ],
            [
             1,
             "#f0f921"
            ]
           ]
          },
          "colorway": [
           "#636efa",
           "#EF553B",
           "#00cc96",
           "#ab63fa",
           "#FFA15A",
           "#19d3f3",
           "#FF6692",
           "#B6E880",
           "#FF97FF",
           "#FECB52"
          ],
          "font": {
           "color": "#2a3f5f"
          },
          "geo": {
           "bgcolor": "white",
           "lakecolor": "white",
           "landcolor": "#E5ECF6",
           "showlakes": true,
           "showland": true,
           "subunitcolor": "white"
          },
          "hoverlabel": {
           "align": "left"
          },
          "hovermode": "closest",
          "mapbox": {
           "style": "light"
          },
          "paper_bgcolor": "white",
          "plot_bgcolor": "#E5ECF6",
          "polar": {
           "angularaxis": {
            "gridcolor": "white",
            "linecolor": "white",
            "ticks": ""
           },
           "bgcolor": "#E5ECF6",
           "radialaxis": {
            "gridcolor": "white",
            "linecolor": "white",
            "ticks": ""
           }
          },
          "scene": {
           "xaxis": {
            "backgroundcolor": "#E5ECF6",
            "gridcolor": "white",
            "gridwidth": 2,
            "linecolor": "white",
            "showbackground": true,
            "ticks": "",
            "zerolinecolor": "white"
           },
           "yaxis": {
            "backgroundcolor": "#E5ECF6",
            "gridcolor": "white",
            "gridwidth": 2,
            "linecolor": "white",
            "showbackground": true,
            "ticks": "",
            "zerolinecolor": "white"
           },
           "zaxis": {
            "backgroundcolor": "#E5ECF6",
            "gridcolor": "white",
            "gridwidth": 2,
            "linecolor": "white",
            "showbackground": true,
            "ticks": "",
            "zerolinecolor": "white"
           }
          },
          "shapedefaults": {
           "line": {
            "color": "#2a3f5f"
           }
          },
          "ternary": {
           "aaxis": {
            "gridcolor": "white",
            "linecolor": "white",
            "ticks": ""
           },
           "baxis": {
            "gridcolor": "white",
            "linecolor": "white",
            "ticks": ""
           },
           "bgcolor": "#E5ECF6",
           "caxis": {
            "gridcolor": "white",
            "linecolor": "white",
            "ticks": ""
           }
          },
          "title": {
           "x": 0.05
          },
          "xaxis": {
           "automargin": true,
           "gridcolor": "white",
           "linecolor": "white",
           "ticks": "",
           "title": {
            "standoff": 15
           },
           "zerolinecolor": "white",
           "zerolinewidth": 2
          },
          "yaxis": {
           "automargin": true,
           "gridcolor": "white",
           "linecolor": "white",
           "ticks": "",
           "title": {
            "standoff": 15
           },
           "zerolinecolor": "white",
           "zerolinewidth": 2
          }
         }
        },
        "title": {
         "font": {
          "color": "#4D5663"
         }
        },
        "xaxis": {
         "gridcolor": "#E1E5ED",
         "showgrid": true,
         "tickfont": {
          "color": "#4D5663"
         },
         "title": {
          "font": {
           "color": "#4D5663"
          },
          "text": ""
         },
         "zerolinecolor": "#E1E5ED"
        },
        "yaxis": {
         "gridcolor": "#E1E5ED",
         "showgrid": true,
         "tickfont": {
          "color": "#4D5663"
         },
         "title": {
          "font": {
           "color": "#4D5663"
          },
          "text": ""
         },
         "zerolinecolor": "#E1E5ED"
        }
       }
      },
      "text/html": [
       "<div>\n",
       "        \n",
       "        \n",
       "            <div id=\"e0525ba5-5bfd-416d-a268-ac75d3bc577a\" class=\"plotly-graph-div\" style=\"height:525px; width:100%;\"></div>\n",
       "            <script type=\"text/javascript\">\n",
       "                require([\"plotly\"], function(Plotly) {\n",
       "                    window.PLOTLYENV=window.PLOTLYENV || {};\n",
       "                    window.PLOTLYENV.BASE_URL='https://plot.ly';\n",
       "                    \n",
       "                if (document.getElementById(\"e0525ba5-5bfd-416d-a268-ac75d3bc577a\")) {\n",
       "                    Plotly.newPlot(\n",
       "                        'e0525ba5-5bfd-416d-a268-ac75d3bc577a',\n",
       "                        [{\"line\": {\"color\": \"rgba(255, 153, 51, 1.0)\", \"dash\": \"solid\", \"shape\": \"linear\", \"width\": 1.3}, \"mode\": \"lines\", \"name\": \"\\uac15\\ub0a8\\uad6c\", \"text\": \"\", \"type\": \"scatter\", \"x\": [\"1\", \"2\", \"3\", \"4\", \"5\", \"6\", \"7\", \"8\", \"9\"], \"y\": [1464470, 1457961, 532682, 37547905, 935201, 3769920, 4521334, 18473343, 5800001]}, {\"line\": {\"color\": \"rgba(55, 128, 191, 1.0)\", \"dash\": \"solid\", \"shape\": \"linear\", \"width\": 1.3}, \"mode\": \"lines\", \"name\": \"\\uac15\\ub3d9\\uad6c\", \"text\": \"\", \"type\": \"scatter\", \"x\": [\"1\", \"2\", \"3\", \"4\", \"5\", \"6\", \"7\", \"8\", \"9\"], \"y\": [31693, 582724, 185876, 6208346, 162045, 125322, 1684308, 5203573, 406762]}, {\"line\": {\"color\": \"rgba(50, 171, 96, 1.0)\", \"dash\": \"solid\", \"shape\": \"linear\", \"width\": 1.3}, \"mode\": \"lines\", \"name\": \"\\uac15\\ubd81\\uad6c\", \"text\": \"\", \"type\": \"scatter\", \"x\": [\"1\", \"2\", \"3\", \"4\", \"5\", \"6\", \"7\", \"8\", \"9\"], \"y\": [14242, 208367, 42653, 2027223, 32362, 25817, 529838, 1807479, 232737]}, {\"line\": {\"color\": \"rgba(128, 0, 128, 1.0)\", \"dash\": \"solid\", \"shape\": \"linear\", \"width\": 1.3}, \"mode\": \"lines\", \"name\": \"\\uac15\\uc11c\\uad6c\", \"text\": \"\", \"type\": \"scatter\", \"x\": [\"1\", \"2\", \"3\", \"4\", \"5\", \"6\", \"7\", \"8\", \"9\"], \"y\": [758711, 640083, 449746, 12245286, 181529, 273440, 1820369, 6976096, 593793]}, {\"line\": {\"color\": \"rgba(219, 64, 82, 1.0)\", \"dash\": \"solid\", \"shape\": \"linear\", \"width\": 1.3}, \"mode\": \"lines\", \"name\": \"\\uad00\\uc545\\uad6c\", \"text\": \"\", \"type\": \"scatter\", \"x\": [\"1\", \"2\", \"3\", \"4\", \"5\", \"6\", \"7\", \"8\", \"9\"], \"y\": [39022, 806491, 208474, 8090786, 372653, 39675, 1525855, 6291168, 244148]}, {\"line\": {\"color\": \"rgba(0, 128, 128, 1.0)\", \"dash\": \"solid\", \"shape\": \"linear\", \"width\": 1.3}, \"mode\": \"lines\", \"name\": \"\\uad11\\uc9c4\\uad6c\", \"text\": \"\", \"type\": \"scatter\", \"x\": [\"1\", \"2\", \"3\", \"4\", \"5\", \"6\", \"7\", \"8\", \"9\"], \"y\": [195771, 585194, 336041, 5134596, 132603, 80447, 1306960, 5211558, 326114]}, {\"line\": {\"color\": \"rgba(255, 255, 51, 1.0)\", \"dash\": \"solid\", \"shape\": \"linear\", \"width\": 1.3}, \"mode\": \"lines\", \"name\": \"\\uad6c\\ub85c\\uad6c\", \"text\": \"\", \"type\": \"scatter\", \"x\": [\"1\", \"2\", \"3\", \"4\", \"5\", \"6\", \"7\", \"8\", \"9\"], \"y\": [52528, 440882, 426418, 38498146, 243341, 941573, 1588344, 5410284, 1065236]}, {\"line\": {\"color\": \"rgba(128, 128, 0, 1.0)\", \"dash\": \"solid\", \"shape\": \"linear\", \"width\": 1.3}, \"mode\": \"lines\", \"name\": \"\\uae08\\ucc9c\\uad6c\", \"text\": \"\", \"type\": \"scatter\", \"x\": [\"1\", \"2\", \"3\", \"4\", \"5\", \"6\", \"7\", \"8\", \"9\"], \"y\": [25991, 282048, 334972, 5284084, 115976, 147640, 824059, 3985826, 186875]}, {\"line\": {\"color\": \"rgba(251, 128, 114, 1.0)\", \"dash\": \"solid\", \"shape\": \"linear\", \"width\": 1.3}, \"mode\": \"lines\", \"name\": \"\\ub178\\uc6d0\\uad6c\", \"text\": \"\", \"type\": \"scatter\", \"x\": [\"1\", \"2\", \"3\", \"4\", \"5\", \"6\", \"7\", \"8\", \"9\"], \"y\": [16947, 613687, 207664, 5768857, 218454, 54096, 1569239, 4748921, 330396]}, {\"line\": {\"color\": \"rgba(128, 177, 211, 1.0)\", \"dash\": \"solid\", \"shape\": \"linear\", \"width\": 1.3}, \"mode\": \"lines\", \"name\": \"\\ub3c4\\ubd09\\uad6c\", \"text\": \"\", \"type\": \"scatter\", \"x\": [\"1\", \"2\", \"3\", \"4\", \"5\", \"6\", \"7\", \"8\", \"9\"], \"y\": [6998, 268117, 209620, 3057588, 77068, 46585, 732179, 2259867, 145035]}, {\"line\": {\"color\": \"rgba(128, 177, 211, 0.8999999999999999)\", \"dash\": \"solid\", \"shape\": \"linear\", \"width\": 1.3}, \"mode\": \"lines\", \"name\": \"\\ub3d9\\ub300\\ubb38\\uad6c\", \"text\": \"\", \"type\": \"scatter\", \"x\": [\"1\", \"2\", \"3\", \"4\", \"5\", \"6\", \"7\", \"8\", \"9\"], \"y\": [24088, 464924, 236899, 4851054, 166824, 84570, 1322194, 4714848, 721858]}, {\"line\": {\"color\": \"rgba(255, 153, 51, 0.8999999999999999)\", \"dash\": \"solid\", \"shape\": \"linear\", \"width\": 1.3}, \"mode\": \"lines\", \"name\": \"\\ub3d9\\uc791\\uad6c\", \"text\": \"\", \"type\": \"scatter\", \"x\": [\"1\", \"2\", \"3\", \"4\", \"5\", \"6\", \"7\", \"8\", \"9\"], \"y\": [21795889, 516855, 173078, 7088511, 154727, 102436, 1340610, 7448339, 217245]}, {\"line\": {\"color\": \"rgba(55, 128, 191, 0.8999999999999999)\", \"dash\": \"solid\", \"shape\": \"linear\", \"width\": 1.3}, \"mode\": \"lines\", \"name\": \"\\ub9c8\\ud3ec\\uad6c\", \"text\": \"\", \"type\": \"scatter\", \"x\": [\"1\", \"2\", \"3\", \"4\", \"5\", \"6\", \"7\", \"8\", \"9\"], \"y\": [37094, 678119, 153499, 57626517, 323986, 632548, 1586739, 9981676, 640977]}, {\"line\": {\"color\": \"rgba(50, 171, 96, 0.8999999999999999)\", \"dash\": \"solid\", \"shape\": \"linear\", \"width\": 1.3}, \"mode\": \"lines\", \"name\": \"\\uc11c\\ub300\\ubb38\\uad6c\", \"text\": \"\", \"type\": \"scatter\", \"x\": [\"1\", \"2\", \"3\", \"4\", \"5\", \"6\", \"7\", \"8\", \"9\"], \"y\": [27093, 470540, 217278, 4606227, 215497, 167997, 1520576, 4971158, 502531]}, {\"line\": {\"color\": \"rgba(128, 0, 128, 0.8999999999999999)\", \"dash\": \"solid\", \"shape\": \"linear\", \"width\": 1.3}, \"mode\": \"lines\", \"name\": \"\\uc11c\\ucd08\\uad6c\", \"text\": \"\", \"type\": \"scatter\", \"x\": [\"1\", \"2\", \"3\", \"4\", \"5\", \"6\", \"7\", \"8\", \"9\"], \"y\": [1804893, 543807, 608341, 14066706, 385831, 1305018, 2169884, 10706479, 94613544]}, {\"line\": {\"color\": \"rgba(219, 64, 82, 0.8999999999999999)\", \"dash\": \"solid\", \"shape\": \"linear\", \"width\": 1.3}, \"mode\": \"lines\", \"name\": \"\\uc131\\ub3d9\\uad6c\", \"text\": \"\", \"type\": \"scatter\", \"x\": [\"1\", \"2\", \"3\", \"4\", \"5\", \"6\", \"7\", \"8\", \"9\"], \"y\": [15915, 306915, 280674, 4319787, 152855, 375945, 926079, 4664436, 345636]}, {\"line\": {\"color\": \"rgba(0, 128, 128, 0.8999999999999999)\", \"dash\": \"solid\", \"shape\": \"linear\", \"width\": 1.3}, \"mode\": \"lines\", \"name\": \"\\uc131\\ubd81\\uad6c\", \"text\": \"\", \"type\": \"scatter\", \"x\": [\"1\", \"2\", \"3\", \"4\", \"5\", \"6\", \"7\", \"8\", \"9\"], \"y\": [15007, 412620, 446672, 4648477, 216798, 48607, 1154995, 4088921, 182163]}, {\"line\": {\"color\": \"rgba(255, 255, 51, 0.8999999999999999)\", \"dash\": \"solid\", \"shape\": \"linear\", \"width\": 1.3}, \"mode\": \"lines\", \"name\": \"\\uc1a1\\ud30c\\uad6c\", \"text\": \"\", \"type\": \"scatter\", \"x\": [\"1\", \"2\", \"3\", \"4\", \"5\", \"6\", \"7\", \"8\", \"9\"], \"y\": [315206, 931103, 520674, 10471387, 298116, 361358, 2816508, 9477096, 631635]}, {\"line\": {\"color\": \"rgba(128, 128, 0, 0.8999999999999999)\", \"dash\": \"solid\", \"shape\": \"linear\", \"width\": 1.3}, \"mode\": \"lines\", \"name\": \"\\uc591\\ucc9c\\uad6c\", \"text\": \"\", \"type\": \"scatter\", \"x\": [\"1\", \"2\", \"3\", \"4\", \"5\", \"6\", \"7\", \"8\", \"9\"], \"y\": [452073, 449532, 337248, 11831269, 199316, 75947, 1340486, 4190947, 283882]}, {\"line\": {\"color\": \"rgba(251, 128, 114, 0.8999999999999999)\", \"dash\": \"solid\", \"shape\": \"linear\", \"width\": 1.3}, \"mode\": \"lines\", \"name\": \"\\uc601\\ub4f1\\ud3ec\\uad6c\", \"text\": \"\", \"type\": \"scatter\", \"x\": [\"1\", \"2\", \"3\", \"4\", \"5\", \"6\", \"7\", \"8\", \"9\"], \"y\": [92953, 475430, 1270496, 10038008, 218431, 1078345, 1842155, 8517904, 629740]}, {\"line\": {\"color\": \"rgba(251, 128, 114, 0.7999999999999998)\", \"dash\": \"solid\", \"shape\": \"linear\", \"width\": 1.3}, \"mode\": \"lines\", \"name\": \"\\uc6a9\\uc0b0\\uad6c\", \"text\": \"\", \"type\": \"scatter\", \"x\": [\"1\", \"2\", \"3\", \"4\", \"5\", \"6\", \"7\", \"8\", \"9\"], \"y\": [43429, 530929, 175485, 52703563, 167034, 408167, 773614, 5870548, 5333267]}, {\"line\": {\"color\": \"rgba(128, 177, 211, 0.7999999999999998)\", \"dash\": \"solid\", \"shape\": \"linear\", \"width\": 1.3}, \"mode\": \"lines\", \"name\": \"\\uc740\\ud3c9\\uad6c\", \"text\": \"\", \"type\": \"scatter\", \"x\": [\"1\", \"2\", \"3\", \"4\", \"5\", \"6\", \"7\", \"8\", \"9\"], \"y\": [24640, 409894, 256011, 5222978, 140102, 45555, 1341004, 4017636, 203184]}, {\"line\": {\"color\": \"rgba(255, 153, 51, 0.7999999999999998)\", \"dash\": \"solid\", \"shape\": \"linear\", \"width\": 1.3}, \"mode\": \"lines\", \"name\": \"\\uc885\\ub85c\\uad6c\", \"text\": \"\", \"type\": \"scatter\", \"x\": [\"1\", \"2\", \"3\", \"4\", \"5\", \"6\", \"7\", \"8\", \"9\"], \"y\": [79718, 404846, 88627, 3874081, 1192677, 5571594, 1627348, 7848965, 654306]}, {\"line\": {\"color\": \"rgba(55, 128, 191, 0.7999999999999998)\", \"dash\": \"solid\", \"shape\": \"linear\", \"width\": 1.3}, \"mode\": \"lines\", \"name\": \"\\uc911\\uad6c\", \"text\": \"\", \"type\": \"scatter\", \"x\": [\"1\", \"2\", \"3\", \"4\", \"5\", \"6\", \"7\", \"8\", \"9\"], \"y\": [41345994, 612916, 312069, 31453594, 434807, 1757403, 1260992, 15437742, 7320421]}, {\"line\": {\"color\": \"rgba(50, 171, 96, 0.7999999999999998)\", \"dash\": \"solid\", \"shape\": \"linear\", \"width\": 1.3}, \"mode\": \"lines\", \"name\": \"\\uc911\\ub791\\uad6c\", \"text\": \"\", \"type\": \"scatter\", \"x\": [\"1\", \"2\", \"3\", \"4\", \"5\", \"6\", \"7\", \"8\", \"9\"], \"y\": [23164, 400150, 258355, 4354291, 90530, 44547, 1089355, 3129882, 136268]}],\n",
       "                        {\"legend\": {\"bgcolor\": \"#F5F6F9\", \"font\": {\"color\": \"#4D5663\"}}, \"paper_bgcolor\": \"#F5F6F9\", \"plot_bgcolor\": \"#F5F6F9\", \"template\": {\"data\": {\"bar\": [{\"error_x\": {\"color\": \"#2a3f5f\"}, \"error_y\": {\"color\": \"#2a3f5f\"}, \"marker\": {\"line\": {\"color\": \"#E5ECF6\", \"width\": 0.5}}, \"type\": \"bar\"}], \"barpolar\": [{\"marker\": {\"line\": {\"color\": \"#E5ECF6\", \"width\": 0.5}}, \"type\": \"barpolar\"}], \"carpet\": [{\"aaxis\": {\"endlinecolor\": \"#2a3f5f\", \"gridcolor\": \"white\", \"linecolor\": \"white\", \"minorgridcolor\": \"white\", \"startlinecolor\": \"#2a3f5f\"}, \"baxis\": {\"endlinecolor\": \"#2a3f5f\", \"gridcolor\": \"white\", \"linecolor\": \"white\", \"minorgridcolor\": \"white\", \"startlinecolor\": \"#2a3f5f\"}, \"type\": \"carpet\"}], \"choropleth\": [{\"colorbar\": {\"outlinewidth\": 0, \"ticks\": \"\"}, \"type\": \"choropleth\"}], \"contour\": [{\"colorbar\": {\"outlinewidth\": 0, \"ticks\": \"\"}, \"colorscale\": [[0.0, \"#0d0887\"], [0.1111111111111111, \"#46039f\"], [0.2222222222222222, \"#7201a8\"], [0.3333333333333333, \"#9c179e\"], [0.4444444444444444, \"#bd3786\"], [0.5555555555555556, \"#d8576b\"], [0.6666666666666666, \"#ed7953\"], [0.7777777777777778, \"#fb9f3a\"], [0.8888888888888888, \"#fdca26\"], [1.0, \"#f0f921\"]], \"type\": \"contour\"}], \"contourcarpet\": [{\"colorbar\": {\"outlinewidth\": 0, \"ticks\": \"\"}, \"type\": \"contourcarpet\"}], \"heatmap\": [{\"colorbar\": {\"outlinewidth\": 0, \"ticks\": \"\"}, \"colorscale\": [[0.0, \"#0d0887\"], [0.1111111111111111, \"#46039f\"], [0.2222222222222222, \"#7201a8\"], [0.3333333333333333, \"#9c179e\"], [0.4444444444444444, \"#bd3786\"], [0.5555555555555556, \"#d8576b\"], [0.6666666666666666, \"#ed7953\"], [0.7777777777777778, \"#fb9f3a\"], [0.8888888888888888, \"#fdca26\"], [1.0, \"#f0f921\"]], \"type\": \"heatmap\"}], \"heatmapgl\": [{\"colorbar\": {\"outlinewidth\": 0, \"ticks\": \"\"}, \"colorscale\": [[0.0, \"#0d0887\"], [0.1111111111111111, \"#46039f\"], [0.2222222222222222, \"#7201a8\"], [0.3333333333333333, \"#9c179e\"], [0.4444444444444444, \"#bd3786\"], [0.5555555555555556, \"#d8576b\"], [0.6666666666666666, \"#ed7953\"], [0.7777777777777778, \"#fb9f3a\"], [0.8888888888888888, \"#fdca26\"], [1.0, \"#f0f921\"]], \"type\": \"heatmapgl\"}], \"histogram\": [{\"marker\": {\"colorbar\": {\"outlinewidth\": 0, \"ticks\": \"\"}}, \"type\": \"histogram\"}], \"histogram2d\": [{\"colorbar\": {\"outlinewidth\": 0, \"ticks\": \"\"}, \"colorscale\": [[0.0, \"#0d0887\"], [0.1111111111111111, \"#46039f\"], [0.2222222222222222, \"#7201a8\"], [0.3333333333333333, \"#9c179e\"], [0.4444444444444444, \"#bd3786\"], [0.5555555555555556, \"#d8576b\"], [0.6666666666666666, \"#ed7953\"], [0.7777777777777778, \"#fb9f3a\"], [0.8888888888888888, \"#fdca26\"], [1.0, \"#f0f921\"]], \"type\": \"histogram2d\"}], \"histogram2dcontour\": [{\"colorbar\": {\"outlinewidth\": 0, \"ticks\": \"\"}, \"colorscale\": [[0.0, \"#0d0887\"], [0.1111111111111111, \"#46039f\"], [0.2222222222222222, \"#7201a8\"], [0.3333333333333333, \"#9c179e\"], [0.4444444444444444, \"#bd3786\"], [0.5555555555555556, \"#d8576b\"], [0.6666666666666666, \"#ed7953\"], [0.7777777777777778, \"#fb9f3a\"], [0.8888888888888888, \"#fdca26\"], [1.0, \"#f0f921\"]], \"type\": \"histogram2dcontour\"}], \"mesh3d\": [{\"colorbar\": {\"outlinewidth\": 0, \"ticks\": \"\"}, \"type\": \"mesh3d\"}], \"parcoords\": [{\"line\": {\"colorbar\": {\"outlinewidth\": 0, \"ticks\": \"\"}}, \"type\": \"parcoords\"}], \"pie\": [{\"automargin\": true, \"type\": \"pie\"}], \"scatter\": [{\"marker\": {\"colorbar\": {\"outlinewidth\": 0, \"ticks\": \"\"}}, \"type\": \"scatter\"}], \"scatter3d\": [{\"line\": {\"colorbar\": {\"outlinewidth\": 0, \"ticks\": \"\"}}, \"marker\": {\"colorbar\": {\"outlinewidth\": 0, \"ticks\": \"\"}}, \"type\": \"scatter3d\"}], \"scattercarpet\": [{\"marker\": {\"colorbar\": {\"outlinewidth\": 0, \"ticks\": \"\"}}, \"type\": \"scattercarpet\"}], \"scattergeo\": [{\"marker\": {\"colorbar\": {\"outlinewidth\": 0, \"ticks\": \"\"}}, \"type\": \"scattergeo\"}], \"scattergl\": [{\"marker\": {\"colorbar\": {\"outlinewidth\": 0, \"ticks\": \"\"}}, \"type\": \"scattergl\"}], \"scattermapbox\": [{\"marker\": {\"colorbar\": {\"outlinewidth\": 0, \"ticks\": \"\"}}, \"type\": \"scattermapbox\"}], \"scatterpolar\": [{\"marker\": {\"colorbar\": {\"outlinewidth\": 0, \"ticks\": \"\"}}, \"type\": \"scatterpolar\"}], \"scatterpolargl\": [{\"marker\": {\"colorbar\": {\"outlinewidth\": 0, \"ticks\": \"\"}}, \"type\": \"scatterpolargl\"}], \"scatterternary\": [{\"marker\": {\"colorbar\": {\"outlinewidth\": 0, \"ticks\": \"\"}}, \"type\": \"scatterternary\"}], \"surface\": [{\"colorbar\": {\"outlinewidth\": 0, \"ticks\": \"\"}, \"colorscale\": [[0.0, \"#0d0887\"], [0.1111111111111111, \"#46039f\"], [0.2222222222222222, \"#7201a8\"], [0.3333333333333333, \"#9c179e\"], [0.4444444444444444, \"#bd3786\"], [0.5555555555555556, \"#d8576b\"], [0.6666666666666666, \"#ed7953\"], [0.7777777777777778, \"#fb9f3a\"], [0.8888888888888888, \"#fdca26\"], [1.0, \"#f0f921\"]], \"type\": \"surface\"}], \"table\": [{\"cells\": {\"fill\": {\"color\": \"#EBF0F8\"}, \"line\": {\"color\": \"white\"}}, \"header\": {\"fill\": {\"color\": \"#C8D4E3\"}, \"line\": {\"color\": \"white\"}}, \"type\": \"table\"}]}, \"layout\": {\"annotationdefaults\": {\"arrowcolor\": \"#2a3f5f\", \"arrowhead\": 0, \"arrowwidth\": 1}, \"coloraxis\": {\"colorbar\": {\"outlinewidth\": 0, \"ticks\": \"\"}}, \"colorscale\": {\"diverging\": [[0, \"#8e0152\"], [0.1, \"#c51b7d\"], [0.2, \"#de77ae\"], [0.3, \"#f1b6da\"], [0.4, \"#fde0ef\"], [0.5, \"#f7f7f7\"], [0.6, \"#e6f5d0\"], [0.7, \"#b8e186\"], [0.8, \"#7fbc41\"], [0.9, \"#4d9221\"], [1, \"#276419\"]], \"sequential\": [[0.0, \"#0d0887\"], [0.1111111111111111, \"#46039f\"], [0.2222222222222222, \"#7201a8\"], [0.3333333333333333, \"#9c179e\"], [0.4444444444444444, \"#bd3786\"], [0.5555555555555556, \"#d8576b\"], [0.6666666666666666, \"#ed7953\"], [0.7777777777777778, \"#fb9f3a\"], [0.8888888888888888, \"#fdca26\"], [1.0, \"#f0f921\"]], \"sequentialminus\": [[0.0, \"#0d0887\"], [0.1111111111111111, \"#46039f\"], [0.2222222222222222, \"#7201a8\"], [0.3333333333333333, \"#9c179e\"], [0.4444444444444444, \"#bd3786\"], [0.5555555555555556, \"#d8576b\"], [0.6666666666666666, \"#ed7953\"], [0.7777777777777778, \"#fb9f3a\"], [0.8888888888888888, \"#fdca26\"], [1.0, \"#f0f921\"]]}, \"colorway\": [\"#636efa\", \"#EF553B\", \"#00cc96\", \"#ab63fa\", \"#FFA15A\", \"#19d3f3\", \"#FF6692\", \"#B6E880\", \"#FF97FF\", \"#FECB52\"], \"font\": {\"color\": \"#2a3f5f\"}, \"geo\": {\"bgcolor\": \"white\", \"lakecolor\": \"white\", \"landcolor\": \"#E5ECF6\", \"showlakes\": true, \"showland\": true, \"subunitcolor\": \"white\"}, \"hoverlabel\": {\"align\": \"left\"}, \"hovermode\": \"closest\", \"mapbox\": {\"style\": \"light\"}, \"paper_bgcolor\": \"white\", \"plot_bgcolor\": \"#E5ECF6\", \"polar\": {\"angularaxis\": {\"gridcolor\": \"white\", \"linecolor\": \"white\", \"ticks\": \"\"}, \"bgcolor\": \"#E5ECF6\", \"radialaxis\": {\"gridcolor\": \"white\", \"linecolor\": \"white\", \"ticks\": \"\"}}, \"scene\": {\"xaxis\": {\"backgroundcolor\": \"#E5ECF6\", \"gridcolor\": \"white\", \"gridwidth\": 2, \"linecolor\": \"white\", \"showbackground\": true, \"ticks\": \"\", \"zerolinecolor\": \"white\"}, \"yaxis\": {\"backgroundcolor\": \"#E5ECF6\", \"gridcolor\": \"white\", \"gridwidth\": 2, \"linecolor\": \"white\", \"showbackground\": true, \"ticks\": \"\", \"zerolinecolor\": \"white\"}, \"zaxis\": {\"backgroundcolor\": \"#E5ECF6\", \"gridcolor\": \"white\", \"gridwidth\": 2, \"linecolor\": \"white\", \"showbackground\": true, \"ticks\": \"\", \"zerolinecolor\": \"white\"}}, \"shapedefaults\": {\"line\": {\"color\": \"#2a3f5f\"}}, \"ternary\": {\"aaxis\": {\"gridcolor\": \"white\", \"linecolor\": \"white\", \"ticks\": \"\"}, \"baxis\": {\"gridcolor\": \"white\", \"linecolor\": \"white\", \"ticks\": \"\"}, \"bgcolor\": \"#E5ECF6\", \"caxis\": {\"gridcolor\": \"white\", \"linecolor\": \"white\", \"ticks\": \"\"}}, \"title\": {\"x\": 0.05}, \"xaxis\": {\"automargin\": true, \"gridcolor\": \"white\", \"linecolor\": \"white\", \"ticks\": \"\", \"title\": {\"standoff\": 15}, \"zerolinecolor\": \"white\", \"zerolinewidth\": 2}, \"yaxis\": {\"automargin\": true, \"gridcolor\": \"white\", \"linecolor\": \"white\", \"ticks\": \"\", \"title\": {\"standoff\": 15}, \"zerolinecolor\": \"white\", \"zerolinewidth\": 2}}}, \"title\": {\"font\": {\"color\": \"#4D5663\"}}, \"xaxis\": {\"gridcolor\": \"#E1E5ED\", \"showgrid\": true, \"tickfont\": {\"color\": \"#4D5663\"}, \"title\": {\"font\": {\"color\": \"#4D5663\"}, \"text\": \"\"}, \"zerolinecolor\": \"#E1E5ED\"}, \"yaxis\": {\"gridcolor\": \"#E1E5ED\", \"showgrid\": true, \"tickfont\": {\"color\": \"#4D5663\"}, \"title\": {\"font\": {\"color\": \"#4D5663\"}, \"text\": \"\"}, \"zerolinecolor\": \"#E1E5ED\"}},\n",
       "                        {\"showLink\": true, \"linkText\": \"Export to plot.ly\", \"plotlyServerURL\": \"https://plot.ly\", \"responsive\": true}\n",
       "                    ).then(function(){\n",
       "                            \n",
       "var gd = document.getElementById('e0525ba5-5bfd-416d-a268-ac75d3bc577a');\n",
       "var x = new MutationObserver(function (mutations, observer) {{\n",
       "        var display = window.getComputedStyle(gd).display;\n",
       "        if (!display || display === 'none') {{\n",
       "            console.log([gd, 'removed!']);\n",
       "            Plotly.purge(gd);\n",
       "            observer.disconnect();\n",
       "        }}\n",
       "}});\n",
       "\n",
       "// Listen for the removal of the full notebook cells\n",
       "var notebookContainer = gd.closest('#notebook-container');\n",
       "if (notebookContainer) {{\n",
       "    x.observe(notebookContainer, {childList: true});\n",
       "}}\n",
       "\n",
       "// Listen for the clearing of the current output cell\n",
       "var outputEl = gd.closest('.output');\n",
       "if (outputEl) {{\n",
       "    x.observe(outputEl, {childList: true});\n",
       "}}\n",
       "\n",
       "                        })\n",
       "                };\n",
       "                });\n",
       "            </script>\n",
       "        </div>"
      ]
     },
     "metadata": {},
     "output_type": "display_data"
    }
   ],
   "source": [
    "# x축 : 각 업종 별 코드\n",
    "# 1:'관광',2:'취미',3:'생활',4:'쇼핑',5:'교육',6:'차량',7:'의료',8:'음식',9:'기타'\n",
    "# y축 : 업종 코드 별 각 구의 매출 발생 건수\n",
    "\n",
    "card_gu_pivot1.iplot(kind='line')"
   ]
  },
  {
   "cell_type": "markdown",
   "metadata": {},
   "source": [
    "### 카드 사용 접수 월 별 각 구의 매출 발생 건수를 그래프로 시각화 "
   ]
  },
  {
   "cell_type": "code",
   "execution_count": 127,
   "metadata": {
    "ExecuteTime": {
     "end_time": "2020-07-30T17:59:15.177383Z",
     "start_time": "2020-07-30T17:59:14.218975Z"
    }
   },
   "outputs": [
    {
     "data": {
      "text/html": [
       "<div>\n",
       "<style scoped>\n",
       "    .dataframe tbody tr th:only-of-type {\n",
       "        vertical-align: middle;\n",
       "    }\n",
       "\n",
       "    .dataframe tbody tr th {\n",
       "        vertical-align: top;\n",
       "    }\n",
       "\n",
       "    .dataframe thead th {\n",
       "        text-align: right;\n",
       "    }\n",
       "</style>\n",
       "<table border=\"1\" class=\"dataframe\">\n",
       "  <thead>\n",
       "    <tr style=\"text-align: right;\">\n",
       "      <th>구</th>\n",
       "      <th>강남구</th>\n",
       "      <th>강동구</th>\n",
       "      <th>강북구</th>\n",
       "      <th>강서구</th>\n",
       "      <th>관악구</th>\n",
       "      <th>광진구</th>\n",
       "      <th>구로구</th>\n",
       "      <th>금천구</th>\n",
       "      <th>노원구</th>\n",
       "      <th>도봉구</th>\n",
       "      <th>...</th>\n",
       "      <th>성동구</th>\n",
       "      <th>성북구</th>\n",
       "      <th>송파구</th>\n",
       "      <th>양천구</th>\n",
       "      <th>영등포구</th>\n",
       "      <th>용산구</th>\n",
       "      <th>은평구</th>\n",
       "      <th>종로구</th>\n",
       "      <th>중구</th>\n",
       "      <th>중랑구</th>\n",
       "    </tr>\n",
       "    <tr>\n",
       "      <th>카드사용접수일</th>\n",
       "      <th></th>\n",
       "      <th></th>\n",
       "      <th></th>\n",
       "      <th></th>\n",
       "      <th></th>\n",
       "      <th></th>\n",
       "      <th></th>\n",
       "      <th></th>\n",
       "      <th></th>\n",
       "      <th></th>\n",
       "      <th></th>\n",
       "      <th></th>\n",
       "      <th></th>\n",
       "      <th></th>\n",
       "      <th></th>\n",
       "      <th></th>\n",
       "      <th></th>\n",
       "      <th></th>\n",
       "      <th></th>\n",
       "      <th></th>\n",
       "      <th></th>\n",
       "    </tr>\n",
       "  </thead>\n",
       "  <tbody>\n",
       "    <tr>\n",
       "      <th>01</th>\n",
       "      <td>11890505</td>\n",
       "      <td>2243566</td>\n",
       "      <td>752969</td>\n",
       "      <td>3957003</td>\n",
       "      <td>2942820</td>\n",
       "      <td>2202868</td>\n",
       "      <td>7809806</td>\n",
       "      <td>1796153</td>\n",
       "      <td>2156370</td>\n",
       "      <td>1033066</td>\n",
       "      <td>...</td>\n",
       "      <td>1730482</td>\n",
       "      <td>1740131</td>\n",
       "      <td>4276690</td>\n",
       "      <td>3148920</td>\n",
       "      <td>3754154</td>\n",
       "      <td>9806785</td>\n",
       "      <td>1879370</td>\n",
       "      <td>3903744</td>\n",
       "      <td>19653014</td>\n",
       "      <td>1508122</td>\n",
       "    </tr>\n",
       "    <tr>\n",
       "      <th>02</th>\n",
       "      <td>10607989</td>\n",
       "      <td>1958558</td>\n",
       "      <td>656233</td>\n",
       "      <td>3282732</td>\n",
       "      <td>2437286</td>\n",
       "      <td>1802197</td>\n",
       "      <td>6727556</td>\n",
       "      <td>1543124</td>\n",
       "      <td>1849240</td>\n",
       "      <td>909526</td>\n",
       "      <td>...</td>\n",
       "      <td>1571623</td>\n",
       "      <td>1498921</td>\n",
       "      <td>3573306</td>\n",
       "      <td>2650965</td>\n",
       "      <td>3299758</td>\n",
       "      <td>9017602</td>\n",
       "      <td>1557559</td>\n",
       "      <td>3272043</td>\n",
       "      <td>13740693</td>\n",
       "      <td>1273891</td>\n",
       "    </tr>\n",
       "    <tr>\n",
       "      <th>03</th>\n",
       "      <td>14399547</td>\n",
       "      <td>2868228</td>\n",
       "      <td>967828</td>\n",
       "      <td>4587210</td>\n",
       "      <td>3434597</td>\n",
       "      <td>2560642</td>\n",
       "      <td>9761422</td>\n",
       "      <td>2150956</td>\n",
       "      <td>2605530</td>\n",
       "      <td>1362367</td>\n",
       "      <td>...</td>\n",
       "      <td>2225794</td>\n",
       "      <td>2189270</td>\n",
       "      <td>4985424</td>\n",
       "      <td>3752071</td>\n",
       "      <td>4667322</td>\n",
       "      <td>14099344</td>\n",
       "      <td>2255283</td>\n",
       "      <td>3922384</td>\n",
       "      <td>17988601</td>\n",
       "      <td>1878997</td>\n",
       "    </tr>\n",
       "    <tr>\n",
       "      <th>04</th>\n",
       "      <td>14575330</td>\n",
       "      <td>2912666</td>\n",
       "      <td>974359</td>\n",
       "      <td>4718057</td>\n",
       "      <td>3428699</td>\n",
       "      <td>2589655</td>\n",
       "      <td>9750934</td>\n",
       "      <td>2230436</td>\n",
       "      <td>2633537</td>\n",
       "      <td>1355207</td>\n",
       "      <td>...</td>\n",
       "      <td>2305808</td>\n",
       "      <td>2227360</td>\n",
       "      <td>5067956</td>\n",
       "      <td>3658637</td>\n",
       "      <td>4814450</td>\n",
       "      <td>13081286</td>\n",
       "      <td>2294725</td>\n",
       "      <td>4146742</td>\n",
       "      <td>18707727</td>\n",
       "      <td>1871258</td>\n",
       "    </tr>\n",
       "    <tr>\n",
       "      <th>05</th>\n",
       "      <td>15673398</td>\n",
       "      <td>3150215</td>\n",
       "      <td>1073218</td>\n",
       "      <td>5054977</td>\n",
       "      <td>3664304</td>\n",
       "      <td>2843679</td>\n",
       "      <td>9930268</td>\n",
       "      <td>2352576</td>\n",
       "      <td>2904848</td>\n",
       "      <td>1467480</td>\n",
       "      <td>...</td>\n",
       "      <td>2420898</td>\n",
       "      <td>2407502</td>\n",
       "      <td>5426361</td>\n",
       "      <td>4079727</td>\n",
       "      <td>5159745</td>\n",
       "      <td>13426375</td>\n",
       "      <td>2508031</td>\n",
       "      <td>4427498</td>\n",
       "      <td>20296394</td>\n",
       "      <td>2045673</td>\n",
       "    </tr>\n",
       "    <tr>\n",
       "      <th>06</th>\n",
       "      <td>7356048</td>\n",
       "      <td>1457416</td>\n",
       "      <td>496111</td>\n",
       "      <td>2339074</td>\n",
       "      <td>1710566</td>\n",
       "      <td>1310243</td>\n",
       "      <td>4686766</td>\n",
       "      <td>1114226</td>\n",
       "      <td>1378736</td>\n",
       "      <td>675411</td>\n",
       "      <td>...</td>\n",
       "      <td>1133637</td>\n",
       "      <td>1151076</td>\n",
       "      <td>2493346</td>\n",
       "      <td>1870380</td>\n",
       "      <td>2468033</td>\n",
       "      <td>6574644</td>\n",
       "      <td>1166036</td>\n",
       "      <td>1669751</td>\n",
       "      <td>9549509</td>\n",
       "      <td>948601</td>\n",
       "    </tr>\n",
       "  </tbody>\n",
       "</table>\n",
       "<p>6 rows × 25 columns</p>\n",
       "</div>"
      ],
      "text/plain": [
       "구             강남구      강동구      강북구      강서구      관악구      광진구      구로구  \\\n",
       "카드사용접수일                                                                   \n",
       "01       11890505  2243566   752969  3957003  2942820  2202868  7809806   \n",
       "02       10607989  1958558   656233  3282732  2437286  1802197  6727556   \n",
       "03       14399547  2868228   967828  4587210  3434597  2560642  9761422   \n",
       "04       14575330  2912666   974359  4718057  3428699  2589655  9750934   \n",
       "05       15673398  3150215  1073218  5054977  3664304  2843679  9930268   \n",
       "06        7356048  1457416   496111  2339074  1710566  1310243  4686766   \n",
       "\n",
       "구            금천구      노원구      도봉구  ...      성동구      성북구      송파구      양천구  \\\n",
       "카드사용접수일                             ...                                       \n",
       "01       1796153  2156370  1033066  ...  1730482  1740131  4276690  3148920   \n",
       "02       1543124  1849240   909526  ...  1571623  1498921  3573306  2650965   \n",
       "03       2150956  2605530  1362367  ...  2225794  2189270  4985424  3752071   \n",
       "04       2230436  2633537  1355207  ...  2305808  2227360  5067956  3658637   \n",
       "05       2352576  2904848  1467480  ...  2420898  2407502  5426361  4079727   \n",
       "06       1114226  1378736   675411  ...  1133637  1151076  2493346  1870380   \n",
       "\n",
       "구           영등포구       용산구      은평구      종로구        중구      중랑구  \n",
       "카드사용접수일                                                          \n",
       "01       3754154   9806785  1879370  3903744  19653014  1508122  \n",
       "02       3299758   9017602  1557559  3272043  13740693  1273891  \n",
       "03       4667322  14099344  2255283  3922384  17988601  1878997  \n",
       "04       4814450  13081286  2294725  4146742  18707727  1871258  \n",
       "05       5159745  13426375  2508031  4427498  20296394  2045673  \n",
       "06       2468033   6574644  1166036  1669751   9549509   948601  \n",
       "\n",
       "[6 rows x 25 columns]"
      ]
     },
     "execution_count": 127,
     "metadata": {},
     "output_type": "execute_result"
    }
   ],
   "source": [
    "# 카드사용 접수 일을 월별로 grouping\n",
    "# 각 구 별로 매출 발생 건수를 value로 grouping\n",
    "\n",
    "card_gu_pivot2=pd.pivot_table(card_gu, index='카드사용접수일', columns='구', values='매출발생건수', aggfunc='sum')\n",
    "card_gu_pivot2"
   ]
  },
  {
   "cell_type": "code",
   "execution_count": 128,
   "metadata": {
    "ExecuteTime": {
     "end_time": "2020-07-30T17:59:24.669028Z",
     "start_time": "2020-07-30T17:59:24.615144Z"
    }
   },
   "outputs": [
    {
     "data": {
      "application/vnd.plotly.v1+json": {
       "config": {
        "linkText": "Export to plot.ly",
        "plotlyServerURL": "https://plot.ly",
        "showLink": true
       },
       "data": [
        {
         "line": {
          "color": "rgba(255, 153, 51, 1.0)",
          "dash": "solid",
          "shape": "linear",
          "width": 1.3
         },
         "mode": "lines",
         "name": "강남구",
         "text": "",
         "type": "scatter",
         "x": [
          "01",
          "02",
          "03",
          "04",
          "05",
          "06"
         ],
         "y": [
          11890505,
          10607989,
          14399547,
          14575330,
          15673398,
          7356048
         ]
        },
        {
         "line": {
          "color": "rgba(55, 128, 191, 1.0)",
          "dash": "solid",
          "shape": "linear",
          "width": 1.3
         },
         "mode": "lines",
         "name": "강동구",
         "text": "",
         "type": "scatter",
         "x": [
          "01",
          "02",
          "03",
          "04",
          "05",
          "06"
         ],
         "y": [
          2243566,
          1958558,
          2868228,
          2912666,
          3150215,
          1457416
         ]
        },
        {
         "line": {
          "color": "rgba(50, 171, 96, 1.0)",
          "dash": "solid",
          "shape": "linear",
          "width": 1.3
         },
         "mode": "lines",
         "name": "강북구",
         "text": "",
         "type": "scatter",
         "x": [
          "01",
          "02",
          "03",
          "04",
          "05",
          "06"
         ],
         "y": [
          752969,
          656233,
          967828,
          974359,
          1073218,
          496111
         ]
        },
        {
         "line": {
          "color": "rgba(128, 0, 128, 1.0)",
          "dash": "solid",
          "shape": "linear",
          "width": 1.3
         },
         "mode": "lines",
         "name": "강서구",
         "text": "",
         "type": "scatter",
         "x": [
          "01",
          "02",
          "03",
          "04",
          "05",
          "06"
         ],
         "y": [
          3957003,
          3282732,
          4587210,
          4718057,
          5054977,
          2339074
         ]
        },
        {
         "line": {
          "color": "rgba(219, 64, 82, 1.0)",
          "dash": "solid",
          "shape": "linear",
          "width": 1.3
         },
         "mode": "lines",
         "name": "관악구",
         "text": "",
         "type": "scatter",
         "x": [
          "01",
          "02",
          "03",
          "04",
          "05",
          "06"
         ],
         "y": [
          2942820,
          2437286,
          3434597,
          3428699,
          3664304,
          1710566
         ]
        },
        {
         "line": {
          "color": "rgba(0, 128, 128, 1.0)",
          "dash": "solid",
          "shape": "linear",
          "width": 1.3
         },
         "mode": "lines",
         "name": "광진구",
         "text": "",
         "type": "scatter",
         "x": [
          "01",
          "02",
          "03",
          "04",
          "05",
          "06"
         ],
         "y": [
          2202868,
          1802197,
          2560642,
          2589655,
          2843679,
          1310243
         ]
        },
        {
         "line": {
          "color": "rgba(255, 255, 51, 1.0)",
          "dash": "solid",
          "shape": "linear",
          "width": 1.3
         },
         "mode": "lines",
         "name": "구로구",
         "text": "",
         "type": "scatter",
         "x": [
          "01",
          "02",
          "03",
          "04",
          "05",
          "06"
         ],
         "y": [
          7809806,
          6727556,
          9761422,
          9750934,
          9930268,
          4686766
         ]
        },
        {
         "line": {
          "color": "rgba(128, 128, 0, 1.0)",
          "dash": "solid",
          "shape": "linear",
          "width": 1.3
         },
         "mode": "lines",
         "name": "금천구",
         "text": "",
         "type": "scatter",
         "x": [
          "01",
          "02",
          "03",
          "04",
          "05",
          "06"
         ],
         "y": [
          1796153,
          1543124,
          2150956,
          2230436,
          2352576,
          1114226
         ]
        },
        {
         "line": {
          "color": "rgba(251, 128, 114, 1.0)",
          "dash": "solid",
          "shape": "linear",
          "width": 1.3
         },
         "mode": "lines",
         "name": "노원구",
         "text": "",
         "type": "scatter",
         "x": [
          "01",
          "02",
          "03",
          "04",
          "05",
          "06"
         ],
         "y": [
          2156370,
          1849240,
          2605530,
          2633537,
          2904848,
          1378736
         ]
        },
        {
         "line": {
          "color": "rgba(128, 177, 211, 1.0)",
          "dash": "solid",
          "shape": "linear",
          "width": 1.3
         },
         "mode": "lines",
         "name": "도봉구",
         "text": "",
         "type": "scatter",
         "x": [
          "01",
          "02",
          "03",
          "04",
          "05",
          "06"
         ],
         "y": [
          1033066,
          909526,
          1362367,
          1355207,
          1467480,
          675411
         ]
        },
        {
         "line": {
          "color": "rgba(128, 177, 211, 0.8999999999999999)",
          "dash": "solid",
          "shape": "linear",
          "width": 1.3
         },
         "mode": "lines",
         "name": "동대문구",
         "text": "",
         "type": "scatter",
         "x": [
          "01",
          "02",
          "03",
          "04",
          "05",
          "06"
         ],
         "y": [
          1991856,
          1658273,
          2403824,
          2467867,
          2705888,
          1359551
         ]
        },
        {
         "line": {
          "color": "rgba(255, 153, 51, 0.8999999999999999)",
          "dash": "solid",
          "shape": "linear",
          "width": 1.3
         },
         "mode": "lines",
         "name": "동작구",
         "text": "",
         "type": "scatter",
         "x": [
          "01",
          "02",
          "03",
          "04",
          "05",
          "06"
         ],
         "y": [
          6091514,
          5541803,
          7019174,
          7504950,
          8611085,
          4069164
         ]
        },
        {
         "line": {
          "color": "rgba(55, 128, 191, 0.8999999999999999)",
          "dash": "solid",
          "shape": "linear",
          "width": 1.3
         },
         "mode": "lines",
         "name": "마포구",
         "text": "",
         "type": "scatter",
         "x": [
          "01",
          "02",
          "03",
          "04",
          "05",
          "06"
         ],
         "y": [
          11091137,
          9676940,
          14393384,
          13809745,
          15461637,
          7228312
         ]
        },
        {
         "line": {
          "color": "rgba(50, 171, 96, 0.8999999999999999)",
          "dash": "solid",
          "shape": "linear",
          "width": 1.3
         },
         "mode": "lines",
         "name": "서대문구",
         "text": "",
         "type": "scatter",
         "x": [
          "01",
          "02",
          "03",
          "04",
          "05",
          "06"
         ],
         "y": [
          2189729,
          1758709,
          2412544,
          2482170,
          2617205,
          1238540
         ]
        },
        {
         "line": {
          "color": "rgba(128, 0, 128, 0.8999999999999999)",
          "dash": "solid",
          "shape": "linear",
          "width": 1.3
         },
         "mode": "lines",
         "name": "서초구",
         "text": "",
         "type": "scatter",
         "x": [
          "01",
          "02",
          "03",
          "04",
          "05",
          "06"
         ],
         "y": [
          17930517,
          20173162,
          24148384,
          24340165,
          25128902,
          14483373
         ]
        },
        {
         "line": {
          "color": "rgba(219, 64, 82, 0.8999999999999999)",
          "dash": "solid",
          "shape": "linear",
          "width": 1.3
         },
         "mode": "lines",
         "name": "성동구",
         "text": "",
         "type": "scatter",
         "x": [
          "01",
          "02",
          "03",
          "04",
          "05",
          "06"
         ],
         "y": [
          1730482,
          1571623,
          2225794,
          2305808,
          2420898,
          1133637
         ]
        },
        {
         "line": {
          "color": "rgba(0, 128, 128, 0.8999999999999999)",
          "dash": "solid",
          "shape": "linear",
          "width": 1.3
         },
         "mode": "lines",
         "name": "성북구",
         "text": "",
         "type": "scatter",
         "x": [
          "01",
          "02",
          "03",
          "04",
          "05",
          "06"
         ],
         "y": [
          1740131,
          1498921,
          2189270,
          2227360,
          2407502,
          1151076
         ]
        },
        {
         "line": {
          "color": "rgba(255, 255, 51, 0.8999999999999999)",
          "dash": "solid",
          "shape": "linear",
          "width": 1.3
         },
         "mode": "lines",
         "name": "송파구",
         "text": "",
         "type": "scatter",
         "x": [
          "01",
          "02",
          "03",
          "04",
          "05",
          "06"
         ],
         "y": [
          4276690,
          3573306,
          4985424,
          5067956,
          5426361,
          2493346
         ]
        },
        {
         "line": {
          "color": "rgba(128, 128, 0, 0.8999999999999999)",
          "dash": "solid",
          "shape": "linear",
          "width": 1.3
         },
         "mode": "lines",
         "name": "양천구",
         "text": "",
         "type": "scatter",
         "x": [
          "01",
          "02",
          "03",
          "04",
          "05",
          "06"
         ],
         "y": [
          3148920,
          2650965,
          3752071,
          3658637,
          4079727,
          1870380
         ]
        },
        {
         "line": {
          "color": "rgba(251, 128, 114, 0.8999999999999999)",
          "dash": "solid",
          "shape": "linear",
          "width": 1.3
         },
         "mode": "lines",
         "name": "영등포구",
         "text": "",
         "type": "scatter",
         "x": [
          "01",
          "02",
          "03",
          "04",
          "05",
          "06"
         ],
         "y": [
          3754154,
          3299758,
          4667322,
          4814450,
          5159745,
          2468033
         ]
        },
        {
         "line": {
          "color": "rgba(251, 128, 114, 0.7999999999999998)",
          "dash": "solid",
          "shape": "linear",
          "width": 1.3
         },
         "mode": "lines",
         "name": "용산구",
         "text": "",
         "type": "scatter",
         "x": [
          "01",
          "02",
          "03",
          "04",
          "05",
          "06"
         ],
         "y": [
          9806785,
          9017602,
          14099344,
          13081286,
          13426375,
          6574644
         ]
        },
        {
         "line": {
          "color": "rgba(128, 177, 211, 0.7999999999999998)",
          "dash": "solid",
          "shape": "linear",
          "width": 1.3
         },
         "mode": "lines",
         "name": "은평구",
         "text": "",
         "type": "scatter",
         "x": [
          "01",
          "02",
          "03",
          "04",
          "05",
          "06"
         ],
         "y": [
          1879370,
          1557559,
          2255283,
          2294725,
          2508031,
          1166036
         ]
        },
        {
         "line": {
          "color": "rgba(255, 153, 51, 0.7999999999999998)",
          "dash": "solid",
          "shape": "linear",
          "width": 1.3
         },
         "mode": "lines",
         "name": "종로구",
         "text": "",
         "type": "scatter",
         "x": [
          "01",
          "02",
          "03",
          "04",
          "05",
          "06"
         ],
         "y": [
          3903744,
          3272043,
          3922384,
          4146742,
          4427498,
          1669751
         ]
        },
        {
         "line": {
          "color": "rgba(55, 128, 191, 0.7999999999999998)",
          "dash": "solid",
          "shape": "linear",
          "width": 1.3
         },
         "mode": "lines",
         "name": "중구",
         "text": "",
         "type": "scatter",
         "x": [
          "01",
          "02",
          "03",
          "04",
          "05",
          "06"
         ],
         "y": [
          19653014,
          13740693,
          17988601,
          18707727,
          20296394,
          9549509
         ]
        },
        {
         "line": {
          "color": "rgba(50, 171, 96, 0.7999999999999998)",
          "dash": "solid",
          "shape": "linear",
          "width": 1.3
         },
         "mode": "lines",
         "name": "중랑구",
         "text": "",
         "type": "scatter",
         "x": [
          "01",
          "02",
          "03",
          "04",
          "05",
          "06"
         ],
         "y": [
          1508122,
          1273891,
          1878997,
          1871258,
          2045673,
          948601
         ]
        }
       ],
       "layout": {
        "legend": {
         "bgcolor": "#F5F6F9",
         "font": {
          "color": "#4D5663"
         }
        },
        "paper_bgcolor": "#F5F6F9",
        "plot_bgcolor": "#F5F6F9",
        "template": {
         "data": {
          "bar": [
           {
            "error_x": {
             "color": "#2a3f5f"
            },
            "error_y": {
             "color": "#2a3f5f"
            },
            "marker": {
             "line": {
              "color": "#E5ECF6",
              "width": 0.5
             }
            },
            "type": "bar"
           }
          ],
          "barpolar": [
           {
            "marker": {
             "line": {
              "color": "#E5ECF6",
              "width": 0.5
             }
            },
            "type": "barpolar"
           }
          ],
          "carpet": [
           {
            "aaxis": {
             "endlinecolor": "#2a3f5f",
             "gridcolor": "white",
             "linecolor": "white",
             "minorgridcolor": "white",
             "startlinecolor": "#2a3f5f"
            },
            "baxis": {
             "endlinecolor": "#2a3f5f",
             "gridcolor": "white",
             "linecolor": "white",
             "minorgridcolor": "white",
             "startlinecolor": "#2a3f5f"
            },
            "type": "carpet"
           }
          ],
          "choropleth": [
           {
            "colorbar": {
             "outlinewidth": 0,
             "ticks": ""
            },
            "type": "choropleth"
           }
          ],
          "contour": [
           {
            "colorbar": {
             "outlinewidth": 0,
             "ticks": ""
            },
            "colorscale": [
             [
              0,
              "#0d0887"
             ],
             [
              0.1111111111111111,
              "#46039f"
             ],
             [
              0.2222222222222222,
              "#7201a8"
             ],
             [
              0.3333333333333333,
              "#9c179e"
             ],
             [
              0.4444444444444444,
              "#bd3786"
             ],
             [
              0.5555555555555556,
              "#d8576b"
             ],
             [
              0.6666666666666666,
              "#ed7953"
             ],
             [
              0.7777777777777778,
              "#fb9f3a"
             ],
             [
              0.8888888888888888,
              "#fdca26"
             ],
             [
              1,
              "#f0f921"
             ]
            ],
            "type": "contour"
           }
          ],
          "contourcarpet": [
           {
            "colorbar": {
             "outlinewidth": 0,
             "ticks": ""
            },
            "type": "contourcarpet"
           }
          ],
          "heatmap": [
           {
            "colorbar": {
             "outlinewidth": 0,
             "ticks": ""
            },
            "colorscale": [
             [
              0,
              "#0d0887"
             ],
             [
              0.1111111111111111,
              "#46039f"
             ],
             [
              0.2222222222222222,
              "#7201a8"
             ],
             [
              0.3333333333333333,
              "#9c179e"
             ],
             [
              0.4444444444444444,
              "#bd3786"
             ],
             [
              0.5555555555555556,
              "#d8576b"
             ],
             [
              0.6666666666666666,
              "#ed7953"
             ],
             [
              0.7777777777777778,
              "#fb9f3a"
             ],
             [
              0.8888888888888888,
              "#fdca26"
             ],
             [
              1,
              "#f0f921"
             ]
            ],
            "type": "heatmap"
           }
          ],
          "heatmapgl": [
           {
            "colorbar": {
             "outlinewidth": 0,
             "ticks": ""
            },
            "colorscale": [
             [
              0,
              "#0d0887"
             ],
             [
              0.1111111111111111,
              "#46039f"
             ],
             [
              0.2222222222222222,
              "#7201a8"
             ],
             [
              0.3333333333333333,
              "#9c179e"
             ],
             [
              0.4444444444444444,
              "#bd3786"
             ],
             [
              0.5555555555555556,
              "#d8576b"
             ],
             [
              0.6666666666666666,
              "#ed7953"
             ],
             [
              0.7777777777777778,
              "#fb9f3a"
             ],
             [
              0.8888888888888888,
              "#fdca26"
             ],
             [
              1,
              "#f0f921"
             ]
            ],
            "type": "heatmapgl"
           }
          ],
          "histogram": [
           {
            "marker": {
             "colorbar": {
              "outlinewidth": 0,
              "ticks": ""
             }
            },
            "type": "histogram"
           }
          ],
          "histogram2d": [
           {
            "colorbar": {
             "outlinewidth": 0,
             "ticks": ""
            },
            "colorscale": [
             [
              0,
              "#0d0887"
             ],
             [
              0.1111111111111111,
              "#46039f"
             ],
             [
              0.2222222222222222,
              "#7201a8"
             ],
             [
              0.3333333333333333,
              "#9c179e"
             ],
             [
              0.4444444444444444,
              "#bd3786"
             ],
             [
              0.5555555555555556,
              "#d8576b"
             ],
             [
              0.6666666666666666,
              "#ed7953"
             ],
             [
              0.7777777777777778,
              "#fb9f3a"
             ],
             [
              0.8888888888888888,
              "#fdca26"
             ],
             [
              1,
              "#f0f921"
             ]
            ],
            "type": "histogram2d"
           }
          ],
          "histogram2dcontour": [
           {
            "colorbar": {
             "outlinewidth": 0,
             "ticks": ""
            },
            "colorscale": [
             [
              0,
              "#0d0887"
             ],
             [
              0.1111111111111111,
              "#46039f"
             ],
             [
              0.2222222222222222,
              "#7201a8"
             ],
             [
              0.3333333333333333,
              "#9c179e"
             ],
             [
              0.4444444444444444,
              "#bd3786"
             ],
             [
              0.5555555555555556,
              "#d8576b"
             ],
             [
              0.6666666666666666,
              "#ed7953"
             ],
             [
              0.7777777777777778,
              "#fb9f3a"
             ],
             [
              0.8888888888888888,
              "#fdca26"
             ],
             [
              1,
              "#f0f921"
             ]
            ],
            "type": "histogram2dcontour"
           }
          ],
          "mesh3d": [
           {
            "colorbar": {
             "outlinewidth": 0,
             "ticks": ""
            },
            "type": "mesh3d"
           }
          ],
          "parcoords": [
           {
            "line": {
             "colorbar": {
              "outlinewidth": 0,
              "ticks": ""
             }
            },
            "type": "parcoords"
           }
          ],
          "pie": [
           {
            "automargin": true,
            "type": "pie"
           }
          ],
          "scatter": [
           {
            "marker": {
             "colorbar": {
              "outlinewidth": 0,
              "ticks": ""
             }
            },
            "type": "scatter"
           }
          ],
          "scatter3d": [
           {
            "line": {
             "colorbar": {
              "outlinewidth": 0,
              "ticks": ""
             }
            },
            "marker": {
             "colorbar": {
              "outlinewidth": 0,
              "ticks": ""
             }
            },
            "type": "scatter3d"
           }
          ],
          "scattercarpet": [
           {
            "marker": {
             "colorbar": {
              "outlinewidth": 0,
              "ticks": ""
             }
            },
            "type": "scattercarpet"
           }
          ],
          "scattergeo": [
           {
            "marker": {
             "colorbar": {
              "outlinewidth": 0,
              "ticks": ""
             }
            },
            "type": "scattergeo"
           }
          ],
          "scattergl": [
           {
            "marker": {
             "colorbar": {
              "outlinewidth": 0,
              "ticks": ""
             }
            },
            "type": "scattergl"
           }
          ],
          "scattermapbox": [
           {
            "marker": {
             "colorbar": {
              "outlinewidth": 0,
              "ticks": ""
             }
            },
            "type": "scattermapbox"
           }
          ],
          "scatterpolar": [
           {
            "marker": {
             "colorbar": {
              "outlinewidth": 0,
              "ticks": ""
             }
            },
            "type": "scatterpolar"
           }
          ],
          "scatterpolargl": [
           {
            "marker": {
             "colorbar": {
              "outlinewidth": 0,
              "ticks": ""
             }
            },
            "type": "scatterpolargl"
           }
          ],
          "scatterternary": [
           {
            "marker": {
             "colorbar": {
              "outlinewidth": 0,
              "ticks": ""
             }
            },
            "type": "scatterternary"
           }
          ],
          "surface": [
           {
            "colorbar": {
             "outlinewidth": 0,
             "ticks": ""
            },
            "colorscale": [
             [
              0,
              "#0d0887"
             ],
             [
              0.1111111111111111,
              "#46039f"
             ],
             [
              0.2222222222222222,
              "#7201a8"
             ],
             [
              0.3333333333333333,
              "#9c179e"
             ],
             [
              0.4444444444444444,
              "#bd3786"
             ],
             [
              0.5555555555555556,
              "#d8576b"
             ],
             [
              0.6666666666666666,
              "#ed7953"
             ],
             [
              0.7777777777777778,
              "#fb9f3a"
             ],
             [
              0.8888888888888888,
              "#fdca26"
             ],
             [
              1,
              "#f0f921"
             ]
            ],
            "type": "surface"
           }
          ],
          "table": [
           {
            "cells": {
             "fill": {
              "color": "#EBF0F8"
             },
             "line": {
              "color": "white"
             }
            },
            "header": {
             "fill": {
              "color": "#C8D4E3"
             },
             "line": {
              "color": "white"
             }
            },
            "type": "table"
           }
          ]
         },
         "layout": {
          "annotationdefaults": {
           "arrowcolor": "#2a3f5f",
           "arrowhead": 0,
           "arrowwidth": 1
          },
          "coloraxis": {
           "colorbar": {
            "outlinewidth": 0,
            "ticks": ""
           }
          },
          "colorscale": {
           "diverging": [
            [
             0,
             "#8e0152"
            ],
            [
             0.1,
             "#c51b7d"
            ],
            [
             0.2,
             "#de77ae"
            ],
            [
             0.3,
             "#f1b6da"
            ],
            [
             0.4,
             "#fde0ef"
            ],
            [
             0.5,
             "#f7f7f7"
            ],
            [
             0.6,
             "#e6f5d0"
            ],
            [
             0.7,
             "#b8e186"
            ],
            [
             0.8,
             "#7fbc41"
            ],
            [
             0.9,
             "#4d9221"
            ],
            [
             1,
             "#276419"
            ]
           ],
           "sequential": [
            [
             0,
             "#0d0887"
            ],
            [
             0.1111111111111111,
             "#46039f"
            ],
            [
             0.2222222222222222,
             "#7201a8"
            ],
            [
             0.3333333333333333,
             "#9c179e"
            ],
            [
             0.4444444444444444,
             "#bd3786"
            ],
            [
             0.5555555555555556,
             "#d8576b"
            ],
            [
             0.6666666666666666,
             "#ed7953"
            ],
            [
             0.7777777777777778,
             "#fb9f3a"
            ],
            [
             0.8888888888888888,
             "#fdca26"
            ],
            [
             1,
             "#f0f921"
            ]
           ],
           "sequentialminus": [
            [
             0,
             "#0d0887"
            ],
            [
             0.1111111111111111,
             "#46039f"
            ],
            [
             0.2222222222222222,
             "#7201a8"
            ],
            [
             0.3333333333333333,
             "#9c179e"
            ],
            [
             0.4444444444444444,
             "#bd3786"
            ],
            [
             0.5555555555555556,
             "#d8576b"
            ],
            [
             0.6666666666666666,
             "#ed7953"
            ],
            [
             0.7777777777777778,
             "#fb9f3a"
            ],
            [
             0.8888888888888888,
             "#fdca26"
            ],
            [
             1,
             "#f0f921"
            ]
           ]
          },
          "colorway": [
           "#636efa",
           "#EF553B",
           "#00cc96",
           "#ab63fa",
           "#FFA15A",
           "#19d3f3",
           "#FF6692",
           "#B6E880",
           "#FF97FF",
           "#FECB52"
          ],
          "font": {
           "color": "#2a3f5f"
          },
          "geo": {
           "bgcolor": "white",
           "lakecolor": "white",
           "landcolor": "#E5ECF6",
           "showlakes": true,
           "showland": true,
           "subunitcolor": "white"
          },
          "hoverlabel": {
           "align": "left"
          },
          "hovermode": "closest",
          "mapbox": {
           "style": "light"
          },
          "paper_bgcolor": "white",
          "plot_bgcolor": "#E5ECF6",
          "polar": {
           "angularaxis": {
            "gridcolor": "white",
            "linecolor": "white",
            "ticks": ""
           },
           "bgcolor": "#E5ECF6",
           "radialaxis": {
            "gridcolor": "white",
            "linecolor": "white",
            "ticks": ""
           }
          },
          "scene": {
           "xaxis": {
            "backgroundcolor": "#E5ECF6",
            "gridcolor": "white",
            "gridwidth": 2,
            "linecolor": "white",
            "showbackground": true,
            "ticks": "",
            "zerolinecolor": "white"
           },
           "yaxis": {
            "backgroundcolor": "#E5ECF6",
            "gridcolor": "white",
            "gridwidth": 2,
            "linecolor": "white",
            "showbackground": true,
            "ticks": "",
            "zerolinecolor": "white"
           },
           "zaxis": {
            "backgroundcolor": "#E5ECF6",
            "gridcolor": "white",
            "gridwidth": 2,
            "linecolor": "white",
            "showbackground": true,
            "ticks": "",
            "zerolinecolor": "white"
           }
          },
          "shapedefaults": {
           "line": {
            "color": "#2a3f5f"
           }
          },
          "ternary": {
           "aaxis": {
            "gridcolor": "white",
            "linecolor": "white",
            "ticks": ""
           },
           "baxis": {
            "gridcolor": "white",
            "linecolor": "white",
            "ticks": ""
           },
           "bgcolor": "#E5ECF6",
           "caxis": {
            "gridcolor": "white",
            "linecolor": "white",
            "ticks": ""
           }
          },
          "title": {
           "x": 0.05
          },
          "xaxis": {
           "automargin": true,
           "gridcolor": "white",
           "linecolor": "white",
           "ticks": "",
           "title": {
            "standoff": 15
           },
           "zerolinecolor": "white",
           "zerolinewidth": 2
          },
          "yaxis": {
           "automargin": true,
           "gridcolor": "white",
           "linecolor": "white",
           "ticks": "",
           "title": {
            "standoff": 15
           },
           "zerolinecolor": "white",
           "zerolinewidth": 2
          }
         }
        },
        "title": {
         "font": {
          "color": "#4D5663"
         }
        },
        "xaxis": {
         "gridcolor": "#E1E5ED",
         "showgrid": true,
         "tickfont": {
          "color": "#4D5663"
         },
         "title": {
          "font": {
           "color": "#4D5663"
          },
          "text": ""
         },
         "zerolinecolor": "#E1E5ED"
        },
        "yaxis": {
         "gridcolor": "#E1E5ED",
         "showgrid": true,
         "tickfont": {
          "color": "#4D5663"
         },
         "title": {
          "font": {
           "color": "#4D5663"
          },
          "text": ""
         },
         "zerolinecolor": "#E1E5ED"
        }
       }
      },
      "text/html": [
       "<div>\n",
       "        \n",
       "        \n",
       "            <div id=\"8ec049fb-33f3-4581-bf3c-741cff9adc03\" class=\"plotly-graph-div\" style=\"height:525px; width:100%;\"></div>\n",
       "            <script type=\"text/javascript\">\n",
       "                require([\"plotly\"], function(Plotly) {\n",
       "                    window.PLOTLYENV=window.PLOTLYENV || {};\n",
       "                    window.PLOTLYENV.BASE_URL='https://plot.ly';\n",
       "                    \n",
       "                if (document.getElementById(\"8ec049fb-33f3-4581-bf3c-741cff9adc03\")) {\n",
       "                    Plotly.newPlot(\n",
       "                        '8ec049fb-33f3-4581-bf3c-741cff9adc03',\n",
       "                        [{\"line\": {\"color\": \"rgba(255, 153, 51, 1.0)\", \"dash\": \"solid\", \"shape\": \"linear\", \"width\": 1.3}, \"mode\": \"lines\", \"name\": \"\\uac15\\ub0a8\\uad6c\", \"text\": \"\", \"type\": \"scatter\", \"x\": [\"01\", \"02\", \"03\", \"04\", \"05\", \"06\"], \"y\": [11890505, 10607989, 14399547, 14575330, 15673398, 7356048]}, {\"line\": {\"color\": \"rgba(55, 128, 191, 1.0)\", \"dash\": \"solid\", \"shape\": \"linear\", \"width\": 1.3}, \"mode\": \"lines\", \"name\": \"\\uac15\\ub3d9\\uad6c\", \"text\": \"\", \"type\": \"scatter\", \"x\": [\"01\", \"02\", \"03\", \"04\", \"05\", \"06\"], \"y\": [2243566, 1958558, 2868228, 2912666, 3150215, 1457416]}, {\"line\": {\"color\": \"rgba(50, 171, 96, 1.0)\", \"dash\": \"solid\", \"shape\": \"linear\", \"width\": 1.3}, \"mode\": \"lines\", \"name\": \"\\uac15\\ubd81\\uad6c\", \"text\": \"\", \"type\": \"scatter\", \"x\": [\"01\", \"02\", \"03\", \"04\", \"05\", \"06\"], \"y\": [752969, 656233, 967828, 974359, 1073218, 496111]}, {\"line\": {\"color\": \"rgba(128, 0, 128, 1.0)\", \"dash\": \"solid\", \"shape\": \"linear\", \"width\": 1.3}, \"mode\": \"lines\", \"name\": \"\\uac15\\uc11c\\uad6c\", \"text\": \"\", \"type\": \"scatter\", \"x\": [\"01\", \"02\", \"03\", \"04\", \"05\", \"06\"], \"y\": [3957003, 3282732, 4587210, 4718057, 5054977, 2339074]}, {\"line\": {\"color\": \"rgba(219, 64, 82, 1.0)\", \"dash\": \"solid\", \"shape\": \"linear\", \"width\": 1.3}, \"mode\": \"lines\", \"name\": \"\\uad00\\uc545\\uad6c\", \"text\": \"\", \"type\": \"scatter\", \"x\": [\"01\", \"02\", \"03\", \"04\", \"05\", \"06\"], \"y\": [2942820, 2437286, 3434597, 3428699, 3664304, 1710566]}, {\"line\": {\"color\": \"rgba(0, 128, 128, 1.0)\", \"dash\": \"solid\", \"shape\": \"linear\", \"width\": 1.3}, \"mode\": \"lines\", \"name\": \"\\uad11\\uc9c4\\uad6c\", \"text\": \"\", \"type\": \"scatter\", \"x\": [\"01\", \"02\", \"03\", \"04\", \"05\", \"06\"], \"y\": [2202868, 1802197, 2560642, 2589655, 2843679, 1310243]}, {\"line\": {\"color\": \"rgba(255, 255, 51, 1.0)\", \"dash\": \"solid\", \"shape\": \"linear\", \"width\": 1.3}, \"mode\": \"lines\", \"name\": \"\\uad6c\\ub85c\\uad6c\", \"text\": \"\", \"type\": \"scatter\", \"x\": [\"01\", \"02\", \"03\", \"04\", \"05\", \"06\"], \"y\": [7809806, 6727556, 9761422, 9750934, 9930268, 4686766]}, {\"line\": {\"color\": \"rgba(128, 128, 0, 1.0)\", \"dash\": \"solid\", \"shape\": \"linear\", \"width\": 1.3}, \"mode\": \"lines\", \"name\": \"\\uae08\\ucc9c\\uad6c\", \"text\": \"\", \"type\": \"scatter\", \"x\": [\"01\", \"02\", \"03\", \"04\", \"05\", \"06\"], \"y\": [1796153, 1543124, 2150956, 2230436, 2352576, 1114226]}, {\"line\": {\"color\": \"rgba(251, 128, 114, 1.0)\", \"dash\": \"solid\", \"shape\": \"linear\", \"width\": 1.3}, \"mode\": \"lines\", \"name\": \"\\ub178\\uc6d0\\uad6c\", \"text\": \"\", \"type\": \"scatter\", \"x\": [\"01\", \"02\", \"03\", \"04\", \"05\", \"06\"], \"y\": [2156370, 1849240, 2605530, 2633537, 2904848, 1378736]}, {\"line\": {\"color\": \"rgba(128, 177, 211, 1.0)\", \"dash\": \"solid\", \"shape\": \"linear\", \"width\": 1.3}, \"mode\": \"lines\", \"name\": \"\\ub3c4\\ubd09\\uad6c\", \"text\": \"\", \"type\": \"scatter\", \"x\": [\"01\", \"02\", \"03\", \"04\", \"05\", \"06\"], \"y\": [1033066, 909526, 1362367, 1355207, 1467480, 675411]}, {\"line\": {\"color\": \"rgba(128, 177, 211, 0.8999999999999999)\", \"dash\": \"solid\", \"shape\": \"linear\", \"width\": 1.3}, \"mode\": \"lines\", \"name\": \"\\ub3d9\\ub300\\ubb38\\uad6c\", \"text\": \"\", \"type\": \"scatter\", \"x\": [\"01\", \"02\", \"03\", \"04\", \"05\", \"06\"], \"y\": [1991856, 1658273, 2403824, 2467867, 2705888, 1359551]}, {\"line\": {\"color\": \"rgba(255, 153, 51, 0.8999999999999999)\", \"dash\": \"solid\", \"shape\": \"linear\", \"width\": 1.3}, \"mode\": \"lines\", \"name\": \"\\ub3d9\\uc791\\uad6c\", \"text\": \"\", \"type\": \"scatter\", \"x\": [\"01\", \"02\", \"03\", \"04\", \"05\", \"06\"], \"y\": [6091514, 5541803, 7019174, 7504950, 8611085, 4069164]}, {\"line\": {\"color\": \"rgba(55, 128, 191, 0.8999999999999999)\", \"dash\": \"solid\", \"shape\": \"linear\", \"width\": 1.3}, \"mode\": \"lines\", \"name\": \"\\ub9c8\\ud3ec\\uad6c\", \"text\": \"\", \"type\": \"scatter\", \"x\": [\"01\", \"02\", \"03\", \"04\", \"05\", \"06\"], \"y\": [11091137, 9676940, 14393384, 13809745, 15461637, 7228312]}, {\"line\": {\"color\": \"rgba(50, 171, 96, 0.8999999999999999)\", \"dash\": \"solid\", \"shape\": \"linear\", \"width\": 1.3}, \"mode\": \"lines\", \"name\": \"\\uc11c\\ub300\\ubb38\\uad6c\", \"text\": \"\", \"type\": \"scatter\", \"x\": [\"01\", \"02\", \"03\", \"04\", \"05\", \"06\"], \"y\": [2189729, 1758709, 2412544, 2482170, 2617205, 1238540]}, {\"line\": {\"color\": \"rgba(128, 0, 128, 0.8999999999999999)\", \"dash\": \"solid\", \"shape\": \"linear\", \"width\": 1.3}, \"mode\": \"lines\", \"name\": \"\\uc11c\\ucd08\\uad6c\", \"text\": \"\", \"type\": \"scatter\", \"x\": [\"01\", \"02\", \"03\", \"04\", \"05\", \"06\"], \"y\": [17930517, 20173162, 24148384, 24340165, 25128902, 14483373]}, {\"line\": {\"color\": \"rgba(219, 64, 82, 0.8999999999999999)\", \"dash\": \"solid\", \"shape\": \"linear\", \"width\": 1.3}, \"mode\": \"lines\", \"name\": \"\\uc131\\ub3d9\\uad6c\", \"text\": \"\", \"type\": \"scatter\", \"x\": [\"01\", \"02\", \"03\", \"04\", \"05\", \"06\"], \"y\": [1730482, 1571623, 2225794, 2305808, 2420898, 1133637]}, {\"line\": {\"color\": \"rgba(0, 128, 128, 0.8999999999999999)\", \"dash\": \"solid\", \"shape\": \"linear\", \"width\": 1.3}, \"mode\": \"lines\", \"name\": \"\\uc131\\ubd81\\uad6c\", \"text\": \"\", \"type\": \"scatter\", \"x\": [\"01\", \"02\", \"03\", \"04\", \"05\", \"06\"], \"y\": [1740131, 1498921, 2189270, 2227360, 2407502, 1151076]}, {\"line\": {\"color\": \"rgba(255, 255, 51, 0.8999999999999999)\", \"dash\": \"solid\", \"shape\": \"linear\", \"width\": 1.3}, \"mode\": \"lines\", \"name\": \"\\uc1a1\\ud30c\\uad6c\", \"text\": \"\", \"type\": \"scatter\", \"x\": [\"01\", \"02\", \"03\", \"04\", \"05\", \"06\"], \"y\": [4276690, 3573306, 4985424, 5067956, 5426361, 2493346]}, {\"line\": {\"color\": \"rgba(128, 128, 0, 0.8999999999999999)\", \"dash\": \"solid\", \"shape\": \"linear\", \"width\": 1.3}, \"mode\": \"lines\", \"name\": \"\\uc591\\ucc9c\\uad6c\", \"text\": \"\", \"type\": \"scatter\", \"x\": [\"01\", \"02\", \"03\", \"04\", \"05\", \"06\"], \"y\": [3148920, 2650965, 3752071, 3658637, 4079727, 1870380]}, {\"line\": {\"color\": \"rgba(251, 128, 114, 0.8999999999999999)\", \"dash\": \"solid\", \"shape\": \"linear\", \"width\": 1.3}, \"mode\": \"lines\", \"name\": \"\\uc601\\ub4f1\\ud3ec\\uad6c\", \"text\": \"\", \"type\": \"scatter\", \"x\": [\"01\", \"02\", \"03\", \"04\", \"05\", \"06\"], \"y\": [3754154, 3299758, 4667322, 4814450, 5159745, 2468033]}, {\"line\": {\"color\": \"rgba(251, 128, 114, 0.7999999999999998)\", \"dash\": \"solid\", \"shape\": \"linear\", \"width\": 1.3}, \"mode\": \"lines\", \"name\": \"\\uc6a9\\uc0b0\\uad6c\", \"text\": \"\", \"type\": \"scatter\", \"x\": [\"01\", \"02\", \"03\", \"04\", \"05\", \"06\"], \"y\": [9806785, 9017602, 14099344, 13081286, 13426375, 6574644]}, {\"line\": {\"color\": \"rgba(128, 177, 211, 0.7999999999999998)\", \"dash\": \"solid\", \"shape\": \"linear\", \"width\": 1.3}, \"mode\": \"lines\", \"name\": \"\\uc740\\ud3c9\\uad6c\", \"text\": \"\", \"type\": \"scatter\", \"x\": [\"01\", \"02\", \"03\", \"04\", \"05\", \"06\"], \"y\": [1879370, 1557559, 2255283, 2294725, 2508031, 1166036]}, {\"line\": {\"color\": \"rgba(255, 153, 51, 0.7999999999999998)\", \"dash\": \"solid\", \"shape\": \"linear\", \"width\": 1.3}, \"mode\": \"lines\", \"name\": \"\\uc885\\ub85c\\uad6c\", \"text\": \"\", \"type\": \"scatter\", \"x\": [\"01\", \"02\", \"03\", \"04\", \"05\", \"06\"], \"y\": [3903744, 3272043, 3922384, 4146742, 4427498, 1669751]}, {\"line\": {\"color\": \"rgba(55, 128, 191, 0.7999999999999998)\", \"dash\": \"solid\", \"shape\": \"linear\", \"width\": 1.3}, \"mode\": \"lines\", \"name\": \"\\uc911\\uad6c\", \"text\": \"\", \"type\": \"scatter\", \"x\": [\"01\", \"02\", \"03\", \"04\", \"05\", \"06\"], \"y\": [19653014, 13740693, 17988601, 18707727, 20296394, 9549509]}, {\"line\": {\"color\": \"rgba(50, 171, 96, 0.7999999999999998)\", \"dash\": \"solid\", \"shape\": \"linear\", \"width\": 1.3}, \"mode\": \"lines\", \"name\": \"\\uc911\\ub791\\uad6c\", \"text\": \"\", \"type\": \"scatter\", \"x\": [\"01\", \"02\", \"03\", \"04\", \"05\", \"06\"], \"y\": [1508122, 1273891, 1878997, 1871258, 2045673, 948601]}],\n",
       "                        {\"legend\": {\"bgcolor\": \"#F5F6F9\", \"font\": {\"color\": \"#4D5663\"}}, \"paper_bgcolor\": \"#F5F6F9\", \"plot_bgcolor\": \"#F5F6F9\", \"template\": {\"data\": {\"bar\": [{\"error_x\": {\"color\": \"#2a3f5f\"}, \"error_y\": {\"color\": \"#2a3f5f\"}, \"marker\": {\"line\": {\"color\": \"#E5ECF6\", \"width\": 0.5}}, \"type\": \"bar\"}], \"barpolar\": [{\"marker\": {\"line\": {\"color\": \"#E5ECF6\", \"width\": 0.5}}, \"type\": \"barpolar\"}], \"carpet\": [{\"aaxis\": {\"endlinecolor\": \"#2a3f5f\", \"gridcolor\": \"white\", \"linecolor\": \"white\", \"minorgridcolor\": \"white\", \"startlinecolor\": \"#2a3f5f\"}, \"baxis\": {\"endlinecolor\": \"#2a3f5f\", \"gridcolor\": \"white\", \"linecolor\": \"white\", \"minorgridcolor\": \"white\", \"startlinecolor\": \"#2a3f5f\"}, \"type\": \"carpet\"}], \"choropleth\": [{\"colorbar\": {\"outlinewidth\": 0, \"ticks\": \"\"}, \"type\": \"choropleth\"}], \"contour\": [{\"colorbar\": {\"outlinewidth\": 0, \"ticks\": \"\"}, \"colorscale\": [[0.0, \"#0d0887\"], [0.1111111111111111, \"#46039f\"], [0.2222222222222222, \"#7201a8\"], [0.3333333333333333, \"#9c179e\"], [0.4444444444444444, \"#bd3786\"], [0.5555555555555556, \"#d8576b\"], [0.6666666666666666, \"#ed7953\"], [0.7777777777777778, \"#fb9f3a\"], [0.8888888888888888, \"#fdca26\"], [1.0, \"#f0f921\"]], \"type\": \"contour\"}], \"contourcarpet\": [{\"colorbar\": {\"outlinewidth\": 0, \"ticks\": \"\"}, \"type\": \"contourcarpet\"}], \"heatmap\": [{\"colorbar\": {\"outlinewidth\": 0, \"ticks\": \"\"}, \"colorscale\": [[0.0, \"#0d0887\"], [0.1111111111111111, \"#46039f\"], [0.2222222222222222, \"#7201a8\"], [0.3333333333333333, \"#9c179e\"], [0.4444444444444444, \"#bd3786\"], [0.5555555555555556, \"#d8576b\"], [0.6666666666666666, \"#ed7953\"], [0.7777777777777778, \"#fb9f3a\"], [0.8888888888888888, \"#fdca26\"], [1.0, \"#f0f921\"]], \"type\": \"heatmap\"}], \"heatmapgl\": [{\"colorbar\": {\"outlinewidth\": 0, \"ticks\": \"\"}, \"colorscale\": [[0.0, \"#0d0887\"], [0.1111111111111111, \"#46039f\"], [0.2222222222222222, \"#7201a8\"], [0.3333333333333333, \"#9c179e\"], [0.4444444444444444, \"#bd3786\"], [0.5555555555555556, \"#d8576b\"], [0.6666666666666666, \"#ed7953\"], [0.7777777777777778, \"#fb9f3a\"], [0.8888888888888888, \"#fdca26\"], [1.0, \"#f0f921\"]], \"type\": \"heatmapgl\"}], \"histogram\": [{\"marker\": {\"colorbar\": {\"outlinewidth\": 0, \"ticks\": \"\"}}, \"type\": \"histogram\"}], \"histogram2d\": [{\"colorbar\": {\"outlinewidth\": 0, \"ticks\": \"\"}, \"colorscale\": [[0.0, \"#0d0887\"], [0.1111111111111111, \"#46039f\"], [0.2222222222222222, \"#7201a8\"], [0.3333333333333333, \"#9c179e\"], [0.4444444444444444, \"#bd3786\"], [0.5555555555555556, \"#d8576b\"], [0.6666666666666666, \"#ed7953\"], [0.7777777777777778, \"#fb9f3a\"], [0.8888888888888888, \"#fdca26\"], [1.0, \"#f0f921\"]], \"type\": \"histogram2d\"}], \"histogram2dcontour\": [{\"colorbar\": {\"outlinewidth\": 0, \"ticks\": \"\"}, \"colorscale\": [[0.0, \"#0d0887\"], [0.1111111111111111, \"#46039f\"], [0.2222222222222222, \"#7201a8\"], [0.3333333333333333, \"#9c179e\"], [0.4444444444444444, \"#bd3786\"], [0.5555555555555556, \"#d8576b\"], [0.6666666666666666, \"#ed7953\"], [0.7777777777777778, \"#fb9f3a\"], [0.8888888888888888, \"#fdca26\"], [1.0, \"#f0f921\"]], \"type\": \"histogram2dcontour\"}], \"mesh3d\": [{\"colorbar\": {\"outlinewidth\": 0, \"ticks\": \"\"}, \"type\": \"mesh3d\"}], \"parcoords\": [{\"line\": {\"colorbar\": {\"outlinewidth\": 0, \"ticks\": \"\"}}, \"type\": \"parcoords\"}], \"pie\": [{\"automargin\": true, \"type\": \"pie\"}], \"scatter\": [{\"marker\": {\"colorbar\": {\"outlinewidth\": 0, \"ticks\": \"\"}}, \"type\": \"scatter\"}], \"scatter3d\": [{\"line\": {\"colorbar\": {\"outlinewidth\": 0, \"ticks\": \"\"}}, \"marker\": {\"colorbar\": {\"outlinewidth\": 0, \"ticks\": \"\"}}, \"type\": \"scatter3d\"}], \"scattercarpet\": [{\"marker\": {\"colorbar\": {\"outlinewidth\": 0, \"ticks\": \"\"}}, \"type\": \"scattercarpet\"}], \"scattergeo\": [{\"marker\": {\"colorbar\": {\"outlinewidth\": 0, \"ticks\": \"\"}}, \"type\": \"scattergeo\"}], \"scattergl\": [{\"marker\": {\"colorbar\": {\"outlinewidth\": 0, \"ticks\": \"\"}}, \"type\": \"scattergl\"}], \"scattermapbox\": [{\"marker\": {\"colorbar\": {\"outlinewidth\": 0, \"ticks\": \"\"}}, \"type\": \"scattermapbox\"}], \"scatterpolar\": [{\"marker\": {\"colorbar\": {\"outlinewidth\": 0, \"ticks\": \"\"}}, \"type\": \"scatterpolar\"}], \"scatterpolargl\": [{\"marker\": {\"colorbar\": {\"outlinewidth\": 0, \"ticks\": \"\"}}, \"type\": \"scatterpolargl\"}], \"scatterternary\": [{\"marker\": {\"colorbar\": {\"outlinewidth\": 0, \"ticks\": \"\"}}, \"type\": \"scatterternary\"}], \"surface\": [{\"colorbar\": {\"outlinewidth\": 0, \"ticks\": \"\"}, \"colorscale\": [[0.0, \"#0d0887\"], [0.1111111111111111, \"#46039f\"], [0.2222222222222222, \"#7201a8\"], [0.3333333333333333, \"#9c179e\"], [0.4444444444444444, \"#bd3786\"], [0.5555555555555556, \"#d8576b\"], [0.6666666666666666, \"#ed7953\"], [0.7777777777777778, \"#fb9f3a\"], [0.8888888888888888, \"#fdca26\"], [1.0, \"#f0f921\"]], \"type\": \"surface\"}], \"table\": [{\"cells\": {\"fill\": {\"color\": \"#EBF0F8\"}, \"line\": {\"color\": \"white\"}}, \"header\": {\"fill\": {\"color\": \"#C8D4E3\"}, \"line\": {\"color\": \"white\"}}, \"type\": \"table\"}]}, \"layout\": {\"annotationdefaults\": {\"arrowcolor\": \"#2a3f5f\", \"arrowhead\": 0, \"arrowwidth\": 1}, \"coloraxis\": {\"colorbar\": {\"outlinewidth\": 0, \"ticks\": \"\"}}, \"colorscale\": {\"diverging\": [[0, \"#8e0152\"], [0.1, \"#c51b7d\"], [0.2, \"#de77ae\"], [0.3, \"#f1b6da\"], [0.4, \"#fde0ef\"], [0.5, \"#f7f7f7\"], [0.6, \"#e6f5d0\"], [0.7, \"#b8e186\"], [0.8, \"#7fbc41\"], [0.9, \"#4d9221\"], [1, \"#276419\"]], \"sequential\": [[0.0, \"#0d0887\"], [0.1111111111111111, \"#46039f\"], [0.2222222222222222, \"#7201a8\"], [0.3333333333333333, \"#9c179e\"], [0.4444444444444444, \"#bd3786\"], [0.5555555555555556, \"#d8576b\"], [0.6666666666666666, \"#ed7953\"], [0.7777777777777778, \"#fb9f3a\"], [0.8888888888888888, \"#fdca26\"], [1.0, \"#f0f921\"]], \"sequentialminus\": [[0.0, \"#0d0887\"], [0.1111111111111111, \"#46039f\"], [0.2222222222222222, \"#7201a8\"], [0.3333333333333333, \"#9c179e\"], [0.4444444444444444, \"#bd3786\"], [0.5555555555555556, \"#d8576b\"], [0.6666666666666666, \"#ed7953\"], [0.7777777777777778, \"#fb9f3a\"], [0.8888888888888888, \"#fdca26\"], [1.0, \"#f0f921\"]]}, \"colorway\": [\"#636efa\", \"#EF553B\", \"#00cc96\", \"#ab63fa\", \"#FFA15A\", \"#19d3f3\", \"#FF6692\", \"#B6E880\", \"#FF97FF\", \"#FECB52\"], \"font\": {\"color\": \"#2a3f5f\"}, \"geo\": {\"bgcolor\": \"white\", \"lakecolor\": \"white\", \"landcolor\": \"#E5ECF6\", \"showlakes\": true, \"showland\": true, \"subunitcolor\": \"white\"}, \"hoverlabel\": {\"align\": \"left\"}, \"hovermode\": \"closest\", \"mapbox\": {\"style\": \"light\"}, \"paper_bgcolor\": \"white\", \"plot_bgcolor\": \"#E5ECF6\", \"polar\": {\"angularaxis\": {\"gridcolor\": \"white\", \"linecolor\": \"white\", \"ticks\": \"\"}, \"bgcolor\": \"#E5ECF6\", \"radialaxis\": {\"gridcolor\": \"white\", \"linecolor\": \"white\", \"ticks\": \"\"}}, \"scene\": {\"xaxis\": {\"backgroundcolor\": \"#E5ECF6\", \"gridcolor\": \"white\", \"gridwidth\": 2, \"linecolor\": \"white\", \"showbackground\": true, \"ticks\": \"\", \"zerolinecolor\": \"white\"}, \"yaxis\": {\"backgroundcolor\": \"#E5ECF6\", \"gridcolor\": \"white\", \"gridwidth\": 2, \"linecolor\": \"white\", \"showbackground\": true, \"ticks\": \"\", \"zerolinecolor\": \"white\"}, \"zaxis\": {\"backgroundcolor\": \"#E5ECF6\", \"gridcolor\": \"white\", \"gridwidth\": 2, \"linecolor\": \"white\", \"showbackground\": true, \"ticks\": \"\", \"zerolinecolor\": \"white\"}}, \"shapedefaults\": {\"line\": {\"color\": \"#2a3f5f\"}}, \"ternary\": {\"aaxis\": {\"gridcolor\": \"white\", \"linecolor\": \"white\", \"ticks\": \"\"}, \"baxis\": {\"gridcolor\": \"white\", \"linecolor\": \"white\", \"ticks\": \"\"}, \"bgcolor\": \"#E5ECF6\", \"caxis\": {\"gridcolor\": \"white\", \"linecolor\": \"white\", \"ticks\": \"\"}}, \"title\": {\"x\": 0.05}, \"xaxis\": {\"automargin\": true, \"gridcolor\": \"white\", \"linecolor\": \"white\", \"ticks\": \"\", \"title\": {\"standoff\": 15}, \"zerolinecolor\": \"white\", \"zerolinewidth\": 2}, \"yaxis\": {\"automargin\": true, \"gridcolor\": \"white\", \"linecolor\": \"white\", \"ticks\": \"\", \"title\": {\"standoff\": 15}, \"zerolinecolor\": \"white\", \"zerolinewidth\": 2}}}, \"title\": {\"font\": {\"color\": \"#4D5663\"}}, \"xaxis\": {\"gridcolor\": \"#E1E5ED\", \"showgrid\": true, \"tickfont\": {\"color\": \"#4D5663\"}, \"title\": {\"font\": {\"color\": \"#4D5663\"}, \"text\": \"\"}, \"zerolinecolor\": \"#E1E5ED\"}, \"yaxis\": {\"gridcolor\": \"#E1E5ED\", \"showgrid\": true, \"tickfont\": {\"color\": \"#4D5663\"}, \"title\": {\"font\": {\"color\": \"#4D5663\"}, \"text\": \"\"}, \"zerolinecolor\": \"#E1E5ED\"}},\n",
       "                        {\"showLink\": true, \"linkText\": \"Export to plot.ly\", \"plotlyServerURL\": \"https://plot.ly\", \"responsive\": true}\n",
       "                    ).then(function(){\n",
       "                            \n",
       "var gd = document.getElementById('8ec049fb-33f3-4581-bf3c-741cff9adc03');\n",
       "var x = new MutationObserver(function (mutations, observer) {{\n",
       "        var display = window.getComputedStyle(gd).display;\n",
       "        if (!display || display === 'none') {{\n",
       "            console.log([gd, 'removed!']);\n",
       "            Plotly.purge(gd);\n",
       "            observer.disconnect();\n",
       "        }}\n",
       "}});\n",
       "\n",
       "// Listen for the removal of the full notebook cells\n",
       "var notebookContainer = gd.closest('#notebook-container');\n",
       "if (notebookContainer) {{\n",
       "    x.observe(notebookContainer, {childList: true});\n",
       "}}\n",
       "\n",
       "// Listen for the clearing of the current output cell\n",
       "var outputEl = gd.closest('.output');\n",
       "if (outputEl) {{\n",
       "    x.observe(outputEl, {childList: true});\n",
       "}}\n",
       "\n",
       "                        })\n",
       "                };\n",
       "                });\n",
       "            </script>\n",
       "        </div>"
      ]
     },
     "metadata": {},
     "output_type": "display_data"
    }
   ],
   "source": [
    "# x축 : 카드 사용 접수 월 > 1~6월\n",
    "# y축 : 카드사용 월 별 각 구의 매출 발생 건수\n",
    "\n",
    "card_gu_pivot2.iplot(kind='line')"
   ]
  },
  {
   "cell_type": "markdown",
   "metadata": {},
   "source": [
    "### 월별 매출 발생 건수 top3, botton3 구 그래프"
   ]
  },
  {
   "cell_type": "code",
   "execution_count": 130,
   "metadata": {
    "ExecuteTime": {
     "end_time": "2020-07-30T18:00:37.031568Z",
     "start_time": "2020-07-30T18:00:37.015611Z"
    },
    "scrolled": true
   },
   "outputs": [
    {
     "data": {
      "application/vnd.plotly.v1+json": {
       "config": {
        "plotlyServerURL": "https://plot.ly"
       },
       "data": [
        {
         "name": "서초구",
         "type": "funnel",
         "x": [
          17930517,
          20173162,
          24148384,
          24340165,
          25128902,
          14483373
         ],
         "y": [
          "01월",
          "02월",
          "03월",
          "04월",
          "05월",
          "06월"
         ]
        },
        {
         "name": "중구",
         "type": "funnel",
         "x": [
          19653014,
          13740693,
          17988601,
          18707727,
          20296394,
          9549509
         ],
         "y": [
          "01월",
          "02월",
          "03월",
          "04월",
          "05월",
          "06월"
         ]
        },
        {
         "name": "강남구",
         "type": "funnel",
         "x": [
          11890505,
          10607989,
          14399547,
          14575330,
          15673398,
          7356048
         ],
         "y": [
          "01월",
          "02월",
          "03월",
          "04월",
          "05월",
          "06월"
         ]
        }
       ],
       "layout": {
        "template": {
         "data": {
          "bar": [
           {
            "error_x": {
             "color": "#2a3f5f"
            },
            "error_y": {
             "color": "#2a3f5f"
            },
            "marker": {
             "line": {
              "color": "#E5ECF6",
              "width": 0.5
             }
            },
            "type": "bar"
           }
          ],
          "barpolar": [
           {
            "marker": {
             "line": {
              "color": "#E5ECF6",
              "width": 0.5
             }
            },
            "type": "barpolar"
           }
          ],
          "carpet": [
           {
            "aaxis": {
             "endlinecolor": "#2a3f5f",
             "gridcolor": "white",
             "linecolor": "white",
             "minorgridcolor": "white",
             "startlinecolor": "#2a3f5f"
            },
            "baxis": {
             "endlinecolor": "#2a3f5f",
             "gridcolor": "white",
             "linecolor": "white",
             "minorgridcolor": "white",
             "startlinecolor": "#2a3f5f"
            },
            "type": "carpet"
           }
          ],
          "choropleth": [
           {
            "colorbar": {
             "outlinewidth": 0,
             "ticks": ""
            },
            "type": "choropleth"
           }
          ],
          "contour": [
           {
            "colorbar": {
             "outlinewidth": 0,
             "ticks": ""
            },
            "colorscale": [
             [
              0,
              "#0d0887"
             ],
             [
              0.1111111111111111,
              "#46039f"
             ],
             [
              0.2222222222222222,
              "#7201a8"
             ],
             [
              0.3333333333333333,
              "#9c179e"
             ],
             [
              0.4444444444444444,
              "#bd3786"
             ],
             [
              0.5555555555555556,
              "#d8576b"
             ],
             [
              0.6666666666666666,
              "#ed7953"
             ],
             [
              0.7777777777777778,
              "#fb9f3a"
             ],
             [
              0.8888888888888888,
              "#fdca26"
             ],
             [
              1,
              "#f0f921"
             ]
            ],
            "type": "contour"
           }
          ],
          "contourcarpet": [
           {
            "colorbar": {
             "outlinewidth": 0,
             "ticks": ""
            },
            "type": "contourcarpet"
           }
          ],
          "heatmap": [
           {
            "colorbar": {
             "outlinewidth": 0,
             "ticks": ""
            },
            "colorscale": [
             [
              0,
              "#0d0887"
             ],
             [
              0.1111111111111111,
              "#46039f"
             ],
             [
              0.2222222222222222,
              "#7201a8"
             ],
             [
              0.3333333333333333,
              "#9c179e"
             ],
             [
              0.4444444444444444,
              "#bd3786"
             ],
             [
              0.5555555555555556,
              "#d8576b"
             ],
             [
              0.6666666666666666,
              "#ed7953"
             ],
             [
              0.7777777777777778,
              "#fb9f3a"
             ],
             [
              0.8888888888888888,
              "#fdca26"
             ],
             [
              1,
              "#f0f921"
             ]
            ],
            "type": "heatmap"
           }
          ],
          "heatmapgl": [
           {
            "colorbar": {
             "outlinewidth": 0,
             "ticks": ""
            },
            "colorscale": [
             [
              0,
              "#0d0887"
             ],
             [
              0.1111111111111111,
              "#46039f"
             ],
             [
              0.2222222222222222,
              "#7201a8"
             ],
             [
              0.3333333333333333,
              "#9c179e"
             ],
             [
              0.4444444444444444,
              "#bd3786"
             ],
             [
              0.5555555555555556,
              "#d8576b"
             ],
             [
              0.6666666666666666,
              "#ed7953"
             ],
             [
              0.7777777777777778,
              "#fb9f3a"
             ],
             [
              0.8888888888888888,
              "#fdca26"
             ],
             [
              1,
              "#f0f921"
             ]
            ],
            "type": "heatmapgl"
           }
          ],
          "histogram": [
           {
            "marker": {
             "colorbar": {
              "outlinewidth": 0,
              "ticks": ""
             }
            },
            "type": "histogram"
           }
          ],
          "histogram2d": [
           {
            "colorbar": {
             "outlinewidth": 0,
             "ticks": ""
            },
            "colorscale": [
             [
              0,
              "#0d0887"
             ],
             [
              0.1111111111111111,
              "#46039f"
             ],
             [
              0.2222222222222222,
              "#7201a8"
             ],
             [
              0.3333333333333333,
              "#9c179e"
             ],
             [
              0.4444444444444444,
              "#bd3786"
             ],
             [
              0.5555555555555556,
              "#d8576b"
             ],
             [
              0.6666666666666666,
              "#ed7953"
             ],
             [
              0.7777777777777778,
              "#fb9f3a"
             ],
             [
              0.8888888888888888,
              "#fdca26"
             ],
             [
              1,
              "#f0f921"
             ]
            ],
            "type": "histogram2d"
           }
          ],
          "histogram2dcontour": [
           {
            "colorbar": {
             "outlinewidth": 0,
             "ticks": ""
            },
            "colorscale": [
             [
              0,
              "#0d0887"
             ],
             [
              0.1111111111111111,
              "#46039f"
             ],
             [
              0.2222222222222222,
              "#7201a8"
             ],
             [
              0.3333333333333333,
              "#9c179e"
             ],
             [
              0.4444444444444444,
              "#bd3786"
             ],
             [
              0.5555555555555556,
              "#d8576b"
             ],
             [
              0.6666666666666666,
              "#ed7953"
             ],
             [
              0.7777777777777778,
              "#fb9f3a"
             ],
             [
              0.8888888888888888,
              "#fdca26"
             ],
             [
              1,
              "#f0f921"
             ]
            ],
            "type": "histogram2dcontour"
           }
          ],
          "mesh3d": [
           {
            "colorbar": {
             "outlinewidth": 0,
             "ticks": ""
            },
            "type": "mesh3d"
           }
          ],
          "parcoords": [
           {
            "line": {
             "colorbar": {
              "outlinewidth": 0,
              "ticks": ""
             }
            },
            "type": "parcoords"
           }
          ],
          "pie": [
           {
            "automargin": true,
            "type": "pie"
           }
          ],
          "scatter": [
           {
            "marker": {
             "colorbar": {
              "outlinewidth": 0,
              "ticks": ""
             }
            },
            "type": "scatter"
           }
          ],
          "scatter3d": [
           {
            "line": {
             "colorbar": {
              "outlinewidth": 0,
              "ticks": ""
             }
            },
            "marker": {
             "colorbar": {
              "outlinewidth": 0,
              "ticks": ""
             }
            },
            "type": "scatter3d"
           }
          ],
          "scattercarpet": [
           {
            "marker": {
             "colorbar": {
              "outlinewidth": 0,
              "ticks": ""
             }
            },
            "type": "scattercarpet"
           }
          ],
          "scattergeo": [
           {
            "marker": {
             "colorbar": {
              "outlinewidth": 0,
              "ticks": ""
             }
            },
            "type": "scattergeo"
           }
          ],
          "scattergl": [
           {
            "marker": {
             "colorbar": {
              "outlinewidth": 0,
              "ticks": ""
             }
            },
            "type": "scattergl"
           }
          ],
          "scattermapbox": [
           {
            "marker": {
             "colorbar": {
              "outlinewidth": 0,
              "ticks": ""
             }
            },
            "type": "scattermapbox"
           }
          ],
          "scatterpolar": [
           {
            "marker": {
             "colorbar": {
              "outlinewidth": 0,
              "ticks": ""
             }
            },
            "type": "scatterpolar"
           }
          ],
          "scatterpolargl": [
           {
            "marker": {
             "colorbar": {
              "outlinewidth": 0,
              "ticks": ""
             }
            },
            "type": "scatterpolargl"
           }
          ],
          "scatterternary": [
           {
            "marker": {
             "colorbar": {
              "outlinewidth": 0,
              "ticks": ""
             }
            },
            "type": "scatterternary"
           }
          ],
          "surface": [
           {
            "colorbar": {
             "outlinewidth": 0,
             "ticks": ""
            },
            "colorscale": [
             [
              0,
              "#0d0887"
             ],
             [
              0.1111111111111111,
              "#46039f"
             ],
             [
              0.2222222222222222,
              "#7201a8"
             ],
             [
              0.3333333333333333,
              "#9c179e"
             ],
             [
              0.4444444444444444,
              "#bd3786"
             ],
             [
              0.5555555555555556,
              "#d8576b"
             ],
             [
              0.6666666666666666,
              "#ed7953"
             ],
             [
              0.7777777777777778,
              "#fb9f3a"
             ],
             [
              0.8888888888888888,
              "#fdca26"
             ],
             [
              1,
              "#f0f921"
             ]
            ],
            "type": "surface"
           }
          ],
          "table": [
           {
            "cells": {
             "fill": {
              "color": "#EBF0F8"
             },
             "line": {
              "color": "white"
             }
            },
            "header": {
             "fill": {
              "color": "#C8D4E3"
             },
             "line": {
              "color": "white"
             }
            },
            "type": "table"
           }
          ]
         },
         "layout": {
          "annotationdefaults": {
           "arrowcolor": "#2a3f5f",
           "arrowhead": 0,
           "arrowwidth": 1
          },
          "coloraxis": {
           "colorbar": {
            "outlinewidth": 0,
            "ticks": ""
           }
          },
          "colorscale": {
           "diverging": [
            [
             0,
             "#8e0152"
            ],
            [
             0.1,
             "#c51b7d"
            ],
            [
             0.2,
             "#de77ae"
            ],
            [
             0.3,
             "#f1b6da"
            ],
            [
             0.4,
             "#fde0ef"
            ],
            [
             0.5,
             "#f7f7f7"
            ],
            [
             0.6,
             "#e6f5d0"
            ],
            [
             0.7,
             "#b8e186"
            ],
            [
             0.8,
             "#7fbc41"
            ],
            [
             0.9,
             "#4d9221"
            ],
            [
             1,
             "#276419"
            ]
           ],
           "sequential": [
            [
             0,
             "#0d0887"
            ],
            [
             0.1111111111111111,
             "#46039f"
            ],
            [
             0.2222222222222222,
             "#7201a8"
            ],
            [
             0.3333333333333333,
             "#9c179e"
            ],
            [
             0.4444444444444444,
             "#bd3786"
            ],
            [
             0.5555555555555556,
             "#d8576b"
            ],
            [
             0.6666666666666666,
             "#ed7953"
            ],
            [
             0.7777777777777778,
             "#fb9f3a"
            ],
            [
             0.8888888888888888,
             "#fdca26"
            ],
            [
             1,
             "#f0f921"
            ]
           ],
           "sequentialminus": [
            [
             0,
             "#0d0887"
            ],
            [
             0.1111111111111111,
             "#46039f"
            ],
            [
             0.2222222222222222,
             "#7201a8"
            ],
            [
             0.3333333333333333,
             "#9c179e"
            ],
            [
             0.4444444444444444,
             "#bd3786"
            ],
            [
             0.5555555555555556,
             "#d8576b"
            ],
            [
             0.6666666666666666,
             "#ed7953"
            ],
            [
             0.7777777777777778,
             "#fb9f3a"
            ],
            [
             0.8888888888888888,
             "#fdca26"
            ],
            [
             1,
             "#f0f921"
            ]
           ]
          },
          "colorway": [
           "#636efa",
           "#EF553B",
           "#00cc96",
           "#ab63fa",
           "#FFA15A",
           "#19d3f3",
           "#FF6692",
           "#B6E880",
           "#FF97FF",
           "#FECB52"
          ],
          "font": {
           "color": "#2a3f5f"
          },
          "geo": {
           "bgcolor": "white",
           "lakecolor": "white",
           "landcolor": "#E5ECF6",
           "showlakes": true,
           "showland": true,
           "subunitcolor": "white"
          },
          "hoverlabel": {
           "align": "left"
          },
          "hovermode": "closest",
          "mapbox": {
           "style": "light"
          },
          "paper_bgcolor": "white",
          "plot_bgcolor": "#E5ECF6",
          "polar": {
           "angularaxis": {
            "gridcolor": "white",
            "linecolor": "white",
            "ticks": ""
           },
           "bgcolor": "#E5ECF6",
           "radialaxis": {
            "gridcolor": "white",
            "linecolor": "white",
            "ticks": ""
           }
          },
          "scene": {
           "xaxis": {
            "backgroundcolor": "#E5ECF6",
            "gridcolor": "white",
            "gridwidth": 2,
            "linecolor": "white",
            "showbackground": true,
            "ticks": "",
            "zerolinecolor": "white"
           },
           "yaxis": {
            "backgroundcolor": "#E5ECF6",
            "gridcolor": "white",
            "gridwidth": 2,
            "linecolor": "white",
            "showbackground": true,
            "ticks": "",
            "zerolinecolor": "white"
           },
           "zaxis": {
            "backgroundcolor": "#E5ECF6",
            "gridcolor": "white",
            "gridwidth": 2,
            "linecolor": "white",
            "showbackground": true,
            "ticks": "",
            "zerolinecolor": "white"
           }
          },
          "shapedefaults": {
           "line": {
            "color": "#2a3f5f"
           }
          },
          "ternary": {
           "aaxis": {
            "gridcolor": "white",
            "linecolor": "white",
            "ticks": ""
           },
           "baxis": {
            "gridcolor": "white",
            "linecolor": "white",
            "ticks": ""
           },
           "bgcolor": "#E5ECF6",
           "caxis": {
            "gridcolor": "white",
            "linecolor": "white",
            "ticks": ""
           }
          },
          "title": {
           "x": 0.05
          },
          "xaxis": {
           "automargin": true,
           "gridcolor": "white",
           "linecolor": "white",
           "ticks": "",
           "title": {
            "standoff": 15
           },
           "zerolinecolor": "white",
           "zerolinewidth": 2
          },
          "yaxis": {
           "automargin": true,
           "gridcolor": "white",
           "linecolor": "white",
           "ticks": "",
           "title": {
            "standoff": 15
           },
           "zerolinecolor": "white",
           "zerolinewidth": 2
          }
         }
        }
       }
      },
      "text/html": [
       "<div>\n",
       "        \n",
       "        \n",
       "            <div id=\"20dbf490-3603-4089-9c23-8d1b76cde254\" class=\"plotly-graph-div\" style=\"height:525px; width:100%;\"></div>\n",
       "            <script type=\"text/javascript\">\n",
       "                require([\"plotly\"], function(Plotly) {\n",
       "                    window.PLOTLYENV=window.PLOTLYENV || {};\n",
       "                    \n",
       "                if (document.getElementById(\"20dbf490-3603-4089-9c23-8d1b76cde254\")) {\n",
       "                    Plotly.newPlot(\n",
       "                        '20dbf490-3603-4089-9c23-8d1b76cde254',\n",
       "                        [{\"name\": \"\\uc11c\\ucd08\\uad6c\", \"type\": \"funnel\", \"x\": [17930517, 20173162, 24148384, 24340165, 25128902, 14483373], \"y\": [\"01\\uc6d4\", \"02\\uc6d4\", \"03\\uc6d4\", \"04\\uc6d4\", \"05\\uc6d4\", \"06\\uc6d4\"]}, {\"name\": \"\\uc911\\uad6c\", \"type\": \"funnel\", \"x\": [19653014, 13740693, 17988601, 18707727, 20296394, 9549509], \"y\": [\"01\\uc6d4\", \"02\\uc6d4\", \"03\\uc6d4\", \"04\\uc6d4\", \"05\\uc6d4\", \"06\\uc6d4\"]}, {\"name\": \"\\uac15\\ub0a8\\uad6c\", \"type\": \"funnel\", \"x\": [11890505, 10607989, 14399547, 14575330, 15673398, 7356048], \"y\": [\"01\\uc6d4\", \"02\\uc6d4\", \"03\\uc6d4\", \"04\\uc6d4\", \"05\\uc6d4\", \"06\\uc6d4\"]}],\n",
       "                        {\"template\": {\"data\": {\"bar\": [{\"error_x\": {\"color\": \"#2a3f5f\"}, \"error_y\": {\"color\": \"#2a3f5f\"}, \"marker\": {\"line\": {\"color\": \"#E5ECF6\", \"width\": 0.5}}, \"type\": \"bar\"}], \"barpolar\": [{\"marker\": {\"line\": {\"color\": \"#E5ECF6\", \"width\": 0.5}}, \"type\": \"barpolar\"}], \"carpet\": [{\"aaxis\": {\"endlinecolor\": \"#2a3f5f\", \"gridcolor\": \"white\", \"linecolor\": \"white\", \"minorgridcolor\": \"white\", \"startlinecolor\": \"#2a3f5f\"}, \"baxis\": {\"endlinecolor\": \"#2a3f5f\", \"gridcolor\": \"white\", \"linecolor\": \"white\", \"minorgridcolor\": \"white\", \"startlinecolor\": \"#2a3f5f\"}, \"type\": \"carpet\"}], \"choropleth\": [{\"colorbar\": {\"outlinewidth\": 0, \"ticks\": \"\"}, \"type\": \"choropleth\"}], \"contour\": [{\"colorbar\": {\"outlinewidth\": 0, \"ticks\": \"\"}, \"colorscale\": [[0.0, \"#0d0887\"], [0.1111111111111111, \"#46039f\"], [0.2222222222222222, \"#7201a8\"], [0.3333333333333333, \"#9c179e\"], [0.4444444444444444, \"#bd3786\"], [0.5555555555555556, \"#d8576b\"], [0.6666666666666666, \"#ed7953\"], [0.7777777777777778, \"#fb9f3a\"], [0.8888888888888888, \"#fdca26\"], [1.0, \"#f0f921\"]], \"type\": \"contour\"}], \"contourcarpet\": [{\"colorbar\": {\"outlinewidth\": 0, \"ticks\": \"\"}, \"type\": \"contourcarpet\"}], \"heatmap\": [{\"colorbar\": {\"outlinewidth\": 0, \"ticks\": \"\"}, \"colorscale\": [[0.0, \"#0d0887\"], [0.1111111111111111, \"#46039f\"], [0.2222222222222222, \"#7201a8\"], [0.3333333333333333, \"#9c179e\"], [0.4444444444444444, \"#bd3786\"], [0.5555555555555556, \"#d8576b\"], [0.6666666666666666, \"#ed7953\"], [0.7777777777777778, \"#fb9f3a\"], [0.8888888888888888, \"#fdca26\"], [1.0, \"#f0f921\"]], \"type\": \"heatmap\"}], \"heatmapgl\": [{\"colorbar\": {\"outlinewidth\": 0, \"ticks\": \"\"}, \"colorscale\": [[0.0, \"#0d0887\"], [0.1111111111111111, \"#46039f\"], [0.2222222222222222, \"#7201a8\"], [0.3333333333333333, \"#9c179e\"], [0.4444444444444444, \"#bd3786\"], [0.5555555555555556, \"#d8576b\"], [0.6666666666666666, \"#ed7953\"], [0.7777777777777778, \"#fb9f3a\"], [0.8888888888888888, \"#fdca26\"], [1.0, \"#f0f921\"]], \"type\": \"heatmapgl\"}], \"histogram\": [{\"marker\": {\"colorbar\": {\"outlinewidth\": 0, \"ticks\": \"\"}}, \"type\": \"histogram\"}], \"histogram2d\": [{\"colorbar\": {\"outlinewidth\": 0, \"ticks\": \"\"}, \"colorscale\": [[0.0, \"#0d0887\"], [0.1111111111111111, \"#46039f\"], [0.2222222222222222, \"#7201a8\"], [0.3333333333333333, \"#9c179e\"], [0.4444444444444444, \"#bd3786\"], [0.5555555555555556, \"#d8576b\"], [0.6666666666666666, \"#ed7953\"], [0.7777777777777778, \"#fb9f3a\"], [0.8888888888888888, \"#fdca26\"], [1.0, \"#f0f921\"]], \"type\": \"histogram2d\"}], \"histogram2dcontour\": [{\"colorbar\": {\"outlinewidth\": 0, \"ticks\": \"\"}, \"colorscale\": [[0.0, \"#0d0887\"], [0.1111111111111111, \"#46039f\"], [0.2222222222222222, \"#7201a8\"], [0.3333333333333333, \"#9c179e\"], [0.4444444444444444, \"#bd3786\"], [0.5555555555555556, \"#d8576b\"], [0.6666666666666666, \"#ed7953\"], [0.7777777777777778, \"#fb9f3a\"], [0.8888888888888888, \"#fdca26\"], [1.0, \"#f0f921\"]], \"type\": \"histogram2dcontour\"}], \"mesh3d\": [{\"colorbar\": {\"outlinewidth\": 0, \"ticks\": \"\"}, \"type\": \"mesh3d\"}], \"parcoords\": [{\"line\": {\"colorbar\": {\"outlinewidth\": 0, \"ticks\": \"\"}}, \"type\": \"parcoords\"}], \"pie\": [{\"automargin\": true, \"type\": \"pie\"}], \"scatter\": [{\"marker\": {\"colorbar\": {\"outlinewidth\": 0, \"ticks\": \"\"}}, \"type\": \"scatter\"}], \"scatter3d\": [{\"line\": {\"colorbar\": {\"outlinewidth\": 0, \"ticks\": \"\"}}, \"marker\": {\"colorbar\": {\"outlinewidth\": 0, \"ticks\": \"\"}}, \"type\": \"scatter3d\"}], \"scattercarpet\": [{\"marker\": {\"colorbar\": {\"outlinewidth\": 0, \"ticks\": \"\"}}, \"type\": \"scattercarpet\"}], \"scattergeo\": [{\"marker\": {\"colorbar\": {\"outlinewidth\": 0, \"ticks\": \"\"}}, \"type\": \"scattergeo\"}], \"scattergl\": [{\"marker\": {\"colorbar\": {\"outlinewidth\": 0, \"ticks\": \"\"}}, \"type\": \"scattergl\"}], \"scattermapbox\": [{\"marker\": {\"colorbar\": {\"outlinewidth\": 0, \"ticks\": \"\"}}, \"type\": \"scattermapbox\"}], \"scatterpolar\": [{\"marker\": {\"colorbar\": {\"outlinewidth\": 0, \"ticks\": \"\"}}, \"type\": \"scatterpolar\"}], \"scatterpolargl\": [{\"marker\": {\"colorbar\": {\"outlinewidth\": 0, \"ticks\": \"\"}}, \"type\": \"scatterpolargl\"}], \"scatterternary\": [{\"marker\": {\"colorbar\": {\"outlinewidth\": 0, \"ticks\": \"\"}}, \"type\": \"scatterternary\"}], \"surface\": [{\"colorbar\": {\"outlinewidth\": 0, \"ticks\": \"\"}, \"colorscale\": [[0.0, \"#0d0887\"], [0.1111111111111111, \"#46039f\"], [0.2222222222222222, \"#7201a8\"], [0.3333333333333333, \"#9c179e\"], [0.4444444444444444, \"#bd3786\"], [0.5555555555555556, \"#d8576b\"], [0.6666666666666666, \"#ed7953\"], [0.7777777777777778, \"#fb9f3a\"], [0.8888888888888888, \"#fdca26\"], [1.0, \"#f0f921\"]], \"type\": \"surface\"}], \"table\": [{\"cells\": {\"fill\": {\"color\": \"#EBF0F8\"}, \"line\": {\"color\": \"white\"}}, \"header\": {\"fill\": {\"color\": \"#C8D4E3\"}, \"line\": {\"color\": \"white\"}}, \"type\": \"table\"}]}, \"layout\": {\"annotationdefaults\": {\"arrowcolor\": \"#2a3f5f\", \"arrowhead\": 0, \"arrowwidth\": 1}, \"coloraxis\": {\"colorbar\": {\"outlinewidth\": 0, \"ticks\": \"\"}}, \"colorscale\": {\"diverging\": [[0, \"#8e0152\"], [0.1, \"#c51b7d\"], [0.2, \"#de77ae\"], [0.3, \"#f1b6da\"], [0.4, \"#fde0ef\"], [0.5, \"#f7f7f7\"], [0.6, \"#e6f5d0\"], [0.7, \"#b8e186\"], [0.8, \"#7fbc41\"], [0.9, \"#4d9221\"], [1, \"#276419\"]], \"sequential\": [[0.0, \"#0d0887\"], [0.1111111111111111, \"#46039f\"], [0.2222222222222222, \"#7201a8\"], [0.3333333333333333, \"#9c179e\"], [0.4444444444444444, \"#bd3786\"], [0.5555555555555556, \"#d8576b\"], [0.6666666666666666, \"#ed7953\"], [0.7777777777777778, \"#fb9f3a\"], [0.8888888888888888, \"#fdca26\"], [1.0, \"#f0f921\"]], \"sequentialminus\": [[0.0, \"#0d0887\"], [0.1111111111111111, \"#46039f\"], [0.2222222222222222, \"#7201a8\"], [0.3333333333333333, \"#9c179e\"], [0.4444444444444444, \"#bd3786\"], [0.5555555555555556, \"#d8576b\"], [0.6666666666666666, \"#ed7953\"], [0.7777777777777778, \"#fb9f3a\"], [0.8888888888888888, \"#fdca26\"], [1.0, \"#f0f921\"]]}, \"colorway\": [\"#636efa\", \"#EF553B\", \"#00cc96\", \"#ab63fa\", \"#FFA15A\", \"#19d3f3\", \"#FF6692\", \"#B6E880\", \"#FF97FF\", \"#FECB52\"], \"font\": {\"color\": \"#2a3f5f\"}, \"geo\": {\"bgcolor\": \"white\", \"lakecolor\": \"white\", \"landcolor\": \"#E5ECF6\", \"showlakes\": true, \"showland\": true, \"subunitcolor\": \"white\"}, \"hoverlabel\": {\"align\": \"left\"}, \"hovermode\": \"closest\", \"mapbox\": {\"style\": \"light\"}, \"paper_bgcolor\": \"white\", \"plot_bgcolor\": \"#E5ECF6\", \"polar\": {\"angularaxis\": {\"gridcolor\": \"white\", \"linecolor\": \"white\", \"ticks\": \"\"}, \"bgcolor\": \"#E5ECF6\", \"radialaxis\": {\"gridcolor\": \"white\", \"linecolor\": \"white\", \"ticks\": \"\"}}, \"scene\": {\"xaxis\": {\"backgroundcolor\": \"#E5ECF6\", \"gridcolor\": \"white\", \"gridwidth\": 2, \"linecolor\": \"white\", \"showbackground\": true, \"ticks\": \"\", \"zerolinecolor\": \"white\"}, \"yaxis\": {\"backgroundcolor\": \"#E5ECF6\", \"gridcolor\": \"white\", \"gridwidth\": 2, \"linecolor\": \"white\", \"showbackground\": true, \"ticks\": \"\", \"zerolinecolor\": \"white\"}, \"zaxis\": {\"backgroundcolor\": \"#E5ECF6\", \"gridcolor\": \"white\", \"gridwidth\": 2, \"linecolor\": \"white\", \"showbackground\": true, \"ticks\": \"\", \"zerolinecolor\": \"white\"}}, \"shapedefaults\": {\"line\": {\"color\": \"#2a3f5f\"}}, \"ternary\": {\"aaxis\": {\"gridcolor\": \"white\", \"linecolor\": \"white\", \"ticks\": \"\"}, \"baxis\": {\"gridcolor\": \"white\", \"linecolor\": \"white\", \"ticks\": \"\"}, \"bgcolor\": \"#E5ECF6\", \"caxis\": {\"gridcolor\": \"white\", \"linecolor\": \"white\", \"ticks\": \"\"}}, \"title\": {\"x\": 0.05}, \"xaxis\": {\"automargin\": true, \"gridcolor\": \"white\", \"linecolor\": \"white\", \"ticks\": \"\", \"title\": {\"standoff\": 15}, \"zerolinecolor\": \"white\", \"zerolinewidth\": 2}, \"yaxis\": {\"automargin\": true, \"gridcolor\": \"white\", \"linecolor\": \"white\", \"ticks\": \"\", \"title\": {\"standoff\": 15}, \"zerolinecolor\": \"white\", \"zerolinewidth\": 2}}}},\n",
       "                        {\"responsive\": true}\n",
       "                    ).then(function(){\n",
       "                            \n",
       "var gd = document.getElementById('20dbf490-3603-4089-9c23-8d1b76cde254');\n",
       "var x = new MutationObserver(function (mutations, observer) {{\n",
       "        var display = window.getComputedStyle(gd).display;\n",
       "        if (!display || display === 'none') {{\n",
       "            console.log([gd, 'removed!']);\n",
       "            Plotly.purge(gd);\n",
       "            observer.disconnect();\n",
       "        }}\n",
       "}});\n",
       "\n",
       "// Listen for the removal of the full notebook cells\n",
       "var notebookContainer = gd.closest('#notebook-container');\n",
       "if (notebookContainer) {{\n",
       "    x.observe(notebookContainer, {childList: true});\n",
       "}}\n",
       "\n",
       "// Listen for the clearing of the current output cell\n",
       "var outputEl = gd.closest('.output');\n",
       "if (outputEl) {{\n",
       "    x.observe(outputEl, {childList: true});\n",
       "}}\n",
       "\n",
       "                        })\n",
       "                };\n",
       "                });\n",
       "            </script>\n",
       "        </div>"
      ]
     },
     "metadata": {},
     "output_type": "display_data"
    }
   ],
   "source": [
    "# Top3 월별 매출 발생 건수\n",
    "\n",
    "fig=go.Figure()\n",
    "\n",
    "fig.add_trace(go.Funnel(\n",
    "name='서초구',\n",
    "y=card_gu_pivot2.index+\"월\",\n",
    "x=card_gu_pivot2['서초구']))\n",
    "\n",
    "fig.add_trace(go.Funnel(\n",
    "name='중구',\n",
    "y=card_gu_pivot2.index+\"월\",\n",
    "x=card_gu_pivot2['중구']))\n",
    "\n",
    "fig.add_trace(go.Funnel(\n",
    "name='강남구',\n",
    "y=card_gu_pivot2.index+\"월\",\n",
    "x=card_gu_pivot2['강남구']))\n",
    "\n",
    "fig.show()"
   ]
  },
  {
   "cell_type": "code",
   "execution_count": 132,
   "metadata": {
    "ExecuteTime": {
     "end_time": "2020-07-30T18:01:29.781499Z",
     "start_time": "2020-07-30T18:01:29.767564Z"
    },
    "scrolled": true
   },
   "outputs": [
    {
     "data": {
      "application/vnd.plotly.v1+json": {
       "config": {
        "plotlyServerURL": "https://plot.ly"
       },
       "data": [
        {
         "name": "중랑구",
         "type": "funnel",
         "x": [
          1508122,
          1273891,
          1878997,
          1871258,
          2045673,
          948601
         ],
         "y": [
          "01월",
          "02월",
          "03월",
          "04월",
          "05월",
          "06월"
         ]
        },
        {
         "name": "도봉구",
         "type": "funnel",
         "x": [
          1033066,
          909526,
          1362367,
          1355207,
          1467480,
          675411
         ],
         "y": [
          "01월",
          "02월",
          "03월",
          "04월",
          "05월",
          "06월"
         ]
        },
        {
         "name": "강북구",
         "type": "funnel",
         "x": [
          752969,
          656233,
          967828,
          974359,
          1073218,
          496111
         ],
         "y": [
          "01월",
          "02월",
          "03월",
          "04월",
          "05월",
          "06월"
         ]
        }
       ],
       "layout": {
        "template": {
         "data": {
          "bar": [
           {
            "error_x": {
             "color": "#2a3f5f"
            },
            "error_y": {
             "color": "#2a3f5f"
            },
            "marker": {
             "line": {
              "color": "#E5ECF6",
              "width": 0.5
             }
            },
            "type": "bar"
           }
          ],
          "barpolar": [
           {
            "marker": {
             "line": {
              "color": "#E5ECF6",
              "width": 0.5
             }
            },
            "type": "barpolar"
           }
          ],
          "carpet": [
           {
            "aaxis": {
             "endlinecolor": "#2a3f5f",
             "gridcolor": "white",
             "linecolor": "white",
             "minorgridcolor": "white",
             "startlinecolor": "#2a3f5f"
            },
            "baxis": {
             "endlinecolor": "#2a3f5f",
             "gridcolor": "white",
             "linecolor": "white",
             "minorgridcolor": "white",
             "startlinecolor": "#2a3f5f"
            },
            "type": "carpet"
           }
          ],
          "choropleth": [
           {
            "colorbar": {
             "outlinewidth": 0,
             "ticks": ""
            },
            "type": "choropleth"
           }
          ],
          "contour": [
           {
            "colorbar": {
             "outlinewidth": 0,
             "ticks": ""
            },
            "colorscale": [
             [
              0,
              "#0d0887"
             ],
             [
              0.1111111111111111,
              "#46039f"
             ],
             [
              0.2222222222222222,
              "#7201a8"
             ],
             [
              0.3333333333333333,
              "#9c179e"
             ],
             [
              0.4444444444444444,
              "#bd3786"
             ],
             [
              0.5555555555555556,
              "#d8576b"
             ],
             [
              0.6666666666666666,
              "#ed7953"
             ],
             [
              0.7777777777777778,
              "#fb9f3a"
             ],
             [
              0.8888888888888888,
              "#fdca26"
             ],
             [
              1,
              "#f0f921"
             ]
            ],
            "type": "contour"
           }
          ],
          "contourcarpet": [
           {
            "colorbar": {
             "outlinewidth": 0,
             "ticks": ""
            },
            "type": "contourcarpet"
           }
          ],
          "heatmap": [
           {
            "colorbar": {
             "outlinewidth": 0,
             "ticks": ""
            },
            "colorscale": [
             [
              0,
              "#0d0887"
             ],
             [
              0.1111111111111111,
              "#46039f"
             ],
             [
              0.2222222222222222,
              "#7201a8"
             ],
             [
              0.3333333333333333,
              "#9c179e"
             ],
             [
              0.4444444444444444,
              "#bd3786"
             ],
             [
              0.5555555555555556,
              "#d8576b"
             ],
             [
              0.6666666666666666,
              "#ed7953"
             ],
             [
              0.7777777777777778,
              "#fb9f3a"
             ],
             [
              0.8888888888888888,
              "#fdca26"
             ],
             [
              1,
              "#f0f921"
             ]
            ],
            "type": "heatmap"
           }
          ],
          "heatmapgl": [
           {
            "colorbar": {
             "outlinewidth": 0,
             "ticks": ""
            },
            "colorscale": [
             [
              0,
              "#0d0887"
             ],
             [
              0.1111111111111111,
              "#46039f"
             ],
             [
              0.2222222222222222,
              "#7201a8"
             ],
             [
              0.3333333333333333,
              "#9c179e"
             ],
             [
              0.4444444444444444,
              "#bd3786"
             ],
             [
              0.5555555555555556,
              "#d8576b"
             ],
             [
              0.6666666666666666,
              "#ed7953"
             ],
             [
              0.7777777777777778,
              "#fb9f3a"
             ],
             [
              0.8888888888888888,
              "#fdca26"
             ],
             [
              1,
              "#f0f921"
             ]
            ],
            "type": "heatmapgl"
           }
          ],
          "histogram": [
           {
            "marker": {
             "colorbar": {
              "outlinewidth": 0,
              "ticks": ""
             }
            },
            "type": "histogram"
           }
          ],
          "histogram2d": [
           {
            "colorbar": {
             "outlinewidth": 0,
             "ticks": ""
            },
            "colorscale": [
             [
              0,
              "#0d0887"
             ],
             [
              0.1111111111111111,
              "#46039f"
             ],
             [
              0.2222222222222222,
              "#7201a8"
             ],
             [
              0.3333333333333333,
              "#9c179e"
             ],
             [
              0.4444444444444444,
              "#bd3786"
             ],
             [
              0.5555555555555556,
              "#d8576b"
             ],
             [
              0.6666666666666666,
              "#ed7953"
             ],
             [
              0.7777777777777778,
              "#fb9f3a"
             ],
             [
              0.8888888888888888,
              "#fdca26"
             ],
             [
              1,
              "#f0f921"
             ]
            ],
            "type": "histogram2d"
           }
          ],
          "histogram2dcontour": [
           {
            "colorbar": {
             "outlinewidth": 0,
             "ticks": ""
            },
            "colorscale": [
             [
              0,
              "#0d0887"
             ],
             [
              0.1111111111111111,
              "#46039f"
             ],
             [
              0.2222222222222222,
              "#7201a8"
             ],
             [
              0.3333333333333333,
              "#9c179e"
             ],
             [
              0.4444444444444444,
              "#bd3786"
             ],
             [
              0.5555555555555556,
              "#d8576b"
             ],
             [
              0.6666666666666666,
              "#ed7953"
             ],
             [
              0.7777777777777778,
              "#fb9f3a"
             ],
             [
              0.8888888888888888,
              "#fdca26"
             ],
             [
              1,
              "#f0f921"
             ]
            ],
            "type": "histogram2dcontour"
           }
          ],
          "mesh3d": [
           {
            "colorbar": {
             "outlinewidth": 0,
             "ticks": ""
            },
            "type": "mesh3d"
           }
          ],
          "parcoords": [
           {
            "line": {
             "colorbar": {
              "outlinewidth": 0,
              "ticks": ""
             }
            },
            "type": "parcoords"
           }
          ],
          "pie": [
           {
            "automargin": true,
            "type": "pie"
           }
          ],
          "scatter": [
           {
            "marker": {
             "colorbar": {
              "outlinewidth": 0,
              "ticks": ""
             }
            },
            "type": "scatter"
           }
          ],
          "scatter3d": [
           {
            "line": {
             "colorbar": {
              "outlinewidth": 0,
              "ticks": ""
             }
            },
            "marker": {
             "colorbar": {
              "outlinewidth": 0,
              "ticks": ""
             }
            },
            "type": "scatter3d"
           }
          ],
          "scattercarpet": [
           {
            "marker": {
             "colorbar": {
              "outlinewidth": 0,
              "ticks": ""
             }
            },
            "type": "scattercarpet"
           }
          ],
          "scattergeo": [
           {
            "marker": {
             "colorbar": {
              "outlinewidth": 0,
              "ticks": ""
             }
            },
            "type": "scattergeo"
           }
          ],
          "scattergl": [
           {
            "marker": {
             "colorbar": {
              "outlinewidth": 0,
              "ticks": ""
             }
            },
            "type": "scattergl"
           }
          ],
          "scattermapbox": [
           {
            "marker": {
             "colorbar": {
              "outlinewidth": 0,
              "ticks": ""
             }
            },
            "type": "scattermapbox"
           }
          ],
          "scatterpolar": [
           {
            "marker": {
             "colorbar": {
              "outlinewidth": 0,
              "ticks": ""
             }
            },
            "type": "scatterpolar"
           }
          ],
          "scatterpolargl": [
           {
            "marker": {
             "colorbar": {
              "outlinewidth": 0,
              "ticks": ""
             }
            },
            "type": "scatterpolargl"
           }
          ],
          "scatterternary": [
           {
            "marker": {
             "colorbar": {
              "outlinewidth": 0,
              "ticks": ""
             }
            },
            "type": "scatterternary"
           }
          ],
          "surface": [
           {
            "colorbar": {
             "outlinewidth": 0,
             "ticks": ""
            },
            "colorscale": [
             [
              0,
              "#0d0887"
             ],
             [
              0.1111111111111111,
              "#46039f"
             ],
             [
              0.2222222222222222,
              "#7201a8"
             ],
             [
              0.3333333333333333,
              "#9c179e"
             ],
             [
              0.4444444444444444,
              "#bd3786"
             ],
             [
              0.5555555555555556,
              "#d8576b"
             ],
             [
              0.6666666666666666,
              "#ed7953"
             ],
             [
              0.7777777777777778,
              "#fb9f3a"
             ],
             [
              0.8888888888888888,
              "#fdca26"
             ],
             [
              1,
              "#f0f921"
             ]
            ],
            "type": "surface"
           }
          ],
          "table": [
           {
            "cells": {
             "fill": {
              "color": "#EBF0F8"
             },
             "line": {
              "color": "white"
             }
            },
            "header": {
             "fill": {
              "color": "#C8D4E3"
             },
             "line": {
              "color": "white"
             }
            },
            "type": "table"
           }
          ]
         },
         "layout": {
          "annotationdefaults": {
           "arrowcolor": "#2a3f5f",
           "arrowhead": 0,
           "arrowwidth": 1
          },
          "coloraxis": {
           "colorbar": {
            "outlinewidth": 0,
            "ticks": ""
           }
          },
          "colorscale": {
           "diverging": [
            [
             0,
             "#8e0152"
            ],
            [
             0.1,
             "#c51b7d"
            ],
            [
             0.2,
             "#de77ae"
            ],
            [
             0.3,
             "#f1b6da"
            ],
            [
             0.4,
             "#fde0ef"
            ],
            [
             0.5,
             "#f7f7f7"
            ],
            [
             0.6,
             "#e6f5d0"
            ],
            [
             0.7,
             "#b8e186"
            ],
            [
             0.8,
             "#7fbc41"
            ],
            [
             0.9,
             "#4d9221"
            ],
            [
             1,
             "#276419"
            ]
           ],
           "sequential": [
            [
             0,
             "#0d0887"
            ],
            [
             0.1111111111111111,
             "#46039f"
            ],
            [
             0.2222222222222222,
             "#7201a8"
            ],
            [
             0.3333333333333333,
             "#9c179e"
            ],
            [
             0.4444444444444444,
             "#bd3786"
            ],
            [
             0.5555555555555556,
             "#d8576b"
            ],
            [
             0.6666666666666666,
             "#ed7953"
            ],
            [
             0.7777777777777778,
             "#fb9f3a"
            ],
            [
             0.8888888888888888,
             "#fdca26"
            ],
            [
             1,
             "#f0f921"
            ]
           ],
           "sequentialminus": [
            [
             0,
             "#0d0887"
            ],
            [
             0.1111111111111111,
             "#46039f"
            ],
            [
             0.2222222222222222,
             "#7201a8"
            ],
            [
             0.3333333333333333,
             "#9c179e"
            ],
            [
             0.4444444444444444,
             "#bd3786"
            ],
            [
             0.5555555555555556,
             "#d8576b"
            ],
            [
             0.6666666666666666,
             "#ed7953"
            ],
            [
             0.7777777777777778,
             "#fb9f3a"
            ],
            [
             0.8888888888888888,
             "#fdca26"
            ],
            [
             1,
             "#f0f921"
            ]
           ]
          },
          "colorway": [
           "#636efa",
           "#EF553B",
           "#00cc96",
           "#ab63fa",
           "#FFA15A",
           "#19d3f3",
           "#FF6692",
           "#B6E880",
           "#FF97FF",
           "#FECB52"
          ],
          "font": {
           "color": "#2a3f5f"
          },
          "geo": {
           "bgcolor": "white",
           "lakecolor": "white",
           "landcolor": "#E5ECF6",
           "showlakes": true,
           "showland": true,
           "subunitcolor": "white"
          },
          "hoverlabel": {
           "align": "left"
          },
          "hovermode": "closest",
          "mapbox": {
           "style": "light"
          },
          "paper_bgcolor": "white",
          "plot_bgcolor": "#E5ECF6",
          "polar": {
           "angularaxis": {
            "gridcolor": "white",
            "linecolor": "white",
            "ticks": ""
           },
           "bgcolor": "#E5ECF6",
           "radialaxis": {
            "gridcolor": "white",
            "linecolor": "white",
            "ticks": ""
           }
          },
          "scene": {
           "xaxis": {
            "backgroundcolor": "#E5ECF6",
            "gridcolor": "white",
            "gridwidth": 2,
            "linecolor": "white",
            "showbackground": true,
            "ticks": "",
            "zerolinecolor": "white"
           },
           "yaxis": {
            "backgroundcolor": "#E5ECF6",
            "gridcolor": "white",
            "gridwidth": 2,
            "linecolor": "white",
            "showbackground": true,
            "ticks": "",
            "zerolinecolor": "white"
           },
           "zaxis": {
            "backgroundcolor": "#E5ECF6",
            "gridcolor": "white",
            "gridwidth": 2,
            "linecolor": "white",
            "showbackground": true,
            "ticks": "",
            "zerolinecolor": "white"
           }
          },
          "shapedefaults": {
           "line": {
            "color": "#2a3f5f"
           }
          },
          "ternary": {
           "aaxis": {
            "gridcolor": "white",
            "linecolor": "white",
            "ticks": ""
           },
           "baxis": {
            "gridcolor": "white",
            "linecolor": "white",
            "ticks": ""
           },
           "bgcolor": "#E5ECF6",
           "caxis": {
            "gridcolor": "white",
            "linecolor": "white",
            "ticks": ""
           }
          },
          "title": {
           "x": 0.05
          },
          "xaxis": {
           "automargin": true,
           "gridcolor": "white",
           "linecolor": "white",
           "ticks": "",
           "title": {
            "standoff": 15
           },
           "zerolinecolor": "white",
           "zerolinewidth": 2
          },
          "yaxis": {
           "automargin": true,
           "gridcolor": "white",
           "linecolor": "white",
           "ticks": "",
           "title": {
            "standoff": 15
           },
           "zerolinecolor": "white",
           "zerolinewidth": 2
          }
         }
        }
       }
      },
      "text/html": [
       "<div>\n",
       "        \n",
       "        \n",
       "            <div id=\"4d624fb4-3b54-44ef-a57a-675344d09c57\" class=\"plotly-graph-div\" style=\"height:525px; width:100%;\"></div>\n",
       "            <script type=\"text/javascript\">\n",
       "                require([\"plotly\"], function(Plotly) {\n",
       "                    window.PLOTLYENV=window.PLOTLYENV || {};\n",
       "                    \n",
       "                if (document.getElementById(\"4d624fb4-3b54-44ef-a57a-675344d09c57\")) {\n",
       "                    Plotly.newPlot(\n",
       "                        '4d624fb4-3b54-44ef-a57a-675344d09c57',\n",
       "                        [{\"name\": \"\\uc911\\ub791\\uad6c\", \"type\": \"funnel\", \"x\": [1508122, 1273891, 1878997, 1871258, 2045673, 948601], \"y\": [\"01\\uc6d4\", \"02\\uc6d4\", \"03\\uc6d4\", \"04\\uc6d4\", \"05\\uc6d4\", \"06\\uc6d4\"]}, {\"name\": \"\\ub3c4\\ubd09\\uad6c\", \"type\": \"funnel\", \"x\": [1033066, 909526, 1362367, 1355207, 1467480, 675411], \"y\": [\"01\\uc6d4\", \"02\\uc6d4\", \"03\\uc6d4\", \"04\\uc6d4\", \"05\\uc6d4\", \"06\\uc6d4\"]}, {\"name\": \"\\uac15\\ubd81\\uad6c\", \"type\": \"funnel\", \"x\": [752969, 656233, 967828, 974359, 1073218, 496111], \"y\": [\"01\\uc6d4\", \"02\\uc6d4\", \"03\\uc6d4\", \"04\\uc6d4\", \"05\\uc6d4\", \"06\\uc6d4\"]}],\n",
       "                        {\"template\": {\"data\": {\"bar\": [{\"error_x\": {\"color\": \"#2a3f5f\"}, \"error_y\": {\"color\": \"#2a3f5f\"}, \"marker\": {\"line\": {\"color\": \"#E5ECF6\", \"width\": 0.5}}, \"type\": \"bar\"}], \"barpolar\": [{\"marker\": {\"line\": {\"color\": \"#E5ECF6\", \"width\": 0.5}}, \"type\": \"barpolar\"}], \"carpet\": [{\"aaxis\": {\"endlinecolor\": \"#2a3f5f\", \"gridcolor\": \"white\", \"linecolor\": \"white\", \"minorgridcolor\": \"white\", \"startlinecolor\": \"#2a3f5f\"}, \"baxis\": {\"endlinecolor\": \"#2a3f5f\", \"gridcolor\": \"white\", \"linecolor\": \"white\", \"minorgridcolor\": \"white\", \"startlinecolor\": \"#2a3f5f\"}, \"type\": \"carpet\"}], \"choropleth\": [{\"colorbar\": {\"outlinewidth\": 0, \"ticks\": \"\"}, \"type\": \"choropleth\"}], \"contour\": [{\"colorbar\": {\"outlinewidth\": 0, \"ticks\": \"\"}, \"colorscale\": [[0.0, \"#0d0887\"], [0.1111111111111111, \"#46039f\"], [0.2222222222222222, \"#7201a8\"], [0.3333333333333333, \"#9c179e\"], [0.4444444444444444, \"#bd3786\"], [0.5555555555555556, \"#d8576b\"], [0.6666666666666666, \"#ed7953\"], [0.7777777777777778, \"#fb9f3a\"], [0.8888888888888888, \"#fdca26\"], [1.0, \"#f0f921\"]], \"type\": \"contour\"}], \"contourcarpet\": [{\"colorbar\": {\"outlinewidth\": 0, \"ticks\": \"\"}, \"type\": \"contourcarpet\"}], \"heatmap\": [{\"colorbar\": {\"outlinewidth\": 0, \"ticks\": \"\"}, \"colorscale\": [[0.0, \"#0d0887\"], [0.1111111111111111, \"#46039f\"], [0.2222222222222222, \"#7201a8\"], [0.3333333333333333, \"#9c179e\"], [0.4444444444444444, \"#bd3786\"], [0.5555555555555556, \"#d8576b\"], [0.6666666666666666, \"#ed7953\"], [0.7777777777777778, \"#fb9f3a\"], [0.8888888888888888, \"#fdca26\"], [1.0, \"#f0f921\"]], \"type\": \"heatmap\"}], \"heatmapgl\": [{\"colorbar\": {\"outlinewidth\": 0, \"ticks\": \"\"}, \"colorscale\": [[0.0, \"#0d0887\"], [0.1111111111111111, \"#46039f\"], [0.2222222222222222, \"#7201a8\"], [0.3333333333333333, \"#9c179e\"], [0.4444444444444444, \"#bd3786\"], [0.5555555555555556, \"#d8576b\"], [0.6666666666666666, \"#ed7953\"], [0.7777777777777778, \"#fb9f3a\"], [0.8888888888888888, \"#fdca26\"], [1.0, \"#f0f921\"]], \"type\": \"heatmapgl\"}], \"histogram\": [{\"marker\": {\"colorbar\": {\"outlinewidth\": 0, \"ticks\": \"\"}}, \"type\": \"histogram\"}], \"histogram2d\": [{\"colorbar\": {\"outlinewidth\": 0, \"ticks\": \"\"}, \"colorscale\": [[0.0, \"#0d0887\"], [0.1111111111111111, \"#46039f\"], [0.2222222222222222, \"#7201a8\"], [0.3333333333333333, \"#9c179e\"], [0.4444444444444444, \"#bd3786\"], [0.5555555555555556, \"#d8576b\"], [0.6666666666666666, \"#ed7953\"], [0.7777777777777778, \"#fb9f3a\"], [0.8888888888888888, \"#fdca26\"], [1.0, \"#f0f921\"]], \"type\": \"histogram2d\"}], \"histogram2dcontour\": [{\"colorbar\": {\"outlinewidth\": 0, \"ticks\": \"\"}, \"colorscale\": [[0.0, \"#0d0887\"], [0.1111111111111111, \"#46039f\"], [0.2222222222222222, \"#7201a8\"], [0.3333333333333333, \"#9c179e\"], [0.4444444444444444, \"#bd3786\"], [0.5555555555555556, \"#d8576b\"], [0.6666666666666666, \"#ed7953\"], [0.7777777777777778, \"#fb9f3a\"], [0.8888888888888888, \"#fdca26\"], [1.0, \"#f0f921\"]], \"type\": \"histogram2dcontour\"}], \"mesh3d\": [{\"colorbar\": {\"outlinewidth\": 0, \"ticks\": \"\"}, \"type\": \"mesh3d\"}], \"parcoords\": [{\"line\": {\"colorbar\": {\"outlinewidth\": 0, \"ticks\": \"\"}}, \"type\": \"parcoords\"}], \"pie\": [{\"automargin\": true, \"type\": \"pie\"}], \"scatter\": [{\"marker\": {\"colorbar\": {\"outlinewidth\": 0, \"ticks\": \"\"}}, \"type\": \"scatter\"}], \"scatter3d\": [{\"line\": {\"colorbar\": {\"outlinewidth\": 0, \"ticks\": \"\"}}, \"marker\": {\"colorbar\": {\"outlinewidth\": 0, \"ticks\": \"\"}}, \"type\": \"scatter3d\"}], \"scattercarpet\": [{\"marker\": {\"colorbar\": {\"outlinewidth\": 0, \"ticks\": \"\"}}, \"type\": \"scattercarpet\"}], \"scattergeo\": [{\"marker\": {\"colorbar\": {\"outlinewidth\": 0, \"ticks\": \"\"}}, \"type\": \"scattergeo\"}], \"scattergl\": [{\"marker\": {\"colorbar\": {\"outlinewidth\": 0, \"ticks\": \"\"}}, \"type\": \"scattergl\"}], \"scattermapbox\": [{\"marker\": {\"colorbar\": {\"outlinewidth\": 0, \"ticks\": \"\"}}, \"type\": \"scattermapbox\"}], \"scatterpolar\": [{\"marker\": {\"colorbar\": {\"outlinewidth\": 0, \"ticks\": \"\"}}, \"type\": \"scatterpolar\"}], \"scatterpolargl\": [{\"marker\": {\"colorbar\": {\"outlinewidth\": 0, \"ticks\": \"\"}}, \"type\": \"scatterpolargl\"}], \"scatterternary\": [{\"marker\": {\"colorbar\": {\"outlinewidth\": 0, \"ticks\": \"\"}}, \"type\": \"scatterternary\"}], \"surface\": [{\"colorbar\": {\"outlinewidth\": 0, \"ticks\": \"\"}, \"colorscale\": [[0.0, \"#0d0887\"], [0.1111111111111111, \"#46039f\"], [0.2222222222222222, \"#7201a8\"], [0.3333333333333333, \"#9c179e\"], [0.4444444444444444, \"#bd3786\"], [0.5555555555555556, \"#d8576b\"], [0.6666666666666666, \"#ed7953\"], [0.7777777777777778, \"#fb9f3a\"], [0.8888888888888888, \"#fdca26\"], [1.0, \"#f0f921\"]], \"type\": \"surface\"}], \"table\": [{\"cells\": {\"fill\": {\"color\": \"#EBF0F8\"}, \"line\": {\"color\": \"white\"}}, \"header\": {\"fill\": {\"color\": \"#C8D4E3\"}, \"line\": {\"color\": \"white\"}}, \"type\": \"table\"}]}, \"layout\": {\"annotationdefaults\": {\"arrowcolor\": \"#2a3f5f\", \"arrowhead\": 0, \"arrowwidth\": 1}, \"coloraxis\": {\"colorbar\": {\"outlinewidth\": 0, \"ticks\": \"\"}}, \"colorscale\": {\"diverging\": [[0, \"#8e0152\"], [0.1, \"#c51b7d\"], [0.2, \"#de77ae\"], [0.3, \"#f1b6da\"], [0.4, \"#fde0ef\"], [0.5, \"#f7f7f7\"], [0.6, \"#e6f5d0\"], [0.7, \"#b8e186\"], [0.8, \"#7fbc41\"], [0.9, \"#4d9221\"], [1, \"#276419\"]], \"sequential\": [[0.0, \"#0d0887\"], [0.1111111111111111, \"#46039f\"], [0.2222222222222222, \"#7201a8\"], [0.3333333333333333, \"#9c179e\"], [0.4444444444444444, \"#bd3786\"], [0.5555555555555556, \"#d8576b\"], [0.6666666666666666, \"#ed7953\"], [0.7777777777777778, \"#fb9f3a\"], [0.8888888888888888, \"#fdca26\"], [1.0, \"#f0f921\"]], \"sequentialminus\": [[0.0, \"#0d0887\"], [0.1111111111111111, \"#46039f\"], [0.2222222222222222, \"#7201a8\"], [0.3333333333333333, \"#9c179e\"], [0.4444444444444444, \"#bd3786\"], [0.5555555555555556, \"#d8576b\"], [0.6666666666666666, \"#ed7953\"], [0.7777777777777778, \"#fb9f3a\"], [0.8888888888888888, \"#fdca26\"], [1.0, \"#f0f921\"]]}, \"colorway\": [\"#636efa\", \"#EF553B\", \"#00cc96\", \"#ab63fa\", \"#FFA15A\", \"#19d3f3\", \"#FF6692\", \"#B6E880\", \"#FF97FF\", \"#FECB52\"], \"font\": {\"color\": \"#2a3f5f\"}, \"geo\": {\"bgcolor\": \"white\", \"lakecolor\": \"white\", \"landcolor\": \"#E5ECF6\", \"showlakes\": true, \"showland\": true, \"subunitcolor\": \"white\"}, \"hoverlabel\": {\"align\": \"left\"}, \"hovermode\": \"closest\", \"mapbox\": {\"style\": \"light\"}, \"paper_bgcolor\": \"white\", \"plot_bgcolor\": \"#E5ECF6\", \"polar\": {\"angularaxis\": {\"gridcolor\": \"white\", \"linecolor\": \"white\", \"ticks\": \"\"}, \"bgcolor\": \"#E5ECF6\", \"radialaxis\": {\"gridcolor\": \"white\", \"linecolor\": \"white\", \"ticks\": \"\"}}, \"scene\": {\"xaxis\": {\"backgroundcolor\": \"#E5ECF6\", \"gridcolor\": \"white\", \"gridwidth\": 2, \"linecolor\": \"white\", \"showbackground\": true, \"ticks\": \"\", \"zerolinecolor\": \"white\"}, \"yaxis\": {\"backgroundcolor\": \"#E5ECF6\", \"gridcolor\": \"white\", \"gridwidth\": 2, \"linecolor\": \"white\", \"showbackground\": true, \"ticks\": \"\", \"zerolinecolor\": \"white\"}, \"zaxis\": {\"backgroundcolor\": \"#E5ECF6\", \"gridcolor\": \"white\", \"gridwidth\": 2, \"linecolor\": \"white\", \"showbackground\": true, \"ticks\": \"\", \"zerolinecolor\": \"white\"}}, \"shapedefaults\": {\"line\": {\"color\": \"#2a3f5f\"}}, \"ternary\": {\"aaxis\": {\"gridcolor\": \"white\", \"linecolor\": \"white\", \"ticks\": \"\"}, \"baxis\": {\"gridcolor\": \"white\", \"linecolor\": \"white\", \"ticks\": \"\"}, \"bgcolor\": \"#E5ECF6\", \"caxis\": {\"gridcolor\": \"white\", \"linecolor\": \"white\", \"ticks\": \"\"}}, \"title\": {\"x\": 0.05}, \"xaxis\": {\"automargin\": true, \"gridcolor\": \"white\", \"linecolor\": \"white\", \"ticks\": \"\", \"title\": {\"standoff\": 15}, \"zerolinecolor\": \"white\", \"zerolinewidth\": 2}, \"yaxis\": {\"automargin\": true, \"gridcolor\": \"white\", \"linecolor\": \"white\", \"ticks\": \"\", \"title\": {\"standoff\": 15}, \"zerolinecolor\": \"white\", \"zerolinewidth\": 2}}}},\n",
       "                        {\"responsive\": true}\n",
       "                    ).then(function(){\n",
       "                            \n",
       "var gd = document.getElementById('4d624fb4-3b54-44ef-a57a-675344d09c57');\n",
       "var x = new MutationObserver(function (mutations, observer) {{\n",
       "        var display = window.getComputedStyle(gd).display;\n",
       "        if (!display || display === 'none') {{\n",
       "            console.log([gd, 'removed!']);\n",
       "            Plotly.purge(gd);\n",
       "            observer.disconnect();\n",
       "        }}\n",
       "}});\n",
       "\n",
       "// Listen for the removal of the full notebook cells\n",
       "var notebookContainer = gd.closest('#notebook-container');\n",
       "if (notebookContainer) {{\n",
       "    x.observe(notebookContainer, {childList: true});\n",
       "}}\n",
       "\n",
       "// Listen for the clearing of the current output cell\n",
       "var outputEl = gd.closest('.output');\n",
       "if (outputEl) {{\n",
       "    x.observe(outputEl, {childList: true});\n",
       "}}\n",
       "\n",
       "                        })\n",
       "                };\n",
       "                });\n",
       "            </script>\n",
       "        </div>"
      ]
     },
     "metadata": {},
     "output_type": "display_data"
    }
   ],
   "source": [
    "# Botton 3 월별 매출 발생 건수\n",
    "\n",
    "fig=go.Figure()\n",
    "\n",
    "fig.add_trace(go.Funnel(\n",
    "name='중랑구',\n",
    "y=card_gu_pivot2.index+\"월\",\n",
    "x=card_gu_pivot2['중랑구']))\n",
    "\n",
    "fig.add_trace(go.Funnel(\n",
    "name='도봉구',\n",
    "y=card_gu_pivot2.index+\"월\",\n",
    "x=card_gu_pivot2['도봉구']))\n",
    "\n",
    "fig.add_trace(go.Funnel(\n",
    "name='강북구',\n",
    "y=card_gu_pivot2.index+\"월\",\n",
    "x=card_gu_pivot2['강북구']))\n",
    "\n",
    "fig.show()"
   ]
  },
  {
   "cell_type": "code",
   "execution_count": 133,
   "metadata": {
    "ExecuteTime": {
     "end_time": "2020-07-30T18:01:36.921405Z",
     "start_time": "2020-07-30T18:01:36.903480Z"
    },
    "scrolled": true
   },
   "outputs": [
    {
     "data": {
      "application/vnd.plotly.v1+json": {
       "config": {
        "plotlyServerURL": "https://plot.ly"
       },
       "data": [
        {
         "name": "서초구",
         "type": "funnel",
         "x": [
          17930517,
          20173162,
          24148384,
          24340165,
          25128902,
          14483373
         ],
         "y": [
          "01월",
          "02월",
          "03월",
          "04월",
          "05월",
          "06월"
         ]
        },
        {
         "name": "중구",
         "type": "funnel",
         "x": [
          19653014,
          13740693,
          17988601,
          18707727,
          20296394,
          9549509
         ],
         "y": [
          "01월",
          "02월",
          "03월",
          "04월",
          "05월",
          "06월"
         ]
        },
        {
         "name": "강남구",
         "type": "funnel",
         "x": [
          11890505,
          10607989,
          14399547,
          14575330,
          15673398,
          7356048
         ],
         "y": [
          "01월",
          "02월",
          "03월",
          "04월",
          "05월",
          "06월"
         ]
        },
        {
         "name": "중랑구",
         "type": "funnel",
         "x": [
          1508122,
          1273891,
          1878997,
          1871258,
          2045673,
          948601
         ],
         "y": [
          "01월",
          "02월",
          "03월",
          "04월",
          "05월",
          "06월"
         ]
        },
        {
         "name": "도봉구",
         "type": "funnel",
         "x": [
          1033066,
          909526,
          1362367,
          1355207,
          1467480,
          675411
         ],
         "y": [
          "01월",
          "02월",
          "03월",
          "04월",
          "05월",
          "06월"
         ]
        },
        {
         "name": "강북구",
         "type": "funnel",
         "x": [
          752969,
          656233,
          967828,
          974359,
          1073218,
          496111
         ],
         "y": [
          "01월",
          "02월",
          "03월",
          "04월",
          "05월",
          "06월"
         ]
        }
       ],
       "layout": {
        "template": {
         "data": {
          "bar": [
           {
            "error_x": {
             "color": "#2a3f5f"
            },
            "error_y": {
             "color": "#2a3f5f"
            },
            "marker": {
             "line": {
              "color": "#E5ECF6",
              "width": 0.5
             }
            },
            "type": "bar"
           }
          ],
          "barpolar": [
           {
            "marker": {
             "line": {
              "color": "#E5ECF6",
              "width": 0.5
             }
            },
            "type": "barpolar"
           }
          ],
          "carpet": [
           {
            "aaxis": {
             "endlinecolor": "#2a3f5f",
             "gridcolor": "white",
             "linecolor": "white",
             "minorgridcolor": "white",
             "startlinecolor": "#2a3f5f"
            },
            "baxis": {
             "endlinecolor": "#2a3f5f",
             "gridcolor": "white",
             "linecolor": "white",
             "minorgridcolor": "white",
             "startlinecolor": "#2a3f5f"
            },
            "type": "carpet"
           }
          ],
          "choropleth": [
           {
            "colorbar": {
             "outlinewidth": 0,
             "ticks": ""
            },
            "type": "choropleth"
           }
          ],
          "contour": [
           {
            "colorbar": {
             "outlinewidth": 0,
             "ticks": ""
            },
            "colorscale": [
             [
              0,
              "#0d0887"
             ],
             [
              0.1111111111111111,
              "#46039f"
             ],
             [
              0.2222222222222222,
              "#7201a8"
             ],
             [
              0.3333333333333333,
              "#9c179e"
             ],
             [
              0.4444444444444444,
              "#bd3786"
             ],
             [
              0.5555555555555556,
              "#d8576b"
             ],
             [
              0.6666666666666666,
              "#ed7953"
             ],
             [
              0.7777777777777778,
              "#fb9f3a"
             ],
             [
              0.8888888888888888,
              "#fdca26"
             ],
             [
              1,
              "#f0f921"
             ]
            ],
            "type": "contour"
           }
          ],
          "contourcarpet": [
           {
            "colorbar": {
             "outlinewidth": 0,
             "ticks": ""
            },
            "type": "contourcarpet"
           }
          ],
          "heatmap": [
           {
            "colorbar": {
             "outlinewidth": 0,
             "ticks": ""
            },
            "colorscale": [
             [
              0,
              "#0d0887"
             ],
             [
              0.1111111111111111,
              "#46039f"
             ],
             [
              0.2222222222222222,
              "#7201a8"
             ],
             [
              0.3333333333333333,
              "#9c179e"
             ],
             [
              0.4444444444444444,
              "#bd3786"
             ],
             [
              0.5555555555555556,
              "#d8576b"
             ],
             [
              0.6666666666666666,
              "#ed7953"
             ],
             [
              0.7777777777777778,
              "#fb9f3a"
             ],
             [
              0.8888888888888888,
              "#fdca26"
             ],
             [
              1,
              "#f0f921"
             ]
            ],
            "type": "heatmap"
           }
          ],
          "heatmapgl": [
           {
            "colorbar": {
             "outlinewidth": 0,
             "ticks": ""
            },
            "colorscale": [
             [
              0,
              "#0d0887"
             ],
             [
              0.1111111111111111,
              "#46039f"
             ],
             [
              0.2222222222222222,
              "#7201a8"
             ],
             [
              0.3333333333333333,
              "#9c179e"
             ],
             [
              0.4444444444444444,
              "#bd3786"
             ],
             [
              0.5555555555555556,
              "#d8576b"
             ],
             [
              0.6666666666666666,
              "#ed7953"
             ],
             [
              0.7777777777777778,
              "#fb9f3a"
             ],
             [
              0.8888888888888888,
              "#fdca26"
             ],
             [
              1,
              "#f0f921"
             ]
            ],
            "type": "heatmapgl"
           }
          ],
          "histogram": [
           {
            "marker": {
             "colorbar": {
              "outlinewidth": 0,
              "ticks": ""
             }
            },
            "type": "histogram"
           }
          ],
          "histogram2d": [
           {
            "colorbar": {
             "outlinewidth": 0,
             "ticks": ""
            },
            "colorscale": [
             [
              0,
              "#0d0887"
             ],
             [
              0.1111111111111111,
              "#46039f"
             ],
             [
              0.2222222222222222,
              "#7201a8"
             ],
             [
              0.3333333333333333,
              "#9c179e"
             ],
             [
              0.4444444444444444,
              "#bd3786"
             ],
             [
              0.5555555555555556,
              "#d8576b"
             ],
             [
              0.6666666666666666,
              "#ed7953"
             ],
             [
              0.7777777777777778,
              "#fb9f3a"
             ],
             [
              0.8888888888888888,
              "#fdca26"
             ],
             [
              1,
              "#f0f921"
             ]
            ],
            "type": "histogram2d"
           }
          ],
          "histogram2dcontour": [
           {
            "colorbar": {
             "outlinewidth": 0,
             "ticks": ""
            },
            "colorscale": [
             [
              0,
              "#0d0887"
             ],
             [
              0.1111111111111111,
              "#46039f"
             ],
             [
              0.2222222222222222,
              "#7201a8"
             ],
             [
              0.3333333333333333,
              "#9c179e"
             ],
             [
              0.4444444444444444,
              "#bd3786"
             ],
             [
              0.5555555555555556,
              "#d8576b"
             ],
             [
              0.6666666666666666,
              "#ed7953"
             ],
             [
              0.7777777777777778,
              "#fb9f3a"
             ],
             [
              0.8888888888888888,
              "#fdca26"
             ],
             [
              1,
              "#f0f921"
             ]
            ],
            "type": "histogram2dcontour"
           }
          ],
          "mesh3d": [
           {
            "colorbar": {
             "outlinewidth": 0,
             "ticks": ""
            },
            "type": "mesh3d"
           }
          ],
          "parcoords": [
           {
            "line": {
             "colorbar": {
              "outlinewidth": 0,
              "ticks": ""
             }
            },
            "type": "parcoords"
           }
          ],
          "pie": [
           {
            "automargin": true,
            "type": "pie"
           }
          ],
          "scatter": [
           {
            "marker": {
             "colorbar": {
              "outlinewidth": 0,
              "ticks": ""
             }
            },
            "type": "scatter"
           }
          ],
          "scatter3d": [
           {
            "line": {
             "colorbar": {
              "outlinewidth": 0,
              "ticks": ""
             }
            },
            "marker": {
             "colorbar": {
              "outlinewidth": 0,
              "ticks": ""
             }
            },
            "type": "scatter3d"
           }
          ],
          "scattercarpet": [
           {
            "marker": {
             "colorbar": {
              "outlinewidth": 0,
              "ticks": ""
             }
            },
            "type": "scattercarpet"
           }
          ],
          "scattergeo": [
           {
            "marker": {
             "colorbar": {
              "outlinewidth": 0,
              "ticks": ""
             }
            },
            "type": "scattergeo"
           }
          ],
          "scattergl": [
           {
            "marker": {
             "colorbar": {
              "outlinewidth": 0,
              "ticks": ""
             }
            },
            "type": "scattergl"
           }
          ],
          "scattermapbox": [
           {
            "marker": {
             "colorbar": {
              "outlinewidth": 0,
              "ticks": ""
             }
            },
            "type": "scattermapbox"
           }
          ],
          "scatterpolar": [
           {
            "marker": {
             "colorbar": {
              "outlinewidth": 0,
              "ticks": ""
             }
            },
            "type": "scatterpolar"
           }
          ],
          "scatterpolargl": [
           {
            "marker": {
             "colorbar": {
              "outlinewidth": 0,
              "ticks": ""
             }
            },
            "type": "scatterpolargl"
           }
          ],
          "scatterternary": [
           {
            "marker": {
             "colorbar": {
              "outlinewidth": 0,
              "ticks": ""
             }
            },
            "type": "scatterternary"
           }
          ],
          "surface": [
           {
            "colorbar": {
             "outlinewidth": 0,
             "ticks": ""
            },
            "colorscale": [
             [
              0,
              "#0d0887"
             ],
             [
              0.1111111111111111,
              "#46039f"
             ],
             [
              0.2222222222222222,
              "#7201a8"
             ],
             [
              0.3333333333333333,
              "#9c179e"
             ],
             [
              0.4444444444444444,
              "#bd3786"
             ],
             [
              0.5555555555555556,
              "#d8576b"
             ],
             [
              0.6666666666666666,
              "#ed7953"
             ],
             [
              0.7777777777777778,
              "#fb9f3a"
             ],
             [
              0.8888888888888888,
              "#fdca26"
             ],
             [
              1,
              "#f0f921"
             ]
            ],
            "type": "surface"
           }
          ],
          "table": [
           {
            "cells": {
             "fill": {
              "color": "#EBF0F8"
             },
             "line": {
              "color": "white"
             }
            },
            "header": {
             "fill": {
              "color": "#C8D4E3"
             },
             "line": {
              "color": "white"
             }
            },
            "type": "table"
           }
          ]
         },
         "layout": {
          "annotationdefaults": {
           "arrowcolor": "#2a3f5f",
           "arrowhead": 0,
           "arrowwidth": 1
          },
          "coloraxis": {
           "colorbar": {
            "outlinewidth": 0,
            "ticks": ""
           }
          },
          "colorscale": {
           "diverging": [
            [
             0,
             "#8e0152"
            ],
            [
             0.1,
             "#c51b7d"
            ],
            [
             0.2,
             "#de77ae"
            ],
            [
             0.3,
             "#f1b6da"
            ],
            [
             0.4,
             "#fde0ef"
            ],
            [
             0.5,
             "#f7f7f7"
            ],
            [
             0.6,
             "#e6f5d0"
            ],
            [
             0.7,
             "#b8e186"
            ],
            [
             0.8,
             "#7fbc41"
            ],
            [
             0.9,
             "#4d9221"
            ],
            [
             1,
             "#276419"
            ]
           ],
           "sequential": [
            [
             0,
             "#0d0887"
            ],
            [
             0.1111111111111111,
             "#46039f"
            ],
            [
             0.2222222222222222,
             "#7201a8"
            ],
            [
             0.3333333333333333,
             "#9c179e"
            ],
            [
             0.4444444444444444,
             "#bd3786"
            ],
            [
             0.5555555555555556,
             "#d8576b"
            ],
            [
             0.6666666666666666,
             "#ed7953"
            ],
            [
             0.7777777777777778,
             "#fb9f3a"
            ],
            [
             0.8888888888888888,
             "#fdca26"
            ],
            [
             1,
             "#f0f921"
            ]
           ],
           "sequentialminus": [
            [
             0,
             "#0d0887"
            ],
            [
             0.1111111111111111,
             "#46039f"
            ],
            [
             0.2222222222222222,
             "#7201a8"
            ],
            [
             0.3333333333333333,
             "#9c179e"
            ],
            [
             0.4444444444444444,
             "#bd3786"
            ],
            [
             0.5555555555555556,
             "#d8576b"
            ],
            [
             0.6666666666666666,
             "#ed7953"
            ],
            [
             0.7777777777777778,
             "#fb9f3a"
            ],
            [
             0.8888888888888888,
             "#fdca26"
            ],
            [
             1,
             "#f0f921"
            ]
           ]
          },
          "colorway": [
           "#636efa",
           "#EF553B",
           "#00cc96",
           "#ab63fa",
           "#FFA15A",
           "#19d3f3",
           "#FF6692",
           "#B6E880",
           "#FF97FF",
           "#FECB52"
          ],
          "font": {
           "color": "#2a3f5f"
          },
          "geo": {
           "bgcolor": "white",
           "lakecolor": "white",
           "landcolor": "#E5ECF6",
           "showlakes": true,
           "showland": true,
           "subunitcolor": "white"
          },
          "hoverlabel": {
           "align": "left"
          },
          "hovermode": "closest",
          "mapbox": {
           "style": "light"
          },
          "paper_bgcolor": "white",
          "plot_bgcolor": "#E5ECF6",
          "polar": {
           "angularaxis": {
            "gridcolor": "white",
            "linecolor": "white",
            "ticks": ""
           },
           "bgcolor": "#E5ECF6",
           "radialaxis": {
            "gridcolor": "white",
            "linecolor": "white",
            "ticks": ""
           }
          },
          "scene": {
           "xaxis": {
            "backgroundcolor": "#E5ECF6",
            "gridcolor": "white",
            "gridwidth": 2,
            "linecolor": "white",
            "showbackground": true,
            "ticks": "",
            "zerolinecolor": "white"
           },
           "yaxis": {
            "backgroundcolor": "#E5ECF6",
            "gridcolor": "white",
            "gridwidth": 2,
            "linecolor": "white",
            "showbackground": true,
            "ticks": "",
            "zerolinecolor": "white"
           },
           "zaxis": {
            "backgroundcolor": "#E5ECF6",
            "gridcolor": "white",
            "gridwidth": 2,
            "linecolor": "white",
            "showbackground": true,
            "ticks": "",
            "zerolinecolor": "white"
           }
          },
          "shapedefaults": {
           "line": {
            "color": "#2a3f5f"
           }
          },
          "ternary": {
           "aaxis": {
            "gridcolor": "white",
            "linecolor": "white",
            "ticks": ""
           },
           "baxis": {
            "gridcolor": "white",
            "linecolor": "white",
            "ticks": ""
           },
           "bgcolor": "#E5ECF6",
           "caxis": {
            "gridcolor": "white",
            "linecolor": "white",
            "ticks": ""
           }
          },
          "title": {
           "x": 0.05
          },
          "xaxis": {
           "automargin": true,
           "gridcolor": "white",
           "linecolor": "white",
           "ticks": "",
           "title": {
            "standoff": 15
           },
           "zerolinecolor": "white",
           "zerolinewidth": 2
          },
          "yaxis": {
           "automargin": true,
           "gridcolor": "white",
           "linecolor": "white",
           "ticks": "",
           "title": {
            "standoff": 15
           },
           "zerolinecolor": "white",
           "zerolinewidth": 2
          }
         }
        }
       }
      },
      "text/html": [
       "<div>\n",
       "        \n",
       "        \n",
       "            <div id=\"f356e429-c56f-4153-9479-1aff1b3ec5ec\" class=\"plotly-graph-div\" style=\"height:525px; width:100%;\"></div>\n",
       "            <script type=\"text/javascript\">\n",
       "                require([\"plotly\"], function(Plotly) {\n",
       "                    window.PLOTLYENV=window.PLOTLYENV || {};\n",
       "                    \n",
       "                if (document.getElementById(\"f356e429-c56f-4153-9479-1aff1b3ec5ec\")) {\n",
       "                    Plotly.newPlot(\n",
       "                        'f356e429-c56f-4153-9479-1aff1b3ec5ec',\n",
       "                        [{\"name\": \"\\uc11c\\ucd08\\uad6c\", \"type\": \"funnel\", \"x\": [17930517, 20173162, 24148384, 24340165, 25128902, 14483373], \"y\": [\"01\\uc6d4\", \"02\\uc6d4\", \"03\\uc6d4\", \"04\\uc6d4\", \"05\\uc6d4\", \"06\\uc6d4\"]}, {\"name\": \"\\uc911\\uad6c\", \"type\": \"funnel\", \"x\": [19653014, 13740693, 17988601, 18707727, 20296394, 9549509], \"y\": [\"01\\uc6d4\", \"02\\uc6d4\", \"03\\uc6d4\", \"04\\uc6d4\", \"05\\uc6d4\", \"06\\uc6d4\"]}, {\"name\": \"\\uac15\\ub0a8\\uad6c\", \"type\": \"funnel\", \"x\": [11890505, 10607989, 14399547, 14575330, 15673398, 7356048], \"y\": [\"01\\uc6d4\", \"02\\uc6d4\", \"03\\uc6d4\", \"04\\uc6d4\", \"05\\uc6d4\", \"06\\uc6d4\"]}, {\"name\": \"\\uc911\\ub791\\uad6c\", \"type\": \"funnel\", \"x\": [1508122, 1273891, 1878997, 1871258, 2045673, 948601], \"y\": [\"01\\uc6d4\", \"02\\uc6d4\", \"03\\uc6d4\", \"04\\uc6d4\", \"05\\uc6d4\", \"06\\uc6d4\"]}, {\"name\": \"\\ub3c4\\ubd09\\uad6c\", \"type\": \"funnel\", \"x\": [1033066, 909526, 1362367, 1355207, 1467480, 675411], \"y\": [\"01\\uc6d4\", \"02\\uc6d4\", \"03\\uc6d4\", \"04\\uc6d4\", \"05\\uc6d4\", \"06\\uc6d4\"]}, {\"name\": \"\\uac15\\ubd81\\uad6c\", \"type\": \"funnel\", \"x\": [752969, 656233, 967828, 974359, 1073218, 496111], \"y\": [\"01\\uc6d4\", \"02\\uc6d4\", \"03\\uc6d4\", \"04\\uc6d4\", \"05\\uc6d4\", \"06\\uc6d4\"]}],\n",
       "                        {\"template\": {\"data\": {\"bar\": [{\"error_x\": {\"color\": \"#2a3f5f\"}, \"error_y\": {\"color\": \"#2a3f5f\"}, \"marker\": {\"line\": {\"color\": \"#E5ECF6\", \"width\": 0.5}}, \"type\": \"bar\"}], \"barpolar\": [{\"marker\": {\"line\": {\"color\": \"#E5ECF6\", \"width\": 0.5}}, \"type\": \"barpolar\"}], \"carpet\": [{\"aaxis\": {\"endlinecolor\": \"#2a3f5f\", \"gridcolor\": \"white\", \"linecolor\": \"white\", \"minorgridcolor\": \"white\", \"startlinecolor\": \"#2a3f5f\"}, \"baxis\": {\"endlinecolor\": \"#2a3f5f\", \"gridcolor\": \"white\", \"linecolor\": \"white\", \"minorgridcolor\": \"white\", \"startlinecolor\": \"#2a3f5f\"}, \"type\": \"carpet\"}], \"choropleth\": [{\"colorbar\": {\"outlinewidth\": 0, \"ticks\": \"\"}, \"type\": \"choropleth\"}], \"contour\": [{\"colorbar\": {\"outlinewidth\": 0, \"ticks\": \"\"}, \"colorscale\": [[0.0, \"#0d0887\"], [0.1111111111111111, \"#46039f\"], [0.2222222222222222, \"#7201a8\"], [0.3333333333333333, \"#9c179e\"], [0.4444444444444444, \"#bd3786\"], [0.5555555555555556, \"#d8576b\"], [0.6666666666666666, \"#ed7953\"], [0.7777777777777778, \"#fb9f3a\"], [0.8888888888888888, \"#fdca26\"], [1.0, \"#f0f921\"]], \"type\": \"contour\"}], \"contourcarpet\": [{\"colorbar\": {\"outlinewidth\": 0, \"ticks\": \"\"}, \"type\": \"contourcarpet\"}], \"heatmap\": [{\"colorbar\": {\"outlinewidth\": 0, \"ticks\": \"\"}, \"colorscale\": [[0.0, \"#0d0887\"], [0.1111111111111111, \"#46039f\"], [0.2222222222222222, \"#7201a8\"], [0.3333333333333333, \"#9c179e\"], [0.4444444444444444, \"#bd3786\"], [0.5555555555555556, \"#d8576b\"], [0.6666666666666666, \"#ed7953\"], [0.7777777777777778, \"#fb9f3a\"], [0.8888888888888888, \"#fdca26\"], [1.0, \"#f0f921\"]], \"type\": \"heatmap\"}], \"heatmapgl\": [{\"colorbar\": {\"outlinewidth\": 0, \"ticks\": \"\"}, \"colorscale\": [[0.0, \"#0d0887\"], [0.1111111111111111, \"#46039f\"], [0.2222222222222222, \"#7201a8\"], [0.3333333333333333, \"#9c179e\"], [0.4444444444444444, \"#bd3786\"], [0.5555555555555556, \"#d8576b\"], [0.6666666666666666, \"#ed7953\"], [0.7777777777777778, \"#fb9f3a\"], [0.8888888888888888, \"#fdca26\"], [1.0, \"#f0f921\"]], \"type\": \"heatmapgl\"}], \"histogram\": [{\"marker\": {\"colorbar\": {\"outlinewidth\": 0, \"ticks\": \"\"}}, \"type\": \"histogram\"}], \"histogram2d\": [{\"colorbar\": {\"outlinewidth\": 0, \"ticks\": \"\"}, \"colorscale\": [[0.0, \"#0d0887\"], [0.1111111111111111, \"#46039f\"], [0.2222222222222222, \"#7201a8\"], [0.3333333333333333, \"#9c179e\"], [0.4444444444444444, \"#bd3786\"], [0.5555555555555556, \"#d8576b\"], [0.6666666666666666, \"#ed7953\"], [0.7777777777777778, \"#fb9f3a\"], [0.8888888888888888, \"#fdca26\"], [1.0, \"#f0f921\"]], \"type\": \"histogram2d\"}], \"histogram2dcontour\": [{\"colorbar\": {\"outlinewidth\": 0, \"ticks\": \"\"}, \"colorscale\": [[0.0, \"#0d0887\"], [0.1111111111111111, \"#46039f\"], [0.2222222222222222, \"#7201a8\"], [0.3333333333333333, \"#9c179e\"], [0.4444444444444444, \"#bd3786\"], [0.5555555555555556, \"#d8576b\"], [0.6666666666666666, \"#ed7953\"], [0.7777777777777778, \"#fb9f3a\"], [0.8888888888888888, \"#fdca26\"], [1.0, \"#f0f921\"]], \"type\": \"histogram2dcontour\"}], \"mesh3d\": [{\"colorbar\": {\"outlinewidth\": 0, \"ticks\": \"\"}, \"type\": \"mesh3d\"}], \"parcoords\": [{\"line\": {\"colorbar\": {\"outlinewidth\": 0, \"ticks\": \"\"}}, \"type\": \"parcoords\"}], \"pie\": [{\"automargin\": true, \"type\": \"pie\"}], \"scatter\": [{\"marker\": {\"colorbar\": {\"outlinewidth\": 0, \"ticks\": \"\"}}, \"type\": \"scatter\"}], \"scatter3d\": [{\"line\": {\"colorbar\": {\"outlinewidth\": 0, \"ticks\": \"\"}}, \"marker\": {\"colorbar\": {\"outlinewidth\": 0, \"ticks\": \"\"}}, \"type\": \"scatter3d\"}], \"scattercarpet\": [{\"marker\": {\"colorbar\": {\"outlinewidth\": 0, \"ticks\": \"\"}}, \"type\": \"scattercarpet\"}], \"scattergeo\": [{\"marker\": {\"colorbar\": {\"outlinewidth\": 0, \"ticks\": \"\"}}, \"type\": \"scattergeo\"}], \"scattergl\": [{\"marker\": {\"colorbar\": {\"outlinewidth\": 0, \"ticks\": \"\"}}, \"type\": \"scattergl\"}], \"scattermapbox\": [{\"marker\": {\"colorbar\": {\"outlinewidth\": 0, \"ticks\": \"\"}}, \"type\": \"scattermapbox\"}], \"scatterpolar\": [{\"marker\": {\"colorbar\": {\"outlinewidth\": 0, \"ticks\": \"\"}}, \"type\": \"scatterpolar\"}], \"scatterpolargl\": [{\"marker\": {\"colorbar\": {\"outlinewidth\": 0, \"ticks\": \"\"}}, \"type\": \"scatterpolargl\"}], \"scatterternary\": [{\"marker\": {\"colorbar\": {\"outlinewidth\": 0, \"ticks\": \"\"}}, \"type\": \"scatterternary\"}], \"surface\": [{\"colorbar\": {\"outlinewidth\": 0, \"ticks\": \"\"}, \"colorscale\": [[0.0, \"#0d0887\"], [0.1111111111111111, \"#46039f\"], [0.2222222222222222, \"#7201a8\"], [0.3333333333333333, \"#9c179e\"], [0.4444444444444444, \"#bd3786\"], [0.5555555555555556, \"#d8576b\"], [0.6666666666666666, \"#ed7953\"], [0.7777777777777778, \"#fb9f3a\"], [0.8888888888888888, \"#fdca26\"], [1.0, \"#f0f921\"]], \"type\": \"surface\"}], \"table\": [{\"cells\": {\"fill\": {\"color\": \"#EBF0F8\"}, \"line\": {\"color\": \"white\"}}, \"header\": {\"fill\": {\"color\": \"#C8D4E3\"}, \"line\": {\"color\": \"white\"}}, \"type\": \"table\"}]}, \"layout\": {\"annotationdefaults\": {\"arrowcolor\": \"#2a3f5f\", \"arrowhead\": 0, \"arrowwidth\": 1}, \"coloraxis\": {\"colorbar\": {\"outlinewidth\": 0, \"ticks\": \"\"}}, \"colorscale\": {\"diverging\": [[0, \"#8e0152\"], [0.1, \"#c51b7d\"], [0.2, \"#de77ae\"], [0.3, \"#f1b6da\"], [0.4, \"#fde0ef\"], [0.5, \"#f7f7f7\"], [0.6, \"#e6f5d0\"], [0.7, \"#b8e186\"], [0.8, \"#7fbc41\"], [0.9, \"#4d9221\"], [1, \"#276419\"]], \"sequential\": [[0.0, \"#0d0887\"], [0.1111111111111111, \"#46039f\"], [0.2222222222222222, \"#7201a8\"], [0.3333333333333333, \"#9c179e\"], [0.4444444444444444, \"#bd3786\"], [0.5555555555555556, \"#d8576b\"], [0.6666666666666666, \"#ed7953\"], [0.7777777777777778, \"#fb9f3a\"], [0.8888888888888888, \"#fdca26\"], [1.0, \"#f0f921\"]], \"sequentialminus\": [[0.0, \"#0d0887\"], [0.1111111111111111, \"#46039f\"], [0.2222222222222222, \"#7201a8\"], [0.3333333333333333, \"#9c179e\"], [0.4444444444444444, \"#bd3786\"], [0.5555555555555556, \"#d8576b\"], [0.6666666666666666, \"#ed7953\"], [0.7777777777777778, \"#fb9f3a\"], [0.8888888888888888, \"#fdca26\"], [1.0, \"#f0f921\"]]}, \"colorway\": [\"#636efa\", \"#EF553B\", \"#00cc96\", \"#ab63fa\", \"#FFA15A\", \"#19d3f3\", \"#FF6692\", \"#B6E880\", \"#FF97FF\", \"#FECB52\"], \"font\": {\"color\": \"#2a3f5f\"}, \"geo\": {\"bgcolor\": \"white\", \"lakecolor\": \"white\", \"landcolor\": \"#E5ECF6\", \"showlakes\": true, \"showland\": true, \"subunitcolor\": \"white\"}, \"hoverlabel\": {\"align\": \"left\"}, \"hovermode\": \"closest\", \"mapbox\": {\"style\": \"light\"}, \"paper_bgcolor\": \"white\", \"plot_bgcolor\": \"#E5ECF6\", \"polar\": {\"angularaxis\": {\"gridcolor\": \"white\", \"linecolor\": \"white\", \"ticks\": \"\"}, \"bgcolor\": \"#E5ECF6\", \"radialaxis\": {\"gridcolor\": \"white\", \"linecolor\": \"white\", \"ticks\": \"\"}}, \"scene\": {\"xaxis\": {\"backgroundcolor\": \"#E5ECF6\", \"gridcolor\": \"white\", \"gridwidth\": 2, \"linecolor\": \"white\", \"showbackground\": true, \"ticks\": \"\", \"zerolinecolor\": \"white\"}, \"yaxis\": {\"backgroundcolor\": \"#E5ECF6\", \"gridcolor\": \"white\", \"gridwidth\": 2, \"linecolor\": \"white\", \"showbackground\": true, \"ticks\": \"\", \"zerolinecolor\": \"white\"}, \"zaxis\": {\"backgroundcolor\": \"#E5ECF6\", \"gridcolor\": \"white\", \"gridwidth\": 2, \"linecolor\": \"white\", \"showbackground\": true, \"ticks\": \"\", \"zerolinecolor\": \"white\"}}, \"shapedefaults\": {\"line\": {\"color\": \"#2a3f5f\"}}, \"ternary\": {\"aaxis\": {\"gridcolor\": \"white\", \"linecolor\": \"white\", \"ticks\": \"\"}, \"baxis\": {\"gridcolor\": \"white\", \"linecolor\": \"white\", \"ticks\": \"\"}, \"bgcolor\": \"#E5ECF6\", \"caxis\": {\"gridcolor\": \"white\", \"linecolor\": \"white\", \"ticks\": \"\"}}, \"title\": {\"x\": 0.05}, \"xaxis\": {\"automargin\": true, \"gridcolor\": \"white\", \"linecolor\": \"white\", \"ticks\": \"\", \"title\": {\"standoff\": 15}, \"zerolinecolor\": \"white\", \"zerolinewidth\": 2}, \"yaxis\": {\"automargin\": true, \"gridcolor\": \"white\", \"linecolor\": \"white\", \"ticks\": \"\", \"title\": {\"standoff\": 15}, \"zerolinecolor\": \"white\", \"zerolinewidth\": 2}}}},\n",
       "                        {\"responsive\": true}\n",
       "                    ).then(function(){\n",
       "                            \n",
       "var gd = document.getElementById('f356e429-c56f-4153-9479-1aff1b3ec5ec');\n",
       "var x = new MutationObserver(function (mutations, observer) {{\n",
       "        var display = window.getComputedStyle(gd).display;\n",
       "        if (!display || display === 'none') {{\n",
       "            console.log([gd, 'removed!']);\n",
       "            Plotly.purge(gd);\n",
       "            observer.disconnect();\n",
       "        }}\n",
       "}});\n",
       "\n",
       "// Listen for the removal of the full notebook cells\n",
       "var notebookContainer = gd.closest('#notebook-container');\n",
       "if (notebookContainer) {{\n",
       "    x.observe(notebookContainer, {childList: true});\n",
       "}}\n",
       "\n",
       "// Listen for the clearing of the current output cell\n",
       "var outputEl = gd.closest('.output');\n",
       "if (outputEl) {{\n",
       "    x.observe(outputEl, {childList: true});\n",
       "}}\n",
       "\n",
       "                        })\n",
       "                };\n",
       "                });\n",
       "            </script>\n",
       "        </div>"
      ]
     },
     "metadata": {},
     "output_type": "display_data"
    }
   ],
   "source": [
    "# Top 3, Botton 3 월별 매출 발생 건수\n",
    "\n",
    "fig=go.Figure()\n",
    "\n",
    "fig.add_trace(go.Funnel(\n",
    "name='서초구',\n",
    "y=card_gu_pivot2.index+\"월\",\n",
    "x=card_gu_pivot2['서초구']))\n",
    "\n",
    "fig.add_trace(go.Funnel(\n",
    "name='중구',\n",
    "y=card_gu_pivot2.index+\"월\",\n",
    "x=card_gu_pivot2['중구']))\n",
    "\n",
    "fig.add_trace(go.Funnel(\n",
    "name='강남구',\n",
    "y=card_gu_pivot2.index+\"월\",\n",
    "x=card_gu_pivot2['강남구']))\n",
    "\n",
    "fig.add_trace(go.Funnel(\n",
    "name='중랑구',\n",
    "y=card_gu_pivot2.index+\"월\",\n",
    "x=card_gu_pivot2['중랑구']))\n",
    "\n",
    "fig.add_trace(go.Funnel(\n",
    "name='도봉구',\n",
    "y=card_gu_pivot2.index+\"월\",\n",
    "x=card_gu_pivot2['도봉구']))\n",
    "\n",
    "fig.add_trace(go.Funnel(\n",
    "name='강북구',\n",
    "y=card_gu_pivot2.index+\"월\",\n",
    "x=card_gu_pivot2['강북구']))\n",
    "\n",
    "fig.show()"
   ]
  },
  {
   "cell_type": "code",
   "execution_count": 134,
   "metadata": {
    "ExecuteTime": {
     "end_time": "2020-07-30T18:01:59.110097Z",
     "start_time": "2020-07-30T18:01:57.055584Z"
    }
   },
   "outputs": [],
   "source": [
    "# 가맹점 업종 코드를 앞에 2자리만 남기게 slicing\n",
    "card_gu['가맹점업종코드두자리']=card_gu['가맹점업종코드'].str.slice(start=0, stop=2)"
   ]
  },
  {
   "cell_type": "code",
   "execution_count": 135,
   "metadata": {
    "ExecuteTime": {
     "end_time": "2020-07-30T18:02:00.767660Z",
     "start_time": "2020-07-30T18:02:00.662939Z"
    }
   },
   "outputs": [
    {
     "data": {
      "text/plain": [
       "array(['92', '83', '80', '70', '42', '40', '22', '71', '51', '44', '90',\n",
       "       '50', '32', '20', '52', '91', '61', '99', '21', '93', '34', '10',\n",
       "       '60', '30', '96', '11', '43', '84', '81', '82', '62', '33', '41',\n",
       "       '31', '95'], dtype=object)"
      ]
     },
     "execution_count": 135,
     "metadata": {},
     "output_type": "execute_result"
    }
   ],
   "source": [
    "card_gu.가맹점업종코드두자리.unique()"
   ]
  },
  {
   "cell_type": "code",
   "execution_count": 136,
   "metadata": {
    "ExecuteTime": {
     "end_time": "2020-07-30T18:02:04.777907Z",
     "start_time": "2020-07-30T18:02:04.430836Z"
    }
   },
   "outputs": [],
   "source": [
    "# 쇼핑과 관련된 가맹점 업종 코드에 해당되는 데이터 추출\n",
    "card_shopping=card_gu[card_gu['가맹점업종코드두자리'].isin(['40','41','42','43','44'])]"
   ]
  },
  {
   "cell_type": "code",
   "execution_count": 137,
   "metadata": {
    "ExecuteTime": {
     "end_time": "2020-07-30T18:02:09.978030Z",
     "start_time": "2020-07-30T18:02:08.735325Z"
    }
   },
   "outputs": [],
   "source": [
    "# 각 쇼핑 가맹점 업종 코드 별 데이터 추출\n",
    "\n",
    "card_shopping_40=card_shopping.loc[card_gu['가맹점업종코드두자리']=='40']\n",
    "card_shopping_41=card_shopping.loc[card_gu['가맹점업종코드두자리']=='41']\n",
    "card_shopping_42=card_shopping.loc[card_gu['가맹점업종코드두자리']=='42']\n",
    "card_shopping_43=card_shopping.loc[card_gu['가맹점업종코드두자리']=='43']\n",
    "card_shopping_44=card_shopping.loc[card_gu['가맹점업종코드두자리']=='44']"
   ]
  },
  {
   "cell_type": "code",
   "execution_count": 138,
   "metadata": {
    "ExecuteTime": {
     "end_time": "2020-07-30T18:02:13.829728Z",
     "start_time": "2020-07-30T18:02:13.814770Z"
    }
   },
   "outputs": [
    {
     "data": {
      "text/plain": [
       "array(['슈퍼 마켓', '편 의 점', '상품권 전문판매', '인터넷Mall', '상품권', '대형할인점', '면 세 점',\n",
       "       '인터넷종합Mall', '기타유통업', '연 쇄 점', '인터넷P/G', 'PG 상품권', '자사카드발행백화점',\n",
       "       '전자상거래 상품권 전문판매', '전자상거래 상품권', '통신판매1', '일반백화점', '농축수산가공품',\n",
       "       '통신판매2', 'CATV홈쇼핑'], dtype=object)"
      ]
     },
     "execution_count": 138,
     "metadata": {},
     "output_type": "execute_result"
    }
   ],
   "source": [
    "card_shopping_40.가맹점업종명.unique()"
   ]
  },
  {
   "cell_type": "code",
   "execution_count": 139,
   "metadata": {
    "ExecuteTime": {
     "end_time": "2020-07-30T18:02:17.997554Z",
     "start_time": "2020-07-30T18:02:17.991571Z"
    }
   },
   "outputs": [
    {
     "data": {
      "text/plain": [
       "array(['공무원연금매점', '구내매점(국가기관등)', '기타비영리유통'], dtype=object)"
      ]
     },
     "execution_count": 139,
     "metadata": {},
     "output_type": "execute_result"
    }
   ],
   "source": [
    "card_shopping_41.가맹점업종명.unique()"
   ]
  },
  {
   "cell_type": "code",
   "execution_count": 140,
   "metadata": {
    "ExecuteTime": {
     "end_time": "2020-07-30T18:02:22.324042Z",
     "start_time": "2020-07-30T18:02:22.312076Z"
    }
   },
   "outputs": [
    {
     "data": {
      "text/plain": [
       "array(['정장', '기타의류', '맞춤복 점', '내의판매점', '양 품 점', '단체복', '스포츠의류', '아동의류',\n",
       "       '와이셔츠/타이', '캐쥬얼의류'], dtype=object)"
      ]
     },
     "execution_count": 140,
     "metadata": {},
     "output_type": "execute_result"
    }
   ],
   "source": [
    "card_shopping_42.가맹점업종명.unique()"
   ]
  },
  {
   "cell_type": "code",
   "execution_count": 141,
   "metadata": {
    "ExecuteTime": {
     "end_time": "2020-07-30T18:02:30.050379Z",
     "start_time": "2020-07-30T18:02:30.039380Z"
    }
   },
   "outputs": [
    {
     "data": {
      "text/plain": [
       "array(['기타잡화', '기념품 점', '악세 사리', '신   발', '귀 금 속', '가   방', '제 화 점',\n",
       "       '시   계', '성인용품점'], dtype=object)"
      ]
     },
     "execution_count": 141,
     "metadata": {},
     "output_type": "execute_result"
    }
   ],
   "source": [
    "card_shopping_44.가맹점업종명.unique()"
   ]
  },
  {
   "cell_type": "markdown",
   "metadata": {
    "ExecuteTime": {
     "end_time": "2020-07-30T18:02:42.915971Z",
     "start_time": "2020-07-30T18:02:42.910957Z"
    }
   },
   "source": [
    "### 정리\n",
    "- 서초구를 제외한 거의 모든 구에서 '쇼핑' 부문에서 매출 건수가 가장 많은 것을 알 수 있음\n",
    "- 거의 모든 구가 2월에 매출 건수가 가장 적으며, 5월에 가장 많은 매출 건수를 보임\n",
    "- 코로나 감염으로 인해 비대면 서비스 수요가 증가했음을 알 수 있음\n",
    "- 신천지 집단 감염이 발생한 2월부터 소비가 주춤한 것을 알 수 있음\n",
    "- 신천지 집단 감염은 대구, 경북 지역에서 발생하였으나, 서울에서도 소비가 주춤한 것을 알 수 있음\n",
    "- 고강도 사회적 거리두기 종료 시점인 5월에 가장 소비가 많은 것을 알 수 있음(6월 데이터는 완전하지 않으므로 해석에서 제외)\n",
    "- 대부분의 회사 본사가 몰려있는 서초구, 강남구, 중구에서 가장 소비 건수가 많은 것을 알 수 있음\n",
    "- 거의 주거지역이 몰려있으며 서울 외곽지역, 산이 있는 지역이 소비 건수가 적은 것을 알 수 있음"
   ]
  },
  {
   "cell_type": "markdown",
   "metadata": {},
   "source": [
    "# Ⅲ 연구 결론(인사이트 도출)"
   ]
  },
  {
   "cell_type": "code",
   "execution_count": null,
   "metadata": {},
   "outputs": [],
   "source": []
  }
 ],
 "metadata": {
  "kernelspec": {
   "display_name": "Python 3",
   "language": "python",
   "name": "python3"
  },
  "language_info": {
   "codemirror_mode": {
    "name": "ipython",
    "version": 3
   },
   "file_extension": ".py",
   "mimetype": "text/x-python",
   "name": "python",
   "nbconvert_exporter": "python",
   "pygments_lexer": "ipython3",
   "version": "3.7.6"
  },
  "toc": {
   "base_numbering": 1,
   "nav_menu": {},
   "number_sections": true,
   "sideBar": true,
   "skip_h1_title": false,
   "title_cell": "Table of Contents",
   "title_sidebar": "Contents",
   "toc_cell": false,
   "toc_position": {
    "height": "calc(100% - 180px)",
    "left": "10px",
    "top": "150px",
    "width": "318px"
   },
   "toc_section_display": true,
   "toc_window_display": false
  },
  "varInspector": {
   "cols": {
    "lenName": 16,
    "lenType": 16,
    "lenVar": 40
   },
   "kernels_config": {
    "python": {
     "delete_cmd_postfix": "",
     "delete_cmd_prefix": "del ",
     "library": "var_list.py",
     "varRefreshCmd": "print(var_dic_list())"
    },
    "r": {
     "delete_cmd_postfix": ") ",
     "delete_cmd_prefix": "rm(",
     "library": "var_list.r",
     "varRefreshCmd": "cat(var_dic_list()) "
    }
   },
   "position": {
    "height": "407px",
    "left": "587px",
    "right": "20px",
    "top": "153px",
    "width": "350px"
   },
   "types_to_exclude": [
    "module",
    "function",
    "builtin_function_or_method",
    "instance",
    "_Feature"
   ],
   "window_display": false
  }
 },
 "nbformat": 4,
 "nbformat_minor": 4
}
