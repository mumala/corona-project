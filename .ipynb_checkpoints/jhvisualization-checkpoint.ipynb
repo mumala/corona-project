{
 "cells": [
  {
   "cell_type": "markdown",
   "metadata": {},
   "source": [
    "# 데이터 분석에 앞서..."
   ]
  },
  {
   "cell_type": "markdown",
   "metadata": {},
   "source": [
    "## 주제 및 가치"
   ]
  },
  {
   "cell_type": "markdown",
   "metadata": {},
   "source": [
    "### ○ 주제 \n",
    "    ▶ 포스트 코로나 시대 유망 품목 및 산업 발굴\n",
    "    ▶ 코로나로 인한 국민의 생활/소비의 변화 파악    "
   ]
  },
  {
   "cell_type": "markdown",
   "metadata": {},
   "source": [
    "### ○ 가치\n",
    "    ▶ 빅데이터의 가치를 활용하여 코로나가 미치는 영향을 보다 객관적이고 포괄적으로 이해\n",
    "    ▶ 데이터 분석을 통해 발굴한 인사이트의 활용"
   ]
  },
  {
   "cell_type": "code",
   "execution_count": 1,
   "metadata": {
    "ExecuteTime": {
     "end_time": "2020-07-27T11:04:53.124481Z",
     "start_time": "2020-07-27T11:04:52.699457Z"
    }
   },
   "outputs": [],
   "source": [
    "import numpy as np\n",
    "import pandas as pd\n",
    "import matplotlib.pyplot as plt\n",
    "%matplotlib inline"
   ]
  },
  {
   "cell_type": "markdown",
   "metadata": {},
   "source": [
    "# 데이터 불러오기"
   ]
  },
  {
   "cell_type": "code",
   "execution_count": 10,
   "metadata": {
    "ExecuteTime": {
     "end_time": "2020-07-27T11:13:34.497302Z",
     "start_time": "2020-07-27T11:13:30.312063Z"
    }
   },
   "outputs": [],
   "source": [
    "card_raw = pd.read_csv(\"C:/Users/COM/Downloads/KOSAPROJECT1/KT_data_20200703/card.csv\", encoding='utf-8')"
   ]
  },
  {
   "cell_type": "code",
   "execution_count": 11,
   "metadata": {
    "ExecuteTime": {
     "end_time": "2020-07-27T11:13:35.814378Z",
     "start_time": "2020-07-27T11:13:35.740373Z"
    }
   },
   "outputs": [
    {
     "data": {
      "text/plain": [
       "(3777647, 7)"
      ]
     },
     "execution_count": 11,
     "metadata": {},
     "output_type": "execute_result"
    }
   ],
   "source": [
    "card = card_raw\n",
    "card.shape"
   ]
  },
  {
   "cell_type": "markdown",
   "metadata": {},
   "source": [
    "# 데이터 전처리"
   ]
  },
  {
   "cell_type": "code",
   "execution_count": 12,
   "metadata": {
    "ExecuteTime": {
     "end_time": "2020-07-27T11:13:38.322521Z",
     "start_time": "2020-07-27T11:13:38.129510Z"
    }
   },
   "outputs": [],
   "source": [
    "card['receipt_dttm'] = pd.to_datetime(card['receipt_dttm'], format=\"%Y%m%d\")"
   ]
  },
  {
   "cell_type": "code",
   "execution_count": 17,
   "metadata": {
    "ExecuteTime": {
     "end_time": "2020-07-27T11:14:57.737063Z",
     "start_time": "2020-07-27T11:14:57.707062Z"
    },
    "scrolled": false
   },
   "outputs": [
    {
     "data": {
      "text/html": [
       "<div>\n",
       "<style scoped>\n",
       "    .dataframe tbody tr th:only-of-type {\n",
       "        vertical-align: middle;\n",
       "    }\n",
       "\n",
       "    .dataframe tbody tr th {\n",
       "        vertical-align: top;\n",
       "    }\n",
       "\n",
       "    .dataframe thead th {\n",
       "        text-align: right;\n",
       "    }\n",
       "</style>\n",
       "<table border=\"1\" class=\"dataframe\">\n",
       "  <thead>\n",
       "    <tr style=\"text-align: right;\">\n",
       "      <th></th>\n",
       "      <th>카드사용접수일</th>\n",
       "      <th>가맹점행정코드</th>\n",
       "      <th>가맹점행정동명</th>\n",
       "      <th>가맹점업종코드</th>\n",
       "      <th>가맹점업종명</th>\n",
       "      <th>매출발생건수</th>\n",
       "      <th>매출발생금액</th>\n",
       "    </tr>\n",
       "  </thead>\n",
       "  <tbody>\n",
       "    <tr>\n",
       "      <th>0</th>\n",
       "      <td>2020-01-04</td>\n",
       "      <td>1174066000</td>\n",
       "      <td>성내3동</td>\n",
       "      <td>7041</td>\n",
       "      <td>약국</td>\n",
       "      <td>463</td>\n",
       "      <td>5843230</td>\n",
       "    </tr>\n",
       "    <tr>\n",
       "      <th>1</th>\n",
       "      <td>2020-01-04</td>\n",
       "      <td>1174066000</td>\n",
       "      <td>성내3동</td>\n",
       "      <td>7022</td>\n",
       "      <td>치과의원</td>\n",
       "      <td>33</td>\n",
       "      <td>7835550</td>\n",
       "    </tr>\n",
       "    <tr>\n",
       "      <th>2</th>\n",
       "      <td>2020-01-04</td>\n",
       "      <td>1174066000</td>\n",
       "      <td>성내3동</td>\n",
       "      <td>7021</td>\n",
       "      <td>한의원</td>\n",
       "      <td>53</td>\n",
       "      <td>4589800</td>\n",
       "    </tr>\n",
       "    <tr>\n",
       "      <th>3</th>\n",
       "      <td>2020-01-04</td>\n",
       "      <td>1174066000</td>\n",
       "      <td>성내3동</td>\n",
       "      <td>7020</td>\n",
       "      <td>의원</td>\n",
       "      <td>339</td>\n",
       "      <td>9267240</td>\n",
       "    </tr>\n",
       "    <tr>\n",
       "      <th>4</th>\n",
       "      <td>2020-01-04</td>\n",
       "      <td>1174066000</td>\n",
       "      <td>성내3동</td>\n",
       "      <td>6110</td>\n",
       "      <td>자동차정비</td>\n",
       "      <td>19</td>\n",
       "      <td>4441000</td>\n",
       "    </tr>\n",
       "  </tbody>\n",
       "</table>\n",
       "</div>"
      ],
      "text/plain": [
       "     카드사용접수일     가맹점행정코드 가맹점행정동명  가맹점업종코드 가맹점업종명 매출발생건수   매출발생금액\n",
       "0 2020-01-04  1174066000    성내3동     7041     약국    463  5843230\n",
       "1 2020-01-04  1174066000    성내3동     7022   치과의원     33  7835550\n",
       "2 2020-01-04  1174066000    성내3동     7021    한의원     53  4589800\n",
       "3 2020-01-04  1174066000    성내3동     7020     의원    339  9267240\n",
       "4 2020-01-04  1174066000    성내3동     6110  자동차정비     19  4441000"
      ]
     },
     "execution_count": 17,
     "metadata": {},
     "output_type": "execute_result"
    }
   ],
   "source": [
    "card.head()"
   ]
  },
  {
   "cell_type": "code",
   "execution_count": 14,
   "metadata": {
    "ExecuteTime": {
     "end_time": "2020-07-27T11:13:42.142740Z",
     "start_time": "2020-07-27T11:13:41.966729Z"
    }
   },
   "outputs": [],
   "source": [
    "card.rename(columns={'receipt_dttm':'카드사용접수일',\n",
    "                            'adstrd_code':'가맹점행정코드',\n",
    "                            'adstrd_nm':'가맹점행정동명',\n",
    "                            'mrhst_induty_cl_code':'가맹점업종코드',\n",
    "                            'mrhst_induty_cl_nm':'가맹점업종명',\n",
    "                            'selng_cascnt':'매출발생건수',\n",
    "                            'salamt':'매출발생금액' }, inplace=True)"
   ]
  },
  {
   "cell_type": "code",
   "execution_count": 15,
   "metadata": {
    "ExecuteTime": {
     "end_time": "2020-07-27T11:13:43.903840Z",
     "start_time": "2020-07-27T11:13:43.885839Z"
    },
    "scrolled": true
   },
   "outputs": [
    {
     "name": "stdout",
     "output_type": "stream",
     "text": [
      "<class 'pandas.core.frame.DataFrame'>\n",
      "RangeIndex: 3777647 entries, 0 to 3777646\n",
      "Data columns (total 7 columns):\n",
      " #   Column   Dtype         \n",
      "---  ------   -----         \n",
      " 0   카드사용접수일  datetime64[ns]\n",
      " 1   가맹점행정코드  int64         \n",
      " 2   가맹점행정동명  object        \n",
      " 3   가맹점업종코드  int64         \n",
      " 4   가맹점업종명   object        \n",
      " 5   매출발생건수   object        \n",
      " 6   매출발생금액   object        \n",
      "dtypes: datetime64[ns](1), int64(2), object(4)\n",
      "memory usage: 201.7+ MB\n"
     ]
    }
   ],
   "source": [
    "card.info()"
   ]
  },
  {
   "cell_type": "code",
   "execution_count": 16,
   "metadata": {
    "ExecuteTime": {
     "end_time": "2020-07-27T11:13:51.880296Z",
     "start_time": "2020-07-27T11:13:48.687114Z"
    },
    "scrolled": true
   },
   "outputs": [
    {
     "data": {
      "text/html": [
       "<div>\n",
       "<style scoped>\n",
       "    .dataframe tbody tr th:only-of-type {\n",
       "        vertical-align: middle;\n",
       "    }\n",
       "\n",
       "    .dataframe tbody tr th {\n",
       "        vertical-align: top;\n",
       "    }\n",
       "\n",
       "    .dataframe thead th {\n",
       "        text-align: right;\n",
       "    }\n",
       "</style>\n",
       "<table border=\"1\" class=\"dataframe\">\n",
       "  <thead>\n",
       "    <tr style=\"text-align: right;\">\n",
       "      <th></th>\n",
       "      <th>카드사용접수일</th>\n",
       "      <th>가맹점행정코드</th>\n",
       "      <th>가맹점행정동명</th>\n",
       "      <th>가맹점업종코드</th>\n",
       "      <th>가맹점업종명</th>\n",
       "      <th>매출발생건수</th>\n",
       "      <th>매출발생금액</th>\n",
       "    </tr>\n",
       "  </thead>\n",
       "  <tbody>\n",
       "    <tr>\n",
       "      <th>count</th>\n",
       "      <td>3777647</td>\n",
       "      <td>3.777647e+06</td>\n",
       "      <td>3777647</td>\n",
       "      <td>3.777647e+06</td>\n",
       "      <td>3777647</td>\n",
       "      <td>3777647</td>\n",
       "      <td>3777647</td>\n",
       "    </tr>\n",
       "    <tr>\n",
       "      <th>unique</th>\n",
       "      <td>155</td>\n",
       "      <td>NaN</td>\n",
       "      <td>424</td>\n",
       "      <td>NaN</td>\n",
       "      <td>265</td>\n",
       "      <td>12150</td>\n",
       "      <td>756953</td>\n",
       "    </tr>\n",
       "    <tr>\n",
       "      <th>top</th>\n",
       "      <td>2020-05-28 00:00:00</td>\n",
       "      <td>NaN</td>\n",
       "      <td>신사동</td>\n",
       "      <td>NaN</td>\n",
       "      <td>일반한식</td>\n",
       "      <td>1</td>\n",
       "      <td>철물</td>\n",
       "    </tr>\n",
       "    <tr>\n",
       "      <th>freq</th>\n",
       "      <td>30256</td>\n",
       "      <td>NaN</td>\n",
       "      <td>23650</td>\n",
       "      <td>NaN</td>\n",
       "      <td>65528</td>\n",
       "      <td>641598</td>\n",
       "      <td>34937</td>\n",
       "    </tr>\n",
       "    <tr>\n",
       "      <th>first</th>\n",
       "      <td>2020-01-04 00:00:00</td>\n",
       "      <td>NaN</td>\n",
       "      <td>NaN</td>\n",
       "      <td>NaN</td>\n",
       "      <td>NaN</td>\n",
       "      <td>NaN</td>\n",
       "      <td>NaN</td>\n",
       "    </tr>\n",
       "    <tr>\n",
       "      <th>last</th>\n",
       "      <td>2020-06-14 00:00:00</td>\n",
       "      <td>NaN</td>\n",
       "      <td>NaN</td>\n",
       "      <td>NaN</td>\n",
       "      <td>NaN</td>\n",
       "      <td>NaN</td>\n",
       "      <td>NaN</td>\n",
       "    </tr>\n",
       "    <tr>\n",
       "      <th>mean</th>\n",
       "      <td>NaN</td>\n",
       "      <td>1.144511e+09</td>\n",
       "      <td>NaN</td>\n",
       "      <td>6.077223e+03</td>\n",
       "      <td>NaN</td>\n",
       "      <td>NaN</td>\n",
       "      <td>NaN</td>\n",
       "    </tr>\n",
       "    <tr>\n",
       "      <th>std</th>\n",
       "      <td>NaN</td>\n",
       "      <td>1.918865e+07</td>\n",
       "      <td>NaN</td>\n",
       "      <td>2.387383e+03</td>\n",
       "      <td>NaN</td>\n",
       "      <td>NaN</td>\n",
       "      <td>NaN</td>\n",
       "    </tr>\n",
       "    <tr>\n",
       "      <th>min</th>\n",
       "      <td>NaN</td>\n",
       "      <td>1.111052e+09</td>\n",
       "      <td>NaN</td>\n",
       "      <td>1.001000e+03</td>\n",
       "      <td>NaN</td>\n",
       "      <td>NaN</td>\n",
       "      <td>NaN</td>\n",
       "    </tr>\n",
       "    <tr>\n",
       "      <th>25%</th>\n",
       "      <td>NaN</td>\n",
       "      <td>1.126069e+09</td>\n",
       "      <td>NaN</td>\n",
       "      <td>4.201000e+03</td>\n",
       "      <td>NaN</td>\n",
       "      <td>NaN</td>\n",
       "      <td>NaN</td>\n",
       "    </tr>\n",
       "    <tr>\n",
       "      <th>50%</th>\n",
       "      <td>NaN</td>\n",
       "      <td>1.147054e+09</td>\n",
       "      <td>NaN</td>\n",
       "      <td>7.020000e+03</td>\n",
       "      <td>NaN</td>\n",
       "      <td>NaN</td>\n",
       "      <td>NaN</td>\n",
       "    </tr>\n",
       "    <tr>\n",
       "      <th>75%</th>\n",
       "      <td>NaN</td>\n",
       "      <td>1.162063e+09</td>\n",
       "      <td>NaN</td>\n",
       "      <td>8.021000e+03</td>\n",
       "      <td>NaN</td>\n",
       "      <td>NaN</td>\n",
       "      <td>NaN</td>\n",
       "    </tr>\n",
       "    <tr>\n",
       "      <th>max</th>\n",
       "      <td>NaN</td>\n",
       "      <td>1.174070e+09</td>\n",
       "      <td>NaN</td>\n",
       "      <td>9.998000e+03</td>\n",
       "      <td>NaN</td>\n",
       "      <td>NaN</td>\n",
       "      <td>NaN</td>\n",
       "    </tr>\n",
       "  </tbody>\n",
       "</table>\n",
       "</div>"
      ],
      "text/plain": [
       "                    카드사용접수일       가맹점행정코드  가맹점행정동명       가맹점업종코드   가맹점업종명  \\\n",
       "count               3777647  3.777647e+06  3777647  3.777647e+06  3777647   \n",
       "unique                  155           NaN      424           NaN      265   \n",
       "top     2020-05-28 00:00:00           NaN      신사동           NaN     일반한식   \n",
       "freq                  30256           NaN    23650           NaN    65528   \n",
       "first   2020-01-04 00:00:00           NaN      NaN           NaN      NaN   \n",
       "last    2020-06-14 00:00:00           NaN      NaN           NaN      NaN   \n",
       "mean                    NaN  1.144511e+09      NaN  6.077223e+03      NaN   \n",
       "std                     NaN  1.918865e+07      NaN  2.387383e+03      NaN   \n",
       "min                     NaN  1.111052e+09      NaN  1.001000e+03      NaN   \n",
       "25%                     NaN  1.126069e+09      NaN  4.201000e+03      NaN   \n",
       "50%                     NaN  1.147054e+09      NaN  7.020000e+03      NaN   \n",
       "75%                     NaN  1.162063e+09      NaN  8.021000e+03      NaN   \n",
       "max                     NaN  1.174070e+09      NaN  9.998000e+03      NaN   \n",
       "\n",
       "         매출발생건수   매출발생금액  \n",
       "count   3777647  3777647  \n",
       "unique    12150   756953  \n",
       "top           1       철물  \n",
       "freq     641598    34937  \n",
       "first       NaN      NaN  \n",
       "last        NaN      NaN  \n",
       "mean        NaN      NaN  \n",
       "std         NaN      NaN  \n",
       "min         NaN      NaN  \n",
       "25%         NaN      NaN  \n",
       "50%         NaN      NaN  \n",
       "75%         NaN      NaN  \n",
       "max         NaN      NaN  "
      ]
     },
     "execution_count": 16,
     "metadata": {},
     "output_type": "execute_result"
    }
   ],
   "source": [
    "card.describe(include='all')"
   ]
  },
  {
   "cell_type": "code",
   "execution_count": 49,
   "metadata": {
    "ExecuteTime": {
     "end_time": "2020-07-27T12:16:21.474761Z",
     "start_time": "2020-07-27T12:16:17.297522Z"
    },
    "scrolled": true
   },
   "outputs": [
    {
     "data": {
      "text/html": [
       "<div>\n",
       "<style scoped>\n",
       "    .dataframe tbody tr th:only-of-type {\n",
       "        vertical-align: middle;\n",
       "    }\n",
       "\n",
       "    .dataframe tbody tr th {\n",
       "        vertical-align: top;\n",
       "    }\n",
       "\n",
       "    .dataframe thead th {\n",
       "        text-align: right;\n",
       "    }\n",
       "</style>\n",
       "<table border=\"1\" class=\"dataframe\">\n",
       "  <thead>\n",
       "    <tr style=\"text-align: right;\">\n",
       "      <th></th>\n",
       "      <th>카드사용접수일</th>\n",
       "      <th>가맹점행정코드</th>\n",
       "      <th>가맹점행정동명</th>\n",
       "      <th>가맹점업종코드</th>\n",
       "      <th>가맹점업종명</th>\n",
       "      <th>매출발생건수</th>\n",
       "      <th>매출발생금액</th>\n",
       "    </tr>\n",
       "  </thead>\n",
       "  <tbody>\n",
       "    <tr>\n",
       "      <th>3351404</th>\n",
       "      <td>2020-05-30</td>\n",
       "      <td>1171061000</td>\n",
       "      <td>삼전동</td>\n",
       "      <td>4302</td>\n",
       "      <td>카페트</td>\n",
       "      <td>커텐</td>\n",
       "      <td>천막</td>\n",
       "    </tr>\n",
       "    <tr>\n",
       "      <th>909390</th>\n",
       "      <td>2020-02-28</td>\n",
       "      <td>1147053000</td>\n",
       "      <td>목3동</td>\n",
       "      <td>4302</td>\n",
       "      <td>카페트</td>\n",
       "      <td>커텐</td>\n",
       "      <td>천막</td>\n",
       "    </tr>\n",
       "    <tr>\n",
       "      <th>3530519</th>\n",
       "      <td>2020-06-06</td>\n",
       "      <td>1159054000</td>\n",
       "      <td>상도2동</td>\n",
       "      <td>4302</td>\n",
       "      <td>카페트</td>\n",
       "      <td>커텐</td>\n",
       "      <td>천막</td>\n",
       "    </tr>\n",
       "    <tr>\n",
       "      <th>2712709</th>\n",
       "      <td>2020-05-07</td>\n",
       "      <td>1111070000</td>\n",
       "      <td>숭인1동</td>\n",
       "      <td>4302</td>\n",
       "      <td>카페트</td>\n",
       "      <td>커텐</td>\n",
       "      <td>천막</td>\n",
       "    </tr>\n",
       "    <tr>\n",
       "      <th>1324934</th>\n",
       "      <td>2020-03-15</td>\n",
       "      <td>1135058000</td>\n",
       "      <td>월계3동</td>\n",
       "      <td>4302</td>\n",
       "      <td>카페트</td>\n",
       "      <td>커텐</td>\n",
       "      <td>천막</td>\n",
       "    </tr>\n",
       "  </tbody>\n",
       "</table>\n",
       "</div>"
      ],
      "text/plain": [
       "           카드사용접수일     가맹점행정코드 가맹점행정동명  가맹점업종코드 가맹점업종명 매출발생건수 매출발생금액\n",
       "3351404 2020-05-30  1171061000     삼전동     4302    카페트     커텐     천막\n",
       "909390  2020-02-28  1147053000     목3동     4302    카페트     커텐     천막\n",
       "3530519 2020-06-06  1159054000    상도2동     4302    카페트     커텐     천막\n",
       "2712709 2020-05-07  1111070000    숭인1동     4302    카페트     커텐     천막\n",
       "1324934 2020-03-15  1135058000    월계3동     4302    카페트     커텐     천막"
      ]
     },
     "execution_count": 49,
     "metadata": {},
     "output_type": "execute_result"
    }
   ],
   "source": [
    "card.sort_values('매출발생금액', ascending=False, inplace=True)\n",
    "card.head()\n",
    "#idx_str = card[card['매출발생금액'] == '철물'].value_counts()\n",
    "#card = card.drop(idx_str)"
   ]
  },
  {
   "cell_type": "code",
   "execution_count": 53,
   "metadata": {
    "ExecuteTime": {
     "end_time": "2020-07-27T12:33:12.738602Z",
     "start_time": "2020-07-27T12:33:12.364581Z"
    },
    "scrolled": false
   },
   "outputs": [
    {
     "data": {
      "text/plain": [
       "일반한식         65528\n",
       "서양음식         65499\n",
       "편 의 점        65160\n",
       "스넥           65007\n",
       "미 용 원        64073\n",
       "             ...  \n",
       "통신기기무이자할부        8\n",
       "카지노              8\n",
       "택시회사             4\n",
       "P2P송금            2\n",
       "중고자동차위탁판매        1\n",
       "Name: 가맹점업종명, Length: 264, dtype: int64"
      ]
     },
     "execution_count": 53,
     "metadata": {},
     "output_type": "execute_result"
    }
   ],
   "source": [
    "card['가맹점업종명'].value_counts()"
   ]
  },
  {
   "cell_type": "code",
   "execution_count": 55,
   "metadata": {
    "ExecuteTime": {
     "end_time": "2020-07-27T12:34:31.427103Z",
     "start_time": "2020-07-27T12:34:31.360099Z"
    }
   },
   "outputs": [
    {
     "data": {
      "text/plain": [
       "2020-05-28    29961\n",
       "2020-05-22    29959\n",
       "2020-05-21    29885\n",
       "2020-05-26    29861\n",
       "2020-05-30    29779\n",
       "              ...  \n",
       "2020-01-05     8109\n",
       "2020-01-12     8042\n",
       "2020-01-20     5556\n",
       "2020-01-13     5442\n",
       "2020-01-06     5387\n",
       "Name: 카드사용접수일, Length: 155, dtype: int64"
      ]
     },
     "execution_count": 55,
     "metadata": {},
     "output_type": "execute_result"
    }
   ],
   "source": [
    "card['카드사용접수일'].value_counts()"
   ]
  },
  {
   "cell_type": "code",
   "execution_count": 54,
   "metadata": {
    "ExecuteTime": {
     "end_time": "2020-07-27T12:33:44.424414Z",
     "start_time": "2020-07-27T12:33:44.162399Z"
    },
    "collapsed": true
   },
   "outputs": [
    {
     "data": {
      "text/plain": [
       "array(['카페트', '전자상거래 상품권 전문판매', '인터넷Mall', '슈퍼 마켓', '약국', '특급 호텔',\n",
       "       '컴 퓨 터', '의원', '제과점', '서양음식', '기타음료식품', '완 구 점', '보습학원', '편 의 점',\n",
       "       '자동차부품', '주점', '동물병원', '정 육 점', '기타가구', '전기차충전소', '대형할인점', '주 유 소',\n",
       "       '장례서비스', '이동통신요금', '치과의원', '유아원', '일식회집', '일반 가구', '사무서비스',\n",
       "       '기타건축자재', '레져업소(회원제형태)', '안경', '학원(회원제형태)', '과학기자재', '정장', '스넥',\n",
       "       '페 인 트', '노래방', '윤활유전문판매', '한의원', '악세 사리', '애완 동물', '농축수산품',\n",
       "       '가   방', '기타레져업', '스포츠레져용품', '통신 기기', '서적출판(회원제형태)', '중국음식',\n",
       "       '문구용 품', '화물 운송', '기타의료기관및기타의료기기', '조명 기구', '내의판매점', '건축요업품',\n",
       "       '주 차 장', '비 영 리', '미 용 원', '일반한식', '티켓', 'L P G', '일반 서적', '종합병원',\n",
       "       '기타전기제품', '제약회사', '홍삼 제품', '침구수예점', '시   계', '영화관', '자동차정비',\n",
       "       '소프트웨어', '기타전문점', '기타건강식', '기타회원제형태업소4', '기능학원', '종합용역', '냉열 기기',\n",
       "       '기타잡화', '화 장 품', '가전 제품', '볼 링 장', '제 화 점', '칵테일바', 'CATV홈쇼핑',\n",
       "       '위탁급식업', '공공요금/대상', '기계 공구', '기타숙박업', '독서실', '기타 교육', '단란주점',\n",
       "       '세탁소', '컴퓨터학원', '주방 용구', '인터넷종합Mall', '병원', '헬스 크럽', '혼례서비스',\n",
       "       '기타주방용구', '2급 호텔', '신   발', '사진관', '골프연습장', '기타용역서비스',\n",
       "       '구내매점(국가기관등)', '사우나', '한방병원', '상품권', '인터넷P/G', '유흥주점', '화   원',\n",
       "       '출판인쇄물', '국산신차직영부품/정비업소', '수입자동차', '스포츠의류', '국산 신차', '귀 금 속',\n",
       "       '민예공예품', '기타의류', '골프경기장', '수 족 관', '고속 버스', '피부미용실', '인테 리어',\n",
       "       '기타사무용품', '스크린골프', '의료 용품', '예체능학원', '기타대인서비스', '보일러펌프샷시', '미용 재료',\n",
       "       '악 기 점', '손해 보험', '카인테리어', '외국어학원', '카 메 라', '기타유통업', '아동의류',\n",
       "       '문화취미기타', '당구장', '사무통신기기수리', '사무 기기', '연 쇄 점', '기념품 점',\n",
       "       '자사카드발행백화점', '법률회계서비스(개인)', '주류판매점', '초중고교육기관', '공공 요금', '면 세 점',\n",
       "       '이륜차판매', '자동차시트/타이어', '전자(상우회)', '법률회계서비스(법인)', '1급 호텔',\n",
       "       '조세서비스(특약)', '통신판매1', '건강진단', '중고자동차', '기타보험', '안마/스포츠마사지', '단체복',\n",
       "       '골프 용품', '화   랑', '피아노대리점', '세 차 장', '기타회원제형태업소1', '비료/농약/사료/종자',\n",
       "       '견인서비스', '유   리', '렌 트 카', '공무원연금매점', '치과병원', '기타서적문구', '부동산중개/임대',\n",
       "       '테니스 장', '학습지교육', 'PG 상품권', '건강식품(회원제형태)', '옷감 직물', '기타비영리유통',\n",
       "       '미곡상', '레져용품수리', '전문 서적', '주방용식기', '와이셔츠/타이', '통신판매(일반)', '성인용품점',\n",
       "       '유류 판매', '가정용품수리', '항 공 사', '중장비수리', '보관창고업', '기타수리서비스', '기타직물',\n",
       "       '기타광학품', '갈비전문점', '사무서비스(회원제형태)', '기타교통수단', '한정식', '부동산분양',\n",
       "       '화방표구점', '택   시', '양 품 점', '생명 보험', 'CATV', '종합레져타운', '조세서비스',\n",
       "       '이 용 원', '수 영 장', '정 수 기', '기타회원제형태업소3', '정보서비스', '여 객 선', '관광여행',\n",
       "       '인삼 제품', '맞춤복 점', '기타자동차서비스', '신변잡화수리', '농', '기타농업관련', '상품권 전문판매',\n",
       "       '위성방송', '캐쥬얼의류', '통신판매2', '산후조리원', '기타연료', '정기간행물', '철제 가구',\n",
       "       '골동품 점', '유학원', '비영리/비대상', '한약방', '농축수산가공품', '기타 운송', '농기계',\n",
       "       '외국인전용가맹점', '음반', '보훈', '통신서비스', '유치원', '일반백화점', '대학등록금',\n",
       "       '자동차서비스(회원제형태)', '기타회원제형태업소5', '전자상거래 상품권', '통신서비스/비대상', '자체물품대금',\n",
       "       '조산원', '스 키 장', '혼수전문점', '철   도', '콘   도', '사업자미등록개인',\n",
       "       '기타회원제형태업소2', '교육테이프', '택시회사', '통신기기무이자할부', '통신판매(생활서비스)',\n",
       "       '중고자동차위탁판매', '총포류판매', 'P2P송금', '비씨카드정산용(할인)', '카지노'], dtype=object)"
      ]
     },
     "execution_count": 54,
     "metadata": {},
     "output_type": "execute_result"
    }
   ],
   "source": [
    "card['가맹점업종명'].unique()"
   ]
  },
  {
   "cell_type": "markdown",
   "metadata": {},
   "source": [
    "# 탐색적 데이터 분석 및 시각화"
   ]
  },
  {
   "cell_type": "markdown",
   "metadata": {},
   "source": [
    "## 횡단적 데이터 탐색"
   ]
  },
  {
   "cell_type": "markdown",
   "metadata": {
    "ExecuteTime": {
     "end_time": "2020-07-28T10:33:27.011842Z",
     "start_time": "2020-07-28T10:33:27.006842Z"
    }
   },
   "source": [
    "### 지역별 감염자 및 유동인구의 관계"
   ]
  },
  {
   "cell_type": "markdown",
   "metadata": {},
   "source": [
    "### 지역별 감염자 및 소비 패턴 관계"
   ]
  },
  {
   "cell_type": "markdown",
   "metadata": {},
   "source": [
    "## 코로나 전후 종단적 데이터 탐색"
   ]
  },
  {
   "cell_type": "markdown",
   "metadata": {},
   "source": [
    "###  감염자 누적 및 지역별 유동인구 변화"
   ]
  },
  {
   "cell_type": "markdown",
   "metadata": {},
   "source": [
    "### 업종별 소비 패턴의 변화"
   ]
  },
  {
   "cell_type": "markdown",
   "metadata": {},
   "source": [
    "# 결론 및 인사이트"
   ]
  },
  {
   "cell_type": "markdown",
   "metadata": {},
   "source": []
  },
  {
   "cell_type": "markdown",
   "metadata": {},
   "source": []
  },
  {
   "cell_type": "markdown",
   "metadata": {},
   "source": []
  },
  {
   "cell_type": "markdown",
   "metadata": {},
   "source": []
  },
  {
   "cell_type": "markdown",
   "metadata": {},
   "source": []
  },
  {
   "cell_type": "markdown",
   "metadata": {},
   "source": []
  },
  {
   "cell_type": "markdown",
   "metadata": {},
   "source": []
  },
  {
   "cell_type": "markdown",
   "metadata": {},
   "source": []
  },
  {
   "cell_type": "markdown",
   "metadata": {},
   "source": []
  },
  {
   "cell_type": "markdown",
   "metadata": {},
   "source": []
  },
  {
   "cell_type": "markdown",
   "metadata": {},
   "source": []
  },
  {
   "cell_type": "markdown",
   "metadata": {},
   "source": []
  },
  {
   "cell_type": "markdown",
   "metadata": {},
   "source": []
  },
  {
   "cell_type": "markdown",
   "metadata": {},
   "source": []
  }
 ],
 "metadata": {
  "kernelspec": {
   "display_name": "Python 3",
   "language": "python",
   "name": "python3"
  },
  "language_info": {
   "codemirror_mode": {
    "name": "ipython",
    "version": 3
   },
   "file_extension": ".py",
   "mimetype": "text/x-python",
   "name": "python",
   "nbconvert_exporter": "python",
   "pygments_lexer": "ipython3",
   "version": "3.7.6"
  },
  "toc": {
   "base_numbering": 1,
   "nav_menu": {},
   "number_sections": true,
   "sideBar": true,
   "skip_h1_title": false,
   "title_cell": "Table of Contents",
   "title_sidebar": "Contents",
   "toc_cell": false,
   "toc_position": {
    "height": "calc(100% - 180px)",
    "left": "10px",
    "top": "150px",
    "width": "384px"
   },
   "toc_section_display": true,
   "toc_window_display": true
  },
  "varInspector": {
   "cols": {
    "lenName": 16,
    "lenType": 16,
    "lenVar": 40
   },
   "kernels_config": {
    "python": {
     "delete_cmd_postfix": "",
     "delete_cmd_prefix": "del ",
     "library": "var_list.py",
     "varRefreshCmd": "print(var_dic_list())"
    },
    "r": {
     "delete_cmd_postfix": ") ",
     "delete_cmd_prefix": "rm(",
     "library": "var_list.r",
     "varRefreshCmd": "cat(var_dic_list()) "
    }
   },
   "types_to_exclude": [
    "module",
    "function",
    "builtin_function_or_method",
    "instance",
    "_Feature"
   ],
   "window_display": false
  }
 },
 "nbformat": 4,
 "nbformat_minor": 4
}
