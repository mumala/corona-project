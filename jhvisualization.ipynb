{
 "cells": [
  {
   "cell_type": "markdown",
   "metadata": {},
   "source": [
    "# 데이터 분석에 앞서..."
   ]
  },
  {
   "cell_type": "markdown",
   "metadata": {},
   "source": [
    "## 배경 및 필요성"
   ]
  },
  {
   "cell_type": "markdown",
   "metadata": {},
   "source": [
    "    ▶ 코로나 바이러스는 2019년 12월부터 퍼져 현재까지 지속되며 사회, 경제적으로 큰 변화를 불러 일으켜 오고 있습니다. 비말 감염에 의한 강력한 바이러스 전염성은 사회 전반의 비접촉을 강요하였고 사회적 거리두기와 경제 활동 감소를 발생시켰습니다. 이는 유동인구의 감소, 소비의 감소, 비대면 수요의 증가와 같은 지표로 확인할 수 있습니다.\n",
    "    ▶ 저희 팀은 이와 같은 변화를 업종별, 시간별로 데이터를 탐색하여 감염 확산과 사회 활동 간의 관계, 그리고 카드 매출의 변화를 확인하고자 하였습니다."
   ]
  },
  {
   "cell_type": "markdown",
   "metadata": {},
   "source": [
    "## ○ 주제 \n",
    "    ▶ 포스트 코로나 시대 유망 품목 및 산업 발굴\n",
    "    ▶ 코로나로 인한 국민의 생활/소비의 변화 파악    "
   ]
  },
  {
   "cell_type": "markdown",
   "metadata": {},
   "source": [
    "## ○ 가치\n",
    "    ▶ 빅데이터의 가치를 활용하여 코로나가 미치는 영향을 보다 객관적이고 포괄적으로 이해\n",
    "    ▶ 데이터 분석을 통해 발굴한 인사이트의 활용"
   ]
  },
  {
   "cell_type": "markdown",
   "metadata": {},
   "source": [
    "## 연구개요\n",
    "    ▶ 활용 데이터 \n",
    "       : 유동인구(fpopl.csv), 행정동(adstrd_master.csv), 코로나 확진자,날짜 별 지역별 확진자 수(timeprovince.csv), \n",
    "       카드사용 발생건수 및 매출(card.csv) 데이터\n",
    "    ▶ 데이터 분석 기간 : \n",
    "           \n"
   ]
  },
  {
   "cell_type": "code",
   "execution_count": 7,
   "metadata": {
    "ExecuteTime": {
     "end_time": "2020-07-28T12:00:00.262378Z",
     "start_time": "2020-07-28T12:00:00.231178Z"
    }
   },
   "outputs": [],
   "source": [
    "import numpy as np\n",
    "import pandas as pd\n",
    "import matplotlib.pyplot as plt\n",
    "%matplotlib inline"
   ]
  },
  {
   "cell_type": "markdown",
   "metadata": {},
   "source": [
    "# 데이터 불러오기"
   ]
  },
  {
   "cell_type": "code",
   "execution_count": 9,
   "metadata": {
    "ExecuteTime": {
     "end_time": "2020-07-28T12:01:18.679567Z",
     "start_time": "2020-07-28T12:01:15.446309Z"
    }
   },
   "outputs": [],
   "source": [
    "card_raw = pd.read_csv(\"C:/Users/COM/Downloads/KT_data_20200717/card_20200717.csv\", encoding='utf-8')"
   ]
  },
  {
   "cell_type": "code",
   "execution_count": 10,
   "metadata": {
    "ExecuteTime": {
     "end_time": "2020-07-28T12:01:19.927203Z",
     "start_time": "2020-07-28T12:01:19.907603Z"
    }
   },
   "outputs": [
    {
     "data": {
      "text/plain": [
       "(3713952, 7)"
      ]
     },
     "execution_count": 10,
     "metadata": {},
     "output_type": "execute_result"
    }
   ],
   "source": [
    "card = card_raw\n",
    "card.shape"
   ]
  },
  {
   "cell_type": "markdown",
   "metadata": {},
   "source": [
    "# 데이터 전처리"
   ]
  },
  {
   "cell_type": "code",
   "execution_count": 14,
   "metadata": {
    "ExecuteTime": {
     "end_time": "2020-07-28T12:02:11.390097Z",
     "start_time": "2020-07-28T12:02:11.316895Z"
    },
    "code_folding": [],
    "collapsed": true
   },
   "outputs": [
    {
     "ename": "KeyError",
     "evalue": "'selng_cascnt'",
     "output_type": "error",
     "traceback": [
      "\u001b[1;31m---------------------------------------------------------------------------\u001b[0m",
      "\u001b[1;31mKeyError\u001b[0m                                  Traceback (most recent call last)",
      "\u001b[1;32m~\\AppData\\Roaming\\Python\\Python37\\site-packages\\pandas\\core\\indexes\\base.py\u001b[0m in \u001b[0;36mget_loc\u001b[1;34m(self, key, method, tolerance)\u001b[0m\n\u001b[0;32m   2645\u001b[0m             \u001b[1;32mtry\u001b[0m\u001b[1;33m:\u001b[0m\u001b[1;33m\u001b[0m\u001b[1;33m\u001b[0m\u001b[0m\n\u001b[1;32m-> 2646\u001b[1;33m                 \u001b[1;32mreturn\u001b[0m \u001b[0mself\u001b[0m\u001b[1;33m.\u001b[0m\u001b[0m_engine\u001b[0m\u001b[1;33m.\u001b[0m\u001b[0mget_loc\u001b[0m\u001b[1;33m(\u001b[0m\u001b[0mkey\u001b[0m\u001b[1;33m)\u001b[0m\u001b[1;33m\u001b[0m\u001b[1;33m\u001b[0m\u001b[0m\n\u001b[0m\u001b[0;32m   2647\u001b[0m             \u001b[1;32mexcept\u001b[0m \u001b[0mKeyError\u001b[0m\u001b[1;33m:\u001b[0m\u001b[1;33m\u001b[0m\u001b[1;33m\u001b[0m\u001b[0m\n",
      "\u001b[1;32mpandas\\_libs\\index.pyx\u001b[0m in \u001b[0;36mpandas._libs.index.IndexEngine.get_loc\u001b[1;34m()\u001b[0m\n",
      "\u001b[1;32mpandas\\_libs\\index.pyx\u001b[0m in \u001b[0;36mpandas._libs.index.IndexEngine.get_loc\u001b[1;34m()\u001b[0m\n",
      "\u001b[1;32mpandas\\_libs\\hashtable_class_helper.pxi\u001b[0m in \u001b[0;36mpandas._libs.hashtable.PyObjectHashTable.get_item\u001b[1;34m()\u001b[0m\n",
      "\u001b[1;32mpandas\\_libs\\hashtable_class_helper.pxi\u001b[0m in \u001b[0;36mpandas._libs.hashtable.PyObjectHashTable.get_item\u001b[1;34m()\u001b[0m\n",
      "\u001b[1;31mKeyError\u001b[0m: 'selng_cascnt'",
      "\nDuring handling of the above exception, another exception occurred:\n",
      "\u001b[1;31mKeyError\u001b[0m                                  Traceback (most recent call last)",
      "\u001b[1;32m<ipython-input-14-1911c171dbbf>\u001b[0m in \u001b[0;36m<module>\u001b[1;34m\u001b[0m\n\u001b[0;32m      3\u001b[0m \u001b[1;33m\u001b[0m\u001b[0m\n\u001b[0;32m      4\u001b[0m \u001b[1;32mfor\u001b[0m \u001b[0merrval\u001b[0m \u001b[1;32min\u001b[0m \u001b[0merrvals\u001b[0m\u001b[1;33m:\u001b[0m\u001b[1;33m\u001b[0m\u001b[1;33m\u001b[0m\u001b[0m\n\u001b[1;32m----> 5\u001b[1;33m     \u001b[0mcard\u001b[0m \u001b[1;33m=\u001b[0m \u001b[0mcard\u001b[0m\u001b[1;33m.\u001b[0m\u001b[0mdrop\u001b[0m\u001b[1;33m(\u001b[0m \u001b[0mcard\u001b[0m\u001b[1;33m[\u001b[0m\u001b[0mcard\u001b[0m\u001b[1;33m[\u001b[0m\u001b[1;34m\"selng_cascnt\"\u001b[0m\u001b[1;33m]\u001b[0m \u001b[1;33m==\u001b[0m \u001b[0merrval\u001b[0m\u001b[1;33m]\u001b[0m\u001b[1;33m.\u001b[0m\u001b[0mindex\u001b[0m \u001b[1;33m)\u001b[0m\u001b[1;33m\u001b[0m\u001b[1;33m\u001b[0m\u001b[0m\n\u001b[0m\u001b[0;32m      6\u001b[0m \u001b[1;33m\u001b[0m\u001b[0m\n\u001b[0;32m      7\u001b[0m \u001b[1;31m# 구매건수, 구매총액 string type to int64\u001b[0m\u001b[1;33m\u001b[0m\u001b[1;33m\u001b[0m\u001b[1;33m\u001b[0m\u001b[0m\n",
      "\u001b[1;32m~\\AppData\\Roaming\\Python\\Python37\\site-packages\\pandas\\core\\frame.py\u001b[0m in \u001b[0;36m__getitem__\u001b[1;34m(self, key)\u001b[0m\n\u001b[0;32m   2798\u001b[0m             \u001b[1;32mif\u001b[0m \u001b[0mself\u001b[0m\u001b[1;33m.\u001b[0m\u001b[0mcolumns\u001b[0m\u001b[1;33m.\u001b[0m\u001b[0mnlevels\u001b[0m \u001b[1;33m>\u001b[0m \u001b[1;36m1\u001b[0m\u001b[1;33m:\u001b[0m\u001b[1;33m\u001b[0m\u001b[1;33m\u001b[0m\u001b[0m\n\u001b[0;32m   2799\u001b[0m                 \u001b[1;32mreturn\u001b[0m \u001b[0mself\u001b[0m\u001b[1;33m.\u001b[0m\u001b[0m_getitem_multilevel\u001b[0m\u001b[1;33m(\u001b[0m\u001b[0mkey\u001b[0m\u001b[1;33m)\u001b[0m\u001b[1;33m\u001b[0m\u001b[1;33m\u001b[0m\u001b[0m\n\u001b[1;32m-> 2800\u001b[1;33m             \u001b[0mindexer\u001b[0m \u001b[1;33m=\u001b[0m \u001b[0mself\u001b[0m\u001b[1;33m.\u001b[0m\u001b[0mcolumns\u001b[0m\u001b[1;33m.\u001b[0m\u001b[0mget_loc\u001b[0m\u001b[1;33m(\u001b[0m\u001b[0mkey\u001b[0m\u001b[1;33m)\u001b[0m\u001b[1;33m\u001b[0m\u001b[1;33m\u001b[0m\u001b[0m\n\u001b[0m\u001b[0;32m   2801\u001b[0m             \u001b[1;32mif\u001b[0m \u001b[0mis_integer\u001b[0m\u001b[1;33m(\u001b[0m\u001b[0mindexer\u001b[0m\u001b[1;33m)\u001b[0m\u001b[1;33m:\u001b[0m\u001b[1;33m\u001b[0m\u001b[1;33m\u001b[0m\u001b[0m\n\u001b[0;32m   2802\u001b[0m                 \u001b[0mindexer\u001b[0m \u001b[1;33m=\u001b[0m \u001b[1;33m[\u001b[0m\u001b[0mindexer\u001b[0m\u001b[1;33m]\u001b[0m\u001b[1;33m\u001b[0m\u001b[1;33m\u001b[0m\u001b[0m\n",
      "\u001b[1;32m~\\AppData\\Roaming\\Python\\Python37\\site-packages\\pandas\\core\\indexes\\base.py\u001b[0m in \u001b[0;36mget_loc\u001b[1;34m(self, key, method, tolerance)\u001b[0m\n\u001b[0;32m   2646\u001b[0m                 \u001b[1;32mreturn\u001b[0m \u001b[0mself\u001b[0m\u001b[1;33m.\u001b[0m\u001b[0m_engine\u001b[0m\u001b[1;33m.\u001b[0m\u001b[0mget_loc\u001b[0m\u001b[1;33m(\u001b[0m\u001b[0mkey\u001b[0m\u001b[1;33m)\u001b[0m\u001b[1;33m\u001b[0m\u001b[1;33m\u001b[0m\u001b[0m\n\u001b[0;32m   2647\u001b[0m             \u001b[1;32mexcept\u001b[0m \u001b[0mKeyError\u001b[0m\u001b[1;33m:\u001b[0m\u001b[1;33m\u001b[0m\u001b[1;33m\u001b[0m\u001b[0m\n\u001b[1;32m-> 2648\u001b[1;33m                 \u001b[1;32mreturn\u001b[0m \u001b[0mself\u001b[0m\u001b[1;33m.\u001b[0m\u001b[0m_engine\u001b[0m\u001b[1;33m.\u001b[0m\u001b[0mget_loc\u001b[0m\u001b[1;33m(\u001b[0m\u001b[0mself\u001b[0m\u001b[1;33m.\u001b[0m\u001b[0m_maybe_cast_indexer\u001b[0m\u001b[1;33m(\u001b[0m\u001b[0mkey\u001b[0m\u001b[1;33m)\u001b[0m\u001b[1;33m)\u001b[0m\u001b[1;33m\u001b[0m\u001b[1;33m\u001b[0m\u001b[0m\n\u001b[0m\u001b[0;32m   2649\u001b[0m         \u001b[0mindexer\u001b[0m \u001b[1;33m=\u001b[0m \u001b[0mself\u001b[0m\u001b[1;33m.\u001b[0m\u001b[0mget_indexer\u001b[0m\u001b[1;33m(\u001b[0m\u001b[1;33m[\u001b[0m\u001b[0mkey\u001b[0m\u001b[1;33m]\u001b[0m\u001b[1;33m,\u001b[0m \u001b[0mmethod\u001b[0m\u001b[1;33m=\u001b[0m\u001b[0mmethod\u001b[0m\u001b[1;33m,\u001b[0m \u001b[0mtolerance\u001b[0m\u001b[1;33m=\u001b[0m\u001b[0mtolerance\u001b[0m\u001b[1;33m)\u001b[0m\u001b[1;33m\u001b[0m\u001b[1;33m\u001b[0m\u001b[0m\n\u001b[0;32m   2650\u001b[0m         \u001b[1;32mif\u001b[0m \u001b[0mindexer\u001b[0m\u001b[1;33m.\u001b[0m\u001b[0mndim\u001b[0m \u001b[1;33m>\u001b[0m \u001b[1;36m1\u001b[0m \u001b[1;32mor\u001b[0m \u001b[0mindexer\u001b[0m\u001b[1;33m.\u001b[0m\u001b[0msize\u001b[0m \u001b[1;33m>\u001b[0m \u001b[1;36m1\u001b[0m\u001b[1;33m:\u001b[0m\u001b[1;33m\u001b[0m\u001b[1;33m\u001b[0m\u001b[0m\n",
      "\u001b[1;32mpandas\\_libs\\index.pyx\u001b[0m in \u001b[0;36mpandas._libs.index.IndexEngine.get_loc\u001b[1;34m()\u001b[0m\n",
      "\u001b[1;32mpandas\\_libs\\index.pyx\u001b[0m in \u001b[0;36mpandas._libs.index.IndexEngine.get_loc\u001b[1;34m()\u001b[0m\n",
      "\u001b[1;32mpandas\\_libs\\hashtable_class_helper.pxi\u001b[0m in \u001b[0;36mpandas._libs.hashtable.PyObjectHashTable.get_item\u001b[1;34m()\u001b[0m\n",
      "\u001b[1;32mpandas\\_libs\\hashtable_class_helper.pxi\u001b[0m in \u001b[0;36mpandas._libs.hashtable.PyObjectHashTable.get_item\u001b[1;34m()\u001b[0m\n",
      "\u001b[1;31mKeyError\u001b[0m: 'selng_cascnt'"
     ]
    }
   ],
   "source": [
    "# 데이터 오류 제거\n",
    "errvals = [\"석재\", \"커텐\", \"영상물\", \"복지매장\", \"축협직영매장\"]\n",
    "\n",
    "for errval in errvals:\n",
    "    card = card.drop( card[card[\"selng_cascnt\"] == errval].index )\n",
    "\n",
    "# 구매건수, 구매총액 string type to int64\n",
    "card[\"selng_cascnt\"] = card[\"selng_cascnt\"].astype(\"int64\") \n",
    "card[\"salamt\"] = card[\"salamt\"].astype(\"int64\") \n",
    "\n",
    "# 날짜 데이터 int type to datetime\n",
    "card[\"receipt_dttm\"] = pd.to_datetime(card[\"receipt_dttm\"], format=\"%Y%m%d\")\n",
    "\n",
    "# '가맹점업종코드 앞 두 자리' 칼럼 추가(업종별로 묶기 위함)\n",
    "card['mrhst_induty_cl_code'] = card['mrhst_induty_cl_code'].astype(str)\n",
    "card['mrhst_induty_clm_code'] = card['mrhst_induty_cl_code'].str.slice(start=0, stop=2)\n",
    "\n",
    "# 가맹점업종코드 앞 두 자리' 칼럼 순서 변경\n",
    "card = card[['receipt_dttm',  'adstrd_code', 'adstrd_nm','mrhst_induty_clm_code', 'mrhst_induty_cl_code',\n",
    "       'mrhst_induty_cl_nm', 'selng_cascnt', 'salamt']]\n",
    "\n",
    "# 띄어쓰기 제거\n",
    "card.mrhst_induty_cl_nm = card.mrhst_induty_cl_nm.str.replace(' ', '')\n",
    "\n",
    "# 칼럼명 변경\n",
    "card.rename(columns={'receipt_dttm':'카드사용접수일',\n",
    "                            'adstrd_code':'가맹점행정코드',\n",
    "                            'adstrd_nm':'가맹점행정동명',\n",
    "                            'mrhst_induty_clm_code': '가맹점업종코드앞자리',\n",
    "                            'mrhst_induty_cl_code':'가맹점업종코드',\n",
    "                            'mrhst_induty_cl_nm':'가맹점업종명',\n",
    "                            'selng_cascnt':'매출발생건수',\n",
    "                            'salamt':'매출발생금액' }, inplace=True)"
   ]
  },
  {
   "cell_type": "code",
   "execution_count": 15,
   "metadata": {
    "ExecuteTime": {
     "end_time": "2020-07-28T12:02:28.510066Z",
     "start_time": "2020-07-28T12:02:28.482465Z"
    },
    "scrolled": false
   },
   "outputs": [
    {
     "data": {
      "text/html": [
       "<div>\n",
       "<style scoped>\n",
       "    .dataframe tbody tr th:only-of-type {\n",
       "        vertical-align: middle;\n",
       "    }\n",
       "\n",
       "    .dataframe tbody tr th {\n",
       "        vertical-align: top;\n",
       "    }\n",
       "\n",
       "    .dataframe thead th {\n",
       "        text-align: right;\n",
       "    }\n",
       "</style>\n",
       "<table border=\"1\" class=\"dataframe\">\n",
       "  <thead>\n",
       "    <tr style=\"text-align: right;\">\n",
       "      <th></th>\n",
       "      <th>카드사용접수일</th>\n",
       "      <th>가맹점행정코드</th>\n",
       "      <th>가맹점행정동명</th>\n",
       "      <th>가맹점업종코드앞자리</th>\n",
       "      <th>가맹점업종코드</th>\n",
       "      <th>가맹점업종명</th>\n",
       "      <th>매출발생건수</th>\n",
       "      <th>매출발생금액</th>\n",
       "    </tr>\n",
       "  </thead>\n",
       "  <tbody>\n",
       "    <tr>\n",
       "      <th>0</th>\n",
       "      <td>2020-01-04</td>\n",
       "      <td>1174066000</td>\n",
       "      <td>성내3동</td>\n",
       "      <td>70</td>\n",
       "      <td>7041</td>\n",
       "      <td>약국</td>\n",
       "      <td>463</td>\n",
       "      <td>5843230</td>\n",
       "    </tr>\n",
       "    <tr>\n",
       "      <th>1</th>\n",
       "      <td>2020-01-04</td>\n",
       "      <td>1174066000</td>\n",
       "      <td>성내3동</td>\n",
       "      <td>70</td>\n",
       "      <td>7022</td>\n",
       "      <td>치과의원</td>\n",
       "      <td>33</td>\n",
       "      <td>7835550</td>\n",
       "    </tr>\n",
       "    <tr>\n",
       "      <th>2</th>\n",
       "      <td>2020-01-04</td>\n",
       "      <td>1174066000</td>\n",
       "      <td>성내3동</td>\n",
       "      <td>70</td>\n",
       "      <td>7021</td>\n",
       "      <td>한의원</td>\n",
       "      <td>53</td>\n",
       "      <td>4589800</td>\n",
       "    </tr>\n",
       "    <tr>\n",
       "      <th>3</th>\n",
       "      <td>2020-01-04</td>\n",
       "      <td>1174066000</td>\n",
       "      <td>성내3동</td>\n",
       "      <td>70</td>\n",
       "      <td>7020</td>\n",
       "      <td>의원</td>\n",
       "      <td>339</td>\n",
       "      <td>9267240</td>\n",
       "    </tr>\n",
       "    <tr>\n",
       "      <th>4</th>\n",
       "      <td>2020-01-04</td>\n",
       "      <td>1174066000</td>\n",
       "      <td>성내3동</td>\n",
       "      <td>61</td>\n",
       "      <td>6110</td>\n",
       "      <td>자동차정비</td>\n",
       "      <td>19</td>\n",
       "      <td>4441000</td>\n",
       "    </tr>\n",
       "  </tbody>\n",
       "</table>\n",
       "</div>"
      ],
      "text/plain": [
       "     카드사용접수일     가맹점행정코드 가맹점행정동명 가맹점업종코드앞자리 가맹점업종코드 가맹점업종명  매출발생건수   매출발생금액\n",
       "0 2020-01-04  1174066000    성내3동         70    7041     약국     463  5843230\n",
       "1 2020-01-04  1174066000    성내3동         70    7022   치과의원      33  7835550\n",
       "2 2020-01-04  1174066000    성내3동         70    7021    한의원      53  4589800\n",
       "3 2020-01-04  1174066000    성내3동         70    7020     의원     339  9267240\n",
       "4 2020-01-04  1174066000    성내3동         61    6110  자동차정비      19  4441000"
      ]
     },
     "execution_count": 15,
     "metadata": {},
     "output_type": "execute_result"
    }
   ],
   "source": [
    "card.head()"
   ]
  },
  {
   "cell_type": "code",
   "execution_count": 16,
   "metadata": {
    "ExecuteTime": {
     "end_time": "2020-07-28T12:02:32.881570Z",
     "start_time": "2020-07-28T12:02:32.850370Z"
    },
    "scrolled": true
   },
   "outputs": [
    {
     "name": "stdout",
     "output_type": "stream",
     "text": [
      "<class 'pandas.core.frame.DataFrame'>\n",
      "Int64Index: 3713952 entries, 0 to 3713951\n",
      "Data columns (total 8 columns):\n",
      " #   Column      Dtype         \n",
      "---  ------      -----         \n",
      " 0   카드사용접수일     datetime64[ns]\n",
      " 1   가맹점행정코드     int64         \n",
      " 2   가맹점행정동명     object        \n",
      " 3   가맹점업종코드앞자리  object        \n",
      " 4   가맹점업종코드     object        \n",
      " 5   가맹점업종명      object        \n",
      " 6   매출발생건수      int64         \n",
      " 7   매출발생금액      int64         \n",
      "dtypes: datetime64[ns](1), int64(3), object(4)\n",
      "memory usage: 255.0+ MB\n"
     ]
    }
   ],
   "source": [
    "card.info()"
   ]
  },
  {
   "cell_type": "code",
   "execution_count": 17,
   "metadata": {
    "ExecuteTime": {
     "end_time": "2020-07-28T12:02:41.134576Z",
     "start_time": "2020-07-28T12:02:38.894926Z"
    },
    "scrolled": true
   },
   "outputs": [
    {
     "data": {
      "text/html": [
       "<div>\n",
       "<style scoped>\n",
       "    .dataframe tbody tr th:only-of-type {\n",
       "        vertical-align: middle;\n",
       "    }\n",
       "\n",
       "    .dataframe tbody tr th {\n",
       "        vertical-align: top;\n",
       "    }\n",
       "\n",
       "    .dataframe thead th {\n",
       "        text-align: right;\n",
       "    }\n",
       "</style>\n",
       "<table border=\"1\" class=\"dataframe\">\n",
       "  <thead>\n",
       "    <tr style=\"text-align: right;\">\n",
       "      <th></th>\n",
       "      <th>카드사용접수일</th>\n",
       "      <th>가맹점행정코드</th>\n",
       "      <th>가맹점행정동명</th>\n",
       "      <th>가맹점업종코드앞자리</th>\n",
       "      <th>가맹점업종코드</th>\n",
       "      <th>가맹점업종명</th>\n",
       "      <th>매출발생건수</th>\n",
       "      <th>매출발생금액</th>\n",
       "    </tr>\n",
       "  </thead>\n",
       "  <tbody>\n",
       "    <tr>\n",
       "      <th>count</th>\n",
       "      <td>3713952</td>\n",
       "      <td>3.713952e+06</td>\n",
       "      <td>3713952</td>\n",
       "      <td>3713952</td>\n",
       "      <td>3713952</td>\n",
       "      <td>3713952</td>\n",
       "      <td>3.713952e+06</td>\n",
       "      <td>3.713952e+06</td>\n",
       "    </tr>\n",
       "    <tr>\n",
       "      <th>unique</th>\n",
       "      <td>155</td>\n",
       "      <td>NaN</td>\n",
       "      <td>424</td>\n",
       "      <td>35</td>\n",
       "      <td>261</td>\n",
       "      <td>260</td>\n",
       "      <td>NaN</td>\n",
       "      <td>NaN</td>\n",
       "    </tr>\n",
       "    <tr>\n",
       "      <th>top</th>\n",
       "      <td>2020-05-22 00:00:00</td>\n",
       "      <td>NaN</td>\n",
       "      <td>신사동</td>\n",
       "      <td>80</td>\n",
       "      <td>8001</td>\n",
       "      <td>일반한식</td>\n",
       "      <td>NaN</td>\n",
       "      <td>NaN</td>\n",
       "    </tr>\n",
       "    <tr>\n",
       "      <th>freq</th>\n",
       "      <td>29683</td>\n",
       "      <td>NaN</td>\n",
       "      <td>23214</td>\n",
       "      <td>424411</td>\n",
       "      <td>65528</td>\n",
       "      <td>65528</td>\n",
       "      <td>NaN</td>\n",
       "      <td>NaN</td>\n",
       "    </tr>\n",
       "    <tr>\n",
       "      <th>first</th>\n",
       "      <td>2020-01-04 00:00:00</td>\n",
       "      <td>NaN</td>\n",
       "      <td>NaN</td>\n",
       "      <td>NaN</td>\n",
       "      <td>NaN</td>\n",
       "      <td>NaN</td>\n",
       "      <td>NaN</td>\n",
       "      <td>NaN</td>\n",
       "    </tr>\n",
       "    <tr>\n",
       "      <th>last</th>\n",
       "      <td>2020-06-14 00:00:00</td>\n",
       "      <td>NaN</td>\n",
       "      <td>NaN</td>\n",
       "      <td>NaN</td>\n",
       "      <td>NaN</td>\n",
       "      <td>NaN</td>\n",
       "      <td>NaN</td>\n",
       "      <td>NaN</td>\n",
       "    </tr>\n",
       "    <tr>\n",
       "      <th>mean</th>\n",
       "      <td>NaN</td>\n",
       "      <td>1.144507e+09</td>\n",
       "      <td>NaN</td>\n",
       "      <td>NaN</td>\n",
       "      <td>NaN</td>\n",
       "      <td>NaN</td>\n",
       "      <td>2.130553e+02</td>\n",
       "      <td>8.661771e+06</td>\n",
       "    </tr>\n",
       "    <tr>\n",
       "      <th>std</th>\n",
       "      <td>NaN</td>\n",
       "      <td>1.918899e+07</td>\n",
       "      <td>NaN</td>\n",
       "      <td>NaN</td>\n",
       "      <td>NaN</td>\n",
       "      <td>NaN</td>\n",
       "      <td>9.099785e+03</td>\n",
       "      <td>5.059716e+08</td>\n",
       "    </tr>\n",
       "    <tr>\n",
       "      <th>min</th>\n",
       "      <td>NaN</td>\n",
       "      <td>1.111052e+09</td>\n",
       "      <td>NaN</td>\n",
       "      <td>NaN</td>\n",
       "      <td>NaN</td>\n",
       "      <td>NaN</td>\n",
       "      <td>-1.892000e+03</td>\n",
       "      <td>-2.937331e+09</td>\n",
       "    </tr>\n",
       "    <tr>\n",
       "      <th>25%</th>\n",
       "      <td>NaN</td>\n",
       "      <td>1.126069e+09</td>\n",
       "      <td>NaN</td>\n",
       "      <td>NaN</td>\n",
       "      <td>NaN</td>\n",
       "      <td>NaN</td>\n",
       "      <td>2.000000e+00</td>\n",
       "      <td>1.150000e+05</td>\n",
       "    </tr>\n",
       "    <tr>\n",
       "      <th>50%</th>\n",
       "      <td>NaN</td>\n",
       "      <td>1.147054e+09</td>\n",
       "      <td>NaN</td>\n",
       "      <td>NaN</td>\n",
       "      <td>NaN</td>\n",
       "      <td>NaN</td>\n",
       "      <td>9.000000e+00</td>\n",
       "      <td>4.720705e+05</td>\n",
       "    </tr>\n",
       "    <tr>\n",
       "      <th>75%</th>\n",
       "      <td>NaN</td>\n",
       "      <td>1.162063e+09</td>\n",
       "      <td>NaN</td>\n",
       "      <td>NaN</td>\n",
       "      <td>NaN</td>\n",
       "      <td>NaN</td>\n",
       "      <td>4.700000e+01</td>\n",
       "      <td>1.817860e+06</td>\n",
       "    </tr>\n",
       "    <tr>\n",
       "      <th>max</th>\n",
       "      <td>NaN</td>\n",
       "      <td>1.174070e+09</td>\n",
       "      <td>NaN</td>\n",
       "      <td>NaN</td>\n",
       "      <td>NaN</td>\n",
       "      <td>NaN</td>\n",
       "      <td>5.729589e+06</td>\n",
       "      <td>5.421737e+11</td>\n",
       "    </tr>\n",
       "  </tbody>\n",
       "</table>\n",
       "</div>"
      ],
      "text/plain": [
       "                    카드사용접수일       가맹점행정코드  가맹점행정동명 가맹점업종코드앞자리  가맹점업종코드  \\\n",
       "count               3713952  3.713952e+06  3713952    3713952  3713952   \n",
       "unique                  155           NaN      424         35      261   \n",
       "top     2020-05-22 00:00:00           NaN      신사동         80     8001   \n",
       "freq                  29683           NaN    23214     424411    65528   \n",
       "first   2020-01-04 00:00:00           NaN      NaN        NaN      NaN   \n",
       "last    2020-06-14 00:00:00           NaN      NaN        NaN      NaN   \n",
       "mean                    NaN  1.144507e+09      NaN        NaN      NaN   \n",
       "std                     NaN  1.918899e+07      NaN        NaN      NaN   \n",
       "min                     NaN  1.111052e+09      NaN        NaN      NaN   \n",
       "25%                     NaN  1.126069e+09      NaN        NaN      NaN   \n",
       "50%                     NaN  1.147054e+09      NaN        NaN      NaN   \n",
       "75%                     NaN  1.162063e+09      NaN        NaN      NaN   \n",
       "max                     NaN  1.174070e+09      NaN        NaN      NaN   \n",
       "\n",
       "         가맹점업종명        매출발생건수        매출발생금액  \n",
       "count   3713952  3.713952e+06  3.713952e+06  \n",
       "unique      260           NaN           NaN  \n",
       "top        일반한식           NaN           NaN  \n",
       "freq      65528           NaN           NaN  \n",
       "first       NaN           NaN           NaN  \n",
       "last        NaN           NaN           NaN  \n",
       "mean        NaN  2.130553e+02  8.661771e+06  \n",
       "std         NaN  9.099785e+03  5.059716e+08  \n",
       "min         NaN -1.892000e+03 -2.937331e+09  \n",
       "25%         NaN  2.000000e+00  1.150000e+05  \n",
       "50%         NaN  9.000000e+00  4.720705e+05  \n",
       "75%         NaN  4.700000e+01  1.817860e+06  \n",
       "max         NaN  5.729589e+06  5.421737e+11  "
      ]
     },
     "execution_count": 17,
     "metadata": {},
     "output_type": "execute_result"
    }
   ],
   "source": [
    "card.describe(include='all')"
   ]
  },
  {
   "cell_type": "code",
   "execution_count": 18,
   "metadata": {
    "ExecuteTime": {
     "end_time": "2020-07-28T12:02:54.363818Z",
     "start_time": "2020-07-28T12:02:51.634748Z"
    },
    "scrolled": true
   },
   "outputs": [
    {
     "data": {
      "text/html": [
       "<div>\n",
       "<style scoped>\n",
       "    .dataframe tbody tr th:only-of-type {\n",
       "        vertical-align: middle;\n",
       "    }\n",
       "\n",
       "    .dataframe tbody tr th {\n",
       "        vertical-align: top;\n",
       "    }\n",
       "\n",
       "    .dataframe thead th {\n",
       "        text-align: right;\n",
       "    }\n",
       "</style>\n",
       "<table border=\"1\" class=\"dataframe\">\n",
       "  <thead>\n",
       "    <tr style=\"text-align: right;\">\n",
       "      <th></th>\n",
       "      <th>카드사용접수일</th>\n",
       "      <th>가맹점행정코드</th>\n",
       "      <th>가맹점행정동명</th>\n",
       "      <th>가맹점업종코드앞자리</th>\n",
       "      <th>가맹점업종코드</th>\n",
       "      <th>가맹점업종명</th>\n",
       "      <th>매출발생건수</th>\n",
       "      <th>매출발생금액</th>\n",
       "    </tr>\n",
       "  </thead>\n",
       "  <tbody>\n",
       "    <tr>\n",
       "      <th>3223949</th>\n",
       "      <td>2020-05-28</td>\n",
       "      <td>1168065000</td>\n",
       "      <td>역삼2동</td>\n",
       "      <td>40</td>\n",
       "      <td>4078</td>\n",
       "      <td>인터넷Mall</td>\n",
       "      <td>2730</td>\n",
       "      <td>542173735297</td>\n",
       "    </tr>\n",
       "    <tr>\n",
       "      <th>314376</th>\n",
       "      <td>2020-01-29</td>\n",
       "      <td>1144055500</td>\n",
       "      <td>아현동</td>\n",
       "      <td>40</td>\n",
       "      <td>4076</td>\n",
       "      <td>인터넷P/G</td>\n",
       "      <td>400388</td>\n",
       "      <td>312747709648</td>\n",
       "    </tr>\n",
       "    <tr>\n",
       "      <th>323705</th>\n",
       "      <td>2020-01-29</td>\n",
       "      <td>1168065000</td>\n",
       "      <td>역삼2동</td>\n",
       "      <td>40</td>\n",
       "      <td>4078</td>\n",
       "      <td>인터넷Mall</td>\n",
       "      <td>23209</td>\n",
       "      <td>218598205392</td>\n",
       "    </tr>\n",
       "    <tr>\n",
       "      <th>1728056</th>\n",
       "      <td>2020-04-01</td>\n",
       "      <td>1168065000</td>\n",
       "      <td>역삼2동</td>\n",
       "      <td>40</td>\n",
       "      <td>4078</td>\n",
       "      <td>인터넷Mall</td>\n",
       "      <td>12550</td>\n",
       "      <td>216792376229</td>\n",
       "    </tr>\n",
       "    <tr>\n",
       "      <th>2616415</th>\n",
       "      <td>2020-05-05</td>\n",
       "      <td>1168065000</td>\n",
       "      <td>역삼2동</td>\n",
       "      <td>91</td>\n",
       "      <td>9161</td>\n",
       "      <td>조세서비스(특약)</td>\n",
       "      <td>17533</td>\n",
       "      <td>189681865170</td>\n",
       "    </tr>\n",
       "  </tbody>\n",
       "</table>\n",
       "</div>"
      ],
      "text/plain": [
       "           카드사용접수일     가맹점행정코드 가맹점행정동명 가맹점업종코드앞자리 가맹점업종코드     가맹점업종명  매출발생건수  \\\n",
       "3223949 2020-05-28  1168065000    역삼2동         40    4078    인터넷Mall    2730   \n",
       "314376  2020-01-29  1144055500     아현동         40    4076     인터넷P/G  400388   \n",
       "323705  2020-01-29  1168065000    역삼2동         40    4078    인터넷Mall   23209   \n",
       "1728056 2020-04-01  1168065000    역삼2동         40    4078    인터넷Mall   12550   \n",
       "2616415 2020-05-05  1168065000    역삼2동         91    9161  조세서비스(특약)   17533   \n",
       "\n",
       "               매출발생금액  \n",
       "3223949  542173735297  \n",
       "314376   312747709648  \n",
       "323705   218598205392  \n",
       "1728056  216792376229  \n",
       "2616415  189681865170  "
      ]
     },
     "execution_count": 18,
     "metadata": {},
     "output_type": "execute_result"
    }
   ],
   "source": [
    "card.sort_values('매출발생금액', ascending=False, inplace=True)\n",
    "card.head()\n",
    "#idx_str = card[card['매출발생금액'] == '철물'].value_counts()\n",
    "#card = card.drop(idx_str)"
   ]
  },
  {
   "cell_type": "code",
   "execution_count": 19,
   "metadata": {
    "ExecuteTime": {
     "end_time": "2020-07-28T12:03:17.541067Z",
     "start_time": "2020-07-28T12:03:16.927661Z"
    },
    "scrolled": true
   },
   "outputs": [
    {
     "data": {
      "text/plain": [
       "일반한식         65528\n",
       "서양음식         65499\n",
       "편의점          65160\n",
       "스넥           65007\n",
       "미용원          64073\n",
       "             ...  \n",
       "카지노              8\n",
       "통신기기무이자할부        8\n",
       "택시회사             4\n",
       "P2P송금            2\n",
       "중고자동차위탁판매        1\n",
       "Name: 가맹점업종명, Length: 260, dtype: int64"
      ]
     },
     "execution_count": 19,
     "metadata": {},
     "output_type": "execute_result"
    }
   ],
   "source": [
    "card['가맹점업종명'].value_counts()"
   ]
  },
  {
   "cell_type": "code",
   "execution_count": 20,
   "metadata": {
    "ExecuteTime": {
     "end_time": "2020-07-28T12:03:26.926059Z",
     "start_time": "2020-07-28T12:03:26.848456Z"
    },
    "scrolled": true
   },
   "outputs": [
    {
     "data": {
      "text/plain": [
       "2020-05-22    29683\n",
       "2020-05-28    29672\n",
       "2020-05-21    29612\n",
       "2020-05-26    29582\n",
       "2020-05-29    29508\n",
       "              ...  \n",
       "2020-01-05     8105\n",
       "2020-01-12     8037\n",
       "2020-01-20     5554\n",
       "2020-01-13     5441\n",
       "2020-01-06     5386\n",
       "Name: 카드사용접수일, Length: 155, dtype: int64"
      ]
     },
     "execution_count": 20,
     "metadata": {},
     "output_type": "execute_result"
    }
   ],
   "source": [
    "card['카드사용접수일'].value_counts()"
   ]
  },
  {
   "cell_type": "code",
   "execution_count": 21,
   "metadata": {
    "ExecuteTime": {
     "end_time": "2020-07-28T12:03:30.947780Z",
     "start_time": "2020-07-28T12:03:30.462972Z"
    }
   },
   "outputs": [
    {
     "data": {
      "text/plain": [
       "array(['인터넷Mall', '인터넷P/G', '조세서비스(특약)', '조세서비스', '이동통신요금', '기타전문점',\n",
       "       '비영리/비대상', '생명보험', '국산신차', '손해보험', '택시', '인터넷종합Mall', '통신서비스/비대상',\n",
       "       '상품권', '항공사', '출판인쇄물', '농축수산가공품', '제약회사', '학습지교육', '의료용품', '가전제품',\n",
       "       'PG상품권', '상품권전문판매', '면세점', 'CATV홈쇼핑', '약국', '공공요금/대상', '공공요금',\n",
       "       '영화관', '구내매점(국가기관등)', '연쇄점', '화장품', '특급호텔', '종합병원', '장례서비스',\n",
       "       '소프트웨어', '의원', '비영리', '서양음식', '수입자동차', '대학등록금', '학원(회원제형태)',\n",
       "       '전문서적', '자사카드발행백화점', '정수기', '일반한식', '기타용역서비스', '관광여행',\n",
       "       '전자상거래상품권전문판매', '철도', '건강진단', '위성방송', '대형할인점', '농축수산품', '스포츠레져용품',\n",
       "       '주유소', '기타음료식품', '기타교육', '종합용역', '전자상거래상품권', '정장', '콘도',\n",
       "       '통신판매(일반)', '기타보험', '냉열기기', '일반서적', '통신서비스', '렌트카', '자체물품대금',\n",
       "       '일반백화점', '사무서비스', '초중고교육기관', '고속버스', '슈퍼마켓', '악세사리', '정육점',\n",
       "       '기타숙박업', '기타전기제품', '컴퓨터', '자동차정비', '기타건축자재', '여객선', '기타연료',\n",
       "       '통신판매1', '화물운송', '보습학원', '정보서비스', '유류판매', '1급호텔', '유흥주점', '편의점',\n",
       "       '스키장', '시계', '악기점', '기타비영리유통', '미용원', '2급호텔', '전자(상우회)', '안경',\n",
       "       '과학기자재', '기타의료기관및기타의료기기', '자동차부품', 'CATV', '기타회원제형태업소4', '기계공구',\n",
       "       '치과의원', '통신기기', '혼례서비스', '골프용품', '일반가구', '주점', '사무기기', '유아원',\n",
       "       '인테리어', '귀금속', '법률회계서비스(법인)', '티켓', '인삼제품', '조명기구', '기타잡화', '헬스크럽',\n",
       "       '주방용구', '일식회집', '병원', '내의판매점', '위탁급식업', '기타사무용품', '화원',\n",
       "       '기타회원제형태업소5', '골프경기장', '가정용품수리', '아동의류', '중국음식', '산후조리원', '가방',\n",
       "       '사우나', '기타유통업', '홍삼제품', '서적출판(회원제형태)', '윤활유전문판매', '한약방', '중고자동차',\n",
       "       '치과병원', '기타의류', '완구점', '외국어학원', '기타건강식', '철제가구', '문구용품', '스넥',\n",
       "       '법률회계서비스(개인)', '이륜차판매', '기념품점', '맞춤복점', '한방병원', '레져업소(회원제형태)',\n",
       "       '한의원', '부동산중개/임대', '주차장', '건축요업품', 'LPG', '농기계', '부동산분양', '동물병원',\n",
       "       '기타직물', '제과점', '주류판매점', '침구수예점', '화랑', '예체능학원', '기타가구', '스크린골프',\n",
       "       '스포츠의류', '기타수리서비스', '제화점', '문화취미기타', '미곡상', '국산신차직영부품/정비업소',\n",
       "       '옷감직물', '기타서적문구', '기타회원제형태업소1', '사진관', '미용재료', '유학원', '유리',\n",
       "       '기타레져업', '건강식품(회원제형태)', '칵테일바', '애완동물', '신변잡화수리', '단란주점',\n",
       "       '비료/농약/사료/종자', '수족관', '신발', '단체복', '주방용식기', '기타대인서비스', '정기간행물',\n",
       "       '기타광학품', '사무서비스(회원제형태)', '화방표구점', '피부미용실', '공무원연금매점', '독서실',\n",
       "       '레져용품수리', '민예공예품', '기능학원', '골프연습장', '자동차시트/타이어', '페인트', '카메라',\n",
       "       '기타회원제형태업소3', '컴퓨터학원', '노래방', '카인테리어', '기타운송', '기타주방용구',\n",
       "       '기타자동차서비스', '세탁소', '보일러펌프샷시', '수영장', '유치원', '안마/스포츠마사지', '교육테이프',\n",
       "       '중장비수리', '통신판매2', '와이셔츠/타이', '한정식', '기타농업관련', '세차장', '사무통신기기수리',\n",
       "       '골동품점', '조산원', '캐쥬얼의류', '자동차서비스(회원제형태)', '기타교통수단', '기타회원제형태업소2',\n",
       "       '당구장', '테니스장', '혼수전문점', '중고자동차위탁판매', '갈비전문점', '볼링장', '보관창고업',\n",
       "       '양품점', '택시회사', '이용원', '견인서비스', '종합레져타운', '성인용품점', '피아노대리점',\n",
       "       '총포류판매', '외국인전용가맹점', '통신판매(생활서비스)', '전기차충전소', '통신기기무이자할부',\n",
       "       '사업자미등록개인', 'P2P송금', '카지노', '비씨카드정산용(할인)'], dtype=object)"
      ]
     },
     "execution_count": 21,
     "metadata": {},
     "output_type": "execute_result"
    }
   ],
   "source": [
    "card['가맹점업종명'].unique()"
   ]
  },
  {
   "cell_type": "markdown",
   "metadata": {},
   "source": [
    "# 탐색적 데이터 분석 및 시각화"
   ]
  },
  {
   "cell_type": "markdown",
   "metadata": {},
   "source": [
    "## 횡단적 데이터 탐색"
   ]
  },
  {
   "cell_type": "markdown",
   "metadata": {
    "ExecuteTime": {
     "end_time": "2020-07-28T10:33:27.011842Z",
     "start_time": "2020-07-28T10:33:27.006842Z"
    }
   },
   "source": [
    "### 지역별 감염자 및 유동인구의 관계"
   ]
  },
  {
   "cell_type": "markdown",
   "metadata": {},
   "source": [
    "### 지역별 감염자 및 소비 패턴 관계"
   ]
  },
  {
   "cell_type": "markdown",
   "metadata": {},
   "source": [
    "## 코로나 전후 종단적 데이터 탐색"
   ]
  },
  {
   "cell_type": "markdown",
   "metadata": {},
   "source": [
    "###  감염자 누적 및 지역별 유동인구 변화"
   ]
  },
  {
   "cell_type": "markdown",
   "metadata": {},
   "source": [
    "### 업종별 소비 패턴의 변화"
   ]
  },
  {
   "cell_type": "markdown",
   "metadata": {},
   "source": [
    "# 결론 및 인사이트"
   ]
  },
  {
   "cell_type": "markdown",
   "metadata": {},
   "source": []
  },
  {
   "cell_type": "markdown",
   "metadata": {},
   "source": []
  },
  {
   "cell_type": "markdown",
   "metadata": {},
   "source": []
  },
  {
   "cell_type": "markdown",
   "metadata": {},
   "source": []
  },
  {
   "cell_type": "markdown",
   "metadata": {},
   "source": []
  },
  {
   "cell_type": "markdown",
   "metadata": {},
   "source": []
  },
  {
   "cell_type": "markdown",
   "metadata": {},
   "source": []
  },
  {
   "cell_type": "markdown",
   "metadata": {},
   "source": []
  },
  {
   "cell_type": "markdown",
   "metadata": {},
   "source": []
  },
  {
   "cell_type": "markdown",
   "metadata": {},
   "source": []
  },
  {
   "cell_type": "markdown",
   "metadata": {},
   "source": []
  },
  {
   "cell_type": "markdown",
   "metadata": {},
   "source": []
  },
  {
   "cell_type": "markdown",
   "metadata": {},
   "source": []
  },
  {
   "cell_type": "markdown",
   "metadata": {},
   "source": []
  }
 ],
 "metadata": {
  "kernelspec": {
   "display_name": "Python 3",
   "language": "python",
   "name": "python3"
  },
  "language_info": {
   "codemirror_mode": {
    "name": "ipython",
    "version": 3
   },
   "file_extension": ".py",
   "mimetype": "text/x-python",
   "name": "python",
   "nbconvert_exporter": "python",
   "pygments_lexer": "ipython3",
   "version": "3.7.6"
  },
  "toc": {
   "base_numbering": 1,
   "nav_menu": {},
   "number_sections": true,
   "sideBar": true,
   "skip_h1_title": false,
   "title_cell": "Table of Contents",
   "title_sidebar": "Contents",
   "toc_cell": false,
   "toc_position": {
    "height": "calc(100% - 180px)",
    "left": "10px",
    "top": "150px",
    "width": "318px"
   },
   "toc_section_display": true,
   "toc_window_display": true
  },
  "varInspector": {
   "cols": {
    "lenName": 16,
    "lenType": 16,
    "lenVar": 40
   },
   "kernels_config": {
    "python": {
     "delete_cmd_postfix": "",
     "delete_cmd_prefix": "del ",
     "library": "var_list.py",
     "varRefreshCmd": "print(var_dic_list())"
    },
    "r": {
     "delete_cmd_postfix": ") ",
     "delete_cmd_prefix": "rm(",
     "library": "var_list.r",
     "varRefreshCmd": "cat(var_dic_list()) "
    }
   },
   "types_to_exclude": [
    "module",
    "function",
    "builtin_function_or_method",
    "instance",
    "_Feature"
   ],
   "window_display": false
  }
 },
 "nbformat": 4,
 "nbformat_minor": 4
}
